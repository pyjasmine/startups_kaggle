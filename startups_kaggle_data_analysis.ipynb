{
 "cells": [
  {
   "cell_type": "markdown",
   "metadata": {},
   "source": [
    "# Data Cleaning"
   ]
  },
  {
   "cell_type": "code",
   "execution_count": 65,
   "metadata": {},
   "outputs": [],
   "source": [
    "from sklearn.tree import DecisionTreeClassifier, plot_tree\n",
    "from sklearn.svm import SVC\n",
    "from sklearn.preprocessing import StandardScaler\n",
    "from sklearn.pipeline import Pipeline\n",
    "from sklearn.neighbors import KNeighborsClassifier\n",
    "from sklearn.model_selection import (GridSearchCV, cross_val_score,\n",
    "                                     train_test_split)\n",
    "from sklearn.metrics import (accuracy_score, auc, classification_report,\n",
    "                             confusion_matrix, f1_score, plot_confusion_matrix,\n",
    "                             plot_roc_curve, precision_score, recall_score,\n",
    "                             roc_auc_score, roc_curve)\n",
    "from sklearn.linear_model import LogisticRegression\n",
    "from sklearn.decomposition import PCA\n",
    "import warnings\n",
    "import joblib\n",
    "import matplotlib.pyplot as plt\n",
    "import numpy as np\n",
    "import pandas as pd\n",
    "import plotly.express as px\n",
    "import plotly.graph_objects as go\n",
    "import seaborn as sns\n",
    "from scipy import stats\n",
    "\n",
    "%matplotlib inline\n",
    "\n",
    "\n",
    "# warnings.filterwarnings(\"ignore\")\n",
    "np.random.seed(123)\n",
    "import warnings\n",
    "warnings.filterwarnings('ignore')"
   ]
  },
  {
   "cell_type": "code",
   "execution_count": 66,
   "metadata": {},
   "outputs": [],
   "source": [
    "df_start = pd.read_csv('unicorns.csv')"
   ]
  },
  {
   "cell_type": "code",
   "execution_count": 67,
   "metadata": {},
   "outputs": [
    {
     "data": {
      "text/html": [
       "<div>\n",
       "<style scoped>\n",
       "    .dataframe tbody tr th:only-of-type {\n",
       "        vertical-align: middle;\n",
       "    }\n",
       "\n",
       "    .dataframe tbody tr th {\n",
       "        vertical-align: top;\n",
       "    }\n",
       "\n",
       "    .dataframe thead th {\n",
       "        text-align: right;\n",
       "    }\n",
       "</style>\n",
       "<table border=\"1\" class=\"dataframe\">\n",
       "  <thead>\n",
       "    <tr style=\"text-align: right;\">\n",
       "      <th></th>\n",
       "      <th>Updated at</th>\n",
       "      <th>Company</th>\n",
       "      <th>Crunchbase Url</th>\n",
       "      <th>Last Valuation (Billion $)</th>\n",
       "      <th>Date Joined</th>\n",
       "      <th>Year Joined</th>\n",
       "      <th>City</th>\n",
       "      <th>Country</th>\n",
       "      <th>Industry</th>\n",
       "      <th>Investors</th>\n",
       "      <th>Company Website</th>\n",
       "    </tr>\n",
       "  </thead>\n",
       "  <tbody>\n",
       "    <tr>\n",
       "      <th>0</th>\n",
       "      <td>10/31/2022, 2:37:05 AM</td>\n",
       "      <td>Esusu</td>\n",
       "      <td>https://www.cbinsights.com/company/esusu</td>\n",
       "      <td>1.00</td>\n",
       "      <td>1/27/2022</td>\n",
       "      <td>2022</td>\n",
       "      <td>New York</td>\n",
       "      <td>United States</td>\n",
       "      <td>Fintech</td>\n",
       "      <td>[\"Next Play Ventures\",\"Zeal Capital Partners\",...</td>\n",
       "      <td>NaN</td>\n",
       "    </tr>\n",
       "    <tr>\n",
       "      <th>1</th>\n",
       "      <td>10/31/2022, 2:37:05 AM</td>\n",
       "      <td>Fever Labs</td>\n",
       "      <td>https://www.cbinsights.com/company/fever-labs</td>\n",
       "      <td>1.00</td>\n",
       "      <td>1/26/2022</td>\n",
       "      <td>2022</td>\n",
       "      <td>New York</td>\n",
       "      <td>United States</td>\n",
       "      <td>Internet software &amp; services</td>\n",
       "      <td>[\"Accel\",\"14W\",\"GS Growth\"]</td>\n",
       "      <td>NaN</td>\n",
       "    </tr>\n",
       "    <tr>\n",
       "      <th>2</th>\n",
       "      <td>10/31/2022, 2:37:04 AM</td>\n",
       "      <td>Minio</td>\n",
       "      <td>https://www.cbinsights.com/company/minio</td>\n",
       "      <td>1.00</td>\n",
       "      <td>1/26/2022</td>\n",
       "      <td>2022</td>\n",
       "      <td>Palo Alto</td>\n",
       "      <td>United States</td>\n",
       "      <td>Data management &amp; analytics</td>\n",
       "      <td>[\"General Catalyst\",\"Nexus Venture Partners\",\"...</td>\n",
       "      <td>NaN</td>\n",
       "    </tr>\n",
       "    <tr>\n",
       "      <th>3</th>\n",
       "      <td>10/31/2022, 2:37:04 AM</td>\n",
       "      <td>Darwinbox</td>\n",
       "      <td>https://www.cbinsights.com/company/darwinbox</td>\n",
       "      <td>1.00</td>\n",
       "      <td>1/25/2022</td>\n",
       "      <td>2022</td>\n",
       "      <td>Hyderabad</td>\n",
       "      <td>India</td>\n",
       "      <td>Internet software &amp; services</td>\n",
       "      <td>[\"Lightspeed India Partners\",\"Sequoia Capital ...</td>\n",
       "      <td>NaN</td>\n",
       "    </tr>\n",
       "    <tr>\n",
       "      <th>4</th>\n",
       "      <td>10/31/2022, 2:37:04 AM</td>\n",
       "      <td>Pentera</td>\n",
       "      <td>https://www.cbinsights.com/company/pcysys</td>\n",
       "      <td>1.00</td>\n",
       "      <td>1/11/2022</td>\n",
       "      <td>2022</td>\n",
       "      <td>Petah Tikva</td>\n",
       "      <td>Israel</td>\n",
       "      <td>Cybersecurity</td>\n",
       "      <td>[\"AWZ Ventures\",\"Blackstone\",\"Insight Partners\"]</td>\n",
       "      <td>NaN</td>\n",
       "    </tr>\n",
       "    <tr>\n",
       "      <th>...</th>\n",
       "      <td>...</td>\n",
       "      <td>...</td>\n",
       "      <td>...</td>\n",
       "      <td>...</td>\n",
       "      <td>...</td>\n",
       "      <td>...</td>\n",
       "      <td>...</td>\n",
       "      <td>...</td>\n",
       "      <td>...</td>\n",
       "      <td>...</td>\n",
       "      <td>...</td>\n",
       "    </tr>\n",
       "    <tr>\n",
       "      <th>1194</th>\n",
       "      <td>10/31/2022, 2:32:42 AM</td>\n",
       "      <td>Fanatics</td>\n",
       "      <td>https://www.cbinsights.com/company/fanatics</td>\n",
       "      <td>27.00</td>\n",
       "      <td>6/6/2012</td>\n",
       "      <td>2012</td>\n",
       "      <td>Jacksonville</td>\n",
       "      <td>United States</td>\n",
       "      <td>E-commerce &amp; direct-to-consumer</td>\n",
       "      <td>[\"SoftBank Group\",\"Andreessen Horowitz\",\"Temas...</td>\n",
       "      <td>NaN</td>\n",
       "    </tr>\n",
       "    <tr>\n",
       "      <th>1195</th>\n",
       "      <td>10/31/2022, 2:32:38 AM</td>\n",
       "      <td>SpaceX</td>\n",
       "      <td>https://www.cbinsights.com/company/space-explo...</td>\n",
       "      <td>127.00</td>\n",
       "      <td>12/1/2012</td>\n",
       "      <td>2012</td>\n",
       "      <td>Hawthorne</td>\n",
       "      <td>United States</td>\n",
       "      <td>Other</td>\n",
       "      <td>[\"Founders Fund\",\"Draper Fisher Jurvetson\",\"Ro...</td>\n",
       "      <td>NaN</td>\n",
       "    </tr>\n",
       "    <tr>\n",
       "      <th>1196</th>\n",
       "      <td>10/31/2022, 2:33:10 AM</td>\n",
       "      <td>Vice Media</td>\n",
       "      <td>https://www.cbinsights.com/company/vice-media</td>\n",
       "      <td>5.70</td>\n",
       "      <td>4/2/2011</td>\n",
       "      <td>2011</td>\n",
       "      <td>Brooklyn</td>\n",
       "      <td>United States</td>\n",
       "      <td>Internet software &amp; services</td>\n",
       "      <td>[\"Technology Crossover Ventures\",\"A&amp;E Televisi...</td>\n",
       "      <td>NaN</td>\n",
       "    </tr>\n",
       "    <tr>\n",
       "      <th>1197</th>\n",
       "      <td>10/31/2022, 2:33:05 AM</td>\n",
       "      <td>Klarna</td>\n",
       "      <td>https://www.cbinsights.com/company/klarna</td>\n",
       "      <td>6.70</td>\n",
       "      <td>12/12/2011</td>\n",
       "      <td>2011</td>\n",
       "      <td>Stockholm</td>\n",
       "      <td>Sweden</td>\n",
       "      <td>Fintech</td>\n",
       "      <td>[\"Institutional Venture Partners\",\"Sequoia Cap...</td>\n",
       "      <td>NaN</td>\n",
       "    </tr>\n",
       "    <tr>\n",
       "      <th>1198</th>\n",
       "      <td>10/31/2022, 2:35:27 AM</td>\n",
       "      <td>Veepee</td>\n",
       "      <td>https://www.cbinsights.com/company/vente-privee</td>\n",
       "      <td>1.38</td>\n",
       "      <td>7/2/2007</td>\n",
       "      <td>2007</td>\n",
       "      <td>La Plaine Saint-Denis</td>\n",
       "      <td>France</td>\n",
       "      <td>E-commerce &amp; direct-to-consumer</td>\n",
       "      <td>[\"Summit Partners\",\"Qatar Holding\"]</td>\n",
       "      <td>NaN</td>\n",
       "    </tr>\n",
       "  </tbody>\n",
       "</table>\n",
       "<p>1199 rows × 11 columns</p>\n",
       "</div>"
      ],
      "text/plain": [
       "                  Updated at     Company  \\\n",
       "0     10/31/2022, 2:37:05 AM       Esusu   \n",
       "1     10/31/2022, 2:37:05 AM  Fever Labs   \n",
       "2     10/31/2022, 2:37:04 AM       Minio   \n",
       "3     10/31/2022, 2:37:04 AM   Darwinbox   \n",
       "4     10/31/2022, 2:37:04 AM     Pentera   \n",
       "...                      ...         ...   \n",
       "1194  10/31/2022, 2:32:42 AM    Fanatics   \n",
       "1195  10/31/2022, 2:32:38 AM      SpaceX   \n",
       "1196  10/31/2022, 2:33:10 AM  Vice Media   \n",
       "1197  10/31/2022, 2:33:05 AM      Klarna   \n",
       "1198  10/31/2022, 2:35:27 AM      Veepee   \n",
       "\n",
       "                                         Crunchbase Url  \\\n",
       "0              https://www.cbinsights.com/company/esusu   \n",
       "1         https://www.cbinsights.com/company/fever-labs   \n",
       "2              https://www.cbinsights.com/company/minio   \n",
       "3          https://www.cbinsights.com/company/darwinbox   \n",
       "4             https://www.cbinsights.com/company/pcysys   \n",
       "...                                                 ...   \n",
       "1194        https://www.cbinsights.com/company/fanatics   \n",
       "1195  https://www.cbinsights.com/company/space-explo...   \n",
       "1196      https://www.cbinsights.com/company/vice-media   \n",
       "1197          https://www.cbinsights.com/company/klarna   \n",
       "1198    https://www.cbinsights.com/company/vente-privee   \n",
       "\n",
       "      Last Valuation (Billion $) Date Joined  Year Joined  \\\n",
       "0                           1.00   1/27/2022         2022   \n",
       "1                           1.00   1/26/2022         2022   \n",
       "2                           1.00   1/26/2022         2022   \n",
       "3                           1.00   1/25/2022         2022   \n",
       "4                           1.00   1/11/2022         2022   \n",
       "...                          ...         ...          ...   \n",
       "1194                       27.00    6/6/2012         2012   \n",
       "1195                      127.00   12/1/2012         2012   \n",
       "1196                        5.70    4/2/2011         2011   \n",
       "1197                        6.70  12/12/2011         2011   \n",
       "1198                        1.38    7/2/2007         2007   \n",
       "\n",
       "                       City        Country                         Industry  \\\n",
       "0                  New York  United States                          Fintech   \n",
       "1                  New York  United States     Internet software & services   \n",
       "2                 Palo Alto  United States      Data management & analytics   \n",
       "3                 Hyderabad          India     Internet software & services   \n",
       "4               Petah Tikva         Israel                   Cybersecurity    \n",
       "...                     ...            ...                              ...   \n",
       "1194           Jacksonville  United States  E-commerce & direct-to-consumer   \n",
       "1195              Hawthorne  United States                            Other   \n",
       "1196               Brooklyn  United States     Internet software & services   \n",
       "1197              Stockholm         Sweden                          Fintech   \n",
       "1198  La Plaine Saint-Denis         France  E-commerce & direct-to-consumer   \n",
       "\n",
       "                                              Investors  Company Website  \n",
       "0     [\"Next Play Ventures\",\"Zeal Capital Partners\",...              NaN  \n",
       "1                           [\"Accel\",\"14W\",\"GS Growth\"]              NaN  \n",
       "2     [\"General Catalyst\",\"Nexus Venture Partners\",\"...              NaN  \n",
       "3     [\"Lightspeed India Partners\",\"Sequoia Capital ...              NaN  \n",
       "4      [\"AWZ Ventures\",\"Blackstone\",\"Insight Partners\"]              NaN  \n",
       "...                                                 ...              ...  \n",
       "1194  [\"SoftBank Group\",\"Andreessen Horowitz\",\"Temas...              NaN  \n",
       "1195  [\"Founders Fund\",\"Draper Fisher Jurvetson\",\"Ro...              NaN  \n",
       "1196  [\"Technology Crossover Ventures\",\"A&E Televisi...              NaN  \n",
       "1197  [\"Institutional Venture Partners\",\"Sequoia Cap...              NaN  \n",
       "1198                [\"Summit Partners\",\"Qatar Holding\"]              NaN  \n",
       "\n",
       "[1199 rows x 11 columns]"
      ]
     },
     "execution_count": 67,
     "metadata": {},
     "output_type": "execute_result"
    }
   ],
   "source": [
    "df_start"
   ]
  },
  {
   "cell_type": "code",
   "execution_count": 68,
   "metadata": {},
   "outputs": [],
   "source": [
    "#changing column names for ease\n",
    "df_start = df_start.rename(columns={'Updated at': 'updated_at',\n",
    "                                'Company': 'company', \n",
    "                                'Crunchbase Url': 'crunchbase_url',\n",
    "                                'Last Valuation (Billion $)': 'last_val', \n",
    "                                'Date Joined': 'date_joined',\n",
    "                                'Year Joined': 'year_joined',\n",
    "                                'City': 'city',\n",
    "                                'Country': 'country',\n",
    "                                'Industry': 'industry',\n",
    "                                'Investors': 'investors',\n",
    "                                'Company Website': 'company_website'\n",
    "                                \n",
    "                                })\n"
   ]
  },
  {
   "cell_type": "code",
   "execution_count": 69,
   "metadata": {},
   "outputs": [
    {
     "name": "stdout",
     "output_type": "stream",
     "text": [
      "<class 'pandas.core.frame.DataFrame'>\n",
      "RangeIndex: 1199 entries, 0 to 1198\n",
      "Data columns (total 11 columns):\n",
      " #   Column           Non-Null Count  Dtype  \n",
      "---  ------           --------------  -----  \n",
      " 0   updated_at       1199 non-null   object \n",
      " 1   company          1199 non-null   object \n",
      " 2   crunchbase_url   1199 non-null   object \n",
      " 3   last_val         1199 non-null   float64\n",
      " 4   date_joined      1199 non-null   object \n",
      " 5   year_joined      1199 non-null   int64  \n",
      " 6   city             1181 non-null   object \n",
      " 7   country          1199 non-null   object \n",
      " 8   industry         1199 non-null   object \n",
      " 9   investors        1199 non-null   object \n",
      " 10  company_website  0 non-null      float64\n",
      "dtypes: float64(2), int64(1), object(8)\n",
      "memory usage: 103.2+ KB\n"
     ]
    }
   ],
   "source": [
    "df_start.info()"
   ]
  },
  {
   "cell_type": "markdown",
   "metadata": {},
   "source": [
    "1- `company_website`, `updated_at`, and `crunchbase_url` can be dropped.\n",
    "\n",
    "2- `date_joined` columns need to be changed to datetime type\n",
    "\n",
    "3- Extract a `month` column from the `date_joined` column, and then drop the latter.\n",
    "\n",
    "4- Convert `investors` rows dtype from string to list of the investor names."
   ]
  },
  {
   "cell_type": "code",
   "execution_count": 70,
   "metadata": {},
   "outputs": [],
   "source": [
    "df_start = df_start.drop(['updated_at','company_website', 'crunchbase_url'], axis=1)"
   ]
  },
  {
   "cell_type": "markdown",
   "metadata": {},
   "source": [
    "#### Changing the date column to datetime type:"
   ]
  },
  {
   "cell_type": "code",
   "execution_count": 71,
   "metadata": {},
   "outputs": [
    {
     "data": {
      "text/plain": [
       "0      2022-01-27\n",
       "1      2022-01-26\n",
       "2      2022-01-26\n",
       "3      2022-01-25\n",
       "4      2022-01-11\n",
       "          ...    \n",
       "1194   2012-06-06\n",
       "1195   2012-12-01\n",
       "1196   2011-04-02\n",
       "1197   2011-12-12\n",
       "1198   2007-07-02\n",
       "Name: date_joined, Length: 1199, dtype: datetime64[ns]"
      ]
     },
     "execution_count": 71,
     "metadata": {},
     "output_type": "execute_result"
    }
   ],
   "source": [
    "df_start['date_joined'] = pd.to_datetime(df_start['date_joined'])\n",
    "\n",
    "df_start['date_joined']"
   ]
  },
  {
   "cell_type": "markdown",
   "metadata": {},
   "source": [
    "#### Extracting `month` column from the `date_joined` column:"
   ]
  },
  {
   "cell_type": "code",
   "execution_count": 72,
   "metadata": {},
   "outputs": [
    {
     "data": {
      "text/html": [
       "<div>\n",
       "<style scoped>\n",
       "    .dataframe tbody tr th:only-of-type {\n",
       "        vertical-align: middle;\n",
       "    }\n",
       "\n",
       "    .dataframe tbody tr th {\n",
       "        vertical-align: top;\n",
       "    }\n",
       "\n",
       "    .dataframe thead th {\n",
       "        text-align: right;\n",
       "    }\n",
       "</style>\n",
       "<table border=\"1\" class=\"dataframe\">\n",
       "  <thead>\n",
       "    <tr style=\"text-align: right;\">\n",
       "      <th></th>\n",
       "      <th>company</th>\n",
       "      <th>last_val</th>\n",
       "      <th>date_joined</th>\n",
       "      <th>year_joined</th>\n",
       "      <th>city</th>\n",
       "      <th>country</th>\n",
       "      <th>industry</th>\n",
       "      <th>investors</th>\n",
       "      <th>month</th>\n",
       "    </tr>\n",
       "  </thead>\n",
       "  <tbody>\n",
       "    <tr>\n",
       "      <th>0</th>\n",
       "      <td>Esusu</td>\n",
       "      <td>1.00</td>\n",
       "      <td>2022-01-27</td>\n",
       "      <td>2022</td>\n",
       "      <td>New York</td>\n",
       "      <td>United States</td>\n",
       "      <td>Fintech</td>\n",
       "      <td>[\"Next Play Ventures\",\"Zeal Capital Partners\",...</td>\n",
       "      <td>1</td>\n",
       "    </tr>\n",
       "    <tr>\n",
       "      <th>1</th>\n",
       "      <td>Fever Labs</td>\n",
       "      <td>1.00</td>\n",
       "      <td>2022-01-26</td>\n",
       "      <td>2022</td>\n",
       "      <td>New York</td>\n",
       "      <td>United States</td>\n",
       "      <td>Internet software &amp; services</td>\n",
       "      <td>[\"Accel\",\"14W\",\"GS Growth\"]</td>\n",
       "      <td>1</td>\n",
       "    </tr>\n",
       "    <tr>\n",
       "      <th>2</th>\n",
       "      <td>Minio</td>\n",
       "      <td>1.00</td>\n",
       "      <td>2022-01-26</td>\n",
       "      <td>2022</td>\n",
       "      <td>Palo Alto</td>\n",
       "      <td>United States</td>\n",
       "      <td>Data management &amp; analytics</td>\n",
       "      <td>[\"General Catalyst\",\"Nexus Venture Partners\",\"...</td>\n",
       "      <td>1</td>\n",
       "    </tr>\n",
       "    <tr>\n",
       "      <th>3</th>\n",
       "      <td>Darwinbox</td>\n",
       "      <td>1.00</td>\n",
       "      <td>2022-01-25</td>\n",
       "      <td>2022</td>\n",
       "      <td>Hyderabad</td>\n",
       "      <td>India</td>\n",
       "      <td>Internet software &amp; services</td>\n",
       "      <td>[\"Lightspeed India Partners\",\"Sequoia Capital ...</td>\n",
       "      <td>1</td>\n",
       "    </tr>\n",
       "    <tr>\n",
       "      <th>4</th>\n",
       "      <td>Pentera</td>\n",
       "      <td>1.00</td>\n",
       "      <td>2022-01-11</td>\n",
       "      <td>2022</td>\n",
       "      <td>Petah Tikva</td>\n",
       "      <td>Israel</td>\n",
       "      <td>Cybersecurity</td>\n",
       "      <td>[\"AWZ Ventures\",\"Blackstone\",\"Insight Partners\"]</td>\n",
       "      <td>1</td>\n",
       "    </tr>\n",
       "    <tr>\n",
       "      <th>...</th>\n",
       "      <td>...</td>\n",
       "      <td>...</td>\n",
       "      <td>...</td>\n",
       "      <td>...</td>\n",
       "      <td>...</td>\n",
       "      <td>...</td>\n",
       "      <td>...</td>\n",
       "      <td>...</td>\n",
       "      <td>...</td>\n",
       "    </tr>\n",
       "    <tr>\n",
       "      <th>1194</th>\n",
       "      <td>Fanatics</td>\n",
       "      <td>27.00</td>\n",
       "      <td>2012-06-06</td>\n",
       "      <td>2012</td>\n",
       "      <td>Jacksonville</td>\n",
       "      <td>United States</td>\n",
       "      <td>E-commerce &amp; direct-to-consumer</td>\n",
       "      <td>[\"SoftBank Group\",\"Andreessen Horowitz\",\"Temas...</td>\n",
       "      <td>6</td>\n",
       "    </tr>\n",
       "    <tr>\n",
       "      <th>1195</th>\n",
       "      <td>SpaceX</td>\n",
       "      <td>127.00</td>\n",
       "      <td>2012-12-01</td>\n",
       "      <td>2012</td>\n",
       "      <td>Hawthorne</td>\n",
       "      <td>United States</td>\n",
       "      <td>Other</td>\n",
       "      <td>[\"Founders Fund\",\"Draper Fisher Jurvetson\",\"Ro...</td>\n",
       "      <td>12</td>\n",
       "    </tr>\n",
       "    <tr>\n",
       "      <th>1196</th>\n",
       "      <td>Vice Media</td>\n",
       "      <td>5.70</td>\n",
       "      <td>2011-04-02</td>\n",
       "      <td>2011</td>\n",
       "      <td>Brooklyn</td>\n",
       "      <td>United States</td>\n",
       "      <td>Internet software &amp; services</td>\n",
       "      <td>[\"Technology Crossover Ventures\",\"A&amp;E Televisi...</td>\n",
       "      <td>4</td>\n",
       "    </tr>\n",
       "    <tr>\n",
       "      <th>1197</th>\n",
       "      <td>Klarna</td>\n",
       "      <td>6.70</td>\n",
       "      <td>2011-12-12</td>\n",
       "      <td>2011</td>\n",
       "      <td>Stockholm</td>\n",
       "      <td>Sweden</td>\n",
       "      <td>Fintech</td>\n",
       "      <td>[\"Institutional Venture Partners\",\"Sequoia Cap...</td>\n",
       "      <td>12</td>\n",
       "    </tr>\n",
       "    <tr>\n",
       "      <th>1198</th>\n",
       "      <td>Veepee</td>\n",
       "      <td>1.38</td>\n",
       "      <td>2007-07-02</td>\n",
       "      <td>2007</td>\n",
       "      <td>La Plaine Saint-Denis</td>\n",
       "      <td>France</td>\n",
       "      <td>E-commerce &amp; direct-to-consumer</td>\n",
       "      <td>[\"Summit Partners\",\"Qatar Holding\"]</td>\n",
       "      <td>7</td>\n",
       "    </tr>\n",
       "  </tbody>\n",
       "</table>\n",
       "<p>1199 rows × 9 columns</p>\n",
       "</div>"
      ],
      "text/plain": [
       "         company  last_val date_joined  year_joined                   city  \\\n",
       "0          Esusu      1.00  2022-01-27         2022               New York   \n",
       "1     Fever Labs      1.00  2022-01-26         2022               New York   \n",
       "2          Minio      1.00  2022-01-26         2022              Palo Alto   \n",
       "3      Darwinbox      1.00  2022-01-25         2022              Hyderabad   \n",
       "4        Pentera      1.00  2022-01-11         2022            Petah Tikva   \n",
       "...          ...       ...         ...          ...                    ...   \n",
       "1194    Fanatics     27.00  2012-06-06         2012           Jacksonville   \n",
       "1195      SpaceX    127.00  2012-12-01         2012              Hawthorne   \n",
       "1196  Vice Media      5.70  2011-04-02         2011               Brooklyn   \n",
       "1197      Klarna      6.70  2011-12-12         2011              Stockholm   \n",
       "1198      Veepee      1.38  2007-07-02         2007  La Plaine Saint-Denis   \n",
       "\n",
       "            country                         industry  \\\n",
       "0     United States                          Fintech   \n",
       "1     United States     Internet software & services   \n",
       "2     United States      Data management & analytics   \n",
       "3             India     Internet software & services   \n",
       "4            Israel                   Cybersecurity    \n",
       "...             ...                              ...   \n",
       "1194  United States  E-commerce & direct-to-consumer   \n",
       "1195  United States                            Other   \n",
       "1196  United States     Internet software & services   \n",
       "1197         Sweden                          Fintech   \n",
       "1198         France  E-commerce & direct-to-consumer   \n",
       "\n",
       "                                              investors  month  \n",
       "0     [\"Next Play Ventures\",\"Zeal Capital Partners\",...      1  \n",
       "1                           [\"Accel\",\"14W\",\"GS Growth\"]      1  \n",
       "2     [\"General Catalyst\",\"Nexus Venture Partners\",\"...      1  \n",
       "3     [\"Lightspeed India Partners\",\"Sequoia Capital ...      1  \n",
       "4      [\"AWZ Ventures\",\"Blackstone\",\"Insight Partners\"]      1  \n",
       "...                                                 ...    ...  \n",
       "1194  [\"SoftBank Group\",\"Andreessen Horowitz\",\"Temas...      6  \n",
       "1195  [\"Founders Fund\",\"Draper Fisher Jurvetson\",\"Ro...     12  \n",
       "1196  [\"Technology Crossover Ventures\",\"A&E Televisi...      4  \n",
       "1197  [\"Institutional Venture Partners\",\"Sequoia Cap...     12  \n",
       "1198                [\"Summit Partners\",\"Qatar Holding\"]      7  \n",
       "\n",
       "[1199 rows x 9 columns]"
      ]
     },
     "execution_count": 72,
     "metadata": {},
     "output_type": "execute_result"
    }
   ],
   "source": [
    "df_start['month'] = df_start['date_joined'].dt.month \n",
    "\n",
    "df_start"
   ]
  },
  {
   "cell_type": "code",
   "execution_count": 73,
   "metadata": {},
   "outputs": [
    {
     "data": {
      "text/html": [
       "<div>\n",
       "<style scoped>\n",
       "    .dataframe tbody tr th:only-of-type {\n",
       "        vertical-align: middle;\n",
       "    }\n",
       "\n",
       "    .dataframe tbody tr th {\n",
       "        vertical-align: top;\n",
       "    }\n",
       "\n",
       "    .dataframe thead th {\n",
       "        text-align: right;\n",
       "    }\n",
       "</style>\n",
       "<table border=\"1\" class=\"dataframe\">\n",
       "  <thead>\n",
       "    <tr style=\"text-align: right;\">\n",
       "      <th></th>\n",
       "      <th>company</th>\n",
       "      <th>last_val</th>\n",
       "      <th>month</th>\n",
       "      <th>year_joined</th>\n",
       "      <th>city</th>\n",
       "      <th>country</th>\n",
       "      <th>industry</th>\n",
       "      <th>investors</th>\n",
       "    </tr>\n",
       "  </thead>\n",
       "  <tbody>\n",
       "    <tr>\n",
       "      <th>0</th>\n",
       "      <td>Esusu</td>\n",
       "      <td>1.00</td>\n",
       "      <td>1</td>\n",
       "      <td>2022</td>\n",
       "      <td>New York</td>\n",
       "      <td>United States</td>\n",
       "      <td>Fintech</td>\n",
       "      <td>[\"Next Play Ventures\",\"Zeal Capital Partners\",...</td>\n",
       "    </tr>\n",
       "    <tr>\n",
       "      <th>1</th>\n",
       "      <td>Fever Labs</td>\n",
       "      <td>1.00</td>\n",
       "      <td>1</td>\n",
       "      <td>2022</td>\n",
       "      <td>New York</td>\n",
       "      <td>United States</td>\n",
       "      <td>Internet software &amp; services</td>\n",
       "      <td>[\"Accel\",\"14W\",\"GS Growth\"]</td>\n",
       "    </tr>\n",
       "    <tr>\n",
       "      <th>2</th>\n",
       "      <td>Minio</td>\n",
       "      <td>1.00</td>\n",
       "      <td>1</td>\n",
       "      <td>2022</td>\n",
       "      <td>Palo Alto</td>\n",
       "      <td>United States</td>\n",
       "      <td>Data management &amp; analytics</td>\n",
       "      <td>[\"General Catalyst\",\"Nexus Venture Partners\",\"...</td>\n",
       "    </tr>\n",
       "    <tr>\n",
       "      <th>3</th>\n",
       "      <td>Darwinbox</td>\n",
       "      <td>1.00</td>\n",
       "      <td>1</td>\n",
       "      <td>2022</td>\n",
       "      <td>Hyderabad</td>\n",
       "      <td>India</td>\n",
       "      <td>Internet software &amp; services</td>\n",
       "      <td>[\"Lightspeed India Partners\",\"Sequoia Capital ...</td>\n",
       "    </tr>\n",
       "    <tr>\n",
       "      <th>4</th>\n",
       "      <td>Pentera</td>\n",
       "      <td>1.00</td>\n",
       "      <td>1</td>\n",
       "      <td>2022</td>\n",
       "      <td>Petah Tikva</td>\n",
       "      <td>Israel</td>\n",
       "      <td>Cybersecurity</td>\n",
       "      <td>[\"AWZ Ventures\",\"Blackstone\",\"Insight Partners\"]</td>\n",
       "    </tr>\n",
       "    <tr>\n",
       "      <th>...</th>\n",
       "      <td>...</td>\n",
       "      <td>...</td>\n",
       "      <td>...</td>\n",
       "      <td>...</td>\n",
       "      <td>...</td>\n",
       "      <td>...</td>\n",
       "      <td>...</td>\n",
       "      <td>...</td>\n",
       "    </tr>\n",
       "    <tr>\n",
       "      <th>1194</th>\n",
       "      <td>Fanatics</td>\n",
       "      <td>27.00</td>\n",
       "      <td>6</td>\n",
       "      <td>2012</td>\n",
       "      <td>Jacksonville</td>\n",
       "      <td>United States</td>\n",
       "      <td>E-commerce &amp; direct-to-consumer</td>\n",
       "      <td>[\"SoftBank Group\",\"Andreessen Horowitz\",\"Temas...</td>\n",
       "    </tr>\n",
       "    <tr>\n",
       "      <th>1195</th>\n",
       "      <td>SpaceX</td>\n",
       "      <td>127.00</td>\n",
       "      <td>12</td>\n",
       "      <td>2012</td>\n",
       "      <td>Hawthorne</td>\n",
       "      <td>United States</td>\n",
       "      <td>Other</td>\n",
       "      <td>[\"Founders Fund\",\"Draper Fisher Jurvetson\",\"Ro...</td>\n",
       "    </tr>\n",
       "    <tr>\n",
       "      <th>1196</th>\n",
       "      <td>Vice Media</td>\n",
       "      <td>5.70</td>\n",
       "      <td>4</td>\n",
       "      <td>2011</td>\n",
       "      <td>Brooklyn</td>\n",
       "      <td>United States</td>\n",
       "      <td>Internet software &amp; services</td>\n",
       "      <td>[\"Technology Crossover Ventures\",\"A&amp;E Televisi...</td>\n",
       "    </tr>\n",
       "    <tr>\n",
       "      <th>1197</th>\n",
       "      <td>Klarna</td>\n",
       "      <td>6.70</td>\n",
       "      <td>12</td>\n",
       "      <td>2011</td>\n",
       "      <td>Stockholm</td>\n",
       "      <td>Sweden</td>\n",
       "      <td>Fintech</td>\n",
       "      <td>[\"Institutional Venture Partners\",\"Sequoia Cap...</td>\n",
       "    </tr>\n",
       "    <tr>\n",
       "      <th>1198</th>\n",
       "      <td>Veepee</td>\n",
       "      <td>1.38</td>\n",
       "      <td>7</td>\n",
       "      <td>2007</td>\n",
       "      <td>La Plaine Saint-Denis</td>\n",
       "      <td>France</td>\n",
       "      <td>E-commerce &amp; direct-to-consumer</td>\n",
       "      <td>[\"Summit Partners\",\"Qatar Holding\"]</td>\n",
       "    </tr>\n",
       "  </tbody>\n",
       "</table>\n",
       "<p>1199 rows × 8 columns</p>\n",
       "</div>"
      ],
      "text/plain": [
       "         company  last_val  month  year_joined                   city  \\\n",
       "0          Esusu      1.00      1         2022               New York   \n",
       "1     Fever Labs      1.00      1         2022               New York   \n",
       "2          Minio      1.00      1         2022              Palo Alto   \n",
       "3      Darwinbox      1.00      1         2022              Hyderabad   \n",
       "4        Pentera      1.00      1         2022            Petah Tikva   \n",
       "...          ...       ...    ...          ...                    ...   \n",
       "1194    Fanatics     27.00      6         2012           Jacksonville   \n",
       "1195      SpaceX    127.00     12         2012              Hawthorne   \n",
       "1196  Vice Media      5.70      4         2011               Brooklyn   \n",
       "1197      Klarna      6.70     12         2011              Stockholm   \n",
       "1198      Veepee      1.38      7         2007  La Plaine Saint-Denis   \n",
       "\n",
       "            country                         industry  \\\n",
       "0     United States                          Fintech   \n",
       "1     United States     Internet software & services   \n",
       "2     United States      Data management & analytics   \n",
       "3             India     Internet software & services   \n",
       "4            Israel                   Cybersecurity    \n",
       "...             ...                              ...   \n",
       "1194  United States  E-commerce & direct-to-consumer   \n",
       "1195  United States                            Other   \n",
       "1196  United States     Internet software & services   \n",
       "1197         Sweden                          Fintech   \n",
       "1198         France  E-commerce & direct-to-consumer   \n",
       "\n",
       "                                              investors  \n",
       "0     [\"Next Play Ventures\",\"Zeal Capital Partners\",...  \n",
       "1                           [\"Accel\",\"14W\",\"GS Growth\"]  \n",
       "2     [\"General Catalyst\",\"Nexus Venture Partners\",\"...  \n",
       "3     [\"Lightspeed India Partners\",\"Sequoia Capital ...  \n",
       "4      [\"AWZ Ventures\",\"Blackstone\",\"Insight Partners\"]  \n",
       "...                                                 ...  \n",
       "1194  [\"SoftBank Group\",\"Andreessen Horowitz\",\"Temas...  \n",
       "1195  [\"Founders Fund\",\"Draper Fisher Jurvetson\",\"Ro...  \n",
       "1196  [\"Technology Crossover Ventures\",\"A&E Televisi...  \n",
       "1197  [\"Institutional Venture Partners\",\"Sequoia Cap...  \n",
       "1198                [\"Summit Partners\",\"Qatar Holding\"]  \n",
       "\n",
       "[1199 rows x 8 columns]"
      ]
     },
     "execution_count": 73,
     "metadata": {},
     "output_type": "execute_result"
    }
   ],
   "source": [
    "new_cols = ['company', 'last_val', 'date_joined', 'month', 'year_joined', 'city', 'country',\n",
    "       'industry', 'investors']\n",
    "df_start=df_start[new_cols]\n",
    "\n",
    "df_start = df_start.drop('date_joined', axis=1)\n",
    "\n",
    "df_start"
   ]
  },
  {
   "cell_type": "markdown",
   "metadata": {},
   "source": [
    "#### Changing `investors` column to string type:"
   ]
  },
  {
   "cell_type": "code",
   "execution_count": 74,
   "metadata": {},
   "outputs": [
    {
     "data": {
      "text/plain": [
       "0       [\"Next Play Ventures\",\"Zeal Capital Partners\",...\n",
       "1                             [\"Accel\",\"14W\",\"GS Growth\"]\n",
       "2       [\"General Catalyst\",\"Nexus Venture Partners\",\"...\n",
       "3       [\"Lightspeed India Partners\",\"Sequoia Capital ...\n",
       "4        [\"AWZ Ventures\",\"Blackstone\",\"Insight Partners\"]\n",
       "                              ...                        \n",
       "1194    [\"SoftBank Group\",\"Andreessen Horowitz\",\"Temas...\n",
       "1195    [\"Founders Fund\",\"Draper Fisher Jurvetson\",\"Ro...\n",
       "1196    [\"Technology Crossover Ventures\",\"A&E Televisi...\n",
       "1197    [\"Institutional Venture Partners\",\"Sequoia Cap...\n",
       "1198                  [\"Summit Partners\",\"Qatar Holding\"]\n",
       "Name: investors, Length: 1199, dtype: object"
      ]
     },
     "execution_count": 74,
     "metadata": {},
     "output_type": "execute_result"
    }
   ],
   "source": [
    "df_start['investors'] = df_start['investors'].astype(str)\n",
    "\n",
    "df_start['investors']"
   ]
  },
  {
   "cell_type": "markdown",
   "metadata": {},
   "source": [
    "#### A closer look at the `investors` column:"
   ]
  },
  {
   "cell_type": "markdown",
   "metadata": {},
   "source": [
    "It looks like each column is a string of characters.\n",
    "\n",
    "Turn this column into a list of the investor names\n"
   ]
  },
  {
   "cell_type": "code",
   "execution_count": 75,
   "metadata": {},
   "outputs": [],
   "source": [
    "import re #regex\n",
    "\n",
    "# iterating over the rows of df_start to remove the brackets:\n",
    "for i in df_start.index:\n",
    "    df_start['investors'][i] = re.sub(r\"[^a-zA-Z0-9-,]\", \" \", df_start['investors'][i])"
   ]
  },
  {
   "cell_type": "code",
   "execution_count": 76,
   "metadata": {},
   "outputs": [
    {
     "data": {
      "text/plain": [
       "0         Next Play Ventures , Zeal Capital Partners ,...\n",
       "1                               Accel , 14W , GS Growth  \n",
       "2         General Catalyst , Nexus Venture Partners , ...\n",
       "3         Lightspeed India Partners , Sequoia Capital ...\n",
       "4          AWZ Ventures , Blackstone , Insight Partners  \n",
       "                              ...                        \n",
       "1194      SoftBank Group , Andreessen Horowitz , Temas...\n",
       "1195      Founders Fund , Draper Fisher Jurvetson , Ro...\n",
       "1196      Technology Crossover Ventures , A E Televisi...\n",
       "1197      Institutional Venture Partners , Sequoia Cap...\n",
       "1198                    Summit Partners , Qatar Holding  \n",
       "Name: investors, Length: 1199, dtype: object"
      ]
     },
     "execution_count": 76,
     "metadata": {},
     "output_type": "execute_result"
    }
   ],
   "source": [
    "df_start['investors']"
   ]
  },
  {
   "cell_type": "code",
   "execution_count": 77,
   "metadata": {},
   "outputs": [
    {
     "data": {
      "text/plain": [
       "' Zeal Capital Partners '"
      ]
     },
     "execution_count": 77,
     "metadata": {},
     "output_type": "execute_result"
    }
   ],
   "source": [
    "for i in df_start.index:\n",
    "    df_start['investors'][i] = df_start['investors'][i].split(',')\n",
    "\n",
    "df_start['investors'][0][1] #checking the first row, first item in list"
   ]
  },
  {
   "cell_type": "code",
   "execution_count": 78,
   "metadata": {},
   "outputs": [
    {
     "data": {
      "text/html": [
       "<div>\n",
       "<style scoped>\n",
       "    .dataframe tbody tr th:only-of-type {\n",
       "        vertical-align: middle;\n",
       "    }\n",
       "\n",
       "    .dataframe tbody tr th {\n",
       "        vertical-align: top;\n",
       "    }\n",
       "\n",
       "    .dataframe thead th {\n",
       "        text-align: right;\n",
       "    }\n",
       "</style>\n",
       "<table border=\"1\" class=\"dataframe\">\n",
       "  <thead>\n",
       "    <tr style=\"text-align: right;\">\n",
       "      <th></th>\n",
       "      <th>company</th>\n",
       "      <th>last_val</th>\n",
       "      <th>month</th>\n",
       "      <th>year_joined</th>\n",
       "      <th>city</th>\n",
       "      <th>country</th>\n",
       "      <th>industry</th>\n",
       "      <th>investors</th>\n",
       "    </tr>\n",
       "  </thead>\n",
       "  <tbody>\n",
       "    <tr>\n",
       "      <th>0</th>\n",
       "      <td>Esusu</td>\n",
       "      <td>1.00</td>\n",
       "      <td>1</td>\n",
       "      <td>2022</td>\n",
       "      <td>New York</td>\n",
       "      <td>United States</td>\n",
       "      <td>Fintech</td>\n",
       "      <td>[  Next Play Ventures ,  Zeal Capital Partners...</td>\n",
       "    </tr>\n",
       "    <tr>\n",
       "      <th>1</th>\n",
       "      <td>Fever Labs</td>\n",
       "      <td>1.00</td>\n",
       "      <td>1</td>\n",
       "      <td>2022</td>\n",
       "      <td>New York</td>\n",
       "      <td>United States</td>\n",
       "      <td>Internet software &amp; services</td>\n",
       "      <td>[  Accel ,  14W ,  GS Growth  ]</td>\n",
       "    </tr>\n",
       "    <tr>\n",
       "      <th>2</th>\n",
       "      <td>Minio</td>\n",
       "      <td>1.00</td>\n",
       "      <td>1</td>\n",
       "      <td>2022</td>\n",
       "      <td>Palo Alto</td>\n",
       "      <td>United States</td>\n",
       "      <td>Data management &amp; analytics</td>\n",
       "      <td>[  General Catalyst ,  Nexus Venture Partners ...</td>\n",
       "    </tr>\n",
       "    <tr>\n",
       "      <th>3</th>\n",
       "      <td>Darwinbox</td>\n",
       "      <td>1.00</td>\n",
       "      <td>1</td>\n",
       "      <td>2022</td>\n",
       "      <td>Hyderabad</td>\n",
       "      <td>India</td>\n",
       "      <td>Internet software &amp; services</td>\n",
       "      <td>[  Lightspeed India Partners ,  Sequoia Capita...</td>\n",
       "    </tr>\n",
       "    <tr>\n",
       "      <th>4</th>\n",
       "      <td>Pentera</td>\n",
       "      <td>1.00</td>\n",
       "      <td>1</td>\n",
       "      <td>2022</td>\n",
       "      <td>Petah Tikva</td>\n",
       "      <td>Israel</td>\n",
       "      <td>Cybersecurity</td>\n",
       "      <td>[  AWZ Ventures ,  Blackstone ,  Insight Partn...</td>\n",
       "    </tr>\n",
       "    <tr>\n",
       "      <th>...</th>\n",
       "      <td>...</td>\n",
       "      <td>...</td>\n",
       "      <td>...</td>\n",
       "      <td>...</td>\n",
       "      <td>...</td>\n",
       "      <td>...</td>\n",
       "      <td>...</td>\n",
       "      <td>...</td>\n",
       "    </tr>\n",
       "    <tr>\n",
       "      <th>1194</th>\n",
       "      <td>Fanatics</td>\n",
       "      <td>27.00</td>\n",
       "      <td>6</td>\n",
       "      <td>2012</td>\n",
       "      <td>Jacksonville</td>\n",
       "      <td>United States</td>\n",
       "      <td>E-commerce &amp; direct-to-consumer</td>\n",
       "      <td>[  SoftBank Group ,  Andreessen Horowitz ,  Te...</td>\n",
       "    </tr>\n",
       "    <tr>\n",
       "      <th>1195</th>\n",
       "      <td>SpaceX</td>\n",
       "      <td>127.00</td>\n",
       "      <td>12</td>\n",
       "      <td>2012</td>\n",
       "      <td>Hawthorne</td>\n",
       "      <td>United States</td>\n",
       "      <td>Other</td>\n",
       "      <td>[  Founders Fund ,  Draper Fisher Jurvetson , ...</td>\n",
       "    </tr>\n",
       "    <tr>\n",
       "      <th>1196</th>\n",
       "      <td>Vice Media</td>\n",
       "      <td>5.70</td>\n",
       "      <td>4</td>\n",
       "      <td>2011</td>\n",
       "      <td>Brooklyn</td>\n",
       "      <td>United States</td>\n",
       "      <td>Internet software &amp; services</td>\n",
       "      <td>[  Technology Crossover Ventures ,  A E Televi...</td>\n",
       "    </tr>\n",
       "    <tr>\n",
       "      <th>1197</th>\n",
       "      <td>Klarna</td>\n",
       "      <td>6.70</td>\n",
       "      <td>12</td>\n",
       "      <td>2011</td>\n",
       "      <td>Stockholm</td>\n",
       "      <td>Sweden</td>\n",
       "      <td>Fintech</td>\n",
       "      <td>[  Institutional Venture Partners ,  Sequoia C...</td>\n",
       "    </tr>\n",
       "    <tr>\n",
       "      <th>1198</th>\n",
       "      <td>Veepee</td>\n",
       "      <td>1.38</td>\n",
       "      <td>7</td>\n",
       "      <td>2007</td>\n",
       "      <td>La Plaine Saint-Denis</td>\n",
       "      <td>France</td>\n",
       "      <td>E-commerce &amp; direct-to-consumer</td>\n",
       "      <td>[  Summit Partners ,  Qatar Holding  ]</td>\n",
       "    </tr>\n",
       "  </tbody>\n",
       "</table>\n",
       "<p>1199 rows × 8 columns</p>\n",
       "</div>"
      ],
      "text/plain": [
       "         company  last_val  month  year_joined                   city  \\\n",
       "0          Esusu      1.00      1         2022               New York   \n",
       "1     Fever Labs      1.00      1         2022               New York   \n",
       "2          Minio      1.00      1         2022              Palo Alto   \n",
       "3      Darwinbox      1.00      1         2022              Hyderabad   \n",
       "4        Pentera      1.00      1         2022            Petah Tikva   \n",
       "...          ...       ...    ...          ...                    ...   \n",
       "1194    Fanatics     27.00      6         2012           Jacksonville   \n",
       "1195      SpaceX    127.00     12         2012              Hawthorne   \n",
       "1196  Vice Media      5.70      4         2011               Brooklyn   \n",
       "1197      Klarna      6.70     12         2011              Stockholm   \n",
       "1198      Veepee      1.38      7         2007  La Plaine Saint-Denis   \n",
       "\n",
       "            country                         industry  \\\n",
       "0     United States                          Fintech   \n",
       "1     United States     Internet software & services   \n",
       "2     United States      Data management & analytics   \n",
       "3             India     Internet software & services   \n",
       "4            Israel                   Cybersecurity    \n",
       "...             ...                              ...   \n",
       "1194  United States  E-commerce & direct-to-consumer   \n",
       "1195  United States                            Other   \n",
       "1196  United States     Internet software & services   \n",
       "1197         Sweden                          Fintech   \n",
       "1198         France  E-commerce & direct-to-consumer   \n",
       "\n",
       "                                              investors  \n",
       "0     [  Next Play Ventures ,  Zeal Capital Partners...  \n",
       "1                       [  Accel ,  14W ,  GS Growth  ]  \n",
       "2     [  General Catalyst ,  Nexus Venture Partners ...  \n",
       "3     [  Lightspeed India Partners ,  Sequoia Capita...  \n",
       "4     [  AWZ Ventures ,  Blackstone ,  Insight Partn...  \n",
       "...                                                 ...  \n",
       "1194  [  SoftBank Group ,  Andreessen Horowitz ,  Te...  \n",
       "1195  [  Founders Fund ,  Draper Fisher Jurvetson , ...  \n",
       "1196  [  Technology Crossover Ventures ,  A E Televi...  \n",
       "1197  [  Institutional Venture Partners ,  Sequoia C...  \n",
       "1198             [  Summit Partners ,  Qatar Holding  ]  \n",
       "\n",
       "[1199 rows x 8 columns]"
      ]
     },
     "execution_count": 78,
     "metadata": {},
     "output_type": "execute_result"
    }
   ],
   "source": [
    "df_start"
   ]
  },
  {
   "cell_type": "markdown",
   "metadata": {},
   "source": [
    "# Exploratory Data Analysis"
   ]
  },
  {
   "cell_type": "markdown",
   "metadata": {},
   "source": [
    "### checking for duplicates and nulls in the rows:"
   ]
  },
  {
   "cell_type": "markdown",
   "metadata": {},
   "source": [
    "##### Nulls:"
   ]
  },
  {
   "cell_type": "code",
   "execution_count": 79,
   "metadata": {},
   "outputs": [
    {
     "data": {
      "text/plain": [
       "company         0\n",
       "last_val        0\n",
       "month           0\n",
       "year_joined     0\n",
       "city           18\n",
       "country         0\n",
       "industry        0\n",
       "investors       0\n",
       "dtype: int64"
      ]
     },
     "execution_count": 79,
     "metadata": {},
     "output_type": "execute_result"
    }
   ],
   "source": [
    "df_start.isnull().sum()"
   ]
  },
  {
   "cell_type": "code",
   "execution_count": 80,
   "metadata": {},
   "outputs": [
    {
     "data": {
      "text/html": [
       "<div>\n",
       "<style scoped>\n",
       "    .dataframe tbody tr th:only-of-type {\n",
       "        vertical-align: middle;\n",
       "    }\n",
       "\n",
       "    .dataframe tbody tr th {\n",
       "        vertical-align: top;\n",
       "    }\n",
       "\n",
       "    .dataframe thead th {\n",
       "        text-align: right;\n",
       "    }\n",
       "</style>\n",
       "<table border=\"1\" class=\"dataframe\">\n",
       "  <thead>\n",
       "    <tr style=\"text-align: right;\">\n",
       "      <th></th>\n",
       "      <th>company</th>\n",
       "      <th>last_val</th>\n",
       "      <th>month</th>\n",
       "      <th>year_joined</th>\n",
       "      <th>city</th>\n",
       "      <th>country</th>\n",
       "      <th>industry</th>\n",
       "      <th>investors</th>\n",
       "    </tr>\n",
       "  </thead>\n",
       "  <tbody>\n",
       "    <tr>\n",
       "      <th>186</th>\n",
       "      <td>FinAccel</td>\n",
       "      <td>1.66</td>\n",
       "      <td>8</td>\n",
       "      <td>2022</td>\n",
       "      <td>NaN</td>\n",
       "      <td>Singapore</td>\n",
       "      <td>Fintech</td>\n",
       "      <td>[  Jungle Ventures ,  Square Peg Capital ,  Op...</td>\n",
       "    </tr>\n",
       "    <tr>\n",
       "      <th>222</th>\n",
       "      <td>Coda Payments</td>\n",
       "      <td>2.50</td>\n",
       "      <td>4</td>\n",
       "      <td>2022</td>\n",
       "      <td>NaN</td>\n",
       "      <td>Singapore</td>\n",
       "      <td>Fintech</td>\n",
       "      <td>[  GIC  Apis Partners ,  Insight Partners  ]</td>\n",
       "    </tr>\n",
       "    <tr>\n",
       "      <th>250</th>\n",
       "      <td>ONE</td>\n",
       "      <td>1.00</td>\n",
       "      <td>12</td>\n",
       "      <td>2021</td>\n",
       "      <td>NaN</td>\n",
       "      <td>Singapore</td>\n",
       "      <td>Internet software &amp; services</td>\n",
       "      <td>[  Temasek ,  Guggenheim Investments ,  Qatar ...</td>\n",
       "    </tr>\n",
       "    <tr>\n",
       "      <th>302</th>\n",
       "      <td>Ninja Van</td>\n",
       "      <td>1.00</td>\n",
       "      <td>9</td>\n",
       "      <td>2021</td>\n",
       "      <td>NaN</td>\n",
       "      <td>Singapore</td>\n",
       "      <td>Supply chain, logistics, &amp; delivery</td>\n",
       "      <td>[  B Capital Group ,  Monk s Hill Ventures ,  ...</td>\n",
       "    </tr>\n",
       "    <tr>\n",
       "      <th>314</th>\n",
       "      <td>Cider</td>\n",
       "      <td>1.00</td>\n",
       "      <td>9</td>\n",
       "      <td>2021</td>\n",
       "      <td>NaN</td>\n",
       "      <td>Hong Kong</td>\n",
       "      <td>E-commerce &amp; direct-to-consumer</td>\n",
       "      <td>[  Andreessen Horowitz ,  DST Global ,  IDG Ca...</td>\n",
       "    </tr>\n",
       "    <tr>\n",
       "      <th>325</th>\n",
       "      <td>NIUM</td>\n",
       "      <td>1.00</td>\n",
       "      <td>7</td>\n",
       "      <td>2021</td>\n",
       "      <td>NaN</td>\n",
       "      <td>Singapore</td>\n",
       "      <td>Fintech</td>\n",
       "      <td>[  Vertex Ventures SE Asia ,  Global Founders ...</td>\n",
       "    </tr>\n",
       "    <tr>\n",
       "      <th>346</th>\n",
       "      <td>Carro</td>\n",
       "      <td>1.00</td>\n",
       "      <td>6</td>\n",
       "      <td>2021</td>\n",
       "      <td>NaN</td>\n",
       "      <td>Singapore</td>\n",
       "      <td>E-commerce &amp; direct-to-consumer</td>\n",
       "      <td>[  SingTel Innov8 ,  Alpha JWC Ventures ,  Gol...</td>\n",
       "    </tr>\n",
       "    <tr>\n",
       "      <th>351</th>\n",
       "      <td>Matrixport</td>\n",
       "      <td>1.05</td>\n",
       "      <td>6</td>\n",
       "      <td>2021</td>\n",
       "      <td>NaN</td>\n",
       "      <td>Singapore</td>\n",
       "      <td>Fintech</td>\n",
       "      <td>[  Dragonfly Captial ,  Qiming Venture Partner...</td>\n",
       "    </tr>\n",
       "    <tr>\n",
       "      <th>379</th>\n",
       "      <td>PatSnap</td>\n",
       "      <td>1.00</td>\n",
       "      <td>3</td>\n",
       "      <td>2021</td>\n",
       "      <td>NaN</td>\n",
       "      <td>Singapore</td>\n",
       "      <td>Internet software &amp; services</td>\n",
       "      <td>[  Sequoia Capital China ,  Shunwei Capital Pa...</td>\n",
       "    </tr>\n",
       "    <tr>\n",
       "      <th>409</th>\n",
       "      <td>Carousell</td>\n",
       "      <td>1.10</td>\n",
       "      <td>9</td>\n",
       "      <td>2021</td>\n",
       "      <td>NaN</td>\n",
       "      <td>Singapore</td>\n",
       "      <td>E-commerce &amp; direct-to-consumer</td>\n",
       "      <td>[  500 Global ,  Rakuten Ventures ,  Golden Ga...</td>\n",
       "    </tr>\n",
       "    <tr>\n",
       "      <th>526</th>\n",
       "      <td>bolttech</td>\n",
       "      <td>1.50</td>\n",
       "      <td>7</td>\n",
       "      <td>2021</td>\n",
       "      <td>NaN</td>\n",
       "      <td>Singapore</td>\n",
       "      <td>Fintech</td>\n",
       "      <td>[  Mundi Ventures ,  Doqling Capital Partners ...</td>\n",
       "    </tr>\n",
       "    <tr>\n",
       "      <th>582</th>\n",
       "      <td>Advance Intelligence Group</td>\n",
       "      <td>2.00</td>\n",
       "      <td>9</td>\n",
       "      <td>2021</td>\n",
       "      <td>NaN</td>\n",
       "      <td>Singapore</td>\n",
       "      <td>Artificial intelligence</td>\n",
       "      <td>[  Vision Plus Capital ,  GSR Ventures ,  Zhen...</td>\n",
       "    </tr>\n",
       "    <tr>\n",
       "      <th>645</th>\n",
       "      <td>Moglix</td>\n",
       "      <td>2.60</td>\n",
       "      <td>5</td>\n",
       "      <td>2021</td>\n",
       "      <td>NaN</td>\n",
       "      <td>Singapore</td>\n",
       "      <td>E-commerce &amp; direct-to-consumer</td>\n",
       "      <td>[  Jungle Ventures ,  Accel ,  Venture Highway  ]</td>\n",
       "    </tr>\n",
       "    <tr>\n",
       "      <th>660</th>\n",
       "      <td>Amber Group</td>\n",
       "      <td>3.00</td>\n",
       "      <td>6</td>\n",
       "      <td>2021</td>\n",
       "      <td>NaN</td>\n",
       "      <td>Hong Kong</td>\n",
       "      <td>Fintech</td>\n",
       "      <td>[  Tiger Global Management ,  Tiger Brokers , ...</td>\n",
       "    </tr>\n",
       "    <tr>\n",
       "      <th>774</th>\n",
       "      <td>FTX</td>\n",
       "      <td>32.00</td>\n",
       "      <td>7</td>\n",
       "      <td>2021</td>\n",
       "      <td>NaN</td>\n",
       "      <td>Bahamas</td>\n",
       "      <td>Fintech</td>\n",
       "      <td>[  Sequoia Capital ,  Thoma Bravo ,  Softbank  ]</td>\n",
       "    </tr>\n",
       "    <tr>\n",
       "      <th>836</th>\n",
       "      <td>HyalRoute</td>\n",
       "      <td>3.50</td>\n",
       "      <td>5</td>\n",
       "      <td>2020</td>\n",
       "      <td>NaN</td>\n",
       "      <td>Singapore</td>\n",
       "      <td>Mobile &amp; telecommunications</td>\n",
       "      <td>[  Kuang-Chi  ]</td>\n",
       "    </tr>\n",
       "    <tr>\n",
       "      <th>918</th>\n",
       "      <td>Trax</td>\n",
       "      <td>2.00</td>\n",
       "      <td>7</td>\n",
       "      <td>2019</td>\n",
       "      <td>NaN</td>\n",
       "      <td>Singapore</td>\n",
       "      <td>Artificial intelligence</td>\n",
       "      <td>[  Hopu Investment Management ,  Boyu Capital ...</td>\n",
       "    </tr>\n",
       "    <tr>\n",
       "      <th>1081</th>\n",
       "      <td>WeLab</td>\n",
       "      <td>1.00</td>\n",
       "      <td>11</td>\n",
       "      <td>2017</td>\n",
       "      <td>NaN</td>\n",
       "      <td>Hong Kong</td>\n",
       "      <td>Fintech</td>\n",
       "      <td>[  Sequoia Capital China ,  ING ,  Alibaba Ent...</td>\n",
       "    </tr>\n",
       "  </tbody>\n",
       "</table>\n",
       "</div>"
      ],
      "text/plain": [
       "                         company  last_val  month  year_joined city  \\\n",
       "186                     FinAccel      1.66      8         2022  NaN   \n",
       "222                Coda Payments      2.50      4         2022  NaN   \n",
       "250                          ONE      1.00     12         2021  NaN   \n",
       "302                    Ninja Van      1.00      9         2021  NaN   \n",
       "314                        Cider      1.00      9         2021  NaN   \n",
       "325                         NIUM      1.00      7         2021  NaN   \n",
       "346                        Carro      1.00      6         2021  NaN   \n",
       "351                   Matrixport      1.05      6         2021  NaN   \n",
       "379                      PatSnap      1.00      3         2021  NaN   \n",
       "409                    Carousell      1.10      9         2021  NaN   \n",
       "526                     bolttech      1.50      7         2021  NaN   \n",
       "582   Advance Intelligence Group      2.00      9         2021  NaN   \n",
       "645                       Moglix      2.60      5         2021  NaN   \n",
       "660                  Amber Group      3.00      6         2021  NaN   \n",
       "774                          FTX     32.00      7         2021  NaN   \n",
       "836                    HyalRoute      3.50      5         2020  NaN   \n",
       "918                         Trax      2.00      7         2019  NaN   \n",
       "1081                       WeLab      1.00     11         2017  NaN   \n",
       "\n",
       "        country                             industry  \\\n",
       "186   Singapore                              Fintech   \n",
       "222   Singapore                              Fintech   \n",
       "250   Singapore         Internet software & services   \n",
       "302   Singapore  Supply chain, logistics, & delivery   \n",
       "314   Hong Kong      E-commerce & direct-to-consumer   \n",
       "325   Singapore                              Fintech   \n",
       "346   Singapore      E-commerce & direct-to-consumer   \n",
       "351   Singapore                              Fintech   \n",
       "379   Singapore         Internet software & services   \n",
       "409   Singapore      E-commerce & direct-to-consumer   \n",
       "526   Singapore                              Fintech   \n",
       "582   Singapore              Artificial intelligence   \n",
       "645   Singapore      E-commerce & direct-to-consumer   \n",
       "660   Hong Kong                              Fintech   \n",
       "774     Bahamas                              Fintech   \n",
       "836   Singapore          Mobile & telecommunications   \n",
       "918   Singapore              Artificial intelligence   \n",
       "1081  Hong Kong                              Fintech   \n",
       "\n",
       "                                              investors  \n",
       "186   [  Jungle Ventures ,  Square Peg Capital ,  Op...  \n",
       "222        [  GIC  Apis Partners ,  Insight Partners  ]  \n",
       "250   [  Temasek ,  Guggenheim Investments ,  Qatar ...  \n",
       "302   [  B Capital Group ,  Monk s Hill Ventures ,  ...  \n",
       "314   [  Andreessen Horowitz ,  DST Global ,  IDG Ca...  \n",
       "325   [  Vertex Ventures SE Asia ,  Global Founders ...  \n",
       "346   [  SingTel Innov8 ,  Alpha JWC Ventures ,  Gol...  \n",
       "351   [  Dragonfly Captial ,  Qiming Venture Partner...  \n",
       "379   [  Sequoia Capital China ,  Shunwei Capital Pa...  \n",
       "409   [  500 Global ,  Rakuten Ventures ,  Golden Ga...  \n",
       "526   [  Mundi Ventures ,  Doqling Capital Partners ...  \n",
       "582   [  Vision Plus Capital ,  GSR Ventures ,  Zhen...  \n",
       "645   [  Jungle Ventures ,  Accel ,  Venture Highway  ]  \n",
       "660   [  Tiger Global Management ,  Tiger Brokers , ...  \n",
       "774    [  Sequoia Capital ,  Thoma Bravo ,  Softbank  ]  \n",
       "836                                     [  Kuang-Chi  ]  \n",
       "918   [  Hopu Investment Management ,  Boyu Capital ...  \n",
       "1081  [  Sequoia Capital China ,  ING ,  Alibaba Ent...  "
      ]
     },
     "execution_count": 80,
     "metadata": {},
     "output_type": "execute_result"
    }
   ],
   "source": [
    "df_start[df_start['city'].isnull()]"
   ]
  },
  {
   "cell_type": "markdown",
   "metadata": {},
   "source": [
    "The missing cities are from Singapore, Hong Kong, and Bahamas. From searching online, I've found that city doesn't necessarily apply to these countries.\n",
    "I will just add the name of the country to the city rows."
   ]
  },
  {
   "cell_type": "code",
   "execution_count": 81,
   "metadata": {},
   "outputs": [],
   "source": [
    "for i in df_start[df_start['city'].isnull()]['city']:\n",
    "    df_start['city'] = df_start['country']"
   ]
  },
  {
   "cell_type": "code",
   "execution_count": 82,
   "metadata": {},
   "outputs": [
    {
     "data": {
      "text/plain": [
       "company        0\n",
       "last_val       0\n",
       "month          0\n",
       "year_joined    0\n",
       "city           0\n",
       "country        0\n",
       "industry       0\n",
       "investors      0\n",
       "dtype: int64"
      ]
     },
     "execution_count": 82,
     "metadata": {},
     "output_type": "execute_result"
    }
   ],
   "source": [
    "df_start.isnull().sum()"
   ]
  },
  {
   "cell_type": "markdown",
   "metadata": {},
   "source": [
    "##### Duplicates:"
   ]
  },
  {
   "cell_type": "code",
   "execution_count": 83,
   "metadata": {},
   "outputs": [
    {
     "data": {
      "text/plain": [
       "0"
      ]
     },
     "execution_count": 83,
     "metadata": {},
     "output_type": "execute_result"
    }
   ],
   "source": [
    "df_start[df_start.columns[:-1]].duplicated().sum()"
   ]
  },
  {
   "cell_type": "markdown",
   "metadata": {},
   "source": [
    "#### Univariate Analysis:"
   ]
  },
  {
   "cell_type": "code",
   "execution_count": 84,
   "metadata": {},
   "outputs": [],
   "source": [
    "# Setting a theme for all the visualisations\n",
    "sns.set_theme(style=\"darkgrid\")\n",
    "sns.set(rc={'figure.figsize': (11.7, 8.27)})"
   ]
  },
  {
   "cell_type": "code",
   "execution_count": 85,
   "metadata": {},
   "outputs": [],
   "source": [
    "# for col in df_start:\n",
    "#     plt.figure()\n",
    "#     plt.title(f'Feature: {col}')\n",
    "#     plt.hist(df_start[col], bins=50)\n",
    "#     plt.xticks(rotation = 45)\n",
    "#     plt.show()"
   ]
  },
  {
   "cell_type": "code",
   "execution_count": 86,
   "metadata": {},
   "outputs": [
    {
     "data": {
      "application/vnd.plotly.v1+json": {
       "config": {
        "plotlyServerURL": "https://plot.ly"
       },
       "data": [
        {
         "alignmentgroup": "True",
         "bingroup": "x",
         "hovertemplate": "industry=%{x}<br>count=%{y}<extra></extra>",
         "legendgroup": "",
         "marker": {
          "color": "#636efa"
         },
         "name": "",
         "nbinsx": 50,
         "offsetgroup": "",
         "orientation": "v",
         "showlegend": false,
         "type": "histogram",
         "x": [
          "Fintech",
          "Internet software & services",
          "Data management & analytics",
          "Internet software & services",
          "Cybersecurity ",
          "Artificial intelligence",
          "Fintech",
          "Other",
          "E-commerce & direct-to-consumer",
          "Internet software & services",
          "Data management & analytics",
          "Supply chain, logistics, & delivery",
          "Supply chain, logistics, & delivery",
          "Internet software & services",
          "Hardware",
          "Cybersecurity",
          "Data management & analytics",
          "Health",
          "Internet software & services",
          "Fintech",
          "Internet software & services",
          "Fintech",
          "Other",
          "Fintech",
          "Fintech",
          "Auto & transportation",
          "Internet software & services",
          "Other",
          "Supply chain, logistics, & delivery",
          "Health",
          "Fintech",
          "Internet software & services",
          "E-commerce & direct-to-consumer",
          "Health",
          "Internet software & services",
          "Cybersecurity",
          "Fintech",
          "Mobile & telecommunications",
          "Internet software & services",
          "Artificial Intelligence",
          "Fintech",
          "Internet software & services",
          "Internet software & services",
          "Fintech",
          "Fintech",
          "Internet software & services",
          "Cybersecurity",
          "Health",
          "Fintech",
          "Internet software & services",
          "Internet software & services",
          "Cybersecurity ",
          "Internet software & services",
          "Internet software & services",
          "Fintech",
          "Supply chain, logistics, & delivery",
          "Data management & analytics",
          "Artificial intelligence",
          "Supply chain, logistics, & delivery",
          "Data management & analytics",
          "Fintech",
          "Cybersecurity",
          "Fintech",
          "Supply chain, logistics, & delivery",
          "Auto & transportation",
          "Fintech",
          "Fintech",
          "Fintech",
          "Internet software & services",
          "Internet software & services",
          "E-commerce & direct-to-consumer",
          "Fintech",
          "Health",
          "Fintech",
          "Fintech",
          "Consumer & retail",
          "E-commerce & direct-to-consumer",
          "Other",
          "Edtech",
          "Cybersecurity",
          "Data management & analytics",
          "Cybersecurity",
          "Health",
          "Internet software & services",
          "Cybersecurity",
          "Cybersecurity",
          "Edtech",
          "Supply chain, logistics, & delivery",
          "Fintech",
          "Supply chain, logistics, & delivery",
          "Internet software & services",
          "Artificial intelligence",
          "Health",
          "Fintech",
          "Fintech",
          "Other",
          "Mobile & telecommunications",
          "Health",
          "Fintech",
          "Fintech",
          "Artificial Intelligence",
          "E-commerce & direct-to-consumer",
          "Internet software & services",
          "Supply chain, logistics, & delivery",
          "E-commerce & direct-to-consumer",
          "Fintech",
          "Artificial intelligence",
          "Internet software & services",
          "Fintech",
          "Health",
          "Internet software & services",
          "E-commerce & direct-to-consumer",
          "Edtech",
          "Internet software & services",
          "Fintech",
          "Fintech",
          "Supply chain, logistics, & delivery",
          "Internet software & services",
          "Hardware",
          "Hardware",
          "Health",
          "Supply chain, logistics, & delivery",
          "Health",
          "Internet software & services",
          "Internet software & services",
          "Internet software & services",
          "Fintech",
          "Supply chain, logistics, & delivery",
          "Fintech",
          "Internet software & services",
          "Fintech",
          "Travel",
          "Fintech",
          "Supply chain, logistics, & delivery",
          "Health",
          "E-commerce & direct-to-consumer",
          "Hardware",
          "Other",
          "Internet software & services",
          "Fintech",
          "Health",
          "Mobile & telecommunications",
          "Cybersecurity",
          "Fintech",
          "Fintech",
          "E-commerce & direct-to-consumer",
          "Health",
          "Data management & analytics",
          "Artificial intelligence",
          "Fintech",
          "Internet software & services",
          "Cybersecurity",
          "Other",
          "Internet software & services",
          "Fintech",
          "Artificial intelligence",
          "Mobile & telecommunications",
          "Fintech",
          "E-commerce & direct-to-consumer",
          "Internet software & services",
          "Supply chain, logistics, & delivery",
          "Health",
          "Artificial intelligence",
          "Fintech",
          "E-commerce & direct-to-consumer",
          "Other",
          "Health",
          "Internet software & services",
          "Fintech",
          "Other",
          "Supply chain, logistics, & delivery",
          "Hardware",
          "Internet software & services",
          "Fintech",
          "Cybersecurity",
          "Cybersecurity",
          "Fintech",
          "Fintech",
          "Artificial Intelligence",
          "Artificial intelligence",
          "E-commerce & direct-to-consumer",
          "Health",
          "Health",
          "Internet software & services",
          "Fintech",
          "Internet software & services",
          "Fintech",
          "Fintech",
          "Health",
          "Health",
          "Internet software & services",
          "Edtech",
          "Internet software & services",
          "Artificial intelligence",
          "Internet software & services",
          "Internet software & services",
          "Auto & transportation",
          "E-commerce & direct-to-consumer",
          "Artificial Intelligence",
          "Internet software & services",
          "Fintech",
          "Fintech",
          "Mobile & telecommunications",
          "Fintech",
          "Auto & transportation",
          "Artificial intelligence",
          "Auto & transportation",
          "Cybersecurity",
          "Internet software & services",
          "Internet software & services",
          "E-commerce & direct-to-consumer",
          "Hardware",
          "Fintech",
          "Internet software & services",
          "Fintech",
          "Fintech",
          "Fintech",
          "Other",
          "Artificial intelligence",
          "Supply chain, logistics, & delivery",
          "Fintech",
          "Other",
          "Fintech",
          "Internet software & services",
          "Hardware",
          "Other",
          "Fintech",
          "Health",
          "Artificial Intelligence",
          "Health",
          "Fintech",
          "Internet software & services",
          "Auto & transportation",
          "Fintech",
          "Fintech",
          "Health",
          "Internet software & services",
          "Internet software & services",
          "Cybersecurity",
          "Internet software & services",
          "Internet software & services",
          "Internet software & services",
          "Fintech",
          "Other",
          "Supply chain, logistics, & delivery",
          "Fintech",
          "Internet software & services",
          "Data management & analytics",
          "Fintech",
          "Internet software & services",
          "Internet software & services",
          "Other",
          "Consumer & retail",
          "Artificial Intelligence",
          "Travel",
          "Consumer & retail",
          "Cybersecurity",
          "Health",
          "Internet software & services",
          "E-commerce & direct-to-consumer",
          "Fintech",
          "Consumer & retail",
          "E-commerce & direct-to-consumer",
          "Cybersecurity",
          "Data management & analytics",
          "Artificial Intelligence",
          "Internet software & services",
          "Fintech",
          "Internet software & services",
          "Internet software & services",
          "Cybersecurity",
          "Artificial Intelligence",
          "Cybersecurity",
          "Internet software & services",
          "E-commerce & direct-to-consumer",
          "Other",
          "Hardware",
          "Fintech",
          "Cybersecurity",
          "Internet software & services",
          "Internet software & services",
          "Consumer & retail",
          "Cybersecurity",
          "Internet software & services",
          "Internet software & services",
          "Internet software & services",
          "Artificial intelligence",
          "Supply chain, logistics, & delivery",
          "Supply chain, logistics, & delivery",
          "Health",
          "Fintech",
          "Artificial intelligence",
          "Fintech",
          "Fintech",
          "E-commerce & direct-to-consumer",
          "Internet software & services",
          "Data management & analytics",
          "Fintech",
          "E-commerce & direct-to-consumer",
          "Fintech",
          "Health",
          "Edtech",
          "Supply chain, logistics, & delivery",
          "Consumer & retail",
          "Supply chain, logistics, & delivery",
          "Internet software & services",
          "Internet software & services",
          "Fintech",
          "Fintech",
          "Fintech",
          "Health",
          "E-commerce & direct-to-consumer",
          "Hardware",
          "E-commerce & direct-to-consumer",
          "E-commerce & direct-to-consumer",
          "Hardware",
          "Mobile & telecommunications",
          "Artificial intelligence",
          "Fintech",
          "Health",
          "E-commerce & direct-to-consumer",
          "Artificial intelligence",
          "Fintech",
          "Artificial intelligence",
          "Fintech",
          "Fintech",
          "Supply chain, logistics, & delivery",
          "Supply chain, logistics, & delivery",
          "Internet software & services",
          "Fintech",
          "Health",
          "Fintech",
          "Internet software & services",
          "Artificial intelligence",
          "Fintech",
          "Supply chain, logistics, & delivery",
          "Internet software & services",
          "Internet software & services",
          "Fintech",
          "Fintech",
          "Internet software & services",
          "Edtech",
          "Cybersecurity",
          "Supply chain, logistics, & delivery",
          "Internet software & services",
          "Artificial intelligence",
          "E-commerce & direct-to-consumer",
          "Hardware",
          "Health",
          "Health",
          "Supply chain, logistics, & delivery",
          "Fintech",
          "Other",
          "Fintech",
          "Fintech",
          "Data management & analytics",
          "Fintech",
          "Consumer & retail",
          "Artificial intelligence",
          "Artificial intelligence",
          "Other",
          "Internet software & services",
          "Internet software & services",
          "Other",
          "Artificial intelligence",
          "Health",
          "Fintech",
          "Artificial intelligence",
          "Fintech",
          "Health",
          "Artificial intelligence",
          "Fintech",
          "E-commerce & direct-to-consumer",
          "Fintech",
          "Internet software & services",
          "Edtech",
          "Artificial intelligence",
          "Fintech",
          "Health",
          "Internet software & services",
          "Cybersecurity",
          "Edtech",
          "Supply chain, logistics, & delivery",
          "Fintech",
          "Artificial intelligence",
          "Hardware",
          "Other",
          "Supply chain, logistics, & delivery",
          "Internet software & services",
          "Fintech",
          "E-commerce & direct-to-consumer",
          "Internet software & services",
          "Data management & analytics",
          "Hardware",
          "Internet software & services",
          "Hardware",
          "Mobile & telecommunications",
          "E-commerce & direct-to-consumer",
          "Supply chain, logistics, & delivery",
          "Supply chain, logistics, & delivery",
          "E-commerce & direct-to-consumer",
          "Internet software & services",
          "Fintech",
          "Fintech",
          "E-commerce & direct-to-consumer",
          "Fintech",
          "Internet software & services",
          "Internet software & services",
          "Internet software & services",
          "E-commerce & direct-to-consumer",
          "Internet software & services",
          "Artificial intelligence",
          "Internet software & services",
          "Internet software & services",
          "Fintech",
          "Health",
          "Fintech",
          "Data management & analytics",
          "Supply chain, logistics, & delivery",
          "Fintech",
          "Health",
          "Artificial intelligence",
          "Fintech",
          "Internet software & services",
          "Health",
          "Data management & analytics",
          "E-commerce & direct-to-consumer",
          "Supply chain, logistics, & delivery",
          "Health",
          "Fintech",
          "E-commerce & direct-to-consumer",
          "E-commerce & direct-to-consumer",
          "Internet software & services",
          "Data management & analytics",
          "Internet software & services",
          "E-commerce & direct-to-consumer",
          "Fintech",
          "Internet software & services",
          "Fintech",
          "Health",
          "Supply chain, logistics, & delivery",
          "Artificial Intelligence",
          "Internet software & services",
          "Artificial intelligence",
          "Artificial intelligence",
          "Other",
          "Artificial intelligence",
          "Fintech",
          "Edtech",
          "Fintech",
          "Internet software & services",
          "Other",
          "Auto & transportation ",
          "Other",
          "Health",
          "Health",
          "Hardware",
          "Internet software & services",
          "Cybersecurity",
          "Internet software & services",
          "Internet software & services",
          "Fintech",
          "Fintech",
          "Supply chain, logistics, & delivery",
          "Artificial Intelligence",
          "Data management & analytics",
          "Supply chain, logistics, & delivery",
          "Fintech",
          "Fintech",
          "Internet software & services",
          "Mobile & telecommunications",
          "E-commerce & direct-to-consumer",
          "Fintech",
          "Health",
          "Cybersecurity",
          "Internet software & services",
          "Fintech",
          "Mobile & telecommunications",
          "Edtech",
          "Internet software & services",
          "Internet software & services",
          "Auto & transportation",
          "Fintech",
          "Other",
          "Internet software & services",
          "E-commerce & direct-to-consumer",
          "Internet software & services",
          "Internet software & services",
          "Internet software & services",
          "Health",
          "Health",
          "Health",
          "Auto & transportation",
          "Fintech",
          "Artificial Intelligence",
          "Other",
          "Fintech",
          "Supply chain, logistics, & delivery",
          "Internet software & services",
          "Internet software & services",
          "E-commerce & direct-to-consumer",
          "Other",
          "Health",
          "Internet software & services",
          "Fintech",
          "Internet software & services",
          "Internet software & services",
          "Internet software & services",
          "Fintech",
          "Cybersecurity",
          "Data management & analytics",
          "Internet software & services",
          "Fintech",
          "Fintech",
          "Internet software & services",
          "Consumer & retail",
          "Internet software & services",
          "Internet software & services",
          "Supply chain, logistics, & delivery",
          "Hardware",
          "Hardware",
          "Fintech",
          "Fintech",
          "Cybersecurity",
          "Other",
          "Health",
          "Fintech",
          "Internet software & services",
          "Supply chain, logistics, & delivery",
          "Other",
          "Hardware",
          "Fintech",
          "Health",
          "Fintech",
          "Fintech",
          "Fintech",
          "Artificial intelligence",
          "Data management & analytics",
          "Health",
          "Fintech",
          "Internet software & services",
          "Internet software & services",
          "E-commerce & direct-to-consumer",
          "Internet software & services",
          "E-commerce & direct-to-consumer",
          "Fintech",
          "Artificial intelligence",
          "Data management & analytics",
          "Cybersecurity",
          "E-commerce & direct-to-consumer",
          "Fintech",
          "Internet software & services",
          "Health",
          "Health",
          "Cybersecurity",
          "E-commerce & direct-to-consumer",
          "Cybersecurity",
          "Health",
          "Fintech",
          "Hardware",
          "Internet software & services",
          "Other",
          "Fintech",
          "Fintech",
          "Health",
          "Fintech",
          "Internet software & services",
          "Edtech",
          "Data management & analytics",
          "Edtech",
          "Fintech",
          "Data management & analytics",
          "Internet software & services",
          "Health",
          "Internet software & services",
          "Cybersecurity",
          "Artificial intelligence",
          "Fintech",
          "Fintech",
          "Data management & analytics",
          "Travel",
          "Fintech",
          "Artificial intelligence",
          "Artificial intelligence",
          "Health",
          "Supply chain, logistics, & delivery",
          "Internet software & services",
          "Fintech",
          "Fintech",
          "Artificial intelligence",
          "Internet software & services",
          "Fintech",
          "Fintech",
          "Internet software & services",
          "Fintech",
          "Internet software & services",
          "Fintech",
          "Internet software & services",
          "Health",
          "Artificial intelligence",
          "Fintech",
          "Consumer & retail",
          "Fintech",
          "Supply chain, logistics, & delivery",
          "Health",
          "Artificial intelligence ",
          "Fintech",
          "E-commerce & direct-to-consumer",
          "Fintech",
          "Fintech",
          "Data management & analytics",
          "Fintech",
          "Consumer & retail ",
          "Fintech",
          "Fintech",
          "Internet software & services",
          "Internet software & services",
          "Fintech",
          "Internet software & services",
          "Other",
          "Internet software & services",
          "Fintech",
          "Supply chain, logistics, & delivery",
          "Internet software & services",
          "Other",
          "Cybersecurity",
          "Cybersecurity",
          "Fintech",
          "Auto & transportation",
          "Internet software & services",
          "Fintech",
          "Internet software & services",
          "Internet software & services",
          "E-commerce & direct-to-consumer",
          "Internet software & services",
          "Cybersecurity",
          "Internet software & services",
          "Cybersecurity",
          "Fintech",
          "E-commerce & direct-to-consumer",
          "Internet software & services",
          "Data management & analytics",
          "Artificial intelligence",
          "Data management & analytics",
          "Cybersecurity",
          "E-commerce & direct-to-consumer",
          "Internet software & services",
          "Internet software & services",
          "E-commerce & direct-to-consumer",
          "Fintech",
          "Internet software & services",
          "Cybersecurity",
          "Mobile & telecommunications",
          "Edtech",
          "Fintech",
          "E-commerce & direct-to-consumer",
          "Fintech",
          "Fintech",
          "Other",
          "Fintech",
          "Fintech",
          "Fintech",
          "Internet software & services",
          "Fintech",
          "Fintech",
          "Fintech",
          "Edtech",
          "Internet software & services",
          "Supply chain, logistics, & delivery",
          "Internet software & services",
          "Internet software & services",
          "Internet software & services",
          "Health",
          "Internet software & services",
          "Internet software & services",
          "Fintech",
          "Internet software & services",
          "E-commerce & direct-to-consumer",
          "Hardware",
          "Internet software & services",
          "E-commerce & direct-to-consumer",
          "Health",
          "Fintech",
          "Edtech",
          "Fintech",
          "Internet software & services",
          "Fintech",
          "Supply chain, logistics, & delivery",
          "Fintech",
          "Data management & analytics",
          "Data management & analytics",
          "Fintech",
          "Fintech",
          "Other",
          "Hardware",
          "Fintech",
          "Internet software & services",
          "Internet software & services",
          "Edtech",
          "Fintech",
          "Internet software & services",
          "Internet software & services",
          "Fintech",
          "Internet software & services",
          "E-commerce & direct-to-consumer",
          "Artificial intelligence",
          "Health",
          "Internet software & services",
          "Other",
          "Health",
          "E-commerce & direct-to-consumer",
          "Edtech",
          "Fintech",
          "Internet software & services",
          "Internet software & services",
          "E-commerce & direct-to-consumer",
          "Fintech",
          "Internet software & services",
          "Mobile & telecommunications",
          "Internet software & services",
          "Internet software & services",
          "Fintech",
          "Supply chain, logistics, & delivery",
          "Fintech",
          "E-commerce & direct-to-consumer",
          "Data management & analytics",
          "Cybersecurity",
          "Fintech",
          "Health",
          "Fintech",
          "Internet software & services",
          "Hardware",
          "Health",
          "Health",
          "Internet software & services",
          "Cybersecurity",
          "Internet software & services",
          "Travel",
          "Data management & analytics",
          "E-commerce & direct-to-consumer",
          "Fintech",
          "Data management & analytics",
          "Fintech",
          "Fintech",
          "Internet software & services",
          "E-commerce & direct-to-consumer",
          "Internet software & services",
          "Artificial intelligence",
          "Fintech",
          "Cybersecurity",
          "Internet software & services",
          "Other",
          "Health",
          "Cybersecurity",
          "Fintech",
          "Fintech",
          "Internet software & services",
          "Health",
          "Fintech",
          "Fintech",
          "Fintech",
          "Cybersecurity",
          "Internet software & services",
          "Fintech",
          "Consumer & retail",
          "Fintech",
          "Fintech",
          "Auto & transportation",
          "Supply chain, logistics, & delivery",
          "Fintech",
          "Internet software & services",
          "Internet software & services",
          "Fintech",
          "Supply chain, logistics, & delivery",
          "Fintech",
          "Other",
          "Supply chain, logistics, & delivery",
          "Other",
          "E-commerce & direct-to-consumer",
          "Mobile & telecommunications",
          "Health",
          "Edtech",
          "Other",
          "E-commerce & direct-to-consumer",
          "Health",
          "E-commerce & direct-to-consumer",
          "Data management & analytics",
          "Cybersecurity",
          "Data management & analytics",
          "Internet software & services",
          "Cybersecurity",
          "Other",
          "Health",
          "Health",
          "Health",
          "Internet software & services",
          "Internet software & services",
          "E-commerce & direct-to-consumer",
          "Internet software & services",
          "Internet software & services",
          "Mobile & telecommunications",
          "Internet software & services",
          "Other",
          "Supply chain, logistics, & delivery",
          "Health",
          "Fintech",
          "E-commerce & direct-to-consumer",
          "Data management & analytics",
          "Internet software & services",
          "Mobile & telecommunications",
          "Internet software & services",
          "E-commerce & direct-to-consumer",
          "Fintech",
          "Artificial intelligence",
          "Internet software & services",
          "Fintech",
          "Other",
          "Hardware",
          "Health",
          "Fintech",
          "Fintech",
          "Cybersecurity",
          "Artificial intelligence",
          "E-commerce & direct-to-consumer",
          "Auto & transportation",
          "Internet software & services",
          "Cybersecurity",
          "Edtech",
          "Fintech",
          "Cybersecurity",
          "E-commerce & direct-to-consumer",
          "Health",
          "Auto & transportation",
          "Edtech",
          "Internet software & services",
          "E-commerce & direct-to-consumer",
          "Mobile & telecommunications",
          "Edtech",
          "Auto & transportation",
          "E-commerce & direct-to-consumer",
          "E-commerce & direct-to-consumer",
          "Data management & analytics",
          "Mobile & telecommunications",
          "Other",
          "Internet software & services",
          "Health",
          "Internet software & services",
          "Other",
          "Other",
          "Cybersecurity",
          "Auto & transportation",
          "Health",
          "Fintech",
          "Internet software & services",
          "Fintech",
          "Mobile & telecommunications",
          "Other",
          "Fintech",
          "Data management & analytics",
          "Internet software & services",
          "Health",
          "Mobile & telecommunications",
          "Fintech",
          "Fintech",
          "Fintech",
          "Auto & transportation",
          "Health",
          "Artificial intelligence",
          "Fintech",
          "Internet software & services",
          "Fintech",
          "Fintech",
          "Cybersecurity",
          "E-commerce & direct-to-consumer",
          "Internet software & services",
          "E-commerce & direct-to-consumer",
          "Internet software & services",
          "Internet software & services",
          "E-commerce & direct-to-consumer",
          "Consumer & retail",
          "Supply chain, logistics, & delivery",
          "E-commerce & direct-to-consumer",
          "Fintech",
          "Fintech",
          "Fintech",
          "Fintech",
          "Artificial intelligence",
          "Travel",
          "Edtech",
          "Other",
          "Internet software & services",
          "Mobile & telecommunications",
          "Artificial intelligence",
          "Other",
          "Artificial intelligence",
          "Health",
          "Data management & analytics",
          "Supply chain, logistics, & delivery",
          "Fintech",
          "Travel",
          "Fintech",
          "Supply chain, logistics, & delivery",
          "Artificial intelligence",
          "Consumer & retail",
          "Other",
          "Other",
          "Cybersecurity",
          "E-commerce & direct-to-consumer",
          "Internet software & services",
          "Auto & transportation",
          "E-commerce & direct-to-consumer",
          "Fintech",
          "E-commerce & direct-to-consumer",
          "Fintech",
          "Supply chain, logistics, & delivery",
          "Artificial intelligence",
          "Auto & transportation",
          "E-commerce & direct-to-consumer",
          "Artificial intelligence",
          "Mobile & telecommunications",
          "Other",
          "Supply chain, logistics, & delivery",
          "Internet software & services",
          "Data management & analytics",
          "Travel",
          "Cybersecurity",
          "Internet software & services",
          "Mobile & telecommunications",
          "Internet software & services",
          "E-commerce & direct-to-consumer",
          "Supply chain, logistics, & delivery",
          "Fintech",
          "Cybersecurity",
          "Internet software & services",
          "Supply chain, logistics, & delivery",
          "Internet software & services",
          "Artificial intelligence",
          "Fintech",
          "Health",
          "Other",
          "Auto & transportation",
          "Mobile & telecommunications",
          "Other",
          "Cybersecurity",
          "E-commerce & direct-to-consumer",
          "Fintech",
          "Consumer & retail",
          "E-commerce & direct-to-consumer",
          "Internet software & services",
          "Internet software & services",
          "E-commerce & direct-to-consumer",
          "Fintech",
          "E-commerce & direct-to-consumer",
          "Internet software & services",
          "Artificial intelligence",
          "Artificial intelligence",
          "Artificial intelligence",
          "Auto & transportation",
          "Auto & transportation",
          "Artificial intelligence",
          "Fintech",
          "E-commerce & direct-to-consumer",
          "Internet software & services",
          "Data management & analytics",
          "Artificial intelligence",
          "Health",
          "Auto & transportation",
          "Artificial intelligence",
          "Fintech",
          "Internet software & services",
          "Fintech",
          "Auto & transportation",
          "Fintech",
          "Other",
          "Fintech",
          "Other",
          "Supply chain, logistics, & delivery",
          "Artificial intelligence",
          "Internet software & services",
          "Fintech",
          "Fintech",
          "Data management & analytics",
          "Fintech",
          "Supply chain, logistics, & delivery",
          "Hardware",
          "Hardware",
          "Travel",
          "E-commerce & direct-to-consumer",
          "Artificial intelligence",
          "Fintech",
          "Auto & transportation",
          "Supply chain, logistics, & delivery",
          "Mobile & telecommunications",
          "Consumer & retail",
          "Mobile & telecommunications",
          "Internet software & services",
          "Health",
          "Hardware",
          "Edtech",
          "Mobile & telecommunications",
          "Health",
          "Auto & transportation",
          "Artificial intelligence",
          "Internet software & services",
          "Auto & transportation",
          "Auto & transportation",
          "Internet software & services",
          "Internet software & services",
          "Artificial intelligence",
          "Other",
          "Travel",
          "Artificial intelligence",
          "Supply chain, logistics, & delivery",
          "Auto & transportation",
          "Supply chain, logistics, & delivery",
          "Hardware",
          "Auto & transportation",
          "Consumer & retail",
          "E-commerce & direct-to-consumer",
          "Auto & transportation",
          "Data management & analytics",
          "Consumer & retail",
          "Consumer & retail",
          "Auto & transportation",
          "Hardware",
          "Artificial intelligence",
          "Hardware",
          "Artificial intelligence",
          "Artificial intelligence",
          "Other",
          "Consumer & retail",
          "Auto & transportation",
          "Internet software & services",
          "Fintech",
          "Artificial intelligence",
          "Internet software & services",
          "Edtech",
          "Fintech",
          "Supply chain, logistics, & delivery",
          "Auto & transportation",
          "Data management & analytics",
          "Supply chain, logistics, & delivery",
          "Health",
          "Mobile & telecommunications",
          "Hardware",
          "Health",
          "Fintech",
          "Artificial intelligence",
          "Internet software & services",
          "Fintech",
          "Fintech",
          "Auto & transportation",
          "Supply chain, logistics, & delivery",
          "Consumer & retail",
          "Fintech",
          "E-commerce & direct-to-consumer",
          "Artificial intelligence",
          "Cybersecurity",
          "Supply chain, logistics, & delivery",
          "Health",
          "Auto & transportation",
          "Artificial intelligence",
          "Travel",
          "Travel",
          "Internet software & services",
          "Internet software & services",
          "Internet software & services",
          "Supply chain, logistics, & delivery",
          "Internet software & services",
          "Health",
          "Hardware",
          "Fintech",
          "Health",
          "Data management & analytics",
          "Fintech",
          "Internet software & services",
          "Other",
          "Fintech",
          "Internet software & services",
          "E-commerce & direct-to-consumer",
          "Mobile & telecommunications",
          "Fintech",
          "Other",
          "Supply chain, logistics, & delivery",
          "Mobile & telecommunications",
          "E-commerce & direct-to-consumer",
          "E-commerce & direct-to-consumer",
          "Health",
          "E-commerce & direct-to-consumer",
          "Consumer & retail",
          "Fintech",
          "Edtech",
          "Consumer & retail",
          "Internet software & services",
          "Health",
          "Mobile & telecommunications",
          "Fintech",
          "Travel",
          "Edtech",
          "Data management & analytics",
          "Mobile & telecommunications",
          "Artificial intelligence",
          "Internet software & services",
          "Internet software & services",
          "Fintech",
          "Other",
          "Consumer & retail",
          "Fintech",
          "E-commerce & direct-to-consumer",
          "Travel",
          "Other",
          "Artificial intelligence",
          "Health",
          "Data management & analytics",
          "Artificial intelligence",
          "Fintech",
          "Mobile & telecommunications",
          "Internet software & services",
          "Consumer & retail",
          "Edtech",
          "Edtech",
          "Artificial intelligence",
          "Consumer & retail",
          "Internet software & services",
          "Artificial intelligence",
          "Health",
          "Other",
          "E-commerce & direct-to-consumer",
          "Consumer & retail",
          "Supply chain, logistics, & delivery",
          "Auto & transportation",
          "E-commerce & direct-to-consumer",
          "Consumer & retail",
          "E-commerce & direct-to-consumer",
          "Mobile & telecommunications",
          "Edtech",
          "Other",
          "Hardware",
          "Edtech",
          "E-commerce & direct-to-consumer",
          "E-commerce & direct-to-consumer",
          "Hardware",
          "E-commerce & direct-to-consumer",
          "Edtech",
          "Edtech",
          "E-commerce & direct-to-consumer",
          "Internet software & services",
          "E-commerce & direct-to-consumer",
          "Internet software & services",
          "Mobile & telecommunications",
          "Fintech",
          "E-commerce & direct-to-consumer",
          "E-commerce & direct-to-consumer",
          "Other",
          "Mobile & telecommunications",
          "E-commerce & direct-to-consumer",
          "E-commerce & direct-to-consumer",
          "Other",
          "Internet software & services",
          "Travel",
          "Hardware",
          "Internet software & services",
          "Mobile & telecommunications",
          "Health",
          "Auto & transportation",
          "E-commerce & direct-to-consumer",
          "Artificial intelligence",
          "E-commerce & direct-to-consumer",
          "Hardware",
          "Cybersecurity",
          "Mobile & telecommunications",
          "E-commerce & direct-to-consumer",
          "Hardware",
          "Health",
          "Cybersecurity",
          "Fintech",
          "Hardware",
          "Mobile & telecommunications",
          "E-commerce & direct-to-consumer",
          "E-commerce & direct-to-consumer",
          "Mobile & telecommunications",
          "E-commerce & direct-to-consumer",
          "Hardware",
          "Health",
          "Mobile & telecommunications",
          "E-commerce & direct-to-consumer",
          "Auto & transportation",
          "Supply chain, logistics, & delivery",
          "Fintech",
          "Cybersecurity",
          "Data management & analytics",
          "Internet software & services",
          "Artificial intelligence",
          "Consumer & retail",
          "E-commerce & direct-to-consumer",
          "Other",
          "Internet software & services",
          "Fintech",
          "E-commerce & direct-to-consumer"
         ],
         "xaxis": "x",
         "yaxis": "y"
        }
       ],
       "layout": {
        "barmode": "relative",
        "legend": {
         "tracegroupgap": 0
        },
        "margin": {
         "t": 60
        },
        "template": {
         "data": {
          "bar": [
           {
            "error_x": {
             "color": "#2a3f5f"
            },
            "error_y": {
             "color": "#2a3f5f"
            },
            "marker": {
             "line": {
              "color": "#E5ECF6",
              "width": 0.5
             }
            },
            "type": "bar"
           }
          ],
          "barpolar": [
           {
            "marker": {
             "line": {
              "color": "#E5ECF6",
              "width": 0.5
             }
            },
            "type": "barpolar"
           }
          ],
          "carpet": [
           {
            "aaxis": {
             "endlinecolor": "#2a3f5f",
             "gridcolor": "white",
             "linecolor": "white",
             "minorgridcolor": "white",
             "startlinecolor": "#2a3f5f"
            },
            "baxis": {
             "endlinecolor": "#2a3f5f",
             "gridcolor": "white",
             "linecolor": "white",
             "minorgridcolor": "white",
             "startlinecolor": "#2a3f5f"
            },
            "type": "carpet"
           }
          ],
          "choropleth": [
           {
            "colorbar": {
             "outlinewidth": 0,
             "ticks": ""
            },
            "type": "choropleth"
           }
          ],
          "contour": [
           {
            "colorbar": {
             "outlinewidth": 0,
             "ticks": ""
            },
            "colorscale": [
             [
              0,
              "#0d0887"
             ],
             [
              0.1111111111111111,
              "#46039f"
             ],
             [
              0.2222222222222222,
              "#7201a8"
             ],
             [
              0.3333333333333333,
              "#9c179e"
             ],
             [
              0.4444444444444444,
              "#bd3786"
             ],
             [
              0.5555555555555556,
              "#d8576b"
             ],
             [
              0.6666666666666666,
              "#ed7953"
             ],
             [
              0.7777777777777778,
              "#fb9f3a"
             ],
             [
              0.8888888888888888,
              "#fdca26"
             ],
             [
              1,
              "#f0f921"
             ]
            ],
            "type": "contour"
           }
          ],
          "contourcarpet": [
           {
            "colorbar": {
             "outlinewidth": 0,
             "ticks": ""
            },
            "type": "contourcarpet"
           }
          ],
          "heatmap": [
           {
            "colorbar": {
             "outlinewidth": 0,
             "ticks": ""
            },
            "colorscale": [
             [
              0,
              "#0d0887"
             ],
             [
              0.1111111111111111,
              "#46039f"
             ],
             [
              0.2222222222222222,
              "#7201a8"
             ],
             [
              0.3333333333333333,
              "#9c179e"
             ],
             [
              0.4444444444444444,
              "#bd3786"
             ],
             [
              0.5555555555555556,
              "#d8576b"
             ],
             [
              0.6666666666666666,
              "#ed7953"
             ],
             [
              0.7777777777777778,
              "#fb9f3a"
             ],
             [
              0.8888888888888888,
              "#fdca26"
             ],
             [
              1,
              "#f0f921"
             ]
            ],
            "type": "heatmap"
           }
          ],
          "heatmapgl": [
           {
            "colorbar": {
             "outlinewidth": 0,
             "ticks": ""
            },
            "colorscale": [
             [
              0,
              "#0d0887"
             ],
             [
              0.1111111111111111,
              "#46039f"
             ],
             [
              0.2222222222222222,
              "#7201a8"
             ],
             [
              0.3333333333333333,
              "#9c179e"
             ],
             [
              0.4444444444444444,
              "#bd3786"
             ],
             [
              0.5555555555555556,
              "#d8576b"
             ],
             [
              0.6666666666666666,
              "#ed7953"
             ],
             [
              0.7777777777777778,
              "#fb9f3a"
             ],
             [
              0.8888888888888888,
              "#fdca26"
             ],
             [
              1,
              "#f0f921"
             ]
            ],
            "type": "heatmapgl"
           }
          ],
          "histogram": [
           {
            "marker": {
             "colorbar": {
              "outlinewidth": 0,
              "ticks": ""
             }
            },
            "type": "histogram"
           }
          ],
          "histogram2d": [
           {
            "colorbar": {
             "outlinewidth": 0,
             "ticks": ""
            },
            "colorscale": [
             [
              0,
              "#0d0887"
             ],
             [
              0.1111111111111111,
              "#46039f"
             ],
             [
              0.2222222222222222,
              "#7201a8"
             ],
             [
              0.3333333333333333,
              "#9c179e"
             ],
             [
              0.4444444444444444,
              "#bd3786"
             ],
             [
              0.5555555555555556,
              "#d8576b"
             ],
             [
              0.6666666666666666,
              "#ed7953"
             ],
             [
              0.7777777777777778,
              "#fb9f3a"
             ],
             [
              0.8888888888888888,
              "#fdca26"
             ],
             [
              1,
              "#f0f921"
             ]
            ],
            "type": "histogram2d"
           }
          ],
          "histogram2dcontour": [
           {
            "colorbar": {
             "outlinewidth": 0,
             "ticks": ""
            },
            "colorscale": [
             [
              0,
              "#0d0887"
             ],
             [
              0.1111111111111111,
              "#46039f"
             ],
             [
              0.2222222222222222,
              "#7201a8"
             ],
             [
              0.3333333333333333,
              "#9c179e"
             ],
             [
              0.4444444444444444,
              "#bd3786"
             ],
             [
              0.5555555555555556,
              "#d8576b"
             ],
             [
              0.6666666666666666,
              "#ed7953"
             ],
             [
              0.7777777777777778,
              "#fb9f3a"
             ],
             [
              0.8888888888888888,
              "#fdca26"
             ],
             [
              1,
              "#f0f921"
             ]
            ],
            "type": "histogram2dcontour"
           }
          ],
          "mesh3d": [
           {
            "colorbar": {
             "outlinewidth": 0,
             "ticks": ""
            },
            "type": "mesh3d"
           }
          ],
          "parcoords": [
           {
            "line": {
             "colorbar": {
              "outlinewidth": 0,
              "ticks": ""
             }
            },
            "type": "parcoords"
           }
          ],
          "pie": [
           {
            "automargin": true,
            "type": "pie"
           }
          ],
          "scatter": [
           {
            "marker": {
             "colorbar": {
              "outlinewidth": 0,
              "ticks": ""
             }
            },
            "type": "scatter"
           }
          ],
          "scatter3d": [
           {
            "line": {
             "colorbar": {
              "outlinewidth": 0,
              "ticks": ""
             }
            },
            "marker": {
             "colorbar": {
              "outlinewidth": 0,
              "ticks": ""
             }
            },
            "type": "scatter3d"
           }
          ],
          "scattercarpet": [
           {
            "marker": {
             "colorbar": {
              "outlinewidth": 0,
              "ticks": ""
             }
            },
            "type": "scattercarpet"
           }
          ],
          "scattergeo": [
           {
            "marker": {
             "colorbar": {
              "outlinewidth": 0,
              "ticks": ""
             }
            },
            "type": "scattergeo"
           }
          ],
          "scattergl": [
           {
            "marker": {
             "colorbar": {
              "outlinewidth": 0,
              "ticks": ""
             }
            },
            "type": "scattergl"
           }
          ],
          "scattermapbox": [
           {
            "marker": {
             "colorbar": {
              "outlinewidth": 0,
              "ticks": ""
             }
            },
            "type": "scattermapbox"
           }
          ],
          "scatterpolar": [
           {
            "marker": {
             "colorbar": {
              "outlinewidth": 0,
              "ticks": ""
             }
            },
            "type": "scatterpolar"
           }
          ],
          "scatterpolargl": [
           {
            "marker": {
             "colorbar": {
              "outlinewidth": 0,
              "ticks": ""
             }
            },
            "type": "scatterpolargl"
           }
          ],
          "scatterternary": [
           {
            "marker": {
             "colorbar": {
              "outlinewidth": 0,
              "ticks": ""
             }
            },
            "type": "scatterternary"
           }
          ],
          "surface": [
           {
            "colorbar": {
             "outlinewidth": 0,
             "ticks": ""
            },
            "colorscale": [
             [
              0,
              "#0d0887"
             ],
             [
              0.1111111111111111,
              "#46039f"
             ],
             [
              0.2222222222222222,
              "#7201a8"
             ],
             [
              0.3333333333333333,
              "#9c179e"
             ],
             [
              0.4444444444444444,
              "#bd3786"
             ],
             [
              0.5555555555555556,
              "#d8576b"
             ],
             [
              0.6666666666666666,
              "#ed7953"
             ],
             [
              0.7777777777777778,
              "#fb9f3a"
             ],
             [
              0.8888888888888888,
              "#fdca26"
             ],
             [
              1,
              "#f0f921"
             ]
            ],
            "type": "surface"
           }
          ],
          "table": [
           {
            "cells": {
             "fill": {
              "color": "#EBF0F8"
             },
             "line": {
              "color": "white"
             }
            },
            "header": {
             "fill": {
              "color": "#C8D4E3"
             },
             "line": {
              "color": "white"
             }
            },
            "type": "table"
           }
          ]
         },
         "layout": {
          "annotationdefaults": {
           "arrowcolor": "#2a3f5f",
           "arrowhead": 0,
           "arrowwidth": 1
          },
          "coloraxis": {
           "colorbar": {
            "outlinewidth": 0,
            "ticks": ""
           }
          },
          "colorscale": {
           "diverging": [
            [
             0,
             "#8e0152"
            ],
            [
             0.1,
             "#c51b7d"
            ],
            [
             0.2,
             "#de77ae"
            ],
            [
             0.3,
             "#f1b6da"
            ],
            [
             0.4,
             "#fde0ef"
            ],
            [
             0.5,
             "#f7f7f7"
            ],
            [
             0.6,
             "#e6f5d0"
            ],
            [
             0.7,
             "#b8e186"
            ],
            [
             0.8,
             "#7fbc41"
            ],
            [
             0.9,
             "#4d9221"
            ],
            [
             1,
             "#276419"
            ]
           ],
           "sequential": [
            [
             0,
             "#0d0887"
            ],
            [
             0.1111111111111111,
             "#46039f"
            ],
            [
             0.2222222222222222,
             "#7201a8"
            ],
            [
             0.3333333333333333,
             "#9c179e"
            ],
            [
             0.4444444444444444,
             "#bd3786"
            ],
            [
             0.5555555555555556,
             "#d8576b"
            ],
            [
             0.6666666666666666,
             "#ed7953"
            ],
            [
             0.7777777777777778,
             "#fb9f3a"
            ],
            [
             0.8888888888888888,
             "#fdca26"
            ],
            [
             1,
             "#f0f921"
            ]
           ],
           "sequentialminus": [
            [
             0,
             "#0d0887"
            ],
            [
             0.1111111111111111,
             "#46039f"
            ],
            [
             0.2222222222222222,
             "#7201a8"
            ],
            [
             0.3333333333333333,
             "#9c179e"
            ],
            [
             0.4444444444444444,
             "#bd3786"
            ],
            [
             0.5555555555555556,
             "#d8576b"
            ],
            [
             0.6666666666666666,
             "#ed7953"
            ],
            [
             0.7777777777777778,
             "#fb9f3a"
            ],
            [
             0.8888888888888888,
             "#fdca26"
            ],
            [
             1,
             "#f0f921"
            ]
           ]
          },
          "colorway": [
           "#636efa",
           "#EF553B",
           "#00cc96",
           "#ab63fa",
           "#FFA15A",
           "#19d3f3",
           "#FF6692",
           "#B6E880",
           "#FF97FF",
           "#FECB52"
          ],
          "font": {
           "color": "#2a3f5f"
          },
          "geo": {
           "bgcolor": "white",
           "lakecolor": "white",
           "landcolor": "#E5ECF6",
           "showlakes": true,
           "showland": true,
           "subunitcolor": "white"
          },
          "hoverlabel": {
           "align": "left"
          },
          "hovermode": "closest",
          "mapbox": {
           "style": "light"
          },
          "paper_bgcolor": "white",
          "plot_bgcolor": "#E5ECF6",
          "polar": {
           "angularaxis": {
            "gridcolor": "white",
            "linecolor": "white",
            "ticks": ""
           },
           "bgcolor": "#E5ECF6",
           "radialaxis": {
            "gridcolor": "white",
            "linecolor": "white",
            "ticks": ""
           }
          },
          "scene": {
           "xaxis": {
            "backgroundcolor": "#E5ECF6",
            "gridcolor": "white",
            "gridwidth": 2,
            "linecolor": "white",
            "showbackground": true,
            "ticks": "",
            "zerolinecolor": "white"
           },
           "yaxis": {
            "backgroundcolor": "#E5ECF6",
            "gridcolor": "white",
            "gridwidth": 2,
            "linecolor": "white",
            "showbackground": true,
            "ticks": "",
            "zerolinecolor": "white"
           },
           "zaxis": {
            "backgroundcolor": "#E5ECF6",
            "gridcolor": "white",
            "gridwidth": 2,
            "linecolor": "white",
            "showbackground": true,
            "ticks": "",
            "zerolinecolor": "white"
           }
          },
          "shapedefaults": {
           "line": {
            "color": "#2a3f5f"
           }
          },
          "ternary": {
           "aaxis": {
            "gridcolor": "white",
            "linecolor": "white",
            "ticks": ""
           },
           "baxis": {
            "gridcolor": "white",
            "linecolor": "white",
            "ticks": ""
           },
           "bgcolor": "#E5ECF6",
           "caxis": {
            "gridcolor": "white",
            "linecolor": "white",
            "ticks": ""
           }
          },
          "title": {
           "x": 0.05
          },
          "xaxis": {
           "automargin": true,
           "gridcolor": "white",
           "linecolor": "white",
           "ticks": "",
           "title": {
            "standoff": 15
           },
           "zerolinecolor": "white",
           "zerolinewidth": 2
          },
          "yaxis": {
           "automargin": true,
           "gridcolor": "white",
           "linecolor": "white",
           "ticks": "",
           "title": {
            "standoff": 15
           },
           "zerolinecolor": "white",
           "zerolinewidth": 2
          }
         }
        },
        "xaxis": {
         "anchor": "y",
         "categoryorder": "total descending",
         "domain": [
          0,
          1
         ],
         "title": {
          "text": "industry"
         }
        },
        "yaxis": {
         "anchor": "x",
         "domain": [
          0,
          1
         ],
         "title": {
          "text": "count"
         }
        }
       }
      }
     },
     "metadata": {},
     "output_type": "display_data"
    }
   ],
   "source": [
    "\n",
    "fig = px.histogram(df_start, x=\"industry\", nbins= 50)\n",
    "fig.update_layout(xaxis={'categoryorder': 'total descending'})\n",
    "fig.show()"
   ]
  },
  {
   "cell_type": "code",
   "execution_count": 87,
   "metadata": {},
   "outputs": [
    {
     "data": {
      "application/vnd.plotly.v1+json": {
       "config": {
        "plotlyServerURL": "https://plot.ly"
       },
       "data": [
        {
         "alignmentgroup": "True",
         "bingroup": "x",
         "hovertemplate": "company=%{x}<br>count=%{y}<extra></extra>",
         "legendgroup": "",
         "marker": {
          "color": "#636efa"
         },
         "name": "",
         "nbinsx": 50,
         "offsetgroup": "",
         "orientation": "v",
         "showlegend": false,
         "type": "histogram",
         "x": [
          "Esusu",
          "Fever Labs",
          "Minio",
          "Darwinbox",
          "Pentera",
          "Placer.ai",
          "CAIS",
          "Chief",
          "Ankorstore",
          "Unstoppable Domains",
          "SingleStore",
          "VulcanForms",
          "FourKites",
          "LeadSquared",
          "Vayyar",
          "JupiterOne",
          "Immuta",
          "CareBridge",
          "Glean",
          "Habi",
          "Remarkable",
          "Opn",
          "Polarium",
          "Open",
          "Taxfix",
          "Divergent 3D",
          "Factorial",
          "UPSIDE Foods",
          "Instabox",
          "NexHealth",
          "Oyster",
          "Genies",
          "Grover",
          "BostonGene",
          "LayerZero Labs",
          "Electric",
          "FLASH",
          "Tarana Wireless",
          "RapidAPI",
          "CommerceIQ",
          "Glia",
          "Amagi",
          "Aptos",
          "Gauntlet Networks",
          "Vendr",
          "Veev",
          "BlueVoyant",
          "Omada Health",
          "Scalapay",
          "Timescale",
          "Hasura",
          "CHEQ",
          "Axelar",
          "Watershed",
          "Payhawk",
          "Scandit",
          "Dune Analytics",
          "Betterfly",
          "Assent",
          "Fractal Analytics",
          "Zebec",
          "Perimeter 81",
          "TransferMate",
          "EcoVadis",
          "Turntide Technologies",
          "Paystand",
          "Satispay",
          "Vesttoo",
          "Stability AI",
          "Celestia",
          "LINE MAN Wongnai",
          "Flow",
          "Wheel",
          "Branch",
          "0x",
          "Cirkul",
          "Purplle",
          "Recover",
          "PhysicsWallah",
          "Material Security",
          "Imply Data",
          "Teleport",
          "IntelyCare",
          "Staffbase",
          "Beyond Identity",
          "eSentire",
          "LEAD School",
          "Nowports",
          "Caribou",
          "Flexe",
          "Wasabi",
          "Invoca",
          "Visby Medical",
          "DANA",
          "Happy Money",
          "SOURCE Global",
          "Swiftly",
          "Spectrum Medical",
          "stori",
          "Unit",
          "Viz.ai",
          "Choco",
          "Nova Labs",
          "Xpressbees",
          "LivSpace",
          "Phantom",
          "BigPanda",
          "SeekOut",
          "Zip",
          "Kallyope",
          "Insider",
          "SeatGeek",
          "ClassDojo",
          "airSlate",
          "Talos",
          "CaptivateIQ",
          "Route",
          "Flipdish",
          "JMGO",
          "Greater Bay Technology",
          "Equashield",
          "Optibus",
          "Biofourmis",
          "Clipboard Health",
          "Island",
          "LinkTree",
          "CredAvenue",
          "Loadsmart",
          "CoinTracker",
          "Domestika",
          "iTrustCapital",
          "TravelPerk",
          "Lukka",
          "Shiprocket",
          "Athletic Greens",
          "RIDI",
          "Jaguar Microsystems",
          "Epirus",
          "Movable Ink",
          "Neon",
          "Nimble Rx",
          "Tripledot",
          "Salt Security",
          "OneCard",
          "Paddle",
          "Bucketplace",
          "Clarify Health",
          "Firebolt",
          "SparkCognition",
          "Deliverect",
          "Envoy",
          "Aleo",
          "Arcadia",
          "5ire",
          "Dock",
          "Mashgin",
          "Upside",
          "Boba",
          "Fabric",
          "Temporal",
          "ElasticRun",
          "Athelas",
          "Veriff",
          "Spendesk",
          "Il Makiage",
          "StoreDot",
          "Orna Therapeutics",
          "Jasper",
          "Kushki",
          "Gokin Solar",
          "Fresh Life Style Supply Chain Management",
          "ICON 3D",
          "Pave",
          "Magic Eden",
          "Vanta",
          "Nord Security",
          "Capitolis",
          "Wayflyer",
          "Cresta",
          "Monte Carlo",
          "DealShare",
          "Transcarent",
          "Incredible Health",
          "Optimism",
          "Spotter",
          "Productboard",
          "FinAccel",
          "Uniswap",
          "Tessera Therapeutics",
          "Redesign Health",
          "Front",
          "Multiverse",
          "Pax8",
          "AlphaSense",
          "Crusoe",
          "MEGAZONE",
          "Volocopter",
          "Material Bank",
          "ConcertAI",
          "thatgamecompany",
          "Roofstock",
          "Acorns",
          "ZigBang",
          "21.co",
          "Rimac Automobili",
          "Hugging Face",
          "ROX Motor",
          "CertiK",
          "Salsify",
          "Cloudinary",
          "Akulaku",
          "Exotec",
          "PayFit",
          "Mysten Labs",
          "Babel Finance",
          "Jeeves",
          "GoCardless",
          "Accelerant",
          "BloomReach",
          "G7 Networks",
          "Newfront Insurance",
          "Beta Technologies",
          "Coda Payments",
          "Games24x7",
          "SiFive",
          "A24 Films",
          "Immutable",
          "Somatus",
          "Uniphore",
          "Oura",
          "BackBase",
          "Tridge",
          "Hozon Auto",
          "Cross River Bank",
          "Inxeption",
          "Eikon Therapeutics",
          "Ironclad",
          "Autograph",
          "Abnormal Security",
          "Yuga Labs",
          "Globalization Partners",
          "SonarSource",
          "Qonto",
          "The Boring Company",
          "RELEX",
          "KuCoin",
          "Miro",
          "DataStax",
          "solarisBank",
          "Sorare",
          "ONE",
          "InFarm",
          "Kopi Kenangan",
          "Haomao.AI",
          "VOI",
          "Rothy's",
          "Noname Security",
          "Cadence",
          "SnapLogic",
          "SellerX",
          "Lydia",
          "Nature's Fynd",
          "Pet Circle",
          "ReliaQuest",
          "Iodine Software",
          "Anyscale",
          "YipitData",
          "Clara",
          "Lessen",
          "NoBroker",
          "Expel",
          "Owkin",
          "Stytch",
          "PLACE",
          "Heyday",
          "Mensa Brands",
          "Gaussian Robotics",
          "Wrapbook",
          "Contrast Security",
          "OpenWeb",
          "IGAWorks",
          "Razor",
          "Drata",
          "Vagaro",
          "Tezign",
          "Moka",
          "Augury",
          "Fabric",
          "CargoX",
          "Dental Monitoring",
          "Zopa",
          "Weights & Biases",
          "MobiKwik",
          "Swile",
          "Savage X Fenty",
          "Solo.io",
          "Chronosphere",
          "Masterworks",
          "Licious",
          "Ajaib",
          "TrialSpark",
          "Vedantu",
          "Ninja Van",
          "HAYDON",
          "Keenon Robotics",
          "PandaDoc",
          "Assembly",
          "TrueLayer",
          "Xendit",
          "Orchard",
          "Mammoth Biosciences",
          "GrubMarket",
          "Agile Robots",
          "Berlin Brands Group",
          "Cider",
          "1KMXC",
          "PicsArt",
          "Shield AI",
          "Dunamu",
          "Maven Clinic",
          "Gelato",
          "Snorkel AI",
          "Freshbooks",
          "Bluecore",
          "Human Interest",
          "NIUM",
          "BlackBuck",
          "Interos",
          "GO1",
          "Carson Group",
          "dMed Biopharmaceutical",
          "Xiaobing",
          "Pantheon Systems",
          "Amperity",
          "MobileCoin",
          "ShipBob",
          "Visier",
          "Morning Consult",
          "SmartAsset",
          "Worldcoin",
          "Aircall",
          "JoyTunes",
          "Claroty",
          "Bringg",
          "Xiaoe Tech",
          "Tractable",
          "Carro",
          "EcoFlow",
          "LetsGetChecked",
          "Thirty Madison",
          "Shippo",
          "Matrixport",
          "Printful",
          "Vise",
          "Amount",
          "Axtria",
          "Forte Labs",
          "Zihaiguo",
          "TensTorrent",
          "Shift Technology",
          "Firefly Aerospace",
          "XForcePlus",
          "Mux",
          "Inari",
          "MOLOCO",
          "Capsule",
          "SaltPay",
          "Sift",
          "Injective Protocol",
          "Fiture",
          "Groq",
          "Clearcover",
          "The Zebra",
          "Hyperchain",
          "Cameo",
          "Yunxuetang",
          "Feedzai",
          "Sidecar Health",
          "Evidation",
          "PatSnap",
          "Aqua Security",
          "Newsela",
          "Skydio",
          "WeBull",
          "Standard",
          "Locus Robotics",
          "Axiom Space",
          "Flash Express",
          "Splashtop",
          "PPRO",
          "MadeiraMadeira",
          "News Break",
          "Quantum Metric",
          "Ample",
          "Mixpanel",
          "Density",
          "Sendbird",
          "Mamaearth",
          "56PINGTAI",
          "UISEE Technology",
          "GlobalBees",
          "Turing",
          "Fundbox",
          "The Bank of London",
          "Daily Harvest",
          "Acko General Insurance",
          "Enpal",
          "Karat",
          "apna",
          "Carousell",
          "People.ai",
          "Hailo",
          "G2",
          "Qingting FM",
          "Sunbit",
          "Rightway",
          "Zego",
          "Nexthink",
          "Sennder",
          "At-Bay",
          "Elemy",
          "Rebellion Defense",
          "Guideline",
          "IRL",
          "Modern Health",
          "CloudBees",
          "Merama",
          "Jokr",
          "Pristyn Care",
          "AgentSync",
          "MyGlamm",
          "CarDekho",
          "Gem",
          "Copado",
          "Offchain Labs",
          "Oda",
          "DailyPay",
          "MindTickle",
          "FloQast",
          "Prime Medicine",
          "Rohlik Group",
          "SmartMore",
          "Alation",
          "Ada Support",
          "Vectra Networks",
          "Cava Group",
          "Aibee",
          "Pilot.com",
          "Pipa Coding",
          "Public",
          "Tealium",
          "Spiber",
          "inDriver",
          "Nexii",
          "EQRx",
          "Shulan Health",
          "Enflame",
          "Tackle.io",
          "Incode Technologies",
          "Mythical Games",
          "Honor Technology",
          "Marshmallow",
          "Huisuanzhang",
          "STORD",
          "TUNGEE",
          "YugaByte",
          "Flock Freight",
          "Betterment",
          "Konfio",
          "DistroKid",
          "TalkingData",
          "Motorway",
          "Signifyd",
          "Yaoshibang",
          "Panther Labs",
          "VideoAmp",
          "Scalable Capital",
          "Astranis Space Technologies",
          "Degreed",
          "GupShup",
          "Phenom People",
          "Rad Power Bikes",
          "Stash",
          "Five Star Business Finance",
          "Coda",
          "Rebel Foods",
          "Yotpo",
          "Epidemic Sound",
          "Figment",
          "Papa",
          "SonderMind",
          "Valgen Medtech",
          "Einride",
          "M1",
          "Shukun Technology",
          "Prometheus",
          "Zeta",
          "Veho",
          "Airbyte",
          "Paradox",
          "Olist",
          "Solugen",
          "CureFit",
          "Lusha",
          "CoinList",
          "candy.com",
          "Built",
          "Andela",
          "Ascend Money",
          "Persona",
          "Matillion",
          "1047 Games",
          "Pacaso",
          "TaxBit",
          "Culture Amp",
          "NotCo",
          "SmartRecruiters",
          "impact.com",
          "YunQuNa",
          "Next Silicon",
          "Ledger",
          "Chipper Cash",
          "Snapdocs",
          "ID.me",
          "Uplight",
          "K Health",
          "bolttech",
          "Loom",
          "Kitopi",
          "Wenheyou",
          "Iluvatar CoreX",
          "Alloy",
          "Truepill",
          "HomeLight",
          "Mercury",
          "SmartHR",
          "ASAPP",
          "Cognite",
          "Generate Biomedicines",
          "Extend",
          "SafetyCulture",
          "Clio",
          "Tonal",
          "Clari",
          "Carsome",
          "ZenBusiness",
          "H2O.ai",
          "Reltio",
          "Dragos",
          "Vestiaire Collective",
          "Wave",
          "CircleCI",
          "Unite Us",
          "DispatchHealth",
          "Orca Security",
          "Spinny",
          "Trulioo",
          "Cambrian BioPharma",
          "Slice",
          "Opentrons",
          "FullStory",
          "Diamond Foundry",
          "CFGI",
          "CoinSwitch Kuber",
          "Aledade",
          "MX Technologies",
          "Rokt",
          "Fenbi Education",
          "Devo Technology",
          "UpGrad",
          "Lunar",
          "Dremio",
          "LTK",
          "SWORD Health",
          "Netlify",
          "StarkWare",
          "VerbIT",
          "Zilch",
          "Mynt",
          "ClickHouse",
          "Tier",
          "Modern Treasury",
          "Advance Intelligence Group",
          "Black Sesame Technologies",
          "Spring Health",
          "Misfits Market",
          "Aviatrix",
          "Opay",
          "Divvy Homes",
          "XtalPi",
          "MURAL",
          "Clip",
          "Bunq",
          "Iterable",
          "Pipe",
          "Beisen",
          "Ethos",
          "Kajabi",
          "KRY",
          "Hive",
          "Clearco",
          "Guoquan Shihui",
          "Earnix",
          "Forto",
          "Medable",
          "Moveworks",
          "ReCharge",
          "Urban Company",
          "CoinDCX",
          "CloudWalk",
          "Neo4j",
          "Addepar",
          "Motif FoodWorks",
          "Bitso",
          "Current",
          "Pattern",
          "Algolia",
          "MoMo",
          "Odoo",
          "Bowery Farming",
          "Jobandtalent",
          "ManyPets",
          "Project44",
          "HoneyBook",
          "ABL Space Systems",
          "BitSight Technologies",
          "Exabeam",
          "Paxos",
          "Star Charge",
          "Mobile Premier League",
          "Uala",
          "Hibob",
          "DriveNets",
          "Fetch Rewards",
          "Zetwerk",
          "Sysdig",
          "Vercel",
          "Aura",
          "Varo Bank",
          "Infra.Market",
          "Side",
          "Cribl",
          "Unico",
          "JumpCloud",
          "Axonius",
          "Moglix",
          "Plume",
          "Sourcegraph",
          "ManoMano",
          "Thought Machine",
          "Nextiva",
          "Transmit Security",
          "Dream Games",
          "MasterClass",
          "Alan",
          "Flink",
          "DriveWealth",
          "BharatPe",
          "Sentry",
          "Remote",
          "Amber Group",
          "Flutterwave",
          "Lattice",
          "Anchorage Digital",
          "Groww",
          "TradingView",
          "Outschool",
          "Sky Mavis",
          "Gorillas",
          "Grafana Labs",
          "LaunchDarkly",
          "Contentful",
          "Carbon Health",
          "Lucid Software",
          "ActiveCampaign",
          "BlockFi",
          "Calendly",
          "Nuvemshop",
          "PsiQuantum",
          "Retool",
          "Skims",
          "Innovaccer",
          "Blockstream",
          "Eruditus Executive Education",
          "Cedar",
          "Aiven",
          "BlockDaemon",
          "Kurly",
          "Starling Bank",
          "Starburst",
          "OwnBackup",
          "Upstox",
          "MoonPay",
          "Helion Energy",
          "Flock Safety",
          "ChargeBee Technologies",
          "Handshake",
          "Highspot",
          "GoStudent",
          "Celsius Network",
          "Commure",
          "Rec Room",
          "SpotOn",
          "Relativity",
          "Whatnot",
          "Harness",
          "Abogen",
          "Papaya Global",
          "Redwood Materials",
          "Noom",
          "Dutchie",
          "Articulate",
          "Digit Insurance",
          "Webflow",
          "Aurora Solar",
          "Vuori",
          "Melio",
          "BrowserStack",
          "Clubhouse",
          "Zapier",
          "PointClickCare",
          "CRED",
          "Weee!",
          "BitPanda",
          "SSENSE",
          "dbt Labs",
          "Socure",
          "Lendable",
          "Color",
          "Pleo",
          "BetterUp",
          "Chipone",
          "Reify Health",
          "Cerebral",
          "Meesho",
          "Coalition",
          "ShareChat",
          "Hopper",
          "Cockroach Labs",
          "OfBusiness",
          "ZEPZ",
          "SambaNova Systems",
          "Mambu",
          "Trade Republic",
          "ContentSquare",
          "Back Market",
          "Workato",
          "6Sense",
          "iCapital Network",
          "Wiz",
          "Benchling",
          "Black Unicorn Factory",
          "Hinge Health",
          "1Password",
          "ConsenSys",
          "Gemini",
          "Dapper Labs",
          "Caris Life Sciences",
          "FalconX",
          "Fireblocks",
          "Ramp",
          "Lacework",
          "Personio",
          "Digital Currency Group",
          "Weilong",
          "Alchemy",
          "Bolt",
          "ZongMu Technology",
          "Getir",
          "Deel",
          "GoodLeap",
          "OpenSea",
          "Blockchain.com",
          "J&T Express",
          "FTX",
          "Boom Supersonic",
          "Gousto",
          "Playco",
          "Zwift",
          "Infobip",
          "Orca Bio",
          "Quizlet",
          "Emerging Markets Property Group",
          "Hotmart",
          "Alto Pharmacy",
          "Pharmapacks",
          "Sisense",
          "Venafi",
          "Qumulo",
          "Workhuman",
          "BigID",
          "Manner",
          "Everly Health",
          "InSightec",
          "Alzheon",
          "Kong",
          "Justworks",
          "Gymshark",
          "Zenoti",
          "Strava",
          "GalaxySpace",
          "Everlaw",
          "Apeel Sciences",
          "ISN",
          "Virta Health",
          "Unqork",
          "Xingyun Group",
          "Redis Labs",
          "Keep",
          "AppsFlyer",
          "Eightfold.ai",
          "FirstCry",
          "Qualia",
          "Hesai Tech",
          "Dialpad",
          "Greenlight",
          "Voodoo",
          "Biren Technology",
          "Freenome",
          "Trumid",
          "EquipmentShare",
          "Cato Networks",
          "o9 Solutions",
          "Loft",
          "Via",
          "Podium",
          "Forter",
          "ApplyBoard",
          "HighRadius",
          "Verkada",
          "Cars24",
          "Komodo Health",
          "ECARX",
          "Unacademy",
          "Tekion",
          "Mirakl",
          "HyalRoute",
          "Course Hero",
          "Applied Intuition",
          "Whoop",
          "GOAT",
          "VAST Data",
          "MessageBird",
          "Farmers Business Network",
          "ClickUp",
          "Olive",
          "Patreon",
          "Skydance Media",
          "Relativity Space",
          "Arctic Wolf Networks",
          "WeRide",
          "Lyra Health",
          "Creditas",
          "VerSe Innovation(Dailyhunt)",
          "Pine Labs",
          "Moon Active",
          "Howden Group Holdings",
          "C6 Bank",
          "FiveTran",
          "Postman",
          "Cityblock Health",
          "Attentive",
          "Better.com",
          "Mollie",
          "National Stock Exchange of India",
          "SVOLT",
          "Ro",
          "Gong",
          "Razorpay",
          "Hopin",
          "Tipalti",
          "Chainalysis",
          "Snyk",
          "Kavak",
          "Klaviyo",
          "Thrasio",
          "Notion Labs",
          "Rippling",
          "Xingsheng Selected",
          "Yuanqi Senlin",
          "goPuff",
          "KK Group",
          "EBANX",
          "Numbrs",
          "C2FO",
          "Ibotta",
          "Meero",
          "Yanolja",
          "KnowBox",
          "SITECH DEV",
          "VTS",
          "Poizon",
          "Intellifusion",
          "Ynsect",
          "Globality",
          "Aprogen",
          "Instabase",
          "Rivigo",
          "Ivalua",
          "GetYourGuide",
          "TELD",
          "Yimidida",
          "Mininglamp Technology",
          "Glossier",
          "OVO Energy",
          "The Brandtech Group",
          "Tongdun Technology",
          "Away",
          "Ouyeel",
          "Bordrin Motors",
          "Yipin Shengxian",
          "Collective Health",
          "Carzone",
          "Baiwang",
          "ezCater",
          "Lightricks",
          "ENOVATE",
          "eDaili",
          "Trax",
          "SmartNews",
          "OCSiAl",
          "Loggi",
          "Kujiale",
          "Druva",
          "Mafengwo",
          "Kaseya",
          "Calm",
          "Huaqin Telecom Technology",
          "Gympass",
          "MUSINSA",
          "Motive",
          "PolicyBazaar",
          "Cybereason",
          "Pendo",
          "Zipline",
          "Workrise",
          "OpenAI",
          "Kraken",
          "CMR Surgical",
          "Wildlife Studios",
          "FlixMobility",
          "Scopely",
          "Sila Nanotechnologies",
          "Acronis",
          "StockX",
          "Next Insurance",
          "Impossible Foods",
          "Miaoshou Doctor",
          "Guild Education",
          "Outreach",
          "Lenskart",
          "wefox",
          "Vinted",
          "Checkr",
          "Dataiku",
          "Anduril",
          "Icertis",
          "Ola Electric Mobility",
          "WM Motor",
          "Horizon Robotics",
          "Airwallex",
          "QuintoAndar",
          "OneTrust",
          "Collibra",
          "DataRobot",
          "Doctolib",
          "Argo AI",
          "Scale AI",
          "Carta",
          "Dream11",
          "SumUp",
          "Nuro",
          "Rapyd",
          "Northvolt",
          "N26",
          "HEYTEA",
          "Lalamove",
          "Faire",
          "Grammarly",
          "Ripple",
          "Chime",
          "Databricks",
          "Checkout.com",
          "REEF Technology",
          "BitFury",
          "TERMINUS Technology",
          "Omio",
          "Hosjoy",
          "Momenta",
          "Tresata",
          "Banma Network Technologies",
          "FlashEx",
          "Wacai",
          "Pat McGrath Labs",
          "Movile",
          "MediaMath",
          "LinkDoc Technology",
          "China Cloud",
          "Huike Group",
          "HMD Global",
          "Dxy.cn",
          "Leap Motor",
          "OrCam Technologies",
          "Nxin",
          "Tuhu",
          "Fair",
          "WTOIP",
          "Intercom",
          "Unisound",
          "GPclub",
          "Klook",
          "DeepBlue Technology",
          "Hive Box",
          "Cabify",
          "Juma Peisong",
          "Coocaa",
          "Cambridge Mobile Telematics",
          "Yijiupi",
          "JOLLY Information Technology",
          "Cao Cao Mobility",
          "Jusfoun Big Data",
          "PAX",
          "Harry's",
          "AIWAYS",
          "Geek+",
          "4Paradigm",
          "Formlabs",
          "Preferred Networks",
          "YITU Technology",
          "NuCom Group",
          "Zume",
          "BYTON",
          "Xinchao Media",
          "Tradeshift",
          "Graphcore",
          "Seismic",
          "Zuoyebang",
          "Circle",
          "Udaan",
          "Youxia Motors",
          "Cohesity",
          "Convoy",
          "Medlinker",
          "Branch",
          "Cerebras Systems",
          "Radiology Partners",
          "Greensill",
          "Dataminr",
          "ThoughtSpot",
          "Monzo",
          "Toss",
          "Hello TransTech",
          "Rappi",
          "Easyhome",
          "Upgrade",
          "Ziroom",
          "Automation Anywhere",
          "Netskope",
          "Flexport",
          "Tempus",
          "Bolt",
          "Pony.ai",
          "OYO Rooms",
          "TripActions",
          "ServiceTitan",
          "OutSystems",
          "Talkdesk",
          "Swiggy",
          "Airtable",
          "Biosplice Therapeutics",
          "Bitmain Technologies",
          "Brex",
          "Devoted Health",
          "Celonis",
          "Plaid",
          "Discord",
          "Epic Games",
          "Revolut",
          "Canva",
          "SHEIN",
          "Maimai",
          "WeLab",
          "Revolution Precrafted",
          "YH Global",
          "Cell C",
          "DianRong",
          "Zhaogang",
          "Modernizing Medicine",
          "Zhuan Zhuan",
          "Mobvoi",
          "Radius Payment Solutions",
          "Luoji Siwei",
          "BrewDog",
          "Kuaikan Manhua",
          "HeartFlow",
          "Yidian Zixun",
          "Symphony",
          "XiaoZhu",
          "Changingedu",
          "DT Dream",
          "Ximalaya FM",
          "Afiniti",
          "InVision",
          "Quora",
          "Cgtz",
          "Vista Global",
          "Eat Just",
          "BGL Group",
          "SouChe Holdings",
          "Traveloka",
          "Improbable",
          "Indigo Ag",
          "Otto Bock HealthCare",
          "Rubrik",
          "MEGVII",
          "OakNorth Bank",
          "Niantic",
          "reddit",
          "JUUL Labs",
          "Yuanfudao",
          "BYJU's",
          "ByteDance",
          "Kendra Scott",
          "SMS Assist",
          "iCarbonX",
          "MindMaze",
          "OVH",
          "Juanpi",
          "L&P Cosmetic",
          "Yiguo",
          "Gett",
          "Mofang Living",
          "Promasidor Holdings",
          "HuiMin",
          "Meicai",
          "Age of Learning",
          "Dadi Cinema",
          "UBTECH Robotics",
          "VIPKid",
          "Lianjia",
          "Chehaoduo",
          "Global Switch",
          "Xiaohongshu",
          "iTutorGroup",
          "HuJiang",
          "Womai",
          "58 Daojia",
          "Mia.com",
          "Vox Media",
          "FXiaoKe",
          "JimuBox",
          "Lamabang",
          "BeiBei",
          "Red Ventures",
          "LinkSure Network",
          "Jiuxian",
          "AppDirect",
          "LifeMiles",
          "Flipboard",
          "TuJia",
          "Infinidat",
          "Zhubajie",
          "Apus Group",
          "ZocDoc",
          "BlaBlaCar",
          "Tubatu.com",
          "Uptake",
          "WEMAKEPRICE",
          "Carbon",
          "Illumio",
          "Yixia",
          "Thumbtack",
          "Royole Corporation",
          "We Doctor",
          "Tanium",
          "Gusto",
          "DJI Innovations",
          "InMobi",
          "TechStyle Fashion Group",
          "Snapdeal",
          "TangoMe",
          "Koudai",
          "Magic Leap",
          "Intarcia Therapeutics",
          "Yello Mobile",
          "Houzz",
          "Ola Cabs",
          "Instacart",
          "Stripe",
          "Lookout",
          "Mu Sigma",
          "Automattic",
          "Avant",
          "Trendy Group International",
          "Fanatics",
          "SpaceX",
          "Vice Media",
          "Klarna",
          "Veepee"
         ],
         "xaxis": "x",
         "yaxis": "y"
        }
       ],
       "layout": {
        "barmode": "relative",
        "legend": {
         "tracegroupgap": 0
        },
        "margin": {
         "t": 60
        },
        "template": {
         "data": {
          "bar": [
           {
            "error_x": {
             "color": "#2a3f5f"
            },
            "error_y": {
             "color": "#2a3f5f"
            },
            "marker": {
             "line": {
              "color": "#E5ECF6",
              "width": 0.5
             }
            },
            "type": "bar"
           }
          ],
          "barpolar": [
           {
            "marker": {
             "line": {
              "color": "#E5ECF6",
              "width": 0.5
             }
            },
            "type": "barpolar"
           }
          ],
          "carpet": [
           {
            "aaxis": {
             "endlinecolor": "#2a3f5f",
             "gridcolor": "white",
             "linecolor": "white",
             "minorgridcolor": "white",
             "startlinecolor": "#2a3f5f"
            },
            "baxis": {
             "endlinecolor": "#2a3f5f",
             "gridcolor": "white",
             "linecolor": "white",
             "minorgridcolor": "white",
             "startlinecolor": "#2a3f5f"
            },
            "type": "carpet"
           }
          ],
          "choropleth": [
           {
            "colorbar": {
             "outlinewidth": 0,
             "ticks": ""
            },
            "type": "choropleth"
           }
          ],
          "contour": [
           {
            "colorbar": {
             "outlinewidth": 0,
             "ticks": ""
            },
            "colorscale": [
             [
              0,
              "#0d0887"
             ],
             [
              0.1111111111111111,
              "#46039f"
             ],
             [
              0.2222222222222222,
              "#7201a8"
             ],
             [
              0.3333333333333333,
              "#9c179e"
             ],
             [
              0.4444444444444444,
              "#bd3786"
             ],
             [
              0.5555555555555556,
              "#d8576b"
             ],
             [
              0.6666666666666666,
              "#ed7953"
             ],
             [
              0.7777777777777778,
              "#fb9f3a"
             ],
             [
              0.8888888888888888,
              "#fdca26"
             ],
             [
              1,
              "#f0f921"
             ]
            ],
            "type": "contour"
           }
          ],
          "contourcarpet": [
           {
            "colorbar": {
             "outlinewidth": 0,
             "ticks": ""
            },
            "type": "contourcarpet"
           }
          ],
          "heatmap": [
           {
            "colorbar": {
             "outlinewidth": 0,
             "ticks": ""
            },
            "colorscale": [
             [
              0,
              "#0d0887"
             ],
             [
              0.1111111111111111,
              "#46039f"
             ],
             [
              0.2222222222222222,
              "#7201a8"
             ],
             [
              0.3333333333333333,
              "#9c179e"
             ],
             [
              0.4444444444444444,
              "#bd3786"
             ],
             [
              0.5555555555555556,
              "#d8576b"
             ],
             [
              0.6666666666666666,
              "#ed7953"
             ],
             [
              0.7777777777777778,
              "#fb9f3a"
             ],
             [
              0.8888888888888888,
              "#fdca26"
             ],
             [
              1,
              "#f0f921"
             ]
            ],
            "type": "heatmap"
           }
          ],
          "heatmapgl": [
           {
            "colorbar": {
             "outlinewidth": 0,
             "ticks": ""
            },
            "colorscale": [
             [
              0,
              "#0d0887"
             ],
             [
              0.1111111111111111,
              "#46039f"
             ],
             [
              0.2222222222222222,
              "#7201a8"
             ],
             [
              0.3333333333333333,
              "#9c179e"
             ],
             [
              0.4444444444444444,
              "#bd3786"
             ],
             [
              0.5555555555555556,
              "#d8576b"
             ],
             [
              0.6666666666666666,
              "#ed7953"
             ],
             [
              0.7777777777777778,
              "#fb9f3a"
             ],
             [
              0.8888888888888888,
              "#fdca26"
             ],
             [
              1,
              "#f0f921"
             ]
            ],
            "type": "heatmapgl"
           }
          ],
          "histogram": [
           {
            "marker": {
             "colorbar": {
              "outlinewidth": 0,
              "ticks": ""
             }
            },
            "type": "histogram"
           }
          ],
          "histogram2d": [
           {
            "colorbar": {
             "outlinewidth": 0,
             "ticks": ""
            },
            "colorscale": [
             [
              0,
              "#0d0887"
             ],
             [
              0.1111111111111111,
              "#46039f"
             ],
             [
              0.2222222222222222,
              "#7201a8"
             ],
             [
              0.3333333333333333,
              "#9c179e"
             ],
             [
              0.4444444444444444,
              "#bd3786"
             ],
             [
              0.5555555555555556,
              "#d8576b"
             ],
             [
              0.6666666666666666,
              "#ed7953"
             ],
             [
              0.7777777777777778,
              "#fb9f3a"
             ],
             [
              0.8888888888888888,
              "#fdca26"
             ],
             [
              1,
              "#f0f921"
             ]
            ],
            "type": "histogram2d"
           }
          ],
          "histogram2dcontour": [
           {
            "colorbar": {
             "outlinewidth": 0,
             "ticks": ""
            },
            "colorscale": [
             [
              0,
              "#0d0887"
             ],
             [
              0.1111111111111111,
              "#46039f"
             ],
             [
              0.2222222222222222,
              "#7201a8"
             ],
             [
              0.3333333333333333,
              "#9c179e"
             ],
             [
              0.4444444444444444,
              "#bd3786"
             ],
             [
              0.5555555555555556,
              "#d8576b"
             ],
             [
              0.6666666666666666,
              "#ed7953"
             ],
             [
              0.7777777777777778,
              "#fb9f3a"
             ],
             [
              0.8888888888888888,
              "#fdca26"
             ],
             [
              1,
              "#f0f921"
             ]
            ],
            "type": "histogram2dcontour"
           }
          ],
          "mesh3d": [
           {
            "colorbar": {
             "outlinewidth": 0,
             "ticks": ""
            },
            "type": "mesh3d"
           }
          ],
          "parcoords": [
           {
            "line": {
             "colorbar": {
              "outlinewidth": 0,
              "ticks": ""
             }
            },
            "type": "parcoords"
           }
          ],
          "pie": [
           {
            "automargin": true,
            "type": "pie"
           }
          ],
          "scatter": [
           {
            "marker": {
             "colorbar": {
              "outlinewidth": 0,
              "ticks": ""
             }
            },
            "type": "scatter"
           }
          ],
          "scatter3d": [
           {
            "line": {
             "colorbar": {
              "outlinewidth": 0,
              "ticks": ""
             }
            },
            "marker": {
             "colorbar": {
              "outlinewidth": 0,
              "ticks": ""
             }
            },
            "type": "scatter3d"
           }
          ],
          "scattercarpet": [
           {
            "marker": {
             "colorbar": {
              "outlinewidth": 0,
              "ticks": ""
             }
            },
            "type": "scattercarpet"
           }
          ],
          "scattergeo": [
           {
            "marker": {
             "colorbar": {
              "outlinewidth": 0,
              "ticks": ""
             }
            },
            "type": "scattergeo"
           }
          ],
          "scattergl": [
           {
            "marker": {
             "colorbar": {
              "outlinewidth": 0,
              "ticks": ""
             }
            },
            "type": "scattergl"
           }
          ],
          "scattermapbox": [
           {
            "marker": {
             "colorbar": {
              "outlinewidth": 0,
              "ticks": ""
             }
            },
            "type": "scattermapbox"
           }
          ],
          "scatterpolar": [
           {
            "marker": {
             "colorbar": {
              "outlinewidth": 0,
              "ticks": ""
             }
            },
            "type": "scatterpolar"
           }
          ],
          "scatterpolargl": [
           {
            "marker": {
             "colorbar": {
              "outlinewidth": 0,
              "ticks": ""
             }
            },
            "type": "scatterpolargl"
           }
          ],
          "scatterternary": [
           {
            "marker": {
             "colorbar": {
              "outlinewidth": 0,
              "ticks": ""
             }
            },
            "type": "scatterternary"
           }
          ],
          "surface": [
           {
            "colorbar": {
             "outlinewidth": 0,
             "ticks": ""
            },
            "colorscale": [
             [
              0,
              "#0d0887"
             ],
             [
              0.1111111111111111,
              "#46039f"
             ],
             [
              0.2222222222222222,
              "#7201a8"
             ],
             [
              0.3333333333333333,
              "#9c179e"
             ],
             [
              0.4444444444444444,
              "#bd3786"
             ],
             [
              0.5555555555555556,
              "#d8576b"
             ],
             [
              0.6666666666666666,
              "#ed7953"
             ],
             [
              0.7777777777777778,
              "#fb9f3a"
             ],
             [
              0.8888888888888888,
              "#fdca26"
             ],
             [
              1,
              "#f0f921"
             ]
            ],
            "type": "surface"
           }
          ],
          "table": [
           {
            "cells": {
             "fill": {
              "color": "#EBF0F8"
             },
             "line": {
              "color": "white"
             }
            },
            "header": {
             "fill": {
              "color": "#C8D4E3"
             },
             "line": {
              "color": "white"
             }
            },
            "type": "table"
           }
          ]
         },
         "layout": {
          "annotationdefaults": {
           "arrowcolor": "#2a3f5f",
           "arrowhead": 0,
           "arrowwidth": 1
          },
          "coloraxis": {
           "colorbar": {
            "outlinewidth": 0,
            "ticks": ""
           }
          },
          "colorscale": {
           "diverging": [
            [
             0,
             "#8e0152"
            ],
            [
             0.1,
             "#c51b7d"
            ],
            [
             0.2,
             "#de77ae"
            ],
            [
             0.3,
             "#f1b6da"
            ],
            [
             0.4,
             "#fde0ef"
            ],
            [
             0.5,
             "#f7f7f7"
            ],
            [
             0.6,
             "#e6f5d0"
            ],
            [
             0.7,
             "#b8e186"
            ],
            [
             0.8,
             "#7fbc41"
            ],
            [
             0.9,
             "#4d9221"
            ],
            [
             1,
             "#276419"
            ]
           ],
           "sequential": [
            [
             0,
             "#0d0887"
            ],
            [
             0.1111111111111111,
             "#46039f"
            ],
            [
             0.2222222222222222,
             "#7201a8"
            ],
            [
             0.3333333333333333,
             "#9c179e"
            ],
            [
             0.4444444444444444,
             "#bd3786"
            ],
            [
             0.5555555555555556,
             "#d8576b"
            ],
            [
             0.6666666666666666,
             "#ed7953"
            ],
            [
             0.7777777777777778,
             "#fb9f3a"
            ],
            [
             0.8888888888888888,
             "#fdca26"
            ],
            [
             1,
             "#f0f921"
            ]
           ],
           "sequentialminus": [
            [
             0,
             "#0d0887"
            ],
            [
             0.1111111111111111,
             "#46039f"
            ],
            [
             0.2222222222222222,
             "#7201a8"
            ],
            [
             0.3333333333333333,
             "#9c179e"
            ],
            [
             0.4444444444444444,
             "#bd3786"
            ],
            [
             0.5555555555555556,
             "#d8576b"
            ],
            [
             0.6666666666666666,
             "#ed7953"
            ],
            [
             0.7777777777777778,
             "#fb9f3a"
            ],
            [
             0.8888888888888888,
             "#fdca26"
            ],
            [
             1,
             "#f0f921"
            ]
           ]
          },
          "colorway": [
           "#636efa",
           "#EF553B",
           "#00cc96",
           "#ab63fa",
           "#FFA15A",
           "#19d3f3",
           "#FF6692",
           "#B6E880",
           "#FF97FF",
           "#FECB52"
          ],
          "font": {
           "color": "#2a3f5f"
          },
          "geo": {
           "bgcolor": "white",
           "lakecolor": "white",
           "landcolor": "#E5ECF6",
           "showlakes": true,
           "showland": true,
           "subunitcolor": "white"
          },
          "hoverlabel": {
           "align": "left"
          },
          "hovermode": "closest",
          "mapbox": {
           "style": "light"
          },
          "paper_bgcolor": "white",
          "plot_bgcolor": "#E5ECF6",
          "polar": {
           "angularaxis": {
            "gridcolor": "white",
            "linecolor": "white",
            "ticks": ""
           },
           "bgcolor": "#E5ECF6",
           "radialaxis": {
            "gridcolor": "white",
            "linecolor": "white",
            "ticks": ""
           }
          },
          "scene": {
           "xaxis": {
            "backgroundcolor": "#E5ECF6",
            "gridcolor": "white",
            "gridwidth": 2,
            "linecolor": "white",
            "showbackground": true,
            "ticks": "",
            "zerolinecolor": "white"
           },
           "yaxis": {
            "backgroundcolor": "#E5ECF6",
            "gridcolor": "white",
            "gridwidth": 2,
            "linecolor": "white",
            "showbackground": true,
            "ticks": "",
            "zerolinecolor": "white"
           },
           "zaxis": {
            "backgroundcolor": "#E5ECF6",
            "gridcolor": "white",
            "gridwidth": 2,
            "linecolor": "white",
            "showbackground": true,
            "ticks": "",
            "zerolinecolor": "white"
           }
          },
          "shapedefaults": {
           "line": {
            "color": "#2a3f5f"
           }
          },
          "ternary": {
           "aaxis": {
            "gridcolor": "white",
            "linecolor": "white",
            "ticks": ""
           },
           "baxis": {
            "gridcolor": "white",
            "linecolor": "white",
            "ticks": ""
           },
           "bgcolor": "#E5ECF6",
           "caxis": {
            "gridcolor": "white",
            "linecolor": "white",
            "ticks": ""
           }
          },
          "title": {
           "x": 0.05
          },
          "xaxis": {
           "automargin": true,
           "gridcolor": "white",
           "linecolor": "white",
           "ticks": "",
           "title": {
            "standoff": 15
           },
           "zerolinecolor": "white",
           "zerolinewidth": 2
          },
          "yaxis": {
           "automargin": true,
           "gridcolor": "white",
           "linecolor": "white",
           "ticks": "",
           "title": {
            "standoff": 15
           },
           "zerolinecolor": "white",
           "zerolinewidth": 2
          }
         }
        },
        "xaxis": {
         "anchor": "y",
         "categoryorder": "total descending",
         "domain": [
          0,
          1
         ],
         "title": {
          "text": "company"
         }
        },
        "yaxis": {
         "anchor": "x",
         "domain": [
          0,
          1
         ],
         "title": {
          "text": "count"
         }
        }
       }
      }
     },
     "metadata": {},
     "output_type": "display_data"
    },
    {
     "data": {
      "application/vnd.plotly.v1+json": {
       "config": {
        "plotlyServerURL": "https://plot.ly"
       },
       "data": [
        {
         "alignmentgroup": "True",
         "bingroup": "x",
         "hovertemplate": "last_val=%{x}<br>count=%{y}<extra></extra>",
         "legendgroup": "",
         "marker": {
          "color": "#636efa"
         },
         "name": "",
         "nbinsx": 50,
         "offsetgroup": "",
         "orientation": "v",
         "showlegend": false,
         "type": "histogram",
         "x": [
          1,
          1,
          1,
          1,
          1,
          1,
          1.1,
          1.1,
          1.98,
          1,
          1,
          1,
          1,
          1,
          1,
          1,
          1,
          1,
          1,
          1,
          1,
          1,
          1,
          1,
          1,
          1,
          1,
          1,
          1,
          1,
          1,
          1,
          1,
          1,
          1,
          1,
          1,
          1,
          1,
          1,
          1,
          1,
          1,
          1,
          1,
          1,
          1,
          1,
          1,
          1,
          1,
          1,
          1,
          1,
          1,
          1,
          1,
          1,
          1,
          1,
          1,
          1,
          1,
          1,
          1,
          1,
          1,
          1,
          1,
          1,
          1,
          1,
          1.01,
          1.05,
          1.05,
          1.07,
          1.1,
          1.1,
          1.1,
          1.1,
          1.1,
          1.1,
          1.1,
          1.1,
          1.1,
          1.1,
          1.1,
          1.1,
          1.1,
          1,
          1.1,
          1.1,
          1.12,
          1.13,
          1.15,
          1.16,
          1.2,
          1.2,
          1.2,
          1.2,
          1.2,
          1.2,
          1.2,
          1.2,
          1.2,
          1.2,
          1.2,
          1.2,
          1.2,
          1.22,
          1.22,
          1.24,
          1.25,
          1.25,
          1.25,
          1.25,
          1.25,
          1.25,
          1.26,
          1.26,
          1.3,
          1.3,
          1.3,
          1.3,
          1.3,
          1.3,
          1.3,
          1.3,
          1.3,
          1.3,
          1.3,
          1.3,
          1.3,
          1.3,
          1.32,
          1.33,
          1.34,
          1.35,
          1.36,
          1.38,
          1.4,
          1.4,
          1.4,
          1.4,
          1.4,
          1.4,
          1.4,
          1.4,
          1.4,
          1.4,
          1.4,
          1.45,
          1.48,
          1.5,
          1.5,
          1.5,
          1.5,
          1.5,
          1.5,
          1.5,
          1.5,
          1.5,
          1.5,
          1.5,
          1.5,
          1.5,
          1.5,
          1.5,
          1.5,
          1.51,
          1.57,
          1.57,
          1.6,
          1.6,
          1.6,
          1.6,
          1.6,
          1.6,
          1.6,
          1.6,
          1.7,
          1.62,
          1.65,
          1.65,
          1.7,
          1.7,
          1.66,
          1.66,
          1.69,
          1.7,
          1.7,
          1.7,
          1.7,
          1.7,
          1.75,
          1.83,
          1.87,
          1.9,
          1.9,
          1.94,
          1.94,
          1.9,
          1.93,
          2,
          2,
          2,
          2,
          2,
          2,
          2,
          2,
          2,
          2.1,
          2,
          2,
          2.1,
          2.1,
          2.19,
          2.2,
          2.2,
          2.2,
          2.4,
          2.5,
          2.5,
          2.5,
          2.5,
          2.5,
          2.5,
          2.5,
          2.55,
          2.66,
          2.7,
          3.95,
          3,
          3,
          3.2,
          3.2,
          3.66,
          4,
          4,
          4.2,
          4.7,
          5,
          5.7,
          5.7,
          10,
          17.5,
          1.6,
          1.65,
          4.3,
          1,
          1,
          1,
          1,
          1,
          1,
          1,
          1,
          1,
          1,
          1,
          1,
          1,
          1,
          1,
          1,
          1,
          1,
          1,
          1,
          1,
          1,
          1,
          1,
          1,
          1,
          1.1,
          1,
          1,
          1,
          1,
          1,
          1,
          1,
          1,
          1,
          1,
          1,
          1,
          1,
          1,
          1,
          1,
          1,
          1,
          1,
          1,
          1,
          1,
          1,
          1,
          1,
          1,
          1,
          1,
          1,
          1,
          1,
          1,
          1,
          1,
          1.2,
          1,
          1,
          1,
          1,
          1,
          1,
          1,
          1,
          1,
          1,
          1,
          1,
          1,
          1,
          1,
          1,
          1,
          1,
          1,
          1,
          1,
          1,
          1.06,
          1,
          1,
          1,
          1,
          1,
          1,
          1,
          1,
          1,
          1,
          1,
          1,
          1,
          1,
          1,
          1,
          1.05,
          1,
          1,
          1,
          1,
          1.73,
          1,
          1,
          1,
          1.1,
          1,
          1,
          1.5,
          1.5,
          1,
          1,
          1,
          1,
          1,
          1,
          1,
          1,
          1,
          1,
          1,
          1,
          1,
          1,
          1,
          1,
          1,
          1,
          1,
          1,
          1,
          1,
          1,
          1,
          1,
          1,
          1,
          1,
          1.02,
          1.05,
          1.05,
          1.05,
          1.07,
          1.08,
          1.08,
          1.1,
          1.1,
          1.1,
          1.1,
          1.1,
          1.1,
          1.1,
          1.1,
          1.1,
          1.1,
          1.1,
          1,
          1.1,
          1.1,
          1.1,
          1.1,
          1.1,
          1.1,
          1.1,
          1.12,
          1.15,
          1.15,
          1.15,
          1.17,
          1.17,
          1.15,
          1.2,
          1.2,
          1.4,
          1.2,
          1.2,
          1.2,
          1.2,
          1.2,
          1.2,
          1.2,
          1.2,
          1.2,
          1.2,
          1.2,
          1.2,
          1.2,
          1.2,
          1.2,
          1.2,
          1.3,
          1,
          1.2,
          1.2,
          1.2,
          1.2,
          1.22,
          1.23,
          1.23,
          1.23,
          1.24,
          1.24,
          1.25,
          1.25,
          1.25,
          1.25,
          1.25,
          1.28,
          1.3,
          1.3,
          1.3,
          1.3,
          1.3,
          1.3,
          1.3,
          1.3,
          1.33,
          1.34,
          1.35,
          1.4,
          1.4,
          1.4,
          1.4,
          1.4,
          1.4,
          1.4,
          1.4,
          1.4,
          1.4,
          1.4,
          1.4,
          1.4,
          1.4,
          1.4,
          1.4,
          1.42,
          1.43,
          1.44,
          1.45,
          1.46,
          1.5,
          1.5,
          1.5,
          1.5,
          1.5,
          1.5,
          1.5,
          1.5,
          1.5,
          1.5,
          1.5,
          1.5,
          1.5,
          1.5,
          1.5,
          1.5,
          1.5,
          1.5,
          1.5,
          1.5,
          1.5,
          1.5,
          1.5,
          1.5,
          1.5,
          1.5,
          2,
          1.5,
          1.5,
          1.5,
          1.5,
          1.5,
          1.53,
          1.55,
          1.55,
          1.55,
          1.55,
          1.6,
          1.7,
          1.6,
          1.6,
          1.6,
          1.5,
          1.36,
          1.36,
          1.6,
          1.6,
          1.6,
          2.6,
          1.7,
          1.7,
          1.7,
          1.7,
          1.7,
          1.7,
          1.7,
          1.7,
          1.6,
          1.7,
          1.8,
          1.75,
          1.75,
          1.79,
          1.8,
          1.8,
          1.8,
          1.8,
          1.85,
          1.9,
          1.9,
          1.9,
          1.95,
          1.95,
          2,
          2.25,
          2,
          2,
          2,
          2,
          2,
          8,
          2,
          2,
          2,
          2,
          2,
          2,
          2,
          2,
          2,
          2,
          2,
          2,
          2,
          2,
          2,
          2,
          2,
          2,
          2,
          2,
          2.7,
          2,
          2,
          2,
          2,
          2,
          2,
          2.1,
          2.1,
          2.1,
          2.1,
          2.1,
          2.15,
          2.15,
          2,
          2.17,
          2.2,
          2.2,
          2.2,
          2.25,
          2.25,
          2.27,
          2.3,
          2.3,
          2.35,
          2.35,
          2.62,
          2.4,
          2.4,
          2.4,
          2.4,
          2.4,
          2.41,
          2.45,
          2.45,
          2.45,
          2.5,
          2.5,
          2.68,
          2.5,
          2.5,
          2.5,
          2.5,
          2.5,
          2.5,
          2.5,
          2.6,
          2.62,
          2.6,
          2.6,
          2.6,
          2.62,
          2.6,
          2.7,
          2.7,
          2.74,
          2.75,
          2.75,
          2.85,
          2.85,
          2.85,
          2.85,
          3,
          3,
          3,
          3,
          3,
          3,
          3,
          3,
          3,
          3,
          3.1,
          3,
          3,
          3,
          3,
          3,
          3,
          3,
          3,
          3.1,
          3.15,
          3.2,
          3.2,
          3.2,
          3.2,
          3.2,
          3.2,
          3.21,
          3.25,
          3.3,
          3.34,
          3.35,
          3.35,
          3.4,
          3.4,
          3.5,
          3.5,
          3.5,
          3.5,
          3.5,
          3.5,
          3.5,
          3.5,
          3.5,
          3.6,
          3.6,
          3.7,
          3.7,
          3.7,
          3.7,
          3.7,
          3.7,
          3.75,
          3.75,
          4,
          4,
          4,
          4,
          4,
          4,
          4,
          4,
          4,
          4.01,
          4.1,
          4.11,
          4.15,
          4.2,
          4.5,
          4.58,
          4.6,
          4.7,
          4.7,
          4.73,
          4.8,
          4.8,
          4.9,
          5,
          5,
          5,
          5,
          5,
          5,
          5,
          5.5,
          5.36,
          5.6,
          5.7,
          5.7,
          5.2,
          6,
          6,
          6.1,
          6.1,
          6.2,
          6.8,
          7,
          7.1,
          7.6,
          7.83,
          8,
          8,
          8.1,
          8.3,
          8.5,
          10,
          10.88,
          10.2,
          11,
          11.4,
          11.8,
          12,
          12,
          13.3,
          14,
          20,
          32,
          1,
          1.7,
          1,
          1,
          1,
          1,
          1,
          1,
          1,
          1,
          1.1,
          1.1,
          1.15,
          1.2,
          1.2,
          1.25,
          1.3,
          1.3,
          1.3,
          1.31,
          1.4,
          1.43,
          1.45,
          1.5,
          1.5,
          1.58,
          2,
          2,
          2,
          2,
          2,
          2,
          2,
          2,
          2,
          2.1,
          2.1,
          2.17,
          2.18,
          2.2,
          2.3,
          2.31,
          2.32,
          2.62,
          2.4,
          2.41,
          2.5,
          2.7,
          2.9,
          3.3,
          3,
          3,
          3.2,
          3.1,
          3.2,
          3.3,
          3.3,
          3.31,
          3.44,
          3.5,
          3.5,
          3.5,
          3.6,
          3.6,
          3.6,
          3.7,
          3.7,
          3.8,
          4,
          4,
          4,
          4,
          4,
          4.2,
          4.3,
          4.4,
          5.85,
          4.8,
          5,
          5,
          5,
          5,
          5.05,
          5.6,
          5.6,
          5.7,
          5.99,
          6,
          6.5,
          6.5,
          6.51,
          7,
          7.25,
          7.5,
          7.75,
          8.3,
          8.6,
          8.6,
          8.7,
          9.2,
          10,
          10,
          11.25,
          12,
          15,
          15,
          3,
          1,
          1,
          1,
          1,
          1,
          1,
          1,
          1,
          1,
          1,
          1,
          1,
          1,
          1.04,
          1.05,
          1.07,
          1.1,
          1.1,
          1.12,
          1.17,
          1.19,
          1.65,
          1.28,
          1.3,
          1.32,
          1.4,
          1.45,
          1.48,
          1.49,
          1.5,
          1.52,
          1.55,
          1.6,
          1.8,
          1.85,
          1.9,
          2,
          2,
          2,
          2,
          2,
          2,
          2,
          2,
          2,
          2.19,
          2.2,
          2.2,
          2.85,
          2.4,
          2.44,
          2.6,
          2.8,
          2.9,
          2.92,
          2.92,
          3,
          3,
          3,
          3.3,
          3.3,
          3.5,
          3.8,
          4,
          4,
          4.25,
          4.4,
          4.4,
          4.5,
          4.5,
          4.53,
          4.6,
          4.6,
          4.6,
          5,
          5,
          5,
          5,
          5.5,
          5.1,
          5.1,
          5.25,
          6.3,
          6.4,
          7.25,
          7.3,
          7.4,
          8,
          8.5,
          8.6,
          8.75,
          9.08,
          9.23,
          9.28,
          10,
          12.59,
          13,
          15,
          25,
          38,
          40,
          1,
          1,
          1,
          1,
          1,
          1,
          1,
          1,
          1,
          1,
          1,
          1,
          1,
          1,
          1,
          1,
          1,
          1,
          1.01,
          1.03,
          1.08,
          1.16,
          1.2,
          1.27,
          1.28,
          1.31,
          1.32,
          1.35,
          1.35,
          1.4,
          1.4,
          1.45,
          1.45,
          1.5,
          1.5,
          1.5,
          1.6,
          1.62,
          1.7,
          1.7,
          1.78,
          2,
          2,
          2,
          2,
          2.17,
          2.2,
          2.25,
          2.5,
          2,
          2.7,
          2.77,
          3,
          3,
          3,
          3.1,
          3.35,
          3.7,
          3.8,
          3.92,
          4,
          4,
          4,
          4,
          4.1,
          4.2,
          4.5,
          6.38,
          5,
          5.25,
          5.78,
          6.28,
          6.6,
          6.8,
          7.5,
          8,
          8.1,
          8.4,
          8.5,
          9,
          9.2,
          9.5,
          9.5,
          10,
          10.7,
          11.7,
          12,
          12,
          12.3,
          12.6,
          13,
          13.5,
          15,
          31.5,
          33,
          40,
          100,
          1,
          1,
          1,
          1,
          1,
          1,
          1,
          1,
          1,
          1,
          1.07,
          1.18,
          1.24,
          1.25,
          1.3,
          1.4,
          1.4,
          1.5,
          1.5,
          1.5,
          1.52,
          1.6,
          1.9,
          2,
          2.41,
          2.5,
          2.59,
          3,
          3,
          3,
          3.36,
          3.5,
          3.52,
          4,
          4,
          5,
          9,
          10,
          12,
          15.5,
          22,
          140,
          1,
          1,
          1,
          1,
          1.1,
          1.1,
          1.19,
          1.2,
          1.5,
          1.5,
          1.59,
          2,
          2.8,
          3,
          3.24,
          4.58,
          4.5,
          5.77,
          10,
          11.1,
          20,
          1,
          1,
          1,
          1,
          1,
          1,
          1,
          1,
          1,
          1,
          1,
          1,
          1.05,
          1.1,
          1.15,
          1.32,
          1.5,
          1.6,
          1.61,
          1.73,
          1.8,
          2,
          2,
          2.3,
          2.34,
          2.4,
          2.75,
          3,
          3.2,
          6,
          7,
          9,
          10,
          15,
          1,
          1,
          1,
          1.1,
          1.4,
          2,
          3.8,
          4,
          4,
          7.5,
          39,
          95,
          1,
          1.5,
          7.5,
          2,
          2,
          27,
          127,
          5.7,
          6.7,
          1.38
         ],
         "xaxis": "x",
         "yaxis": "y"
        }
       ],
       "layout": {
        "barmode": "relative",
        "legend": {
         "tracegroupgap": 0
        },
        "margin": {
         "t": 60
        },
        "template": {
         "data": {
          "bar": [
           {
            "error_x": {
             "color": "#2a3f5f"
            },
            "error_y": {
             "color": "#2a3f5f"
            },
            "marker": {
             "line": {
              "color": "#E5ECF6",
              "width": 0.5
             }
            },
            "type": "bar"
           }
          ],
          "barpolar": [
           {
            "marker": {
             "line": {
              "color": "#E5ECF6",
              "width": 0.5
             }
            },
            "type": "barpolar"
           }
          ],
          "carpet": [
           {
            "aaxis": {
             "endlinecolor": "#2a3f5f",
             "gridcolor": "white",
             "linecolor": "white",
             "minorgridcolor": "white",
             "startlinecolor": "#2a3f5f"
            },
            "baxis": {
             "endlinecolor": "#2a3f5f",
             "gridcolor": "white",
             "linecolor": "white",
             "minorgridcolor": "white",
             "startlinecolor": "#2a3f5f"
            },
            "type": "carpet"
           }
          ],
          "choropleth": [
           {
            "colorbar": {
             "outlinewidth": 0,
             "ticks": ""
            },
            "type": "choropleth"
           }
          ],
          "contour": [
           {
            "colorbar": {
             "outlinewidth": 0,
             "ticks": ""
            },
            "colorscale": [
             [
              0,
              "#0d0887"
             ],
             [
              0.1111111111111111,
              "#46039f"
             ],
             [
              0.2222222222222222,
              "#7201a8"
             ],
             [
              0.3333333333333333,
              "#9c179e"
             ],
             [
              0.4444444444444444,
              "#bd3786"
             ],
             [
              0.5555555555555556,
              "#d8576b"
             ],
             [
              0.6666666666666666,
              "#ed7953"
             ],
             [
              0.7777777777777778,
              "#fb9f3a"
             ],
             [
              0.8888888888888888,
              "#fdca26"
             ],
             [
              1,
              "#f0f921"
             ]
            ],
            "type": "contour"
           }
          ],
          "contourcarpet": [
           {
            "colorbar": {
             "outlinewidth": 0,
             "ticks": ""
            },
            "type": "contourcarpet"
           }
          ],
          "heatmap": [
           {
            "colorbar": {
             "outlinewidth": 0,
             "ticks": ""
            },
            "colorscale": [
             [
              0,
              "#0d0887"
             ],
             [
              0.1111111111111111,
              "#46039f"
             ],
             [
              0.2222222222222222,
              "#7201a8"
             ],
             [
              0.3333333333333333,
              "#9c179e"
             ],
             [
              0.4444444444444444,
              "#bd3786"
             ],
             [
              0.5555555555555556,
              "#d8576b"
             ],
             [
              0.6666666666666666,
              "#ed7953"
             ],
             [
              0.7777777777777778,
              "#fb9f3a"
             ],
             [
              0.8888888888888888,
              "#fdca26"
             ],
             [
              1,
              "#f0f921"
             ]
            ],
            "type": "heatmap"
           }
          ],
          "heatmapgl": [
           {
            "colorbar": {
             "outlinewidth": 0,
             "ticks": ""
            },
            "colorscale": [
             [
              0,
              "#0d0887"
             ],
             [
              0.1111111111111111,
              "#46039f"
             ],
             [
              0.2222222222222222,
              "#7201a8"
             ],
             [
              0.3333333333333333,
              "#9c179e"
             ],
             [
              0.4444444444444444,
              "#bd3786"
             ],
             [
              0.5555555555555556,
              "#d8576b"
             ],
             [
              0.6666666666666666,
              "#ed7953"
             ],
             [
              0.7777777777777778,
              "#fb9f3a"
             ],
             [
              0.8888888888888888,
              "#fdca26"
             ],
             [
              1,
              "#f0f921"
             ]
            ],
            "type": "heatmapgl"
           }
          ],
          "histogram": [
           {
            "marker": {
             "colorbar": {
              "outlinewidth": 0,
              "ticks": ""
             }
            },
            "type": "histogram"
           }
          ],
          "histogram2d": [
           {
            "colorbar": {
             "outlinewidth": 0,
             "ticks": ""
            },
            "colorscale": [
             [
              0,
              "#0d0887"
             ],
             [
              0.1111111111111111,
              "#46039f"
             ],
             [
              0.2222222222222222,
              "#7201a8"
             ],
             [
              0.3333333333333333,
              "#9c179e"
             ],
             [
              0.4444444444444444,
              "#bd3786"
             ],
             [
              0.5555555555555556,
              "#d8576b"
             ],
             [
              0.6666666666666666,
              "#ed7953"
             ],
             [
              0.7777777777777778,
              "#fb9f3a"
             ],
             [
              0.8888888888888888,
              "#fdca26"
             ],
             [
              1,
              "#f0f921"
             ]
            ],
            "type": "histogram2d"
           }
          ],
          "histogram2dcontour": [
           {
            "colorbar": {
             "outlinewidth": 0,
             "ticks": ""
            },
            "colorscale": [
             [
              0,
              "#0d0887"
             ],
             [
              0.1111111111111111,
              "#46039f"
             ],
             [
              0.2222222222222222,
              "#7201a8"
             ],
             [
              0.3333333333333333,
              "#9c179e"
             ],
             [
              0.4444444444444444,
              "#bd3786"
             ],
             [
              0.5555555555555556,
              "#d8576b"
             ],
             [
              0.6666666666666666,
              "#ed7953"
             ],
             [
              0.7777777777777778,
              "#fb9f3a"
             ],
             [
              0.8888888888888888,
              "#fdca26"
             ],
             [
              1,
              "#f0f921"
             ]
            ],
            "type": "histogram2dcontour"
           }
          ],
          "mesh3d": [
           {
            "colorbar": {
             "outlinewidth": 0,
             "ticks": ""
            },
            "type": "mesh3d"
           }
          ],
          "parcoords": [
           {
            "line": {
             "colorbar": {
              "outlinewidth": 0,
              "ticks": ""
             }
            },
            "type": "parcoords"
           }
          ],
          "pie": [
           {
            "automargin": true,
            "type": "pie"
           }
          ],
          "scatter": [
           {
            "marker": {
             "colorbar": {
              "outlinewidth": 0,
              "ticks": ""
             }
            },
            "type": "scatter"
           }
          ],
          "scatter3d": [
           {
            "line": {
             "colorbar": {
              "outlinewidth": 0,
              "ticks": ""
             }
            },
            "marker": {
             "colorbar": {
              "outlinewidth": 0,
              "ticks": ""
             }
            },
            "type": "scatter3d"
           }
          ],
          "scattercarpet": [
           {
            "marker": {
             "colorbar": {
              "outlinewidth": 0,
              "ticks": ""
             }
            },
            "type": "scattercarpet"
           }
          ],
          "scattergeo": [
           {
            "marker": {
             "colorbar": {
              "outlinewidth": 0,
              "ticks": ""
             }
            },
            "type": "scattergeo"
           }
          ],
          "scattergl": [
           {
            "marker": {
             "colorbar": {
              "outlinewidth": 0,
              "ticks": ""
             }
            },
            "type": "scattergl"
           }
          ],
          "scattermapbox": [
           {
            "marker": {
             "colorbar": {
              "outlinewidth": 0,
              "ticks": ""
             }
            },
            "type": "scattermapbox"
           }
          ],
          "scatterpolar": [
           {
            "marker": {
             "colorbar": {
              "outlinewidth": 0,
              "ticks": ""
             }
            },
            "type": "scatterpolar"
           }
          ],
          "scatterpolargl": [
           {
            "marker": {
             "colorbar": {
              "outlinewidth": 0,
              "ticks": ""
             }
            },
            "type": "scatterpolargl"
           }
          ],
          "scatterternary": [
           {
            "marker": {
             "colorbar": {
              "outlinewidth": 0,
              "ticks": ""
             }
            },
            "type": "scatterternary"
           }
          ],
          "surface": [
           {
            "colorbar": {
             "outlinewidth": 0,
             "ticks": ""
            },
            "colorscale": [
             [
              0,
              "#0d0887"
             ],
             [
              0.1111111111111111,
              "#46039f"
             ],
             [
              0.2222222222222222,
              "#7201a8"
             ],
             [
              0.3333333333333333,
              "#9c179e"
             ],
             [
              0.4444444444444444,
              "#bd3786"
             ],
             [
              0.5555555555555556,
              "#d8576b"
             ],
             [
              0.6666666666666666,
              "#ed7953"
             ],
             [
              0.7777777777777778,
              "#fb9f3a"
             ],
             [
              0.8888888888888888,
              "#fdca26"
             ],
             [
              1,
              "#f0f921"
             ]
            ],
            "type": "surface"
           }
          ],
          "table": [
           {
            "cells": {
             "fill": {
              "color": "#EBF0F8"
             },
             "line": {
              "color": "white"
             }
            },
            "header": {
             "fill": {
              "color": "#C8D4E3"
             },
             "line": {
              "color": "white"
             }
            },
            "type": "table"
           }
          ]
         },
         "layout": {
          "annotationdefaults": {
           "arrowcolor": "#2a3f5f",
           "arrowhead": 0,
           "arrowwidth": 1
          },
          "coloraxis": {
           "colorbar": {
            "outlinewidth": 0,
            "ticks": ""
           }
          },
          "colorscale": {
           "diverging": [
            [
             0,
             "#8e0152"
            ],
            [
             0.1,
             "#c51b7d"
            ],
            [
             0.2,
             "#de77ae"
            ],
            [
             0.3,
             "#f1b6da"
            ],
            [
             0.4,
             "#fde0ef"
            ],
            [
             0.5,
             "#f7f7f7"
            ],
            [
             0.6,
             "#e6f5d0"
            ],
            [
             0.7,
             "#b8e186"
            ],
            [
             0.8,
             "#7fbc41"
            ],
            [
             0.9,
             "#4d9221"
            ],
            [
             1,
             "#276419"
            ]
           ],
           "sequential": [
            [
             0,
             "#0d0887"
            ],
            [
             0.1111111111111111,
             "#46039f"
            ],
            [
             0.2222222222222222,
             "#7201a8"
            ],
            [
             0.3333333333333333,
             "#9c179e"
            ],
            [
             0.4444444444444444,
             "#bd3786"
            ],
            [
             0.5555555555555556,
             "#d8576b"
            ],
            [
             0.6666666666666666,
             "#ed7953"
            ],
            [
             0.7777777777777778,
             "#fb9f3a"
            ],
            [
             0.8888888888888888,
             "#fdca26"
            ],
            [
             1,
             "#f0f921"
            ]
           ],
           "sequentialminus": [
            [
             0,
             "#0d0887"
            ],
            [
             0.1111111111111111,
             "#46039f"
            ],
            [
             0.2222222222222222,
             "#7201a8"
            ],
            [
             0.3333333333333333,
             "#9c179e"
            ],
            [
             0.4444444444444444,
             "#bd3786"
            ],
            [
             0.5555555555555556,
             "#d8576b"
            ],
            [
             0.6666666666666666,
             "#ed7953"
            ],
            [
             0.7777777777777778,
             "#fb9f3a"
            ],
            [
             0.8888888888888888,
             "#fdca26"
            ],
            [
             1,
             "#f0f921"
            ]
           ]
          },
          "colorway": [
           "#636efa",
           "#EF553B",
           "#00cc96",
           "#ab63fa",
           "#FFA15A",
           "#19d3f3",
           "#FF6692",
           "#B6E880",
           "#FF97FF",
           "#FECB52"
          ],
          "font": {
           "color": "#2a3f5f"
          },
          "geo": {
           "bgcolor": "white",
           "lakecolor": "white",
           "landcolor": "#E5ECF6",
           "showlakes": true,
           "showland": true,
           "subunitcolor": "white"
          },
          "hoverlabel": {
           "align": "left"
          },
          "hovermode": "closest",
          "mapbox": {
           "style": "light"
          },
          "paper_bgcolor": "white",
          "plot_bgcolor": "#E5ECF6",
          "polar": {
           "angularaxis": {
            "gridcolor": "white",
            "linecolor": "white",
            "ticks": ""
           },
           "bgcolor": "#E5ECF6",
           "radialaxis": {
            "gridcolor": "white",
            "linecolor": "white",
            "ticks": ""
           }
          },
          "scene": {
           "xaxis": {
            "backgroundcolor": "#E5ECF6",
            "gridcolor": "white",
            "gridwidth": 2,
            "linecolor": "white",
            "showbackground": true,
            "ticks": "",
            "zerolinecolor": "white"
           },
           "yaxis": {
            "backgroundcolor": "#E5ECF6",
            "gridcolor": "white",
            "gridwidth": 2,
            "linecolor": "white",
            "showbackground": true,
            "ticks": "",
            "zerolinecolor": "white"
           },
           "zaxis": {
            "backgroundcolor": "#E5ECF6",
            "gridcolor": "white",
            "gridwidth": 2,
            "linecolor": "white",
            "showbackground": true,
            "ticks": "",
            "zerolinecolor": "white"
           }
          },
          "shapedefaults": {
           "line": {
            "color": "#2a3f5f"
           }
          },
          "ternary": {
           "aaxis": {
            "gridcolor": "white",
            "linecolor": "white",
            "ticks": ""
           },
           "baxis": {
            "gridcolor": "white",
            "linecolor": "white",
            "ticks": ""
           },
           "bgcolor": "#E5ECF6",
           "caxis": {
            "gridcolor": "white",
            "linecolor": "white",
            "ticks": ""
           }
          },
          "title": {
           "x": 0.05
          },
          "xaxis": {
           "automargin": true,
           "gridcolor": "white",
           "linecolor": "white",
           "ticks": "",
           "title": {
            "standoff": 15
           },
           "zerolinecolor": "white",
           "zerolinewidth": 2
          },
          "yaxis": {
           "automargin": true,
           "gridcolor": "white",
           "linecolor": "white",
           "ticks": "",
           "title": {
            "standoff": 15
           },
           "zerolinecolor": "white",
           "zerolinewidth": 2
          }
         }
        },
        "xaxis": {
         "anchor": "y",
         "categoryorder": "total descending",
         "domain": [
          0,
          1
         ],
         "title": {
          "text": "last_val"
         }
        },
        "yaxis": {
         "anchor": "x",
         "domain": [
          0,
          1
         ],
         "title": {
          "text": "count"
         }
        }
       }
      }
     },
     "metadata": {},
     "output_type": "display_data"
    },
    {
     "data": {
      "application/vnd.plotly.v1+json": {
       "config": {
        "plotlyServerURL": "https://plot.ly"
       },
       "data": [
        {
         "alignmentgroup": "True",
         "bingroup": "x",
         "hovertemplate": "month=%{x}<br>count=%{y}<extra></extra>",
         "legendgroup": "",
         "marker": {
          "color": "#636efa"
         },
         "name": "",
         "nbinsx": 50,
         "offsetgroup": "",
         "orientation": "v",
         "showlegend": false,
         "type": "histogram",
         "x": [
          1,
          1,
          1,
          1,
          1,
          1,
          1,
          3,
          1,
          7,
          7,
          7,
          6,
          6,
          6,
          6,
          6,
          6,
          5,
          5,
          5,
          5,
          5,
          5,
          4,
          4,
          10,
          4,
          4,
          4,
          4,
          4,
          4,
          4,
          3,
          3,
          3,
          3,
          3,
          3,
          3,
          3,
          3,
          3,
          2,
          2,
          2,
          2,
          2,
          2,
          2,
          2,
          2,
          2,
          2,
          2,
          2,
          2,
          1,
          1,
          8,
          6,
          5,
          6,
          6,
          8,
          9,
          10,
          10,
          10,
          9,
          8,
          1,
          3,
          4,
          6,
          6,
          6,
          6,
          5,
          5,
          5,
          4,
          3,
          2,
          2,
          1,
          5,
          5,
          4,
          9,
          6,
          3,
          8,
          2,
          4,
          9,
          7,
          7,
          5,
          4,
          4,
          2,
          2,
          2,
          1,
          1,
          1,
          5,
          2,
          2,
          8,
          7,
          6,
          5,
          1,
          1,
          1,
          3,
          4,
          10,
          5,
          4,
          2,
          3,
          3,
          3,
          2,
          1,
          1,
          1,
          1,
          1,
          8,
          1,
          1,
          6,
          2,
          4,
          2,
          6,
          2,
          2,
          7,
          5,
          5,
          4,
          1,
          1,
          1,
          1,
          2,
          5,
          7,
          5,
          5,
          4,
          4,
          2,
          2,
          2,
          1,
          1,
          1,
          1,
          1,
          8,
          10,
          6,
          4,
          3,
          2,
          6,
          6,
          6,
          4,
          3,
          2,
          3,
          5,
          1,
          1,
          8,
          3,
          2,
          2,
          8,
          10,
          4,
          9,
          6,
          6,
          4,
          6,
          4,
          8,
          3,
          5,
          3,
          3,
          3,
          3,
          6,
          9,
          6,
          5,
          4,
          3,
          4,
          2,
          2,
          1,
          1,
          9,
          5,
          3,
          2,
          1,
          2,
          2,
          4,
          4,
          4,
          3,
          3,
          3,
          3,
          2,
          2,
          4,
          6,
          8,
          2,
          2,
          1,
          1,
          1,
          1,
          5,
          3,
          1,
          4,
          1,
          4,
          2,
          5,
          1,
          5,
          7,
          9,
          12,
          12,
          12,
          12,
          12,
          12,
          12,
          12,
          12,
          12,
          12,
          7,
          12,
          12,
          12,
          12,
          12,
          12,
          11,
          11,
          11,
          11,
          11,
          11,
          11,
          11,
          11,
          11,
          11,
          11,
          11,
          11,
          11,
          11,
          11,
          11,
          10,
          10,
          10,
          10,
          10,
          10,
          10,
          10,
          2,
          10,
          10,
          10,
          10,
          10,
          9,
          9,
          9,
          9,
          9,
          9,
          9,
          9,
          9,
          9,
          9,
          9,
          9,
          9,
          9,
          8,
          8,
          8,
          7,
          8,
          8,
          8,
          8,
          8,
          8,
          7,
          7,
          7,
          7,
          7,
          7,
          7,
          7,
          7,
          7,
          6,
          6,
          6,
          6,
          6,
          6,
          6,
          6,
          6,
          6,
          6,
          6,
          6,
          6,
          6,
          6,
          6,
          5,
          5,
          5,
          5,
          5,
          5,
          5,
          5,
          5,
          6,
          4,
          5,
          4,
          4,
          4,
          4,
          4,
          4,
          4,
          4,
          4,
          4,
          3,
          3,
          3,
          1,
          3,
          3,
          3,
          2,
          2,
          2,
          2,
          2,
          2,
          2,
          1,
          1,
          1,
          1,
          1,
          11,
          11,
          11,
          4,
          12,
          1,
          1,
          12,
          12,
          11,
          11,
          11,
          10,
          10,
          10,
          9,
          9,
          8,
          10,
          6,
          6,
          5,
          3,
          3,
          2,
          1,
          7,
          10,
          9,
          6,
          6,
          2,
          12,
          12,
          12,
          12,
          12,
          11,
          10,
          9,
          9,
          8,
          6,
          5,
          8,
          7,
          7,
          7,
          6,
          6,
          5,
          4,
          4,
          4,
          3,
          3,
          2,
          2,
          9,
          2,
          9,
          1,
          3,
          1,
          12,
          12,
          11,
          10,
          9,
          5,
          9,
          12,
          10,
          10,
          9,
          9,
          8,
          1,
          11,
          4,
          6,
          12,
          10,
          6,
          4,
          4,
          4,
          4,
          10,
          2,
          3,
          7,
          10,
          3,
          3,
          12,
          11,
          7,
          5,
          12,
          7,
          8,
          9,
          5,
          12,
          12,
          12,
          12,
          9,
          11,
          11,
          10,
          10,
          9,
          9,
          9,
          9,
          9,
          9,
          3,
          8,
          7,
          7,
          7,
          7,
          6,
          6,
          6,
          5,
          5,
          3,
          3,
          1,
          7,
          5,
          7,
          4,
          3,
          9,
          10,
          9,
          7,
          6,
          5,
          5,
          11,
          5,
          5,
          4,
          3,
          3,
          7,
          11,
          11,
          11,
          10,
          3,
          9,
          5,
          3,
          3,
          3,
          11,
          6,
          10,
          11,
          9,
          8,
          3,
          9,
          10,
          1,
          1,
          12,
          2,
          10,
          8,
          7,
          1,
          11,
          11,
          11,
          11,
          6,
          11,
          11,
          10,
          10,
          10,
          9,
          9,
          9,
          4,
          9,
          8,
          8,
          8,
          7,
          6,
          6,
          6,
          5,
          5,
          5,
          5,
          4,
          4,
          4,
          3,
          2,
          6,
          10,
          6,
          5,
          4,
          8,
          9,
          6,
          6,
          6,
          5,
          4,
          10,
          7,
          12,
          7,
          5,
          12,
          6,
          6,
          5,
          3,
          9,
          6,
          4,
          5,
          9,
          8,
          10,
          1,
          3,
          8,
          4,
          6,
          6,
          9,
          2,
          3,
          8,
          8,
          9,
          3,
          5,
          2,
          7,
          7,
          11,
          9,
          6,
          6,
          5,
          4,
          12,
          8,
          7,
          2,
          7,
          6,
          3,
          3,
          12,
          4,
          10,
          4,
          10,
          3,
          3,
          8,
          7,
          7,
          6,
          4,
          3,
          1,
          8,
          7,
          12,
          4,
          2,
          8,
          8,
          3,
          10,
          9,
          7,
          3,
          1,
          1,
          11,
          11,
          11,
          7,
          4,
          5,
          2,
          6,
          10,
          9,
          3,
          5,
          3,
          9,
          1,
          11,
          3,
          7,
          5,
          3,
          7,
          1,
          1,
          5,
          10,
          1,
          6,
          1,
          1,
          1,
          4,
          3,
          3,
          6,
          6,
          3,
          3,
          1,
          7,
          2,
          12,
          8,
          6,
          4,
          3,
          4,
          3,
          1,
          7,
          8,
          4,
          1,
          5,
          5,
          5,
          1,
          3,
          7,
          3,
          4,
          5,
          1,
          7,
          11,
          11,
          3,
          5,
          8,
          7,
          3,
          1,
          1,
          11,
          5,
          10,
          10,
          6,
          3,
          4,
          10,
          7,
          2,
          4,
          7,
          12,
          11,
          9,
          9,
          7,
          6,
          5,
          4,
          3,
          1,
          11,
          1,
          12,
          7,
          6,
          12,
          12,
          12,
          3,
          9,
          12,
          1,
          8,
          12,
          11,
          11,
          3,
          5,
          12,
          12,
          10,
          9,
          8,
          5,
          1,
          10,
          2,
          12,
          8,
          10,
          9,
          8,
          8,
          8,
          7,
          5,
          11,
          4,
          1,
          3,
          4,
          11,
          5,
          1,
          1,
          11,
          5,
          10,
          9,
          10,
          9,
          5,
          2,
          10,
          10,
          9,
          4,
          10,
          8,
          12,
          12,
          9,
          2,
          11,
          10,
          12,
          8,
          12,
          12,
          1,
          1,
          9,
          12,
          6,
          6,
          12,
          9,
          11,
          9,
          7,
          6,
          7,
          8,
          10,
          11,
          10,
          11,
          1,
          10,
          11,
          7,
          4,
          8,
          7,
          3,
          10,
          10,
          10,
          8,
          8,
          8,
          6,
          6,
          5,
          5,
          5,
          4,
          3,
          2,
          1,
          5,
          10,
          7,
          5,
          5,
          12,
          1,
          3,
          3,
          2,
          11,
          4,
          5,
          6,
          6,
          3,
          6,
          3,
          3,
          4,
          7,
          4,
          2,
          7,
          8,
          3,
          6,
          10,
          6,
          5,
          3,
          2,
          10,
          6,
          11,
          4,
          5,
          8,
          10,
          5,
          9,
          7,
          6,
          9,
          12,
          7,
          10,
          4,
          9,
          6,
          10,
          5,
          6,
          11,
          4,
          12,
          3,
          11,
          9,
          12,
          9,
          7,
          7,
          3,
          2,
          3,
          9,
          7,
          1,
          7,
          3,
          7,
          8,
          5,
          4,
          7,
          2,
          12,
          6,
          1,
          7,
          2,
          10,
          10,
          12,
          3,
          2,
          5,
          12,
          11,
          10,
          10,
          10,
          10,
          10,
          9,
          8,
          7,
          7,
          7,
          7,
          7,
          6,
          5,
          5,
          4,
          11,
          2,
          9,
          9,
          12,
          4,
          3,
          7,
          10,
          8,
          4,
          1,
          1,
          11,
          3,
          12,
          9,
          5,
          1,
          7,
          10,
          2,
          4,
          11,
          12,
          8,
          5,
          3,
          2,
          11,
          4,
          4,
          5,
          12,
          12,
          7,
          5,
          9,
          4,
          6,
          9,
          7,
          9,
          11,
          2,
          7,
          6,
          5,
          10,
          12,
          6,
          8,
          2,
          2,
          1,
          7,
          11,
          4,
          3,
          5,
          7,
          9,
          11,
          11,
          6,
          10,
          6,
          11,
          8,
          7,
          10,
          10,
          6,
          12,
          4,
          10,
          4,
          1,
          7,
          11,
          11,
          10,
          9,
          8,
          8,
          6,
          5,
          4,
          4,
          11,
          7,
          4,
          12,
          12,
          10,
          5,
          11,
          10,
          6,
          9,
          4,
          11,
          4,
          2,
          8,
          11,
          11,
          11,
          1,
          5,
          9,
          6,
          4,
          10,
          10,
          11,
          7,
          12,
          5,
          7,
          4,
          12,
          6,
          4,
          1,
          8,
          4,
          1,
          11,
          5,
          4,
          11,
          9,
          6,
          5,
          5,
          7,
          8,
          4,
          3,
          12,
          3,
          11,
          10,
          10,
          10,
          9,
          8,
          7,
          4,
          3,
          1,
          1,
          1,
          7,
          10,
          7,
          7,
          6,
          4,
          6,
          1,
          8,
          9,
          3,
          10,
          9,
          8,
          4,
          11,
          9,
          8,
          9,
          3,
          12,
          1,
          12,
          8,
          5,
          3,
          10,
          10,
          4,
          11,
          9,
          10,
          12,
          1,
          10,
          2,
          5,
          12,
          2,
          6,
          12,
          4,
          12,
          7
         ],
         "xaxis": "x",
         "yaxis": "y"
        }
       ],
       "layout": {
        "barmode": "relative",
        "legend": {
         "tracegroupgap": 0
        },
        "margin": {
         "t": 60
        },
        "template": {
         "data": {
          "bar": [
           {
            "error_x": {
             "color": "#2a3f5f"
            },
            "error_y": {
             "color": "#2a3f5f"
            },
            "marker": {
             "line": {
              "color": "#E5ECF6",
              "width": 0.5
             }
            },
            "type": "bar"
           }
          ],
          "barpolar": [
           {
            "marker": {
             "line": {
              "color": "#E5ECF6",
              "width": 0.5
             }
            },
            "type": "barpolar"
           }
          ],
          "carpet": [
           {
            "aaxis": {
             "endlinecolor": "#2a3f5f",
             "gridcolor": "white",
             "linecolor": "white",
             "minorgridcolor": "white",
             "startlinecolor": "#2a3f5f"
            },
            "baxis": {
             "endlinecolor": "#2a3f5f",
             "gridcolor": "white",
             "linecolor": "white",
             "minorgridcolor": "white",
             "startlinecolor": "#2a3f5f"
            },
            "type": "carpet"
           }
          ],
          "choropleth": [
           {
            "colorbar": {
             "outlinewidth": 0,
             "ticks": ""
            },
            "type": "choropleth"
           }
          ],
          "contour": [
           {
            "colorbar": {
             "outlinewidth": 0,
             "ticks": ""
            },
            "colorscale": [
             [
              0,
              "#0d0887"
             ],
             [
              0.1111111111111111,
              "#46039f"
             ],
             [
              0.2222222222222222,
              "#7201a8"
             ],
             [
              0.3333333333333333,
              "#9c179e"
             ],
             [
              0.4444444444444444,
              "#bd3786"
             ],
             [
              0.5555555555555556,
              "#d8576b"
             ],
             [
              0.6666666666666666,
              "#ed7953"
             ],
             [
              0.7777777777777778,
              "#fb9f3a"
             ],
             [
              0.8888888888888888,
              "#fdca26"
             ],
             [
              1,
              "#f0f921"
             ]
            ],
            "type": "contour"
           }
          ],
          "contourcarpet": [
           {
            "colorbar": {
             "outlinewidth": 0,
             "ticks": ""
            },
            "type": "contourcarpet"
           }
          ],
          "heatmap": [
           {
            "colorbar": {
             "outlinewidth": 0,
             "ticks": ""
            },
            "colorscale": [
             [
              0,
              "#0d0887"
             ],
             [
              0.1111111111111111,
              "#46039f"
             ],
             [
              0.2222222222222222,
              "#7201a8"
             ],
             [
              0.3333333333333333,
              "#9c179e"
             ],
             [
              0.4444444444444444,
              "#bd3786"
             ],
             [
              0.5555555555555556,
              "#d8576b"
             ],
             [
              0.6666666666666666,
              "#ed7953"
             ],
             [
              0.7777777777777778,
              "#fb9f3a"
             ],
             [
              0.8888888888888888,
              "#fdca26"
             ],
             [
              1,
              "#f0f921"
             ]
            ],
            "type": "heatmap"
           }
          ],
          "heatmapgl": [
           {
            "colorbar": {
             "outlinewidth": 0,
             "ticks": ""
            },
            "colorscale": [
             [
              0,
              "#0d0887"
             ],
             [
              0.1111111111111111,
              "#46039f"
             ],
             [
              0.2222222222222222,
              "#7201a8"
             ],
             [
              0.3333333333333333,
              "#9c179e"
             ],
             [
              0.4444444444444444,
              "#bd3786"
             ],
             [
              0.5555555555555556,
              "#d8576b"
             ],
             [
              0.6666666666666666,
              "#ed7953"
             ],
             [
              0.7777777777777778,
              "#fb9f3a"
             ],
             [
              0.8888888888888888,
              "#fdca26"
             ],
             [
              1,
              "#f0f921"
             ]
            ],
            "type": "heatmapgl"
           }
          ],
          "histogram": [
           {
            "marker": {
             "colorbar": {
              "outlinewidth": 0,
              "ticks": ""
             }
            },
            "type": "histogram"
           }
          ],
          "histogram2d": [
           {
            "colorbar": {
             "outlinewidth": 0,
             "ticks": ""
            },
            "colorscale": [
             [
              0,
              "#0d0887"
             ],
             [
              0.1111111111111111,
              "#46039f"
             ],
             [
              0.2222222222222222,
              "#7201a8"
             ],
             [
              0.3333333333333333,
              "#9c179e"
             ],
             [
              0.4444444444444444,
              "#bd3786"
             ],
             [
              0.5555555555555556,
              "#d8576b"
             ],
             [
              0.6666666666666666,
              "#ed7953"
             ],
             [
              0.7777777777777778,
              "#fb9f3a"
             ],
             [
              0.8888888888888888,
              "#fdca26"
             ],
             [
              1,
              "#f0f921"
             ]
            ],
            "type": "histogram2d"
           }
          ],
          "histogram2dcontour": [
           {
            "colorbar": {
             "outlinewidth": 0,
             "ticks": ""
            },
            "colorscale": [
             [
              0,
              "#0d0887"
             ],
             [
              0.1111111111111111,
              "#46039f"
             ],
             [
              0.2222222222222222,
              "#7201a8"
             ],
             [
              0.3333333333333333,
              "#9c179e"
             ],
             [
              0.4444444444444444,
              "#bd3786"
             ],
             [
              0.5555555555555556,
              "#d8576b"
             ],
             [
              0.6666666666666666,
              "#ed7953"
             ],
             [
              0.7777777777777778,
              "#fb9f3a"
             ],
             [
              0.8888888888888888,
              "#fdca26"
             ],
             [
              1,
              "#f0f921"
             ]
            ],
            "type": "histogram2dcontour"
           }
          ],
          "mesh3d": [
           {
            "colorbar": {
             "outlinewidth": 0,
             "ticks": ""
            },
            "type": "mesh3d"
           }
          ],
          "parcoords": [
           {
            "line": {
             "colorbar": {
              "outlinewidth": 0,
              "ticks": ""
             }
            },
            "type": "parcoords"
           }
          ],
          "pie": [
           {
            "automargin": true,
            "type": "pie"
           }
          ],
          "scatter": [
           {
            "marker": {
             "colorbar": {
              "outlinewidth": 0,
              "ticks": ""
             }
            },
            "type": "scatter"
           }
          ],
          "scatter3d": [
           {
            "line": {
             "colorbar": {
              "outlinewidth": 0,
              "ticks": ""
             }
            },
            "marker": {
             "colorbar": {
              "outlinewidth": 0,
              "ticks": ""
             }
            },
            "type": "scatter3d"
           }
          ],
          "scattercarpet": [
           {
            "marker": {
             "colorbar": {
              "outlinewidth": 0,
              "ticks": ""
             }
            },
            "type": "scattercarpet"
           }
          ],
          "scattergeo": [
           {
            "marker": {
             "colorbar": {
              "outlinewidth": 0,
              "ticks": ""
             }
            },
            "type": "scattergeo"
           }
          ],
          "scattergl": [
           {
            "marker": {
             "colorbar": {
              "outlinewidth": 0,
              "ticks": ""
             }
            },
            "type": "scattergl"
           }
          ],
          "scattermapbox": [
           {
            "marker": {
             "colorbar": {
              "outlinewidth": 0,
              "ticks": ""
             }
            },
            "type": "scattermapbox"
           }
          ],
          "scatterpolar": [
           {
            "marker": {
             "colorbar": {
              "outlinewidth": 0,
              "ticks": ""
             }
            },
            "type": "scatterpolar"
           }
          ],
          "scatterpolargl": [
           {
            "marker": {
             "colorbar": {
              "outlinewidth": 0,
              "ticks": ""
             }
            },
            "type": "scatterpolargl"
           }
          ],
          "scatterternary": [
           {
            "marker": {
             "colorbar": {
              "outlinewidth": 0,
              "ticks": ""
             }
            },
            "type": "scatterternary"
           }
          ],
          "surface": [
           {
            "colorbar": {
             "outlinewidth": 0,
             "ticks": ""
            },
            "colorscale": [
             [
              0,
              "#0d0887"
             ],
             [
              0.1111111111111111,
              "#46039f"
             ],
             [
              0.2222222222222222,
              "#7201a8"
             ],
             [
              0.3333333333333333,
              "#9c179e"
             ],
             [
              0.4444444444444444,
              "#bd3786"
             ],
             [
              0.5555555555555556,
              "#d8576b"
             ],
             [
              0.6666666666666666,
              "#ed7953"
             ],
             [
              0.7777777777777778,
              "#fb9f3a"
             ],
             [
              0.8888888888888888,
              "#fdca26"
             ],
             [
              1,
              "#f0f921"
             ]
            ],
            "type": "surface"
           }
          ],
          "table": [
           {
            "cells": {
             "fill": {
              "color": "#EBF0F8"
             },
             "line": {
              "color": "white"
             }
            },
            "header": {
             "fill": {
              "color": "#C8D4E3"
             },
             "line": {
              "color": "white"
             }
            },
            "type": "table"
           }
          ]
         },
         "layout": {
          "annotationdefaults": {
           "arrowcolor": "#2a3f5f",
           "arrowhead": 0,
           "arrowwidth": 1
          },
          "coloraxis": {
           "colorbar": {
            "outlinewidth": 0,
            "ticks": ""
           }
          },
          "colorscale": {
           "diverging": [
            [
             0,
             "#8e0152"
            ],
            [
             0.1,
             "#c51b7d"
            ],
            [
             0.2,
             "#de77ae"
            ],
            [
             0.3,
             "#f1b6da"
            ],
            [
             0.4,
             "#fde0ef"
            ],
            [
             0.5,
             "#f7f7f7"
            ],
            [
             0.6,
             "#e6f5d0"
            ],
            [
             0.7,
             "#b8e186"
            ],
            [
             0.8,
             "#7fbc41"
            ],
            [
             0.9,
             "#4d9221"
            ],
            [
             1,
             "#276419"
            ]
           ],
           "sequential": [
            [
             0,
             "#0d0887"
            ],
            [
             0.1111111111111111,
             "#46039f"
            ],
            [
             0.2222222222222222,
             "#7201a8"
            ],
            [
             0.3333333333333333,
             "#9c179e"
            ],
            [
             0.4444444444444444,
             "#bd3786"
            ],
            [
             0.5555555555555556,
             "#d8576b"
            ],
            [
             0.6666666666666666,
             "#ed7953"
            ],
            [
             0.7777777777777778,
             "#fb9f3a"
            ],
            [
             0.8888888888888888,
             "#fdca26"
            ],
            [
             1,
             "#f0f921"
            ]
           ],
           "sequentialminus": [
            [
             0,
             "#0d0887"
            ],
            [
             0.1111111111111111,
             "#46039f"
            ],
            [
             0.2222222222222222,
             "#7201a8"
            ],
            [
             0.3333333333333333,
             "#9c179e"
            ],
            [
             0.4444444444444444,
             "#bd3786"
            ],
            [
             0.5555555555555556,
             "#d8576b"
            ],
            [
             0.6666666666666666,
             "#ed7953"
            ],
            [
             0.7777777777777778,
             "#fb9f3a"
            ],
            [
             0.8888888888888888,
             "#fdca26"
            ],
            [
             1,
             "#f0f921"
            ]
           ]
          },
          "colorway": [
           "#636efa",
           "#EF553B",
           "#00cc96",
           "#ab63fa",
           "#FFA15A",
           "#19d3f3",
           "#FF6692",
           "#B6E880",
           "#FF97FF",
           "#FECB52"
          ],
          "font": {
           "color": "#2a3f5f"
          },
          "geo": {
           "bgcolor": "white",
           "lakecolor": "white",
           "landcolor": "#E5ECF6",
           "showlakes": true,
           "showland": true,
           "subunitcolor": "white"
          },
          "hoverlabel": {
           "align": "left"
          },
          "hovermode": "closest",
          "mapbox": {
           "style": "light"
          },
          "paper_bgcolor": "white",
          "plot_bgcolor": "#E5ECF6",
          "polar": {
           "angularaxis": {
            "gridcolor": "white",
            "linecolor": "white",
            "ticks": ""
           },
           "bgcolor": "#E5ECF6",
           "radialaxis": {
            "gridcolor": "white",
            "linecolor": "white",
            "ticks": ""
           }
          },
          "scene": {
           "xaxis": {
            "backgroundcolor": "#E5ECF6",
            "gridcolor": "white",
            "gridwidth": 2,
            "linecolor": "white",
            "showbackground": true,
            "ticks": "",
            "zerolinecolor": "white"
           },
           "yaxis": {
            "backgroundcolor": "#E5ECF6",
            "gridcolor": "white",
            "gridwidth": 2,
            "linecolor": "white",
            "showbackground": true,
            "ticks": "",
            "zerolinecolor": "white"
           },
           "zaxis": {
            "backgroundcolor": "#E5ECF6",
            "gridcolor": "white",
            "gridwidth": 2,
            "linecolor": "white",
            "showbackground": true,
            "ticks": "",
            "zerolinecolor": "white"
           }
          },
          "shapedefaults": {
           "line": {
            "color": "#2a3f5f"
           }
          },
          "ternary": {
           "aaxis": {
            "gridcolor": "white",
            "linecolor": "white",
            "ticks": ""
           },
           "baxis": {
            "gridcolor": "white",
            "linecolor": "white",
            "ticks": ""
           },
           "bgcolor": "#E5ECF6",
           "caxis": {
            "gridcolor": "white",
            "linecolor": "white",
            "ticks": ""
           }
          },
          "title": {
           "x": 0.05
          },
          "xaxis": {
           "automargin": true,
           "gridcolor": "white",
           "linecolor": "white",
           "ticks": "",
           "title": {
            "standoff": 15
           },
           "zerolinecolor": "white",
           "zerolinewidth": 2
          },
          "yaxis": {
           "automargin": true,
           "gridcolor": "white",
           "linecolor": "white",
           "ticks": "",
           "title": {
            "standoff": 15
           },
           "zerolinecolor": "white",
           "zerolinewidth": 2
          }
         }
        },
        "xaxis": {
         "anchor": "y",
         "categoryorder": "total descending",
         "domain": [
          0,
          1
         ],
         "title": {
          "text": "month"
         }
        },
        "yaxis": {
         "anchor": "x",
         "domain": [
          0,
          1
         ],
         "title": {
          "text": "count"
         }
        }
       }
      }
     },
     "metadata": {},
     "output_type": "display_data"
    },
    {
     "data": {
      "application/vnd.plotly.v1+json": {
       "config": {
        "plotlyServerURL": "https://plot.ly"
       },
       "data": [
        {
         "alignmentgroup": "True",
         "bingroup": "x",
         "hovertemplate": "year_joined=%{x}<br>count=%{y}<extra></extra>",
         "legendgroup": "",
         "marker": {
          "color": "#636efa"
         },
         "name": "",
         "nbinsx": 50,
         "offsetgroup": "",
         "orientation": "v",
         "showlegend": false,
         "type": "histogram",
         "x": [
          2022,
          2022,
          2022,
          2022,
          2022,
          2022,
          2022,
          2022,
          2022,
          2022,
          2022,
          2022,
          2022,
          2022,
          2022,
          2022,
          2022,
          2022,
          2022,
          2022,
          2022,
          2022,
          2022,
          2022,
          2022,
          2022,
          2022,
          2022,
          2022,
          2022,
          2022,
          2022,
          2022,
          2022,
          2022,
          2022,
          2022,
          2022,
          2022,
          2022,
          2022,
          2022,
          2022,
          2022,
          2022,
          2022,
          2022,
          2022,
          2022,
          2022,
          2022,
          2022,
          2022,
          2022,
          2022,
          2022,
          2022,
          2022,
          2022,
          2022,
          2022,
          2022,
          2022,
          2022,
          2022,
          2022,
          2022,
          2022,
          2022,
          2022,
          2022,
          2022,
          2022,
          2022,
          2022,
          2022,
          2022,
          2022,
          2022,
          2022,
          2022,
          2022,
          2022,
          2022,
          2022,
          2022,
          2022,
          2022,
          2022,
          2022,
          2022,
          2022,
          2022,
          2022,
          2022,
          2022,
          2022,
          2022,
          2022,
          2022,
          2022,
          2022,
          2022,
          2022,
          2022,
          2022,
          2022,
          2022,
          2022,
          2022,
          2022,
          2022,
          2022,
          2022,
          2022,
          2022,
          2022,
          2022,
          2022,
          2022,
          2022,
          2022,
          2022,
          2022,
          2022,
          2022,
          2022,
          2022,
          2022,
          2022,
          2022,
          2022,
          2022,
          2022,
          2022,
          2022,
          2022,
          2022,
          2022,
          2022,
          2022,
          2022,
          2022,
          2022,
          2022,
          2022,
          2022,
          2022,
          2022,
          2022,
          2022,
          2022,
          2022,
          2022,
          2022,
          2022,
          2022,
          2022,
          2022,
          2022,
          2022,
          2022,
          2022,
          2022,
          2022,
          2022,
          2022,
          2022,
          2022,
          2022,
          2022,
          2022,
          2022,
          2022,
          2022,
          2022,
          2022,
          2022,
          2022,
          2022,
          2022,
          2022,
          2022,
          2022,
          2022,
          2022,
          2022,
          2022,
          2022,
          2022,
          2022,
          2022,
          2022,
          2022,
          2022,
          2022,
          2022,
          2022,
          2022,
          2022,
          2022,
          2022,
          2022,
          2022,
          2022,
          2022,
          2022,
          2022,
          2022,
          2022,
          2022,
          2022,
          2022,
          2022,
          2022,
          2022,
          2022,
          2022,
          2022,
          2022,
          2022,
          2022,
          2022,
          2022,
          2022,
          2022,
          2022,
          2022,
          2022,
          2022,
          2022,
          2022,
          2022,
          2022,
          2022,
          2022,
          2022,
          2022,
          2022,
          2022,
          2022,
          2022,
          2022,
          2022,
          2022,
          2022,
          2022,
          2021,
          2021,
          2021,
          2021,
          2021,
          2021,
          2021,
          2021,
          2021,
          2021,
          2021,
          2021,
          2021,
          2021,
          2021,
          2021,
          2021,
          2021,
          2021,
          2021,
          2021,
          2021,
          2021,
          2021,
          2021,
          2021,
          2021,
          2021,
          2021,
          2021,
          2021,
          2021,
          2021,
          2021,
          2021,
          2021,
          2021,
          2021,
          2021,
          2021,
          2021,
          2021,
          2021,
          2021,
          2021,
          2021,
          2021,
          2021,
          2021,
          2021,
          2021,
          2021,
          2021,
          2021,
          2021,
          2021,
          2021,
          2021,
          2021,
          2021,
          2021,
          2021,
          2021,
          2021,
          2021,
          2021,
          2021,
          2021,
          2021,
          2021,
          2021,
          2021,
          2021,
          2021,
          2021,
          2021,
          2021,
          2021,
          2021,
          2021,
          2021,
          2021,
          2021,
          2021,
          2021,
          2021,
          2021,
          2021,
          2021,
          2021,
          2021,
          2021,
          2021,
          2021,
          2021,
          2021,
          2021,
          2021,
          2021,
          2021,
          2021,
          2021,
          2021,
          2021,
          2021,
          2021,
          2021,
          2021,
          2021,
          2021,
          2021,
          2021,
          2021,
          2021,
          2021,
          2021,
          2021,
          2021,
          2021,
          2021,
          2021,
          2021,
          2021,
          2021,
          2021,
          2021,
          2021,
          2021,
          2021,
          2021,
          2021,
          2021,
          2021,
          2021,
          2021,
          2021,
          2021,
          2021,
          2021,
          2021,
          2021,
          2021,
          2021,
          2021,
          2021,
          2021,
          2021,
          2021,
          2021,
          2021,
          2021,
          2021,
          2021,
          2021,
          2021,
          2021,
          2021,
          2021,
          2021,
          2021,
          2021,
          2021,
          2021,
          2021,
          2021,
          2021,
          2021,
          2021,
          2021,
          2021,
          2021,
          2021,
          2021,
          2021,
          2021,
          2021,
          2021,
          2021,
          2021,
          2021,
          2021,
          2021,
          2021,
          2021,
          2021,
          2021,
          2021,
          2021,
          2021,
          2021,
          2021,
          2021,
          2021,
          2021,
          2021,
          2021,
          2021,
          2021,
          2021,
          2021,
          2021,
          2021,
          2021,
          2021,
          2021,
          2021,
          2021,
          2021,
          2021,
          2021,
          2021,
          2021,
          2021,
          2021,
          2021,
          2021,
          2021,
          2021,
          2021,
          2021,
          2021,
          2021,
          2021,
          2021,
          2021,
          2021,
          2021,
          2021,
          2021,
          2021,
          2021,
          2021,
          2021,
          2021,
          2021,
          2021,
          2021,
          2021,
          2021,
          2021,
          2021,
          2021,
          2021,
          2021,
          2021,
          2021,
          2021,
          2021,
          2021,
          2021,
          2021,
          2021,
          2021,
          2021,
          2021,
          2021,
          2021,
          2021,
          2021,
          2021,
          2021,
          2021,
          2021,
          2021,
          2021,
          2021,
          2021,
          2021,
          2021,
          2021,
          2021,
          2021,
          2021,
          2021,
          2021,
          2021,
          2021,
          2021,
          2021,
          2021,
          2021,
          2021,
          2021,
          2021,
          2021,
          2021,
          2021,
          2021,
          2021,
          2021,
          2021,
          2021,
          2021,
          2021,
          2021,
          2021,
          2021,
          2021,
          2021,
          2021,
          2021,
          2021,
          2021,
          2021,
          2021,
          2021,
          2021,
          2021,
          2021,
          2021,
          2021,
          2021,
          2021,
          2021,
          2021,
          2021,
          2021,
          2021,
          2021,
          2021,
          2021,
          2021,
          2021,
          2021,
          2021,
          2021,
          2021,
          2021,
          2021,
          2021,
          2021,
          2021,
          2021,
          2021,
          2021,
          2021,
          2021,
          2021,
          2021,
          2021,
          2021,
          2021,
          2021,
          2021,
          2021,
          2021,
          2021,
          2021,
          2021,
          2021,
          2021,
          2021,
          2021,
          2021,
          2021,
          2021,
          2021,
          2021,
          2021,
          2021,
          2021,
          2021,
          2021,
          2021,
          2021,
          2021,
          2021,
          2021,
          2021,
          2021,
          2021,
          2021,
          2021,
          2021,
          2021,
          2021,
          2021,
          2021,
          2021,
          2021,
          2021,
          2021,
          2021,
          2021,
          2021,
          2021,
          2021,
          2021,
          2021,
          2021,
          2021,
          2021,
          2021,
          2021,
          2021,
          2021,
          2021,
          2021,
          2021,
          2021,
          2021,
          2021,
          2021,
          2021,
          2021,
          2021,
          2021,
          2021,
          2021,
          2021,
          2021,
          2021,
          2021,
          2021,
          2021,
          2021,
          2021,
          2021,
          2021,
          2021,
          2021,
          2021,
          2021,
          2021,
          2021,
          2021,
          2021,
          2021,
          2021,
          2021,
          2021,
          2021,
          2021,
          2021,
          2021,
          2021,
          2021,
          2021,
          2021,
          2021,
          2021,
          2021,
          2021,
          2021,
          2021,
          2021,
          2021,
          2021,
          2021,
          2021,
          2021,
          2021,
          2021,
          2021,
          2021,
          2021,
          2021,
          2021,
          2021,
          2021,
          2021,
          2021,
          2021,
          2021,
          2021,
          2021,
          2021,
          2021,
          2021,
          2021,
          2021,
          2021,
          2021,
          2021,
          2021,
          2021,
          2021,
          2021,
          2021,
          2021,
          2021,
          2021,
          2021,
          2021,
          2021,
          2021,
          2021,
          2021,
          2021,
          2021,
          2021,
          2021,
          2021,
          2021,
          2021,
          2021,
          2021,
          2021,
          2021,
          2021,
          2021,
          2021,
          2021,
          2021,
          2021,
          2021,
          2021,
          2021,
          2021,
          2021,
          2021,
          2021,
          2021,
          2021,
          2021,
          2021,
          2021,
          2021,
          2021,
          2021,
          2021,
          2021,
          2021,
          2021,
          2021,
          2021,
          2021,
          2021,
          2020,
          2020,
          2020,
          2020,
          2020,
          2020,
          2020,
          2020,
          2020,
          2020,
          2020,
          2020,
          2020,
          2020,
          2020,
          2020,
          2020,
          2020,
          2020,
          2020,
          2020,
          2020,
          2020,
          2020,
          2020,
          2020,
          2020,
          2020,
          2020,
          2020,
          2020,
          2020,
          2020,
          2020,
          2020,
          2020,
          2020,
          2020,
          2020,
          2020,
          2020,
          2020,
          2020,
          2020,
          2020,
          2020,
          2020,
          2020,
          2020,
          2020,
          2020,
          2020,
          2020,
          2020,
          2020,
          2020,
          2020,
          2020,
          2020,
          2020,
          2020,
          2020,
          2020,
          2020,
          2020,
          2020,
          2020,
          2020,
          2020,
          2020,
          2020,
          2020,
          2020,
          2020,
          2020,
          2020,
          2020,
          2020,
          2020,
          2020,
          2020,
          2020,
          2020,
          2020,
          2020,
          2020,
          2020,
          2020,
          2020,
          2020,
          2020,
          2020,
          2020,
          2020,
          2020,
          2020,
          2020,
          2020,
          2020,
          2020,
          2020,
          2020,
          2020,
          2020,
          2020,
          2020,
          2019,
          2019,
          2019,
          2019,
          2019,
          2019,
          2019,
          2019,
          2019,
          2019,
          2019,
          2019,
          2019,
          2019,
          2019,
          2019,
          2019,
          2019,
          2019,
          2019,
          2019,
          2019,
          2019,
          2019,
          2019,
          2019,
          2019,
          2019,
          2019,
          2019,
          2019,
          2019,
          2019,
          2019,
          2019,
          2019,
          2019,
          2019,
          2019,
          2019,
          2019,
          2019,
          2019,
          2019,
          2019,
          2019,
          2019,
          2019,
          2019,
          2019,
          2019,
          2019,
          2019,
          2019,
          2019,
          2019,
          2019,
          2019,
          2019,
          2019,
          2019,
          2019,
          2019,
          2019,
          2019,
          2019,
          2019,
          2019,
          2019,
          2019,
          2019,
          2019,
          2019,
          2019,
          2019,
          2019,
          2019,
          2019,
          2019,
          2019,
          2019,
          2019,
          2019,
          2019,
          2019,
          2019,
          2019,
          2019,
          2019,
          2019,
          2019,
          2019,
          2019,
          2019,
          2019,
          2019,
          2019,
          2019,
          2019,
          2019,
          2019,
          2019,
          2018,
          2018,
          2018,
          2018,
          2018,
          2018,
          2018,
          2018,
          2018,
          2018,
          2018,
          2018,
          2018,
          2018,
          2018,
          2018,
          2018,
          2018,
          2018,
          2018,
          2018,
          2018,
          2018,
          2018,
          2018,
          2018,
          2018,
          2018,
          2018,
          2018,
          2018,
          2018,
          2018,
          2018,
          2018,
          2018,
          2018,
          2018,
          2018,
          2018,
          2018,
          2018,
          2018,
          2018,
          2018,
          2018,
          2018,
          2018,
          2018,
          2018,
          2018,
          2018,
          2018,
          2018,
          2018,
          2018,
          2018,
          2018,
          2018,
          2018,
          2018,
          2018,
          2018,
          2018,
          2018,
          2018,
          2018,
          2018,
          2018,
          2018,
          2018,
          2018,
          2018,
          2018,
          2018,
          2018,
          2018,
          2018,
          2018,
          2018,
          2018,
          2018,
          2018,
          2018,
          2018,
          2018,
          2018,
          2018,
          2018,
          2018,
          2018,
          2018,
          2018,
          2018,
          2018,
          2018,
          2018,
          2017,
          2017,
          2017,
          2017,
          2017,
          2017,
          2017,
          2017,
          2017,
          2017,
          2017,
          2017,
          2017,
          2017,
          2017,
          2017,
          2017,
          2017,
          2017,
          2017,
          2017,
          2017,
          2017,
          2017,
          2017,
          2017,
          2017,
          2017,
          2017,
          2017,
          2017,
          2017,
          2017,
          2017,
          2017,
          2017,
          2017,
          2017,
          2017,
          2017,
          2017,
          2017,
          2016,
          2016,
          2016,
          2016,
          2016,
          2016,
          2016,
          2016,
          2016,
          2016,
          2016,
          2016,
          2016,
          2016,
          2016,
          2016,
          2016,
          2016,
          2016,
          2016,
          2016,
          2015,
          2015,
          2015,
          2015,
          2015,
          2015,
          2015,
          2015,
          2015,
          2015,
          2015,
          2015,
          2015,
          2015,
          2015,
          2015,
          2015,
          2015,
          2015,
          2015,
          2015,
          2015,
          2015,
          2015,
          2015,
          2015,
          2015,
          2015,
          2015,
          2015,
          2015,
          2015,
          2015,
          2015,
          2014,
          2014,
          2014,
          2014,
          2014,
          2014,
          2014,
          2014,
          2014,
          2014,
          2014,
          2014,
          2013,
          2013,
          2013,
          2012,
          2012,
          2012,
          2012,
          2011,
          2011,
          2007
         ],
         "xaxis": "x",
         "yaxis": "y"
        }
       ],
       "layout": {
        "barmode": "relative",
        "legend": {
         "tracegroupgap": 0
        },
        "margin": {
         "t": 60
        },
        "template": {
         "data": {
          "bar": [
           {
            "error_x": {
             "color": "#2a3f5f"
            },
            "error_y": {
             "color": "#2a3f5f"
            },
            "marker": {
             "line": {
              "color": "#E5ECF6",
              "width": 0.5
             }
            },
            "type": "bar"
           }
          ],
          "barpolar": [
           {
            "marker": {
             "line": {
              "color": "#E5ECF6",
              "width": 0.5
             }
            },
            "type": "barpolar"
           }
          ],
          "carpet": [
           {
            "aaxis": {
             "endlinecolor": "#2a3f5f",
             "gridcolor": "white",
             "linecolor": "white",
             "minorgridcolor": "white",
             "startlinecolor": "#2a3f5f"
            },
            "baxis": {
             "endlinecolor": "#2a3f5f",
             "gridcolor": "white",
             "linecolor": "white",
             "minorgridcolor": "white",
             "startlinecolor": "#2a3f5f"
            },
            "type": "carpet"
           }
          ],
          "choropleth": [
           {
            "colorbar": {
             "outlinewidth": 0,
             "ticks": ""
            },
            "type": "choropleth"
           }
          ],
          "contour": [
           {
            "colorbar": {
             "outlinewidth": 0,
             "ticks": ""
            },
            "colorscale": [
             [
              0,
              "#0d0887"
             ],
             [
              0.1111111111111111,
              "#46039f"
             ],
             [
              0.2222222222222222,
              "#7201a8"
             ],
             [
              0.3333333333333333,
              "#9c179e"
             ],
             [
              0.4444444444444444,
              "#bd3786"
             ],
             [
              0.5555555555555556,
              "#d8576b"
             ],
             [
              0.6666666666666666,
              "#ed7953"
             ],
             [
              0.7777777777777778,
              "#fb9f3a"
             ],
             [
              0.8888888888888888,
              "#fdca26"
             ],
             [
              1,
              "#f0f921"
             ]
            ],
            "type": "contour"
           }
          ],
          "contourcarpet": [
           {
            "colorbar": {
             "outlinewidth": 0,
             "ticks": ""
            },
            "type": "contourcarpet"
           }
          ],
          "heatmap": [
           {
            "colorbar": {
             "outlinewidth": 0,
             "ticks": ""
            },
            "colorscale": [
             [
              0,
              "#0d0887"
             ],
             [
              0.1111111111111111,
              "#46039f"
             ],
             [
              0.2222222222222222,
              "#7201a8"
             ],
             [
              0.3333333333333333,
              "#9c179e"
             ],
             [
              0.4444444444444444,
              "#bd3786"
             ],
             [
              0.5555555555555556,
              "#d8576b"
             ],
             [
              0.6666666666666666,
              "#ed7953"
             ],
             [
              0.7777777777777778,
              "#fb9f3a"
             ],
             [
              0.8888888888888888,
              "#fdca26"
             ],
             [
              1,
              "#f0f921"
             ]
            ],
            "type": "heatmap"
           }
          ],
          "heatmapgl": [
           {
            "colorbar": {
             "outlinewidth": 0,
             "ticks": ""
            },
            "colorscale": [
             [
              0,
              "#0d0887"
             ],
             [
              0.1111111111111111,
              "#46039f"
             ],
             [
              0.2222222222222222,
              "#7201a8"
             ],
             [
              0.3333333333333333,
              "#9c179e"
             ],
             [
              0.4444444444444444,
              "#bd3786"
             ],
             [
              0.5555555555555556,
              "#d8576b"
             ],
             [
              0.6666666666666666,
              "#ed7953"
             ],
             [
              0.7777777777777778,
              "#fb9f3a"
             ],
             [
              0.8888888888888888,
              "#fdca26"
             ],
             [
              1,
              "#f0f921"
             ]
            ],
            "type": "heatmapgl"
           }
          ],
          "histogram": [
           {
            "marker": {
             "colorbar": {
              "outlinewidth": 0,
              "ticks": ""
             }
            },
            "type": "histogram"
           }
          ],
          "histogram2d": [
           {
            "colorbar": {
             "outlinewidth": 0,
             "ticks": ""
            },
            "colorscale": [
             [
              0,
              "#0d0887"
             ],
             [
              0.1111111111111111,
              "#46039f"
             ],
             [
              0.2222222222222222,
              "#7201a8"
             ],
             [
              0.3333333333333333,
              "#9c179e"
             ],
             [
              0.4444444444444444,
              "#bd3786"
             ],
             [
              0.5555555555555556,
              "#d8576b"
             ],
             [
              0.6666666666666666,
              "#ed7953"
             ],
             [
              0.7777777777777778,
              "#fb9f3a"
             ],
             [
              0.8888888888888888,
              "#fdca26"
             ],
             [
              1,
              "#f0f921"
             ]
            ],
            "type": "histogram2d"
           }
          ],
          "histogram2dcontour": [
           {
            "colorbar": {
             "outlinewidth": 0,
             "ticks": ""
            },
            "colorscale": [
             [
              0,
              "#0d0887"
             ],
             [
              0.1111111111111111,
              "#46039f"
             ],
             [
              0.2222222222222222,
              "#7201a8"
             ],
             [
              0.3333333333333333,
              "#9c179e"
             ],
             [
              0.4444444444444444,
              "#bd3786"
             ],
             [
              0.5555555555555556,
              "#d8576b"
             ],
             [
              0.6666666666666666,
              "#ed7953"
             ],
             [
              0.7777777777777778,
              "#fb9f3a"
             ],
             [
              0.8888888888888888,
              "#fdca26"
             ],
             [
              1,
              "#f0f921"
             ]
            ],
            "type": "histogram2dcontour"
           }
          ],
          "mesh3d": [
           {
            "colorbar": {
             "outlinewidth": 0,
             "ticks": ""
            },
            "type": "mesh3d"
           }
          ],
          "parcoords": [
           {
            "line": {
             "colorbar": {
              "outlinewidth": 0,
              "ticks": ""
             }
            },
            "type": "parcoords"
           }
          ],
          "pie": [
           {
            "automargin": true,
            "type": "pie"
           }
          ],
          "scatter": [
           {
            "marker": {
             "colorbar": {
              "outlinewidth": 0,
              "ticks": ""
             }
            },
            "type": "scatter"
           }
          ],
          "scatter3d": [
           {
            "line": {
             "colorbar": {
              "outlinewidth": 0,
              "ticks": ""
             }
            },
            "marker": {
             "colorbar": {
              "outlinewidth": 0,
              "ticks": ""
             }
            },
            "type": "scatter3d"
           }
          ],
          "scattercarpet": [
           {
            "marker": {
             "colorbar": {
              "outlinewidth": 0,
              "ticks": ""
             }
            },
            "type": "scattercarpet"
           }
          ],
          "scattergeo": [
           {
            "marker": {
             "colorbar": {
              "outlinewidth": 0,
              "ticks": ""
             }
            },
            "type": "scattergeo"
           }
          ],
          "scattergl": [
           {
            "marker": {
             "colorbar": {
              "outlinewidth": 0,
              "ticks": ""
             }
            },
            "type": "scattergl"
           }
          ],
          "scattermapbox": [
           {
            "marker": {
             "colorbar": {
              "outlinewidth": 0,
              "ticks": ""
             }
            },
            "type": "scattermapbox"
           }
          ],
          "scatterpolar": [
           {
            "marker": {
             "colorbar": {
              "outlinewidth": 0,
              "ticks": ""
             }
            },
            "type": "scatterpolar"
           }
          ],
          "scatterpolargl": [
           {
            "marker": {
             "colorbar": {
              "outlinewidth": 0,
              "ticks": ""
             }
            },
            "type": "scatterpolargl"
           }
          ],
          "scatterternary": [
           {
            "marker": {
             "colorbar": {
              "outlinewidth": 0,
              "ticks": ""
             }
            },
            "type": "scatterternary"
           }
          ],
          "surface": [
           {
            "colorbar": {
             "outlinewidth": 0,
             "ticks": ""
            },
            "colorscale": [
             [
              0,
              "#0d0887"
             ],
             [
              0.1111111111111111,
              "#46039f"
             ],
             [
              0.2222222222222222,
              "#7201a8"
             ],
             [
              0.3333333333333333,
              "#9c179e"
             ],
             [
              0.4444444444444444,
              "#bd3786"
             ],
             [
              0.5555555555555556,
              "#d8576b"
             ],
             [
              0.6666666666666666,
              "#ed7953"
             ],
             [
              0.7777777777777778,
              "#fb9f3a"
             ],
             [
              0.8888888888888888,
              "#fdca26"
             ],
             [
              1,
              "#f0f921"
             ]
            ],
            "type": "surface"
           }
          ],
          "table": [
           {
            "cells": {
             "fill": {
              "color": "#EBF0F8"
             },
             "line": {
              "color": "white"
             }
            },
            "header": {
             "fill": {
              "color": "#C8D4E3"
             },
             "line": {
              "color": "white"
             }
            },
            "type": "table"
           }
          ]
         },
         "layout": {
          "annotationdefaults": {
           "arrowcolor": "#2a3f5f",
           "arrowhead": 0,
           "arrowwidth": 1
          },
          "coloraxis": {
           "colorbar": {
            "outlinewidth": 0,
            "ticks": ""
           }
          },
          "colorscale": {
           "diverging": [
            [
             0,
             "#8e0152"
            ],
            [
             0.1,
             "#c51b7d"
            ],
            [
             0.2,
             "#de77ae"
            ],
            [
             0.3,
             "#f1b6da"
            ],
            [
             0.4,
             "#fde0ef"
            ],
            [
             0.5,
             "#f7f7f7"
            ],
            [
             0.6,
             "#e6f5d0"
            ],
            [
             0.7,
             "#b8e186"
            ],
            [
             0.8,
             "#7fbc41"
            ],
            [
             0.9,
             "#4d9221"
            ],
            [
             1,
             "#276419"
            ]
           ],
           "sequential": [
            [
             0,
             "#0d0887"
            ],
            [
             0.1111111111111111,
             "#46039f"
            ],
            [
             0.2222222222222222,
             "#7201a8"
            ],
            [
             0.3333333333333333,
             "#9c179e"
            ],
            [
             0.4444444444444444,
             "#bd3786"
            ],
            [
             0.5555555555555556,
             "#d8576b"
            ],
            [
             0.6666666666666666,
             "#ed7953"
            ],
            [
             0.7777777777777778,
             "#fb9f3a"
            ],
            [
             0.8888888888888888,
             "#fdca26"
            ],
            [
             1,
             "#f0f921"
            ]
           ],
           "sequentialminus": [
            [
             0,
             "#0d0887"
            ],
            [
             0.1111111111111111,
             "#46039f"
            ],
            [
             0.2222222222222222,
             "#7201a8"
            ],
            [
             0.3333333333333333,
             "#9c179e"
            ],
            [
             0.4444444444444444,
             "#bd3786"
            ],
            [
             0.5555555555555556,
             "#d8576b"
            ],
            [
             0.6666666666666666,
             "#ed7953"
            ],
            [
             0.7777777777777778,
             "#fb9f3a"
            ],
            [
             0.8888888888888888,
             "#fdca26"
            ],
            [
             1,
             "#f0f921"
            ]
           ]
          },
          "colorway": [
           "#636efa",
           "#EF553B",
           "#00cc96",
           "#ab63fa",
           "#FFA15A",
           "#19d3f3",
           "#FF6692",
           "#B6E880",
           "#FF97FF",
           "#FECB52"
          ],
          "font": {
           "color": "#2a3f5f"
          },
          "geo": {
           "bgcolor": "white",
           "lakecolor": "white",
           "landcolor": "#E5ECF6",
           "showlakes": true,
           "showland": true,
           "subunitcolor": "white"
          },
          "hoverlabel": {
           "align": "left"
          },
          "hovermode": "closest",
          "mapbox": {
           "style": "light"
          },
          "paper_bgcolor": "white",
          "plot_bgcolor": "#E5ECF6",
          "polar": {
           "angularaxis": {
            "gridcolor": "white",
            "linecolor": "white",
            "ticks": ""
           },
           "bgcolor": "#E5ECF6",
           "radialaxis": {
            "gridcolor": "white",
            "linecolor": "white",
            "ticks": ""
           }
          },
          "scene": {
           "xaxis": {
            "backgroundcolor": "#E5ECF6",
            "gridcolor": "white",
            "gridwidth": 2,
            "linecolor": "white",
            "showbackground": true,
            "ticks": "",
            "zerolinecolor": "white"
           },
           "yaxis": {
            "backgroundcolor": "#E5ECF6",
            "gridcolor": "white",
            "gridwidth": 2,
            "linecolor": "white",
            "showbackground": true,
            "ticks": "",
            "zerolinecolor": "white"
           },
           "zaxis": {
            "backgroundcolor": "#E5ECF6",
            "gridcolor": "white",
            "gridwidth": 2,
            "linecolor": "white",
            "showbackground": true,
            "ticks": "",
            "zerolinecolor": "white"
           }
          },
          "shapedefaults": {
           "line": {
            "color": "#2a3f5f"
           }
          },
          "ternary": {
           "aaxis": {
            "gridcolor": "white",
            "linecolor": "white",
            "ticks": ""
           },
           "baxis": {
            "gridcolor": "white",
            "linecolor": "white",
            "ticks": ""
           },
           "bgcolor": "#E5ECF6",
           "caxis": {
            "gridcolor": "white",
            "linecolor": "white",
            "ticks": ""
           }
          },
          "title": {
           "x": 0.05
          },
          "xaxis": {
           "automargin": true,
           "gridcolor": "white",
           "linecolor": "white",
           "ticks": "",
           "title": {
            "standoff": 15
           },
           "zerolinecolor": "white",
           "zerolinewidth": 2
          },
          "yaxis": {
           "automargin": true,
           "gridcolor": "white",
           "linecolor": "white",
           "ticks": "",
           "title": {
            "standoff": 15
           },
           "zerolinecolor": "white",
           "zerolinewidth": 2
          }
         }
        },
        "xaxis": {
         "anchor": "y",
         "categoryorder": "total descending",
         "domain": [
          0,
          1
         ],
         "title": {
          "text": "year_joined"
         }
        },
        "yaxis": {
         "anchor": "x",
         "domain": [
          0,
          1
         ],
         "title": {
          "text": "count"
         }
        }
       }
      }
     },
     "metadata": {},
     "output_type": "display_data"
    },
    {
     "data": {
      "application/vnd.plotly.v1+json": {
       "config": {
        "plotlyServerURL": "https://plot.ly"
       },
       "data": [
        {
         "alignmentgroup": "True",
         "bingroup": "x",
         "hovertemplate": "city=%{x}<br>count=%{y}<extra></extra>",
         "legendgroup": "",
         "marker": {
          "color": "#636efa"
         },
         "name": "",
         "nbinsx": 50,
         "offsetgroup": "",
         "orientation": "v",
         "showlegend": false,
         "type": "histogram",
         "x": [
          "United States",
          "United States",
          "United States",
          "India",
          "Israel",
          "United States",
          "United States",
          "United States",
          "France",
          "United States",
          "United States",
          "United States",
          "United States",
          "India",
          "Israel",
          "United States",
          "United States",
          "United States",
          "United States",
          "Colombia",
          "Norway",
          "Japan",
          "Sweden",
          "India",
          "Germany",
          "United States",
          "Spain",
          "United States",
          "Sweden",
          "United States",
          "United States",
          "United States",
          "Germany",
          "United States",
          "United States",
          "United States",
          "United States",
          "United States",
          "United States",
          "United States",
          "United States",
          "India",
          "United States",
          "United States",
          "United States",
          "United States",
          "United States",
          "United States",
          "Italy",
          "United States",
          "India",
          "United States",
          "Canada",
          "United States",
          "United Kingdom",
          "Switzerland",
          "Norway",
          "Chile",
          "Canada",
          "India",
          "United States",
          "Israel",
          "Ireland",
          "France",
          "United States",
          "United States",
          "Italy",
          "Israel",
          "United Kingdom",
          "Liechtenstein",
          "Thailand",
          "United States",
          "United States",
          "United States",
          "United States",
          "United States",
          "India",
          "Spain",
          "India",
          "United States",
          "United States",
          "United States",
          "United States",
          "Germany",
          "United States",
          "Canada",
          "India",
          "Mexico",
          "United States",
          "United States",
          "United States",
          "United States",
          "United States",
          "Indonesia",
          "United States",
          "United States",
          "United States",
          "United Kingdom",
          "Mexico",
          "United States",
          "United States",
          "Germany",
          "United States",
          "India",
          "India",
          "United States",
          "United States",
          "United States",
          "United States",
          "United States",
          "Turkey",
          "United States",
          "United States",
          "United States",
          "United States",
          "United States",
          "United States",
          "Ireland",
          "China",
          "China",
          "United States",
          "Israel",
          "United States",
          "United States",
          "United States",
          "Australia",
          "India",
          "United States",
          "United States",
          "United States",
          "United States",
          "Spain",
          "United States",
          "India",
          "United States",
          "South Korea",
          "China",
          "United States",
          "United States",
          "Brazil",
          "United States",
          "United Kingdom",
          "United States",
          "India",
          "United Kingdom",
          "South Korea",
          "United States",
          "Israel",
          "United States",
          "Belgium",
          "United States",
          "United States",
          "United States",
          "United Kingdom",
          "Brazil",
          "United States",
          "United States",
          "United States",
          "United States",
          "United States",
          "India",
          "United States",
          "Estonia",
          "France",
          "United States",
          "Israel",
          "United States",
          "United States",
          "Ecuador",
          "China",
          "China",
          "United States",
          "United States",
          "United States",
          "United States",
          "Lithuania",
          "United States",
          "Ireland",
          "United States",
          "United States",
          "India",
          "United States",
          "United States",
          "United States",
          "United States",
          "United States",
          "Singapore",
          "United States",
          "United States",
          "United States",
          "United States",
          "United Kingdom",
          "United States",
          "United States",
          "United States",
          "South Korea",
          "Germany",
          "United States",
          "United States",
          "United States",
          "United States",
          "United States",
          "South Korea",
          "United States",
          "Croatia",
          "United States",
          "China",
          "United States",
          "United States",
          "United States",
          "Indonesia",
          "France",
          "United Kingdom",
          "United States",
          "Hong Kong",
          "United States",
          "United Kingdom",
          "United Kingdom",
          "United States",
          "China",
          "United States",
          "United States",
          "Singapore",
          "India",
          "United States",
          "United States",
          "Australia",
          "United States",
          "United States",
          "Finland",
          "Netherlands",
          "South Korea",
          "China",
          "United States",
          "United States",
          "United States",
          "United States",
          "United States",
          "United States",
          "United States",
          "United States",
          "Switzerland",
          "France",
          "United States",
          "Finland",
          "Seychelles",
          "United States",
          "United States",
          "Germany",
          "France",
          "Singapore",
          "Germany",
          "Indonesia",
          "China",
          "Sweden",
          "United States",
          "United States",
          "United States",
          "United States",
          "Germany",
          "France",
          "United States",
          "Australia",
          "United States",
          "United States",
          "United States",
          "United States",
          "Mexico",
          "United States",
          "India",
          "United States",
          "United States",
          "United States",
          "United States",
          "United States",
          "India",
          "China",
          "United States",
          "United States",
          "United States",
          "South Korea",
          "Germany",
          "United States",
          "United States",
          "China",
          "China",
          "United States",
          "United States",
          "Brazil",
          "France",
          "United Kingdom",
          "United States",
          "India",
          "France",
          "United States",
          "United States",
          "United States",
          "United States",
          "India",
          "Indonesia",
          "United States",
          "India",
          "Singapore",
          "China",
          "China",
          "United States",
          "United States",
          "United Kingdom",
          "Indonesia",
          "United States",
          "United States",
          "United States",
          "Germany",
          "Germany",
          "Hong Kong",
          "China",
          "United States",
          "United States",
          "South Korea",
          "United States",
          "Norway",
          "United States",
          "Canada",
          "United States",
          "United States",
          "Singapore",
          "India",
          "United States",
          "Australia",
          "United States",
          "China",
          "China",
          "United States",
          "United States",
          "United States",
          "United States",
          "Canada",
          "United States",
          "United States",
          "United States",
          "United States",
          "Israel",
          "United States",
          "Israel",
          "China",
          "United Kingdom",
          "Singapore",
          "China",
          "Ireland",
          "United States",
          "United States",
          "Singapore",
          "United States",
          "United States",
          "United States",
          "United States",
          "United States",
          "China",
          "Canada",
          "France",
          "United States",
          "China",
          "United States",
          "United States",
          "United States",
          "United States",
          "United Kingdom",
          "United States",
          "United States",
          "China",
          "United States",
          "United States",
          "United States",
          "China",
          "United States",
          "China",
          "United States",
          "United States",
          "United States",
          "Singapore",
          "Israel",
          "United States",
          "United States",
          "China",
          "United States",
          "United States",
          "United States",
          "Thailand",
          "United States",
          "United Kingdom",
          "Brazil",
          "United States",
          "United States",
          "United States",
          "United States",
          "United States",
          "United States",
          "India",
          "China",
          "China",
          "India",
          "United States",
          "United States",
          "United Kingdom",
          "United States",
          "India",
          "Germany",
          "United States",
          "India",
          "Singapore",
          "United States",
          "Israel",
          "United States",
          "China",
          "United States",
          "United States",
          "United Kingdom",
          "Switzerland",
          "Germany",
          "United States",
          "United States",
          "United States",
          "United States",
          "United States",
          "United States",
          "United States",
          "Mexico",
          "United States",
          "India",
          "United States",
          "India",
          "India",
          "United States",
          "United States",
          "United States",
          "Norway",
          "United States",
          "United States",
          "United States",
          "United States",
          "Czech Republic",
          "China",
          "United States",
          "Canada",
          "United States",
          "United States",
          "China",
          "United States",
          "China",
          "United States",
          "United States",
          "Japan",
          "United States",
          "Canada",
          "United States",
          "China",
          "China",
          "United States",
          "United States",
          "United States",
          "United States",
          "United Kingdom",
          "China",
          "United States",
          "China",
          "United States",
          "United States",
          "United States",
          "Mexico",
          "United States",
          "China",
          "United Kingdom",
          "United States",
          "China",
          "United States",
          "United States",
          "Germany",
          "United States",
          "United States",
          "United States",
          "United States",
          "United States",
          "United States",
          "India",
          "United States",
          "India",
          "United States",
          "Sweden",
          "Canada",
          "United States",
          "United States",
          "China",
          "Sweden",
          "United States",
          "China",
          "United States",
          "United States",
          "United States",
          "United States",
          "United States",
          "Brazil",
          "United States",
          "India",
          "United States",
          "United States",
          "United States",
          "United States",
          "United States",
          "Thailand",
          "United States",
          "United Kingdom",
          "United States",
          "United States",
          "United States",
          "Australia",
          "Chile",
          "United States",
          "United States",
          "China",
          "Israel",
          "France",
          "United States",
          "United States",
          "United States",
          "United States",
          "United States",
          "Singapore",
          "United States",
          "United Arab Emirates",
          "China",
          "China",
          "United States",
          "United States",
          "United States",
          "United States",
          "Japan",
          "United States",
          "Norway",
          "United States",
          "United States",
          "Australia",
          "Canada",
          "United States",
          "United States",
          "Malaysia",
          "United States",
          "United States",
          "United States",
          "United States",
          "France",
          "Senegal",
          "United States",
          "United States",
          "United States",
          "United States",
          "India",
          "Canada",
          "United States",
          "India",
          "United States",
          "United States",
          "United States",
          "United States",
          "India",
          "United States",
          "United States",
          "United States",
          "China",
          "United States",
          "India",
          "Denmark",
          "United States",
          "United States",
          "United States",
          "United States",
          "Israel",
          "United States",
          "United Kingdom",
          "Philippines",
          "United States",
          "Germany",
          "United States",
          "Singapore",
          "China",
          "United States",
          "United States",
          "United States",
          "Nigeria",
          "United States",
          "China",
          "United States",
          "Mexico",
          "Netherlands",
          "United States",
          "United States",
          "China",
          "United States",
          "United States",
          "Sweden",
          "United States",
          "Canada",
          "China",
          "Israel",
          "Germany",
          "United States",
          "United States",
          "United States",
          "India",
          "India",
          "Brazil",
          "United States",
          "United States",
          "United States",
          "Mexico",
          "United States",
          "United States",
          "United States",
          "Vietnam",
          "Belgium",
          "United States",
          "Spain",
          "United Kingdom",
          "United States",
          "United States",
          "United States",
          "United States",
          "United States",
          "United States",
          "China",
          "India",
          "Argentina",
          "Israel",
          "Israel",
          "United States",
          "India",
          "United States",
          "United States",
          "United States",
          "United States",
          "India",
          "United States",
          "United States",
          "Brazil",
          "United States",
          "United States",
          "Singapore",
          "United States",
          "United States",
          "France",
          "United Kingdom",
          "United States",
          "Israel",
          "Turkey",
          "United States",
          "France",
          "Germany",
          "United States",
          "India",
          "United States",
          "United States",
          "Hong Kong",
          "United States",
          "United States",
          "United States",
          "India",
          "United States",
          "United States",
          "Vietnam",
          "Germany",
          "United States",
          "United States",
          "Germany",
          "United States",
          "United States",
          "United States",
          "United States",
          "United States",
          "Brazil",
          "United States",
          "United States",
          "United States",
          "United States",
          "Canada",
          "India",
          "United States",
          "Finland",
          "United States",
          "South Korea",
          "United Kingdom",
          "United States",
          "United States",
          "India",
          "United States",
          "United States",
          "United States",
          "United States",
          "United States",
          "United States",
          "Austria",
          "United States",
          "United States",
          "United States",
          "United States",
          "United States",
          "United States",
          "United States",
          "China",
          "United States",
          "United States",
          "United States",
          "United States",
          "United States",
          "India",
          "United States",
          "United States",
          "United States",
          "United States",
          "Ireland",
          "United States",
          "United States",
          "Canada",
          "India",
          "United States",
          "Austria",
          "Canada",
          "United States",
          "United States",
          "United Kingdom",
          "United States",
          "Denmark",
          "United States",
          "China",
          "United States",
          "United States",
          "India",
          "United States",
          "India",
          "Canada",
          "United States",
          "India",
          "United Kingdom",
          "United States",
          "Netherlands",
          "Germany",
          "France",
          "France",
          "United States",
          "United States",
          "United States",
          "Israel",
          "United States",
          "United States",
          "United States",
          "Canada",
          "United States",
          "United States",
          "Canada",
          "United States",
          "United States",
          "United States",
          "United States",
          "United States",
          "Germany",
          "United States",
          "China",
          "United States",
          "United States",
          "China",
          "Turkey",
          "United States",
          "United States",
          "United States",
          "United Kingdom",
          "Indonesia",
          "Bahamas",
          "United States",
          "United Kingdom",
          "Japan",
          "United States",
          "Croatia",
          "United States",
          "United States",
          "United Arab Emirates",
          "Netherlands",
          "United States",
          "United States",
          "United States",
          "United States",
          "United States",
          "Ireland",
          "United States",
          "China",
          "United States",
          "Israel",
          "United States",
          "United States",
          "United States",
          "United Kingdom",
          "United States",
          "United States",
          "China",
          "United States",
          "United States",
          "United States",
          "United States",
          "United States",
          "China",
          "United States",
          "China",
          "United States",
          "United States",
          "India",
          "United States",
          "China",
          "United States",
          "United States",
          "France",
          "China",
          "United States",
          "United States",
          "United States",
          "Israel",
          "United States",
          "Brazil",
          "United States",
          "United States",
          "United States",
          "Canada",
          "United States",
          "United States",
          "India",
          "United States",
          "China",
          "India",
          "United States",
          "France",
          "Singapore",
          "United States",
          "United States",
          "United States",
          "United States",
          "United States",
          "Netherlands",
          "United States",
          "United States",
          "United States",
          "United States",
          "United States",
          "United States",
          "United States",
          "China",
          "United States",
          "Brazil",
          "India",
          "India",
          "Israel",
          "United Kingdom",
          "Brazil",
          "United States",
          "United States",
          "United States",
          "United States",
          "United States",
          "Netherlands",
          "India",
          "China",
          "United States",
          "United States",
          "India",
          "United Kingdom",
          "United States",
          "United States",
          "United States",
          "Mexico",
          "United States",
          "United States",
          "United States",
          "United States",
          "China",
          "China",
          "United States",
          "China",
          "Brazil",
          "Switzerland",
          "United States",
          "United States",
          "France",
          "South Korea",
          "China",
          "China",
          "United States",
          "China",
          "China",
          "France",
          "United States",
          "South Korea",
          "United States",
          "India",
          "United States",
          "Germany",
          "China",
          "China",
          "China",
          "United States",
          "United Kingdom",
          "United States",
          "China",
          "United States",
          "China",
          "China",
          "China",
          "United States",
          "China",
          "China",
          "United States",
          "Israel",
          "China",
          "China",
          "Singapore",
          "Japan",
          "Luxembourg",
          "Brazil",
          "China",
          "United States",
          "China",
          "United States",
          "United States",
          "China",
          "United States",
          "South Korea",
          "United States",
          "India",
          "United States",
          "United States",
          "United States",
          "United States",
          "United States",
          "United States",
          "United Kingdom",
          "Brazil",
          "Germany",
          "United States",
          "United States",
          "Switzerland",
          "United States",
          "United States",
          "United States",
          "China",
          "United States",
          "United States",
          "India",
          "Germany",
          "Lithuania",
          "United States",
          "United States",
          "United States",
          "United States",
          "India",
          "China",
          "China",
          "Australia",
          "Brazil",
          "United States",
          "Belgium",
          "United States",
          "France",
          "United States",
          "United States",
          "United States",
          "India",
          "United Kingdom",
          "United States",
          "United Kingdom",
          "Sweden",
          "Germany",
          "China",
          "Hong Kong",
          "United States",
          "United States",
          "United States",
          "United States",
          "United States",
          "United Kingdom",
          "United States",
          "Netherlands",
          "China",
          "Germany",
          "China",
          "China",
          "United States",
          "China",
          "China",
          "China",
          "United States",
          "Brazil",
          "United States",
          "China",
          "China",
          "China",
          "Finland",
          "China",
          "China",
          "Israel",
          "China",
          "China",
          "United States",
          "China",
          "United States",
          "China",
          "South Korea",
          "Hong Kong",
          "China",
          "China",
          "Spain",
          "China",
          "China",
          "United States",
          "China",
          "China",
          "China",
          "China",
          "United States",
          "United States",
          "China",
          "China",
          "China",
          "United States",
          "Japan",
          "China",
          "Germany",
          "United States",
          "China",
          "China",
          "United States",
          "United Kingdom",
          "United States",
          "China",
          "United States",
          "India",
          "China",
          "United States",
          "United States",
          "China",
          "United States",
          "United States",
          "United States",
          "United Kingdom",
          "United States",
          "United States",
          "United Kingdom",
          "South Korea",
          "China",
          "Colombia",
          "China",
          "United States",
          "China",
          "United States",
          "United States",
          "United States",
          "United States",
          "Estonia",
          "United States",
          "India",
          "United States",
          "United States",
          "United States",
          "United States",
          "India",
          "United States",
          "United States",
          "China",
          "United States",
          "United States",
          "Germany",
          "United States",
          "United States",
          "United States",
          "United Kingdom",
          "Australia",
          "China",
          "China",
          "Hong Kong",
          "Philippines",
          "China",
          "South Africa",
          "China",
          "China",
          "United States",
          "China",
          "China",
          "United Kingdom",
          "China",
          "United Kingdom",
          "China",
          "United States",
          "China",
          "United States",
          "China",
          "China",
          "China",
          "China",
          "Bermuda",
          "United States",
          "United States",
          "China",
          "United Arab Emirates",
          "United States",
          "United Kingdom",
          "China",
          "Indonesia",
          "United Kingdom",
          "United States",
          "Germany",
          "United States",
          "China",
          "United Kingdom",
          "United States",
          "United States",
          "United States",
          "China",
          "India",
          "China",
          "United States",
          "United States",
          "China",
          "Switzerland",
          "France",
          "China",
          "South Korea",
          "China",
          "United Kingdom",
          "China",
          "South Africa",
          "China",
          "China",
          "United States",
          "China",
          "China",
          "China",
          "China",
          "China",
          "United Kingdom",
          "China",
          "China",
          "China",
          "China",
          "China",
          "China",
          "United States",
          "China",
          "China",
          "China",
          "China",
          "United States",
          "China",
          "China",
          "United States",
          "Colombia",
          "United States",
          "China",
          "United States",
          "China",
          "China",
          "United States",
          "France",
          "China",
          "United States",
          "South Korea",
          "United States",
          "United States",
          "China",
          "United States",
          "China",
          "China",
          "United States",
          "United States",
          "China",
          "India",
          "United States",
          "India",
          "United States",
          "China",
          "United States",
          "United States",
          "South Korea",
          "United States",
          "India",
          "United States",
          "United States",
          "United States",
          "United States",
          "United States",
          "United States",
          "Hong Kong",
          "United States",
          "United States",
          "United States",
          "Sweden",
          "France"
         ],
         "xaxis": "x",
         "yaxis": "y"
        }
       ],
       "layout": {
        "barmode": "relative",
        "legend": {
         "tracegroupgap": 0
        },
        "margin": {
         "t": 60
        },
        "template": {
         "data": {
          "bar": [
           {
            "error_x": {
             "color": "#2a3f5f"
            },
            "error_y": {
             "color": "#2a3f5f"
            },
            "marker": {
             "line": {
              "color": "#E5ECF6",
              "width": 0.5
             }
            },
            "type": "bar"
           }
          ],
          "barpolar": [
           {
            "marker": {
             "line": {
              "color": "#E5ECF6",
              "width": 0.5
             }
            },
            "type": "barpolar"
           }
          ],
          "carpet": [
           {
            "aaxis": {
             "endlinecolor": "#2a3f5f",
             "gridcolor": "white",
             "linecolor": "white",
             "minorgridcolor": "white",
             "startlinecolor": "#2a3f5f"
            },
            "baxis": {
             "endlinecolor": "#2a3f5f",
             "gridcolor": "white",
             "linecolor": "white",
             "minorgridcolor": "white",
             "startlinecolor": "#2a3f5f"
            },
            "type": "carpet"
           }
          ],
          "choropleth": [
           {
            "colorbar": {
             "outlinewidth": 0,
             "ticks": ""
            },
            "type": "choropleth"
           }
          ],
          "contour": [
           {
            "colorbar": {
             "outlinewidth": 0,
             "ticks": ""
            },
            "colorscale": [
             [
              0,
              "#0d0887"
             ],
             [
              0.1111111111111111,
              "#46039f"
             ],
             [
              0.2222222222222222,
              "#7201a8"
             ],
             [
              0.3333333333333333,
              "#9c179e"
             ],
             [
              0.4444444444444444,
              "#bd3786"
             ],
             [
              0.5555555555555556,
              "#d8576b"
             ],
             [
              0.6666666666666666,
              "#ed7953"
             ],
             [
              0.7777777777777778,
              "#fb9f3a"
             ],
             [
              0.8888888888888888,
              "#fdca26"
             ],
             [
              1,
              "#f0f921"
             ]
            ],
            "type": "contour"
           }
          ],
          "contourcarpet": [
           {
            "colorbar": {
             "outlinewidth": 0,
             "ticks": ""
            },
            "type": "contourcarpet"
           }
          ],
          "heatmap": [
           {
            "colorbar": {
             "outlinewidth": 0,
             "ticks": ""
            },
            "colorscale": [
             [
              0,
              "#0d0887"
             ],
             [
              0.1111111111111111,
              "#46039f"
             ],
             [
              0.2222222222222222,
              "#7201a8"
             ],
             [
              0.3333333333333333,
              "#9c179e"
             ],
             [
              0.4444444444444444,
              "#bd3786"
             ],
             [
              0.5555555555555556,
              "#d8576b"
             ],
             [
              0.6666666666666666,
              "#ed7953"
             ],
             [
              0.7777777777777778,
              "#fb9f3a"
             ],
             [
              0.8888888888888888,
              "#fdca26"
             ],
             [
              1,
              "#f0f921"
             ]
            ],
            "type": "heatmap"
           }
          ],
          "heatmapgl": [
           {
            "colorbar": {
             "outlinewidth": 0,
             "ticks": ""
            },
            "colorscale": [
             [
              0,
              "#0d0887"
             ],
             [
              0.1111111111111111,
              "#46039f"
             ],
             [
              0.2222222222222222,
              "#7201a8"
             ],
             [
              0.3333333333333333,
              "#9c179e"
             ],
             [
              0.4444444444444444,
              "#bd3786"
             ],
             [
              0.5555555555555556,
              "#d8576b"
             ],
             [
              0.6666666666666666,
              "#ed7953"
             ],
             [
              0.7777777777777778,
              "#fb9f3a"
             ],
             [
              0.8888888888888888,
              "#fdca26"
             ],
             [
              1,
              "#f0f921"
             ]
            ],
            "type": "heatmapgl"
           }
          ],
          "histogram": [
           {
            "marker": {
             "colorbar": {
              "outlinewidth": 0,
              "ticks": ""
             }
            },
            "type": "histogram"
           }
          ],
          "histogram2d": [
           {
            "colorbar": {
             "outlinewidth": 0,
             "ticks": ""
            },
            "colorscale": [
             [
              0,
              "#0d0887"
             ],
             [
              0.1111111111111111,
              "#46039f"
             ],
             [
              0.2222222222222222,
              "#7201a8"
             ],
             [
              0.3333333333333333,
              "#9c179e"
             ],
             [
              0.4444444444444444,
              "#bd3786"
             ],
             [
              0.5555555555555556,
              "#d8576b"
             ],
             [
              0.6666666666666666,
              "#ed7953"
             ],
             [
              0.7777777777777778,
              "#fb9f3a"
             ],
             [
              0.8888888888888888,
              "#fdca26"
             ],
             [
              1,
              "#f0f921"
             ]
            ],
            "type": "histogram2d"
           }
          ],
          "histogram2dcontour": [
           {
            "colorbar": {
             "outlinewidth": 0,
             "ticks": ""
            },
            "colorscale": [
             [
              0,
              "#0d0887"
             ],
             [
              0.1111111111111111,
              "#46039f"
             ],
             [
              0.2222222222222222,
              "#7201a8"
             ],
             [
              0.3333333333333333,
              "#9c179e"
             ],
             [
              0.4444444444444444,
              "#bd3786"
             ],
             [
              0.5555555555555556,
              "#d8576b"
             ],
             [
              0.6666666666666666,
              "#ed7953"
             ],
             [
              0.7777777777777778,
              "#fb9f3a"
             ],
             [
              0.8888888888888888,
              "#fdca26"
             ],
             [
              1,
              "#f0f921"
             ]
            ],
            "type": "histogram2dcontour"
           }
          ],
          "mesh3d": [
           {
            "colorbar": {
             "outlinewidth": 0,
             "ticks": ""
            },
            "type": "mesh3d"
           }
          ],
          "parcoords": [
           {
            "line": {
             "colorbar": {
              "outlinewidth": 0,
              "ticks": ""
             }
            },
            "type": "parcoords"
           }
          ],
          "pie": [
           {
            "automargin": true,
            "type": "pie"
           }
          ],
          "scatter": [
           {
            "marker": {
             "colorbar": {
              "outlinewidth": 0,
              "ticks": ""
             }
            },
            "type": "scatter"
           }
          ],
          "scatter3d": [
           {
            "line": {
             "colorbar": {
              "outlinewidth": 0,
              "ticks": ""
             }
            },
            "marker": {
             "colorbar": {
              "outlinewidth": 0,
              "ticks": ""
             }
            },
            "type": "scatter3d"
           }
          ],
          "scattercarpet": [
           {
            "marker": {
             "colorbar": {
              "outlinewidth": 0,
              "ticks": ""
             }
            },
            "type": "scattercarpet"
           }
          ],
          "scattergeo": [
           {
            "marker": {
             "colorbar": {
              "outlinewidth": 0,
              "ticks": ""
             }
            },
            "type": "scattergeo"
           }
          ],
          "scattergl": [
           {
            "marker": {
             "colorbar": {
              "outlinewidth": 0,
              "ticks": ""
             }
            },
            "type": "scattergl"
           }
          ],
          "scattermapbox": [
           {
            "marker": {
             "colorbar": {
              "outlinewidth": 0,
              "ticks": ""
             }
            },
            "type": "scattermapbox"
           }
          ],
          "scatterpolar": [
           {
            "marker": {
             "colorbar": {
              "outlinewidth": 0,
              "ticks": ""
             }
            },
            "type": "scatterpolar"
           }
          ],
          "scatterpolargl": [
           {
            "marker": {
             "colorbar": {
              "outlinewidth": 0,
              "ticks": ""
             }
            },
            "type": "scatterpolargl"
           }
          ],
          "scatterternary": [
           {
            "marker": {
             "colorbar": {
              "outlinewidth": 0,
              "ticks": ""
             }
            },
            "type": "scatterternary"
           }
          ],
          "surface": [
           {
            "colorbar": {
             "outlinewidth": 0,
             "ticks": ""
            },
            "colorscale": [
             [
              0,
              "#0d0887"
             ],
             [
              0.1111111111111111,
              "#46039f"
             ],
             [
              0.2222222222222222,
              "#7201a8"
             ],
             [
              0.3333333333333333,
              "#9c179e"
             ],
             [
              0.4444444444444444,
              "#bd3786"
             ],
             [
              0.5555555555555556,
              "#d8576b"
             ],
             [
              0.6666666666666666,
              "#ed7953"
             ],
             [
              0.7777777777777778,
              "#fb9f3a"
             ],
             [
              0.8888888888888888,
              "#fdca26"
             ],
             [
              1,
              "#f0f921"
             ]
            ],
            "type": "surface"
           }
          ],
          "table": [
           {
            "cells": {
             "fill": {
              "color": "#EBF0F8"
             },
             "line": {
              "color": "white"
             }
            },
            "header": {
             "fill": {
              "color": "#C8D4E3"
             },
             "line": {
              "color": "white"
             }
            },
            "type": "table"
           }
          ]
         },
         "layout": {
          "annotationdefaults": {
           "arrowcolor": "#2a3f5f",
           "arrowhead": 0,
           "arrowwidth": 1
          },
          "coloraxis": {
           "colorbar": {
            "outlinewidth": 0,
            "ticks": ""
           }
          },
          "colorscale": {
           "diverging": [
            [
             0,
             "#8e0152"
            ],
            [
             0.1,
             "#c51b7d"
            ],
            [
             0.2,
             "#de77ae"
            ],
            [
             0.3,
             "#f1b6da"
            ],
            [
             0.4,
             "#fde0ef"
            ],
            [
             0.5,
             "#f7f7f7"
            ],
            [
             0.6,
             "#e6f5d0"
            ],
            [
             0.7,
             "#b8e186"
            ],
            [
             0.8,
             "#7fbc41"
            ],
            [
             0.9,
             "#4d9221"
            ],
            [
             1,
             "#276419"
            ]
           ],
           "sequential": [
            [
             0,
             "#0d0887"
            ],
            [
             0.1111111111111111,
             "#46039f"
            ],
            [
             0.2222222222222222,
             "#7201a8"
            ],
            [
             0.3333333333333333,
             "#9c179e"
            ],
            [
             0.4444444444444444,
             "#bd3786"
            ],
            [
             0.5555555555555556,
             "#d8576b"
            ],
            [
             0.6666666666666666,
             "#ed7953"
            ],
            [
             0.7777777777777778,
             "#fb9f3a"
            ],
            [
             0.8888888888888888,
             "#fdca26"
            ],
            [
             1,
             "#f0f921"
            ]
           ],
           "sequentialminus": [
            [
             0,
             "#0d0887"
            ],
            [
             0.1111111111111111,
             "#46039f"
            ],
            [
             0.2222222222222222,
             "#7201a8"
            ],
            [
             0.3333333333333333,
             "#9c179e"
            ],
            [
             0.4444444444444444,
             "#bd3786"
            ],
            [
             0.5555555555555556,
             "#d8576b"
            ],
            [
             0.6666666666666666,
             "#ed7953"
            ],
            [
             0.7777777777777778,
             "#fb9f3a"
            ],
            [
             0.8888888888888888,
             "#fdca26"
            ],
            [
             1,
             "#f0f921"
            ]
           ]
          },
          "colorway": [
           "#636efa",
           "#EF553B",
           "#00cc96",
           "#ab63fa",
           "#FFA15A",
           "#19d3f3",
           "#FF6692",
           "#B6E880",
           "#FF97FF",
           "#FECB52"
          ],
          "font": {
           "color": "#2a3f5f"
          },
          "geo": {
           "bgcolor": "white",
           "lakecolor": "white",
           "landcolor": "#E5ECF6",
           "showlakes": true,
           "showland": true,
           "subunitcolor": "white"
          },
          "hoverlabel": {
           "align": "left"
          },
          "hovermode": "closest",
          "mapbox": {
           "style": "light"
          },
          "paper_bgcolor": "white",
          "plot_bgcolor": "#E5ECF6",
          "polar": {
           "angularaxis": {
            "gridcolor": "white",
            "linecolor": "white",
            "ticks": ""
           },
           "bgcolor": "#E5ECF6",
           "radialaxis": {
            "gridcolor": "white",
            "linecolor": "white",
            "ticks": ""
           }
          },
          "scene": {
           "xaxis": {
            "backgroundcolor": "#E5ECF6",
            "gridcolor": "white",
            "gridwidth": 2,
            "linecolor": "white",
            "showbackground": true,
            "ticks": "",
            "zerolinecolor": "white"
           },
           "yaxis": {
            "backgroundcolor": "#E5ECF6",
            "gridcolor": "white",
            "gridwidth": 2,
            "linecolor": "white",
            "showbackground": true,
            "ticks": "",
            "zerolinecolor": "white"
           },
           "zaxis": {
            "backgroundcolor": "#E5ECF6",
            "gridcolor": "white",
            "gridwidth": 2,
            "linecolor": "white",
            "showbackground": true,
            "ticks": "",
            "zerolinecolor": "white"
           }
          },
          "shapedefaults": {
           "line": {
            "color": "#2a3f5f"
           }
          },
          "ternary": {
           "aaxis": {
            "gridcolor": "white",
            "linecolor": "white",
            "ticks": ""
           },
           "baxis": {
            "gridcolor": "white",
            "linecolor": "white",
            "ticks": ""
           },
           "bgcolor": "#E5ECF6",
           "caxis": {
            "gridcolor": "white",
            "linecolor": "white",
            "ticks": ""
           }
          },
          "title": {
           "x": 0.05
          },
          "xaxis": {
           "automargin": true,
           "gridcolor": "white",
           "linecolor": "white",
           "ticks": "",
           "title": {
            "standoff": 15
           },
           "zerolinecolor": "white",
           "zerolinewidth": 2
          },
          "yaxis": {
           "automargin": true,
           "gridcolor": "white",
           "linecolor": "white",
           "ticks": "",
           "title": {
            "standoff": 15
           },
           "zerolinecolor": "white",
           "zerolinewidth": 2
          }
         }
        },
        "xaxis": {
         "anchor": "y",
         "categoryorder": "total descending",
         "domain": [
          0,
          1
         ],
         "title": {
          "text": "city"
         }
        },
        "yaxis": {
         "anchor": "x",
         "domain": [
          0,
          1
         ],
         "title": {
          "text": "count"
         }
        }
       }
      }
     },
     "metadata": {},
     "output_type": "display_data"
    },
    {
     "data": {
      "application/vnd.plotly.v1+json": {
       "config": {
        "plotlyServerURL": "https://plot.ly"
       },
       "data": [
        {
         "alignmentgroup": "True",
         "bingroup": "x",
         "hovertemplate": "country=%{x}<br>count=%{y}<extra></extra>",
         "legendgroup": "",
         "marker": {
          "color": "#636efa"
         },
         "name": "",
         "nbinsx": 50,
         "offsetgroup": "",
         "orientation": "v",
         "showlegend": false,
         "type": "histogram",
         "x": [
          "United States",
          "United States",
          "United States",
          "India",
          "Israel",
          "United States",
          "United States",
          "United States",
          "France",
          "United States",
          "United States",
          "United States",
          "United States",
          "India",
          "Israel",
          "United States",
          "United States",
          "United States",
          "United States",
          "Colombia",
          "Norway",
          "Japan",
          "Sweden",
          "India",
          "Germany",
          "United States",
          "Spain",
          "United States",
          "Sweden",
          "United States",
          "United States",
          "United States",
          "Germany",
          "United States",
          "United States",
          "United States",
          "United States",
          "United States",
          "United States",
          "United States",
          "United States",
          "India",
          "United States",
          "United States",
          "United States",
          "United States",
          "United States",
          "United States",
          "Italy",
          "United States",
          "India",
          "United States",
          "Canada",
          "United States",
          "United Kingdom",
          "Switzerland",
          "Norway",
          "Chile",
          "Canada",
          "India",
          "United States",
          "Israel",
          "Ireland",
          "France",
          "United States",
          "United States",
          "Italy",
          "Israel",
          "United Kingdom",
          "Liechtenstein",
          "Thailand",
          "United States",
          "United States",
          "United States",
          "United States",
          "United States",
          "India",
          "Spain",
          "India",
          "United States",
          "United States",
          "United States",
          "United States",
          "Germany",
          "United States",
          "Canada",
          "India",
          "Mexico",
          "United States",
          "United States",
          "United States",
          "United States",
          "United States",
          "Indonesia",
          "United States",
          "United States",
          "United States",
          "United Kingdom",
          "Mexico",
          "United States",
          "United States",
          "Germany",
          "United States",
          "India",
          "India",
          "United States",
          "United States",
          "United States",
          "United States",
          "United States",
          "Turkey",
          "United States",
          "United States",
          "United States",
          "United States",
          "United States",
          "United States",
          "Ireland",
          "China",
          "China",
          "United States",
          "Israel",
          "United States",
          "United States",
          "United States",
          "Australia",
          "India",
          "United States",
          "United States",
          "United States",
          "United States",
          "Spain",
          "United States",
          "India",
          "United States",
          "South Korea",
          "China",
          "United States",
          "United States",
          "Brazil",
          "United States",
          "United Kingdom",
          "United States",
          "India",
          "United Kingdom",
          "South Korea",
          "United States",
          "Israel",
          "United States",
          "Belgium",
          "United States",
          "United States",
          "United States",
          "United Kingdom",
          "Brazil",
          "United States",
          "United States",
          "United States",
          "United States",
          "United States",
          "India",
          "United States",
          "Estonia",
          "France",
          "United States",
          "Israel",
          "United States",
          "United States",
          "Ecuador",
          "China",
          "China",
          "United States",
          "United States",
          "United States",
          "United States",
          "Lithuania",
          "United States",
          "Ireland",
          "United States",
          "United States",
          "India",
          "United States",
          "United States",
          "United States",
          "United States",
          "United States",
          "Singapore",
          "United States",
          "United States",
          "United States",
          "United States",
          "United Kingdom",
          "United States",
          "United States",
          "United States",
          "South Korea",
          "Germany",
          "United States",
          "United States",
          "United States",
          "United States",
          "United States",
          "South Korea",
          "United States",
          "Croatia",
          "United States",
          "China",
          "United States",
          "United States",
          "United States",
          "Indonesia",
          "France",
          "United Kingdom",
          "United States",
          "Hong Kong",
          "United States",
          "United Kingdom",
          "United Kingdom",
          "United States",
          "China",
          "United States",
          "United States",
          "Singapore",
          "India",
          "United States",
          "United States",
          "Australia",
          "United States",
          "United States",
          "Finland",
          "Netherlands",
          "South Korea",
          "China",
          "United States",
          "United States",
          "United States",
          "United States",
          "United States",
          "United States",
          "United States",
          "United States",
          "Switzerland",
          "France",
          "United States",
          "Finland",
          "Seychelles",
          "United States",
          "United States",
          "Germany",
          "France",
          "Singapore",
          "Germany",
          "Indonesia",
          "China",
          "Sweden",
          "United States",
          "United States",
          "United States",
          "United States",
          "Germany",
          "France",
          "United States",
          "Australia",
          "United States",
          "United States",
          "United States",
          "United States",
          "Mexico",
          "United States",
          "India",
          "United States",
          "United States",
          "United States",
          "United States",
          "United States",
          "India",
          "China",
          "United States",
          "United States",
          "United States",
          "South Korea",
          "Germany",
          "United States",
          "United States",
          "China",
          "China",
          "United States",
          "United States",
          "Brazil",
          "France",
          "United Kingdom",
          "United States",
          "India",
          "France",
          "United States",
          "United States",
          "United States",
          "United States",
          "India",
          "Indonesia",
          "United States",
          "India",
          "Singapore",
          "China",
          "China",
          "United States",
          "United States",
          "United Kingdom",
          "Indonesia",
          "United States",
          "United States",
          "United States",
          "Germany",
          "Germany",
          "Hong Kong",
          "China",
          "United States",
          "United States",
          "South Korea",
          "United States",
          "Norway",
          "United States",
          "Canada",
          "United States",
          "United States",
          "Singapore",
          "India",
          "United States",
          "Australia",
          "United States",
          "China",
          "China",
          "United States",
          "United States",
          "United States",
          "United States",
          "Canada",
          "United States",
          "United States",
          "United States",
          "United States",
          "Israel",
          "United States",
          "Israel",
          "China",
          "United Kingdom",
          "Singapore",
          "China",
          "Ireland",
          "United States",
          "United States",
          "Singapore",
          "United States",
          "United States",
          "United States",
          "United States",
          "United States",
          "China",
          "Canada",
          "France",
          "United States",
          "China",
          "United States",
          "United States",
          "United States",
          "United States",
          "United Kingdom",
          "United States",
          "United States",
          "China",
          "United States",
          "United States",
          "United States",
          "China",
          "United States",
          "China",
          "United States",
          "United States",
          "United States",
          "Singapore",
          "Israel",
          "United States",
          "United States",
          "China",
          "United States",
          "United States",
          "United States",
          "Thailand",
          "United States",
          "United Kingdom",
          "Brazil",
          "United States",
          "United States",
          "United States",
          "United States",
          "United States",
          "United States",
          "India",
          "China",
          "China",
          "India",
          "United States",
          "United States",
          "United Kingdom",
          "United States",
          "India",
          "Germany",
          "United States",
          "India",
          "Singapore",
          "United States",
          "Israel",
          "United States",
          "China",
          "United States",
          "United States",
          "United Kingdom",
          "Switzerland",
          "Germany",
          "United States",
          "United States",
          "United States",
          "United States",
          "United States",
          "United States",
          "United States",
          "Mexico",
          "United States",
          "India",
          "United States",
          "India",
          "India",
          "United States",
          "United States",
          "United States",
          "Norway",
          "United States",
          "United States",
          "United States",
          "United States",
          "Czech Republic",
          "China",
          "United States",
          "Canada",
          "United States",
          "United States",
          "China",
          "United States",
          "China",
          "United States",
          "United States",
          "Japan",
          "United States",
          "Canada",
          "United States",
          "China",
          "China",
          "United States",
          "United States",
          "United States",
          "United States",
          "United Kingdom",
          "China",
          "United States",
          "China",
          "United States",
          "United States",
          "United States",
          "Mexico",
          "United States",
          "China",
          "United Kingdom",
          "United States",
          "China",
          "United States",
          "United States",
          "Germany",
          "United States",
          "United States",
          "United States",
          "United States",
          "United States",
          "United States",
          "India",
          "United States",
          "India",
          "United States",
          "Sweden",
          "Canada",
          "United States",
          "United States",
          "China",
          "Sweden",
          "United States",
          "China",
          "United States",
          "United States",
          "United States",
          "United States",
          "United States",
          "Brazil",
          "United States",
          "India",
          "United States",
          "United States",
          "United States",
          "United States",
          "United States",
          "Thailand",
          "United States",
          "United Kingdom",
          "United States",
          "United States",
          "United States",
          "Australia",
          "Chile",
          "United States",
          "United States",
          "China",
          "Israel",
          "France",
          "United States",
          "United States",
          "United States",
          "United States",
          "United States",
          "Singapore",
          "United States",
          "United Arab Emirates",
          "China",
          "China",
          "United States",
          "United States",
          "United States",
          "United States",
          "Japan",
          "United States",
          "Norway",
          "United States",
          "United States",
          "Australia",
          "Canada",
          "United States",
          "United States",
          "Malaysia",
          "United States",
          "United States",
          "United States",
          "United States",
          "France",
          "Senegal",
          "United States",
          "United States",
          "United States",
          "United States",
          "India",
          "Canada",
          "United States",
          "India",
          "United States",
          "United States",
          "United States",
          "United States",
          "India",
          "United States",
          "United States",
          "United States",
          "China",
          "United States",
          "India",
          "Denmark",
          "United States",
          "United States",
          "United States",
          "United States",
          "Israel",
          "United States",
          "United Kingdom",
          "Philippines",
          "United States",
          "Germany",
          "United States",
          "Singapore",
          "China",
          "United States",
          "United States",
          "United States",
          "Nigeria",
          "United States",
          "China",
          "United States",
          "Mexico",
          "Netherlands",
          "United States",
          "United States",
          "China",
          "United States",
          "United States",
          "Sweden",
          "United States",
          "Canada",
          "China",
          "Israel",
          "Germany",
          "United States",
          "United States",
          "United States",
          "India",
          "India",
          "Brazil",
          "United States",
          "United States",
          "United States",
          "Mexico",
          "United States",
          "United States",
          "United States",
          "Vietnam",
          "Belgium",
          "United States",
          "Spain",
          "United Kingdom",
          "United States",
          "United States",
          "United States",
          "United States",
          "United States",
          "United States",
          "China",
          "India",
          "Argentina",
          "Israel",
          "Israel",
          "United States",
          "India",
          "United States",
          "United States",
          "United States",
          "United States",
          "India",
          "United States",
          "United States",
          "Brazil",
          "United States",
          "United States",
          "Singapore",
          "United States",
          "United States",
          "France",
          "United Kingdom",
          "United States",
          "Israel",
          "Turkey",
          "United States",
          "France",
          "Germany",
          "United States",
          "India",
          "United States",
          "United States",
          "Hong Kong",
          "United States",
          "United States",
          "United States",
          "India",
          "United States",
          "United States",
          "Vietnam",
          "Germany",
          "United States",
          "United States",
          "Germany",
          "United States",
          "United States",
          "United States",
          "United States",
          "United States",
          "Brazil",
          "United States",
          "United States",
          "United States",
          "United States",
          "Canada",
          "India",
          "United States",
          "Finland",
          "United States",
          "South Korea",
          "United Kingdom",
          "United States",
          "United States",
          "India",
          "United States",
          "United States",
          "United States",
          "United States",
          "United States",
          "United States",
          "Austria",
          "United States",
          "United States",
          "United States",
          "United States",
          "United States",
          "United States",
          "United States",
          "China",
          "United States",
          "United States",
          "United States",
          "United States",
          "United States",
          "India",
          "United States",
          "United States",
          "United States",
          "United States",
          "Ireland",
          "United States",
          "United States",
          "Canada",
          "India",
          "United States",
          "Austria",
          "Canada",
          "United States",
          "United States",
          "United Kingdom",
          "United States",
          "Denmark",
          "United States",
          "China",
          "United States",
          "United States",
          "India",
          "United States",
          "India",
          "Canada",
          "United States",
          "India",
          "United Kingdom",
          "United States",
          "Netherlands",
          "Germany",
          "France",
          "France",
          "United States",
          "United States",
          "United States",
          "Israel",
          "United States",
          "United States",
          "United States",
          "Canada",
          "United States",
          "United States",
          "Canada",
          "United States",
          "United States",
          "United States",
          "United States",
          "United States",
          "Germany",
          "United States",
          "China",
          "United States",
          "United States",
          "China",
          "Turkey",
          "United States",
          "United States",
          "United States",
          "United Kingdom",
          "Indonesia",
          "Bahamas",
          "United States",
          "United Kingdom",
          "Japan",
          "United States",
          "Croatia",
          "United States",
          "United States",
          "United Arab Emirates",
          "Netherlands",
          "United States",
          "United States",
          "United States",
          "United States",
          "United States",
          "Ireland",
          "United States",
          "China",
          "United States",
          "Israel",
          "United States",
          "United States",
          "United States",
          "United Kingdom",
          "United States",
          "United States",
          "China",
          "United States",
          "United States",
          "United States",
          "United States",
          "United States",
          "China",
          "United States",
          "China",
          "United States",
          "United States",
          "India",
          "United States",
          "China",
          "United States",
          "United States",
          "France",
          "China",
          "United States",
          "United States",
          "United States",
          "Israel",
          "United States",
          "Brazil",
          "United States",
          "United States",
          "United States",
          "Canada",
          "United States",
          "United States",
          "India",
          "United States",
          "China",
          "India",
          "United States",
          "France",
          "Singapore",
          "United States",
          "United States",
          "United States",
          "United States",
          "United States",
          "Netherlands",
          "United States",
          "United States",
          "United States",
          "United States",
          "United States",
          "United States",
          "United States",
          "China",
          "United States",
          "Brazil",
          "India",
          "India",
          "Israel",
          "United Kingdom",
          "Brazil",
          "United States",
          "United States",
          "United States",
          "United States",
          "United States",
          "Netherlands",
          "India",
          "China",
          "United States",
          "United States",
          "India",
          "United Kingdom",
          "United States",
          "United States",
          "United States",
          "Mexico",
          "United States",
          "United States",
          "United States",
          "United States",
          "China",
          "China",
          "United States",
          "China",
          "Brazil",
          "Switzerland",
          "United States",
          "United States",
          "France",
          "South Korea",
          "China",
          "China",
          "United States",
          "China",
          "China",
          "France",
          "United States",
          "South Korea",
          "United States",
          "India",
          "United States",
          "Germany",
          "China",
          "China",
          "China",
          "United States",
          "United Kingdom",
          "United States",
          "China",
          "United States",
          "China",
          "China",
          "China",
          "United States",
          "China",
          "China",
          "United States",
          "Israel",
          "China",
          "China",
          "Singapore",
          "Japan",
          "Luxembourg",
          "Brazil",
          "China",
          "United States",
          "China",
          "United States",
          "United States",
          "China",
          "United States",
          "South Korea",
          "United States",
          "India",
          "United States",
          "United States",
          "United States",
          "United States",
          "United States",
          "United States",
          "United Kingdom",
          "Brazil",
          "Germany",
          "United States",
          "United States",
          "Switzerland",
          "United States",
          "United States",
          "United States",
          "China",
          "United States",
          "United States",
          "India",
          "Germany",
          "Lithuania",
          "United States",
          "United States",
          "United States",
          "United States",
          "India",
          "China",
          "China",
          "Australia",
          "Brazil",
          "United States",
          "Belgium",
          "United States",
          "France",
          "United States",
          "United States",
          "United States",
          "India",
          "United Kingdom",
          "United States",
          "United Kingdom",
          "Sweden",
          "Germany",
          "China",
          "Hong Kong",
          "United States",
          "United States",
          "United States",
          "United States",
          "United States",
          "United Kingdom",
          "United States",
          "Netherlands",
          "China",
          "Germany",
          "China",
          "China",
          "United States",
          "China",
          "China",
          "China",
          "United States",
          "Brazil",
          "United States",
          "China",
          "China",
          "China",
          "Finland",
          "China",
          "China",
          "Israel",
          "China",
          "China",
          "United States",
          "China",
          "United States",
          "China",
          "South Korea",
          "Hong Kong",
          "China",
          "China",
          "Spain",
          "China",
          "China",
          "United States",
          "China",
          "China",
          "China",
          "China",
          "United States",
          "United States",
          "China",
          "China",
          "China",
          "United States",
          "Japan",
          "China",
          "Germany",
          "United States",
          "China",
          "China",
          "United States",
          "United Kingdom",
          "United States",
          "China",
          "United States",
          "India",
          "China",
          "United States",
          "United States",
          "China",
          "United States",
          "United States",
          "United States",
          "United Kingdom",
          "United States",
          "United States",
          "United Kingdom",
          "South Korea",
          "China",
          "Colombia",
          "China",
          "United States",
          "China",
          "United States",
          "United States",
          "United States",
          "United States",
          "Estonia",
          "United States",
          "India",
          "United States",
          "United States",
          "United States",
          "United States",
          "India",
          "United States",
          "United States",
          "China",
          "United States",
          "United States",
          "Germany",
          "United States",
          "United States",
          "United States",
          "United Kingdom",
          "Australia",
          "China",
          "China",
          "Hong Kong",
          "Philippines",
          "China",
          "South Africa",
          "China",
          "China",
          "United States",
          "China",
          "China",
          "United Kingdom",
          "China",
          "United Kingdom",
          "China",
          "United States",
          "China",
          "United States",
          "China",
          "China",
          "China",
          "China",
          "Bermuda",
          "United States",
          "United States",
          "China",
          "United Arab Emirates",
          "United States",
          "United Kingdom",
          "China",
          "Indonesia",
          "United Kingdom",
          "United States",
          "Germany",
          "United States",
          "China",
          "United Kingdom",
          "United States",
          "United States",
          "United States",
          "China",
          "India",
          "China",
          "United States",
          "United States",
          "China",
          "Switzerland",
          "France",
          "China",
          "South Korea",
          "China",
          "United Kingdom",
          "China",
          "South Africa",
          "China",
          "China",
          "United States",
          "China",
          "China",
          "China",
          "China",
          "China",
          "United Kingdom",
          "China",
          "China",
          "China",
          "China",
          "China",
          "China",
          "United States",
          "China",
          "China",
          "China",
          "China",
          "United States",
          "China",
          "China",
          "United States",
          "Colombia",
          "United States",
          "China",
          "United States",
          "China",
          "China",
          "United States",
          "France",
          "China",
          "United States",
          "South Korea",
          "United States",
          "United States",
          "China",
          "United States",
          "China",
          "China",
          "United States",
          "United States",
          "China",
          "India",
          "United States",
          "India",
          "United States",
          "China",
          "United States",
          "United States",
          "South Korea",
          "United States",
          "India",
          "United States",
          "United States",
          "United States",
          "United States",
          "United States",
          "United States",
          "Hong Kong",
          "United States",
          "United States",
          "United States",
          "Sweden",
          "France"
         ],
         "xaxis": "x",
         "yaxis": "y"
        }
       ],
       "layout": {
        "barmode": "relative",
        "legend": {
         "tracegroupgap": 0
        },
        "margin": {
         "t": 60
        },
        "template": {
         "data": {
          "bar": [
           {
            "error_x": {
             "color": "#2a3f5f"
            },
            "error_y": {
             "color": "#2a3f5f"
            },
            "marker": {
             "line": {
              "color": "#E5ECF6",
              "width": 0.5
             }
            },
            "type": "bar"
           }
          ],
          "barpolar": [
           {
            "marker": {
             "line": {
              "color": "#E5ECF6",
              "width": 0.5
             }
            },
            "type": "barpolar"
           }
          ],
          "carpet": [
           {
            "aaxis": {
             "endlinecolor": "#2a3f5f",
             "gridcolor": "white",
             "linecolor": "white",
             "minorgridcolor": "white",
             "startlinecolor": "#2a3f5f"
            },
            "baxis": {
             "endlinecolor": "#2a3f5f",
             "gridcolor": "white",
             "linecolor": "white",
             "minorgridcolor": "white",
             "startlinecolor": "#2a3f5f"
            },
            "type": "carpet"
           }
          ],
          "choropleth": [
           {
            "colorbar": {
             "outlinewidth": 0,
             "ticks": ""
            },
            "type": "choropleth"
           }
          ],
          "contour": [
           {
            "colorbar": {
             "outlinewidth": 0,
             "ticks": ""
            },
            "colorscale": [
             [
              0,
              "#0d0887"
             ],
             [
              0.1111111111111111,
              "#46039f"
             ],
             [
              0.2222222222222222,
              "#7201a8"
             ],
             [
              0.3333333333333333,
              "#9c179e"
             ],
             [
              0.4444444444444444,
              "#bd3786"
             ],
             [
              0.5555555555555556,
              "#d8576b"
             ],
             [
              0.6666666666666666,
              "#ed7953"
             ],
             [
              0.7777777777777778,
              "#fb9f3a"
             ],
             [
              0.8888888888888888,
              "#fdca26"
             ],
             [
              1,
              "#f0f921"
             ]
            ],
            "type": "contour"
           }
          ],
          "contourcarpet": [
           {
            "colorbar": {
             "outlinewidth": 0,
             "ticks": ""
            },
            "type": "contourcarpet"
           }
          ],
          "heatmap": [
           {
            "colorbar": {
             "outlinewidth": 0,
             "ticks": ""
            },
            "colorscale": [
             [
              0,
              "#0d0887"
             ],
             [
              0.1111111111111111,
              "#46039f"
             ],
             [
              0.2222222222222222,
              "#7201a8"
             ],
             [
              0.3333333333333333,
              "#9c179e"
             ],
             [
              0.4444444444444444,
              "#bd3786"
             ],
             [
              0.5555555555555556,
              "#d8576b"
             ],
             [
              0.6666666666666666,
              "#ed7953"
             ],
             [
              0.7777777777777778,
              "#fb9f3a"
             ],
             [
              0.8888888888888888,
              "#fdca26"
             ],
             [
              1,
              "#f0f921"
             ]
            ],
            "type": "heatmap"
           }
          ],
          "heatmapgl": [
           {
            "colorbar": {
             "outlinewidth": 0,
             "ticks": ""
            },
            "colorscale": [
             [
              0,
              "#0d0887"
             ],
             [
              0.1111111111111111,
              "#46039f"
             ],
             [
              0.2222222222222222,
              "#7201a8"
             ],
             [
              0.3333333333333333,
              "#9c179e"
             ],
             [
              0.4444444444444444,
              "#bd3786"
             ],
             [
              0.5555555555555556,
              "#d8576b"
             ],
             [
              0.6666666666666666,
              "#ed7953"
             ],
             [
              0.7777777777777778,
              "#fb9f3a"
             ],
             [
              0.8888888888888888,
              "#fdca26"
             ],
             [
              1,
              "#f0f921"
             ]
            ],
            "type": "heatmapgl"
           }
          ],
          "histogram": [
           {
            "marker": {
             "colorbar": {
              "outlinewidth": 0,
              "ticks": ""
             }
            },
            "type": "histogram"
           }
          ],
          "histogram2d": [
           {
            "colorbar": {
             "outlinewidth": 0,
             "ticks": ""
            },
            "colorscale": [
             [
              0,
              "#0d0887"
             ],
             [
              0.1111111111111111,
              "#46039f"
             ],
             [
              0.2222222222222222,
              "#7201a8"
             ],
             [
              0.3333333333333333,
              "#9c179e"
             ],
             [
              0.4444444444444444,
              "#bd3786"
             ],
             [
              0.5555555555555556,
              "#d8576b"
             ],
             [
              0.6666666666666666,
              "#ed7953"
             ],
             [
              0.7777777777777778,
              "#fb9f3a"
             ],
             [
              0.8888888888888888,
              "#fdca26"
             ],
             [
              1,
              "#f0f921"
             ]
            ],
            "type": "histogram2d"
           }
          ],
          "histogram2dcontour": [
           {
            "colorbar": {
             "outlinewidth": 0,
             "ticks": ""
            },
            "colorscale": [
             [
              0,
              "#0d0887"
             ],
             [
              0.1111111111111111,
              "#46039f"
             ],
             [
              0.2222222222222222,
              "#7201a8"
             ],
             [
              0.3333333333333333,
              "#9c179e"
             ],
             [
              0.4444444444444444,
              "#bd3786"
             ],
             [
              0.5555555555555556,
              "#d8576b"
             ],
             [
              0.6666666666666666,
              "#ed7953"
             ],
             [
              0.7777777777777778,
              "#fb9f3a"
             ],
             [
              0.8888888888888888,
              "#fdca26"
             ],
             [
              1,
              "#f0f921"
             ]
            ],
            "type": "histogram2dcontour"
           }
          ],
          "mesh3d": [
           {
            "colorbar": {
             "outlinewidth": 0,
             "ticks": ""
            },
            "type": "mesh3d"
           }
          ],
          "parcoords": [
           {
            "line": {
             "colorbar": {
              "outlinewidth": 0,
              "ticks": ""
             }
            },
            "type": "parcoords"
           }
          ],
          "pie": [
           {
            "automargin": true,
            "type": "pie"
           }
          ],
          "scatter": [
           {
            "marker": {
             "colorbar": {
              "outlinewidth": 0,
              "ticks": ""
             }
            },
            "type": "scatter"
           }
          ],
          "scatter3d": [
           {
            "line": {
             "colorbar": {
              "outlinewidth": 0,
              "ticks": ""
             }
            },
            "marker": {
             "colorbar": {
              "outlinewidth": 0,
              "ticks": ""
             }
            },
            "type": "scatter3d"
           }
          ],
          "scattercarpet": [
           {
            "marker": {
             "colorbar": {
              "outlinewidth": 0,
              "ticks": ""
             }
            },
            "type": "scattercarpet"
           }
          ],
          "scattergeo": [
           {
            "marker": {
             "colorbar": {
              "outlinewidth": 0,
              "ticks": ""
             }
            },
            "type": "scattergeo"
           }
          ],
          "scattergl": [
           {
            "marker": {
             "colorbar": {
              "outlinewidth": 0,
              "ticks": ""
             }
            },
            "type": "scattergl"
           }
          ],
          "scattermapbox": [
           {
            "marker": {
             "colorbar": {
              "outlinewidth": 0,
              "ticks": ""
             }
            },
            "type": "scattermapbox"
           }
          ],
          "scatterpolar": [
           {
            "marker": {
             "colorbar": {
              "outlinewidth": 0,
              "ticks": ""
             }
            },
            "type": "scatterpolar"
           }
          ],
          "scatterpolargl": [
           {
            "marker": {
             "colorbar": {
              "outlinewidth": 0,
              "ticks": ""
             }
            },
            "type": "scatterpolargl"
           }
          ],
          "scatterternary": [
           {
            "marker": {
             "colorbar": {
              "outlinewidth": 0,
              "ticks": ""
             }
            },
            "type": "scatterternary"
           }
          ],
          "surface": [
           {
            "colorbar": {
             "outlinewidth": 0,
             "ticks": ""
            },
            "colorscale": [
             [
              0,
              "#0d0887"
             ],
             [
              0.1111111111111111,
              "#46039f"
             ],
             [
              0.2222222222222222,
              "#7201a8"
             ],
             [
              0.3333333333333333,
              "#9c179e"
             ],
             [
              0.4444444444444444,
              "#bd3786"
             ],
             [
              0.5555555555555556,
              "#d8576b"
             ],
             [
              0.6666666666666666,
              "#ed7953"
             ],
             [
              0.7777777777777778,
              "#fb9f3a"
             ],
             [
              0.8888888888888888,
              "#fdca26"
             ],
             [
              1,
              "#f0f921"
             ]
            ],
            "type": "surface"
           }
          ],
          "table": [
           {
            "cells": {
             "fill": {
              "color": "#EBF0F8"
             },
             "line": {
              "color": "white"
             }
            },
            "header": {
             "fill": {
              "color": "#C8D4E3"
             },
             "line": {
              "color": "white"
             }
            },
            "type": "table"
           }
          ]
         },
         "layout": {
          "annotationdefaults": {
           "arrowcolor": "#2a3f5f",
           "arrowhead": 0,
           "arrowwidth": 1
          },
          "coloraxis": {
           "colorbar": {
            "outlinewidth": 0,
            "ticks": ""
           }
          },
          "colorscale": {
           "diverging": [
            [
             0,
             "#8e0152"
            ],
            [
             0.1,
             "#c51b7d"
            ],
            [
             0.2,
             "#de77ae"
            ],
            [
             0.3,
             "#f1b6da"
            ],
            [
             0.4,
             "#fde0ef"
            ],
            [
             0.5,
             "#f7f7f7"
            ],
            [
             0.6,
             "#e6f5d0"
            ],
            [
             0.7,
             "#b8e186"
            ],
            [
             0.8,
             "#7fbc41"
            ],
            [
             0.9,
             "#4d9221"
            ],
            [
             1,
             "#276419"
            ]
           ],
           "sequential": [
            [
             0,
             "#0d0887"
            ],
            [
             0.1111111111111111,
             "#46039f"
            ],
            [
             0.2222222222222222,
             "#7201a8"
            ],
            [
             0.3333333333333333,
             "#9c179e"
            ],
            [
             0.4444444444444444,
             "#bd3786"
            ],
            [
             0.5555555555555556,
             "#d8576b"
            ],
            [
             0.6666666666666666,
             "#ed7953"
            ],
            [
             0.7777777777777778,
             "#fb9f3a"
            ],
            [
             0.8888888888888888,
             "#fdca26"
            ],
            [
             1,
             "#f0f921"
            ]
           ],
           "sequentialminus": [
            [
             0,
             "#0d0887"
            ],
            [
             0.1111111111111111,
             "#46039f"
            ],
            [
             0.2222222222222222,
             "#7201a8"
            ],
            [
             0.3333333333333333,
             "#9c179e"
            ],
            [
             0.4444444444444444,
             "#bd3786"
            ],
            [
             0.5555555555555556,
             "#d8576b"
            ],
            [
             0.6666666666666666,
             "#ed7953"
            ],
            [
             0.7777777777777778,
             "#fb9f3a"
            ],
            [
             0.8888888888888888,
             "#fdca26"
            ],
            [
             1,
             "#f0f921"
            ]
           ]
          },
          "colorway": [
           "#636efa",
           "#EF553B",
           "#00cc96",
           "#ab63fa",
           "#FFA15A",
           "#19d3f3",
           "#FF6692",
           "#B6E880",
           "#FF97FF",
           "#FECB52"
          ],
          "font": {
           "color": "#2a3f5f"
          },
          "geo": {
           "bgcolor": "white",
           "lakecolor": "white",
           "landcolor": "#E5ECF6",
           "showlakes": true,
           "showland": true,
           "subunitcolor": "white"
          },
          "hoverlabel": {
           "align": "left"
          },
          "hovermode": "closest",
          "mapbox": {
           "style": "light"
          },
          "paper_bgcolor": "white",
          "plot_bgcolor": "#E5ECF6",
          "polar": {
           "angularaxis": {
            "gridcolor": "white",
            "linecolor": "white",
            "ticks": ""
           },
           "bgcolor": "#E5ECF6",
           "radialaxis": {
            "gridcolor": "white",
            "linecolor": "white",
            "ticks": ""
           }
          },
          "scene": {
           "xaxis": {
            "backgroundcolor": "#E5ECF6",
            "gridcolor": "white",
            "gridwidth": 2,
            "linecolor": "white",
            "showbackground": true,
            "ticks": "",
            "zerolinecolor": "white"
           },
           "yaxis": {
            "backgroundcolor": "#E5ECF6",
            "gridcolor": "white",
            "gridwidth": 2,
            "linecolor": "white",
            "showbackground": true,
            "ticks": "",
            "zerolinecolor": "white"
           },
           "zaxis": {
            "backgroundcolor": "#E5ECF6",
            "gridcolor": "white",
            "gridwidth": 2,
            "linecolor": "white",
            "showbackground": true,
            "ticks": "",
            "zerolinecolor": "white"
           }
          },
          "shapedefaults": {
           "line": {
            "color": "#2a3f5f"
           }
          },
          "ternary": {
           "aaxis": {
            "gridcolor": "white",
            "linecolor": "white",
            "ticks": ""
           },
           "baxis": {
            "gridcolor": "white",
            "linecolor": "white",
            "ticks": ""
           },
           "bgcolor": "#E5ECF6",
           "caxis": {
            "gridcolor": "white",
            "linecolor": "white",
            "ticks": ""
           }
          },
          "title": {
           "x": 0.05
          },
          "xaxis": {
           "automargin": true,
           "gridcolor": "white",
           "linecolor": "white",
           "ticks": "",
           "title": {
            "standoff": 15
           },
           "zerolinecolor": "white",
           "zerolinewidth": 2
          },
          "yaxis": {
           "automargin": true,
           "gridcolor": "white",
           "linecolor": "white",
           "ticks": "",
           "title": {
            "standoff": 15
           },
           "zerolinecolor": "white",
           "zerolinewidth": 2
          }
         }
        },
        "xaxis": {
         "anchor": "y",
         "categoryorder": "total descending",
         "domain": [
          0,
          1
         ],
         "title": {
          "text": "country"
         }
        },
        "yaxis": {
         "anchor": "x",
         "domain": [
          0,
          1
         ],
         "title": {
          "text": "count"
         }
        }
       }
      }
     },
     "metadata": {},
     "output_type": "display_data"
    },
    {
     "data": {
      "application/vnd.plotly.v1+json": {
       "config": {
        "plotlyServerURL": "https://plot.ly"
       },
       "data": [
        {
         "alignmentgroup": "True",
         "bingroup": "x",
         "hovertemplate": "industry=%{x}<br>count=%{y}<extra></extra>",
         "legendgroup": "",
         "marker": {
          "color": "#636efa"
         },
         "name": "",
         "nbinsx": 50,
         "offsetgroup": "",
         "orientation": "v",
         "showlegend": false,
         "type": "histogram",
         "x": [
          "Fintech",
          "Internet software & services",
          "Data management & analytics",
          "Internet software & services",
          "Cybersecurity ",
          "Artificial intelligence",
          "Fintech",
          "Other",
          "E-commerce & direct-to-consumer",
          "Internet software & services",
          "Data management & analytics",
          "Supply chain, logistics, & delivery",
          "Supply chain, logistics, & delivery",
          "Internet software & services",
          "Hardware",
          "Cybersecurity",
          "Data management & analytics",
          "Health",
          "Internet software & services",
          "Fintech",
          "Internet software & services",
          "Fintech",
          "Other",
          "Fintech",
          "Fintech",
          "Auto & transportation",
          "Internet software & services",
          "Other",
          "Supply chain, logistics, & delivery",
          "Health",
          "Fintech",
          "Internet software & services",
          "E-commerce & direct-to-consumer",
          "Health",
          "Internet software & services",
          "Cybersecurity",
          "Fintech",
          "Mobile & telecommunications",
          "Internet software & services",
          "Artificial Intelligence",
          "Fintech",
          "Internet software & services",
          "Internet software & services",
          "Fintech",
          "Fintech",
          "Internet software & services",
          "Cybersecurity",
          "Health",
          "Fintech",
          "Internet software & services",
          "Internet software & services",
          "Cybersecurity ",
          "Internet software & services",
          "Internet software & services",
          "Fintech",
          "Supply chain, logistics, & delivery",
          "Data management & analytics",
          "Artificial intelligence",
          "Supply chain, logistics, & delivery",
          "Data management & analytics",
          "Fintech",
          "Cybersecurity",
          "Fintech",
          "Supply chain, logistics, & delivery",
          "Auto & transportation",
          "Fintech",
          "Fintech",
          "Fintech",
          "Internet software & services",
          "Internet software & services",
          "E-commerce & direct-to-consumer",
          "Fintech",
          "Health",
          "Fintech",
          "Fintech",
          "Consumer & retail",
          "E-commerce & direct-to-consumer",
          "Other",
          "Edtech",
          "Cybersecurity",
          "Data management & analytics",
          "Cybersecurity",
          "Health",
          "Internet software & services",
          "Cybersecurity",
          "Cybersecurity",
          "Edtech",
          "Supply chain, logistics, & delivery",
          "Fintech",
          "Supply chain, logistics, & delivery",
          "Internet software & services",
          "Artificial intelligence",
          "Health",
          "Fintech",
          "Fintech",
          "Other",
          "Mobile & telecommunications",
          "Health",
          "Fintech",
          "Fintech",
          "Artificial Intelligence",
          "E-commerce & direct-to-consumer",
          "Internet software & services",
          "Supply chain, logistics, & delivery",
          "E-commerce & direct-to-consumer",
          "Fintech",
          "Artificial intelligence",
          "Internet software & services",
          "Fintech",
          "Health",
          "Internet software & services",
          "E-commerce & direct-to-consumer",
          "Edtech",
          "Internet software & services",
          "Fintech",
          "Fintech",
          "Supply chain, logistics, & delivery",
          "Internet software & services",
          "Hardware",
          "Hardware",
          "Health",
          "Supply chain, logistics, & delivery",
          "Health",
          "Internet software & services",
          "Internet software & services",
          "Internet software & services",
          "Fintech",
          "Supply chain, logistics, & delivery",
          "Fintech",
          "Internet software & services",
          "Fintech",
          "Travel",
          "Fintech",
          "Supply chain, logistics, & delivery",
          "Health",
          "E-commerce & direct-to-consumer",
          "Hardware",
          "Other",
          "Internet software & services",
          "Fintech",
          "Health",
          "Mobile & telecommunications",
          "Cybersecurity",
          "Fintech",
          "Fintech",
          "E-commerce & direct-to-consumer",
          "Health",
          "Data management & analytics",
          "Artificial intelligence",
          "Fintech",
          "Internet software & services",
          "Cybersecurity",
          "Other",
          "Internet software & services",
          "Fintech",
          "Artificial intelligence",
          "Mobile & telecommunications",
          "Fintech",
          "E-commerce & direct-to-consumer",
          "Internet software & services",
          "Supply chain, logistics, & delivery",
          "Health",
          "Artificial intelligence",
          "Fintech",
          "E-commerce & direct-to-consumer",
          "Other",
          "Health",
          "Internet software & services",
          "Fintech",
          "Other",
          "Supply chain, logistics, & delivery",
          "Hardware",
          "Internet software & services",
          "Fintech",
          "Cybersecurity",
          "Cybersecurity",
          "Fintech",
          "Fintech",
          "Artificial Intelligence",
          "Artificial intelligence",
          "E-commerce & direct-to-consumer",
          "Health",
          "Health",
          "Internet software & services",
          "Fintech",
          "Internet software & services",
          "Fintech",
          "Fintech",
          "Health",
          "Health",
          "Internet software & services",
          "Edtech",
          "Internet software & services",
          "Artificial intelligence",
          "Internet software & services",
          "Internet software & services",
          "Auto & transportation",
          "E-commerce & direct-to-consumer",
          "Artificial Intelligence",
          "Internet software & services",
          "Fintech",
          "Fintech",
          "Mobile & telecommunications",
          "Fintech",
          "Auto & transportation",
          "Artificial intelligence",
          "Auto & transportation",
          "Cybersecurity",
          "Internet software & services",
          "Internet software & services",
          "E-commerce & direct-to-consumer",
          "Hardware",
          "Fintech",
          "Internet software & services",
          "Fintech",
          "Fintech",
          "Fintech",
          "Other",
          "Artificial intelligence",
          "Supply chain, logistics, & delivery",
          "Fintech",
          "Other",
          "Fintech",
          "Internet software & services",
          "Hardware",
          "Other",
          "Fintech",
          "Health",
          "Artificial Intelligence",
          "Health",
          "Fintech",
          "Internet software & services",
          "Auto & transportation",
          "Fintech",
          "Fintech",
          "Health",
          "Internet software & services",
          "Internet software & services",
          "Cybersecurity",
          "Internet software & services",
          "Internet software & services",
          "Internet software & services",
          "Fintech",
          "Other",
          "Supply chain, logistics, & delivery",
          "Fintech",
          "Internet software & services",
          "Data management & analytics",
          "Fintech",
          "Internet software & services",
          "Internet software & services",
          "Other",
          "Consumer & retail",
          "Artificial Intelligence",
          "Travel",
          "Consumer & retail",
          "Cybersecurity",
          "Health",
          "Internet software & services",
          "E-commerce & direct-to-consumer",
          "Fintech",
          "Consumer & retail",
          "E-commerce & direct-to-consumer",
          "Cybersecurity",
          "Data management & analytics",
          "Artificial Intelligence",
          "Internet software & services",
          "Fintech",
          "Internet software & services",
          "Internet software & services",
          "Cybersecurity",
          "Artificial Intelligence",
          "Cybersecurity",
          "Internet software & services",
          "E-commerce & direct-to-consumer",
          "Other",
          "Hardware",
          "Fintech",
          "Cybersecurity",
          "Internet software & services",
          "Internet software & services",
          "Consumer & retail",
          "Cybersecurity",
          "Internet software & services",
          "Internet software & services",
          "Internet software & services",
          "Artificial intelligence",
          "Supply chain, logistics, & delivery",
          "Supply chain, logistics, & delivery",
          "Health",
          "Fintech",
          "Artificial intelligence",
          "Fintech",
          "Fintech",
          "E-commerce & direct-to-consumer",
          "Internet software & services",
          "Data management & analytics",
          "Fintech",
          "E-commerce & direct-to-consumer",
          "Fintech",
          "Health",
          "Edtech",
          "Supply chain, logistics, & delivery",
          "Consumer & retail",
          "Supply chain, logistics, & delivery",
          "Internet software & services",
          "Internet software & services",
          "Fintech",
          "Fintech",
          "Fintech",
          "Health",
          "E-commerce & direct-to-consumer",
          "Hardware",
          "E-commerce & direct-to-consumer",
          "E-commerce & direct-to-consumer",
          "Hardware",
          "Mobile & telecommunications",
          "Artificial intelligence",
          "Fintech",
          "Health",
          "E-commerce & direct-to-consumer",
          "Artificial intelligence",
          "Fintech",
          "Artificial intelligence",
          "Fintech",
          "Fintech",
          "Supply chain, logistics, & delivery",
          "Supply chain, logistics, & delivery",
          "Internet software & services",
          "Fintech",
          "Health",
          "Fintech",
          "Internet software & services",
          "Artificial intelligence",
          "Fintech",
          "Supply chain, logistics, & delivery",
          "Internet software & services",
          "Internet software & services",
          "Fintech",
          "Fintech",
          "Internet software & services",
          "Edtech",
          "Cybersecurity",
          "Supply chain, logistics, & delivery",
          "Internet software & services",
          "Artificial intelligence",
          "E-commerce & direct-to-consumer",
          "Hardware",
          "Health",
          "Health",
          "Supply chain, logistics, & delivery",
          "Fintech",
          "Other",
          "Fintech",
          "Fintech",
          "Data management & analytics",
          "Fintech",
          "Consumer & retail",
          "Artificial intelligence",
          "Artificial intelligence",
          "Other",
          "Internet software & services",
          "Internet software & services",
          "Other",
          "Artificial intelligence",
          "Health",
          "Fintech",
          "Artificial intelligence",
          "Fintech",
          "Health",
          "Artificial intelligence",
          "Fintech",
          "E-commerce & direct-to-consumer",
          "Fintech",
          "Internet software & services",
          "Edtech",
          "Artificial intelligence",
          "Fintech",
          "Health",
          "Internet software & services",
          "Cybersecurity",
          "Edtech",
          "Supply chain, logistics, & delivery",
          "Fintech",
          "Artificial intelligence",
          "Hardware",
          "Other",
          "Supply chain, logistics, & delivery",
          "Internet software & services",
          "Fintech",
          "E-commerce & direct-to-consumer",
          "Internet software & services",
          "Data management & analytics",
          "Hardware",
          "Internet software & services",
          "Hardware",
          "Mobile & telecommunications",
          "E-commerce & direct-to-consumer",
          "Supply chain, logistics, & delivery",
          "Supply chain, logistics, & delivery",
          "E-commerce & direct-to-consumer",
          "Internet software & services",
          "Fintech",
          "Fintech",
          "E-commerce & direct-to-consumer",
          "Fintech",
          "Internet software & services",
          "Internet software & services",
          "Internet software & services",
          "E-commerce & direct-to-consumer",
          "Internet software & services",
          "Artificial intelligence",
          "Internet software & services",
          "Internet software & services",
          "Fintech",
          "Health",
          "Fintech",
          "Data management & analytics",
          "Supply chain, logistics, & delivery",
          "Fintech",
          "Health",
          "Artificial intelligence",
          "Fintech",
          "Internet software & services",
          "Health",
          "Data management & analytics",
          "E-commerce & direct-to-consumer",
          "Supply chain, logistics, & delivery",
          "Health",
          "Fintech",
          "E-commerce & direct-to-consumer",
          "E-commerce & direct-to-consumer",
          "Internet software & services",
          "Data management & analytics",
          "Internet software & services",
          "E-commerce & direct-to-consumer",
          "Fintech",
          "Internet software & services",
          "Fintech",
          "Health",
          "Supply chain, logistics, & delivery",
          "Artificial Intelligence",
          "Internet software & services",
          "Artificial intelligence",
          "Artificial intelligence",
          "Other",
          "Artificial intelligence",
          "Fintech",
          "Edtech",
          "Fintech",
          "Internet software & services",
          "Other",
          "Auto & transportation ",
          "Other",
          "Health",
          "Health",
          "Hardware",
          "Internet software & services",
          "Cybersecurity",
          "Internet software & services",
          "Internet software & services",
          "Fintech",
          "Fintech",
          "Supply chain, logistics, & delivery",
          "Artificial Intelligence",
          "Data management & analytics",
          "Supply chain, logistics, & delivery",
          "Fintech",
          "Fintech",
          "Internet software & services",
          "Mobile & telecommunications",
          "E-commerce & direct-to-consumer",
          "Fintech",
          "Health",
          "Cybersecurity",
          "Internet software & services",
          "Fintech",
          "Mobile & telecommunications",
          "Edtech",
          "Internet software & services",
          "Internet software & services",
          "Auto & transportation",
          "Fintech",
          "Other",
          "Internet software & services",
          "E-commerce & direct-to-consumer",
          "Internet software & services",
          "Internet software & services",
          "Internet software & services",
          "Health",
          "Health",
          "Health",
          "Auto & transportation",
          "Fintech",
          "Artificial Intelligence",
          "Other",
          "Fintech",
          "Supply chain, logistics, & delivery",
          "Internet software & services",
          "Internet software & services",
          "E-commerce & direct-to-consumer",
          "Other",
          "Health",
          "Internet software & services",
          "Fintech",
          "Internet software & services",
          "Internet software & services",
          "Internet software & services",
          "Fintech",
          "Cybersecurity",
          "Data management & analytics",
          "Internet software & services",
          "Fintech",
          "Fintech",
          "Internet software & services",
          "Consumer & retail",
          "Internet software & services",
          "Internet software & services",
          "Supply chain, logistics, & delivery",
          "Hardware",
          "Hardware",
          "Fintech",
          "Fintech",
          "Cybersecurity",
          "Other",
          "Health",
          "Fintech",
          "Internet software & services",
          "Supply chain, logistics, & delivery",
          "Other",
          "Hardware",
          "Fintech",
          "Health",
          "Fintech",
          "Fintech",
          "Fintech",
          "Artificial intelligence",
          "Data management & analytics",
          "Health",
          "Fintech",
          "Internet software & services",
          "Internet software & services",
          "E-commerce & direct-to-consumer",
          "Internet software & services",
          "E-commerce & direct-to-consumer",
          "Fintech",
          "Artificial intelligence",
          "Data management & analytics",
          "Cybersecurity",
          "E-commerce & direct-to-consumer",
          "Fintech",
          "Internet software & services",
          "Health",
          "Health",
          "Cybersecurity",
          "E-commerce & direct-to-consumer",
          "Cybersecurity",
          "Health",
          "Fintech",
          "Hardware",
          "Internet software & services",
          "Other",
          "Fintech",
          "Fintech",
          "Health",
          "Fintech",
          "Internet software & services",
          "Edtech",
          "Data management & analytics",
          "Edtech",
          "Fintech",
          "Data management & analytics",
          "Internet software & services",
          "Health",
          "Internet software & services",
          "Cybersecurity",
          "Artificial intelligence",
          "Fintech",
          "Fintech",
          "Data management & analytics",
          "Travel",
          "Fintech",
          "Artificial intelligence",
          "Artificial intelligence",
          "Health",
          "Supply chain, logistics, & delivery",
          "Internet software & services",
          "Fintech",
          "Fintech",
          "Artificial intelligence",
          "Internet software & services",
          "Fintech",
          "Fintech",
          "Internet software & services",
          "Fintech",
          "Internet software & services",
          "Fintech",
          "Internet software & services",
          "Health",
          "Artificial intelligence",
          "Fintech",
          "Consumer & retail",
          "Fintech",
          "Supply chain, logistics, & delivery",
          "Health",
          "Artificial intelligence ",
          "Fintech",
          "E-commerce & direct-to-consumer",
          "Fintech",
          "Fintech",
          "Data management & analytics",
          "Fintech",
          "Consumer & retail ",
          "Fintech",
          "Fintech",
          "Internet software & services",
          "Internet software & services",
          "Fintech",
          "Internet software & services",
          "Other",
          "Internet software & services",
          "Fintech",
          "Supply chain, logistics, & delivery",
          "Internet software & services",
          "Other",
          "Cybersecurity",
          "Cybersecurity",
          "Fintech",
          "Auto & transportation",
          "Internet software & services",
          "Fintech",
          "Internet software & services",
          "Internet software & services",
          "E-commerce & direct-to-consumer",
          "Internet software & services",
          "Cybersecurity",
          "Internet software & services",
          "Cybersecurity",
          "Fintech",
          "E-commerce & direct-to-consumer",
          "Internet software & services",
          "Data management & analytics",
          "Artificial intelligence",
          "Data management & analytics",
          "Cybersecurity",
          "E-commerce & direct-to-consumer",
          "Internet software & services",
          "Internet software & services",
          "E-commerce & direct-to-consumer",
          "Fintech",
          "Internet software & services",
          "Cybersecurity",
          "Mobile & telecommunications",
          "Edtech",
          "Fintech",
          "E-commerce & direct-to-consumer",
          "Fintech",
          "Fintech",
          "Other",
          "Fintech",
          "Fintech",
          "Fintech",
          "Internet software & services",
          "Fintech",
          "Fintech",
          "Fintech",
          "Edtech",
          "Internet software & services",
          "Supply chain, logistics, & delivery",
          "Internet software & services",
          "Internet software & services",
          "Internet software & services",
          "Health",
          "Internet software & services",
          "Internet software & services",
          "Fintech",
          "Internet software & services",
          "E-commerce & direct-to-consumer",
          "Hardware",
          "Internet software & services",
          "E-commerce & direct-to-consumer",
          "Health",
          "Fintech",
          "Edtech",
          "Fintech",
          "Internet software & services",
          "Fintech",
          "Supply chain, logistics, & delivery",
          "Fintech",
          "Data management & analytics",
          "Data management & analytics",
          "Fintech",
          "Fintech",
          "Other",
          "Hardware",
          "Fintech",
          "Internet software & services",
          "Internet software & services",
          "Edtech",
          "Fintech",
          "Internet software & services",
          "Internet software & services",
          "Fintech",
          "Internet software & services",
          "E-commerce & direct-to-consumer",
          "Artificial intelligence",
          "Health",
          "Internet software & services",
          "Other",
          "Health",
          "E-commerce & direct-to-consumer",
          "Edtech",
          "Fintech",
          "Internet software & services",
          "Internet software & services",
          "E-commerce & direct-to-consumer",
          "Fintech",
          "Internet software & services",
          "Mobile & telecommunications",
          "Internet software & services",
          "Internet software & services",
          "Fintech",
          "Supply chain, logistics, & delivery",
          "Fintech",
          "E-commerce & direct-to-consumer",
          "Data management & analytics",
          "Cybersecurity",
          "Fintech",
          "Health",
          "Fintech",
          "Internet software & services",
          "Hardware",
          "Health",
          "Health",
          "Internet software & services",
          "Cybersecurity",
          "Internet software & services",
          "Travel",
          "Data management & analytics",
          "E-commerce & direct-to-consumer",
          "Fintech",
          "Data management & analytics",
          "Fintech",
          "Fintech",
          "Internet software & services",
          "E-commerce & direct-to-consumer",
          "Internet software & services",
          "Artificial intelligence",
          "Fintech",
          "Cybersecurity",
          "Internet software & services",
          "Other",
          "Health",
          "Cybersecurity",
          "Fintech",
          "Fintech",
          "Internet software & services",
          "Health",
          "Fintech",
          "Fintech",
          "Fintech",
          "Cybersecurity",
          "Internet software & services",
          "Fintech",
          "Consumer & retail",
          "Fintech",
          "Fintech",
          "Auto & transportation",
          "Supply chain, logistics, & delivery",
          "Fintech",
          "Internet software & services",
          "Internet software & services",
          "Fintech",
          "Supply chain, logistics, & delivery",
          "Fintech",
          "Other",
          "Supply chain, logistics, & delivery",
          "Other",
          "E-commerce & direct-to-consumer",
          "Mobile & telecommunications",
          "Health",
          "Edtech",
          "Other",
          "E-commerce & direct-to-consumer",
          "Health",
          "E-commerce & direct-to-consumer",
          "Data management & analytics",
          "Cybersecurity",
          "Data management & analytics",
          "Internet software & services",
          "Cybersecurity",
          "Other",
          "Health",
          "Health",
          "Health",
          "Internet software & services",
          "Internet software & services",
          "E-commerce & direct-to-consumer",
          "Internet software & services",
          "Internet software & services",
          "Mobile & telecommunications",
          "Internet software & services",
          "Other",
          "Supply chain, logistics, & delivery",
          "Health",
          "Fintech",
          "E-commerce & direct-to-consumer",
          "Data management & analytics",
          "Internet software & services",
          "Mobile & telecommunications",
          "Internet software & services",
          "E-commerce & direct-to-consumer",
          "Fintech",
          "Artificial intelligence",
          "Internet software & services",
          "Fintech",
          "Other",
          "Hardware",
          "Health",
          "Fintech",
          "Fintech",
          "Cybersecurity",
          "Artificial intelligence",
          "E-commerce & direct-to-consumer",
          "Auto & transportation",
          "Internet software & services",
          "Cybersecurity",
          "Edtech",
          "Fintech",
          "Cybersecurity",
          "E-commerce & direct-to-consumer",
          "Health",
          "Auto & transportation",
          "Edtech",
          "Internet software & services",
          "E-commerce & direct-to-consumer",
          "Mobile & telecommunications",
          "Edtech",
          "Auto & transportation",
          "E-commerce & direct-to-consumer",
          "E-commerce & direct-to-consumer",
          "Data management & analytics",
          "Mobile & telecommunications",
          "Other",
          "Internet software & services",
          "Health",
          "Internet software & services",
          "Other",
          "Other",
          "Cybersecurity",
          "Auto & transportation",
          "Health",
          "Fintech",
          "Internet software & services",
          "Fintech",
          "Mobile & telecommunications",
          "Other",
          "Fintech",
          "Data management & analytics",
          "Internet software & services",
          "Health",
          "Mobile & telecommunications",
          "Fintech",
          "Fintech",
          "Fintech",
          "Auto & transportation",
          "Health",
          "Artificial intelligence",
          "Fintech",
          "Internet software & services",
          "Fintech",
          "Fintech",
          "Cybersecurity",
          "E-commerce & direct-to-consumer",
          "Internet software & services",
          "E-commerce & direct-to-consumer",
          "Internet software & services",
          "Internet software & services",
          "E-commerce & direct-to-consumer",
          "Consumer & retail",
          "Supply chain, logistics, & delivery",
          "E-commerce & direct-to-consumer",
          "Fintech",
          "Fintech",
          "Fintech",
          "Fintech",
          "Artificial intelligence",
          "Travel",
          "Edtech",
          "Other",
          "Internet software & services",
          "Mobile & telecommunications",
          "Artificial intelligence",
          "Other",
          "Artificial intelligence",
          "Health",
          "Data management & analytics",
          "Supply chain, logistics, & delivery",
          "Fintech",
          "Travel",
          "Fintech",
          "Supply chain, logistics, & delivery",
          "Artificial intelligence",
          "Consumer & retail",
          "Other",
          "Other",
          "Cybersecurity",
          "E-commerce & direct-to-consumer",
          "Internet software & services",
          "Auto & transportation",
          "E-commerce & direct-to-consumer",
          "Fintech",
          "E-commerce & direct-to-consumer",
          "Fintech",
          "Supply chain, logistics, & delivery",
          "Artificial intelligence",
          "Auto & transportation",
          "E-commerce & direct-to-consumer",
          "Artificial intelligence",
          "Mobile & telecommunications",
          "Other",
          "Supply chain, logistics, & delivery",
          "Internet software & services",
          "Data management & analytics",
          "Travel",
          "Cybersecurity",
          "Internet software & services",
          "Mobile & telecommunications",
          "Internet software & services",
          "E-commerce & direct-to-consumer",
          "Supply chain, logistics, & delivery",
          "Fintech",
          "Cybersecurity",
          "Internet software & services",
          "Supply chain, logistics, & delivery",
          "Internet software & services",
          "Artificial intelligence",
          "Fintech",
          "Health",
          "Other",
          "Auto & transportation",
          "Mobile & telecommunications",
          "Other",
          "Cybersecurity",
          "E-commerce & direct-to-consumer",
          "Fintech",
          "Consumer & retail",
          "E-commerce & direct-to-consumer",
          "Internet software & services",
          "Internet software & services",
          "E-commerce & direct-to-consumer",
          "Fintech",
          "E-commerce & direct-to-consumer",
          "Internet software & services",
          "Artificial intelligence",
          "Artificial intelligence",
          "Artificial intelligence",
          "Auto & transportation",
          "Auto & transportation",
          "Artificial intelligence",
          "Fintech",
          "E-commerce & direct-to-consumer",
          "Internet software & services",
          "Data management & analytics",
          "Artificial intelligence",
          "Health",
          "Auto & transportation",
          "Artificial intelligence",
          "Fintech",
          "Internet software & services",
          "Fintech",
          "Auto & transportation",
          "Fintech",
          "Other",
          "Fintech",
          "Other",
          "Supply chain, logistics, & delivery",
          "Artificial intelligence",
          "Internet software & services",
          "Fintech",
          "Fintech",
          "Data management & analytics",
          "Fintech",
          "Supply chain, logistics, & delivery",
          "Hardware",
          "Hardware",
          "Travel",
          "E-commerce & direct-to-consumer",
          "Artificial intelligence",
          "Fintech",
          "Auto & transportation",
          "Supply chain, logistics, & delivery",
          "Mobile & telecommunications",
          "Consumer & retail",
          "Mobile & telecommunications",
          "Internet software & services",
          "Health",
          "Hardware",
          "Edtech",
          "Mobile & telecommunications",
          "Health",
          "Auto & transportation",
          "Artificial intelligence",
          "Internet software & services",
          "Auto & transportation",
          "Auto & transportation",
          "Internet software & services",
          "Internet software & services",
          "Artificial intelligence",
          "Other",
          "Travel",
          "Artificial intelligence",
          "Supply chain, logistics, & delivery",
          "Auto & transportation",
          "Supply chain, logistics, & delivery",
          "Hardware",
          "Auto & transportation",
          "Consumer & retail",
          "E-commerce & direct-to-consumer",
          "Auto & transportation",
          "Data management & analytics",
          "Consumer & retail",
          "Consumer & retail",
          "Auto & transportation",
          "Hardware",
          "Artificial intelligence",
          "Hardware",
          "Artificial intelligence",
          "Artificial intelligence",
          "Other",
          "Consumer & retail",
          "Auto & transportation",
          "Internet software & services",
          "Fintech",
          "Artificial intelligence",
          "Internet software & services",
          "Edtech",
          "Fintech",
          "Supply chain, logistics, & delivery",
          "Auto & transportation",
          "Data management & analytics",
          "Supply chain, logistics, & delivery",
          "Health",
          "Mobile & telecommunications",
          "Hardware",
          "Health",
          "Fintech",
          "Artificial intelligence",
          "Internet software & services",
          "Fintech",
          "Fintech",
          "Auto & transportation",
          "Supply chain, logistics, & delivery",
          "Consumer & retail",
          "Fintech",
          "E-commerce & direct-to-consumer",
          "Artificial intelligence",
          "Cybersecurity",
          "Supply chain, logistics, & delivery",
          "Health",
          "Auto & transportation",
          "Artificial intelligence",
          "Travel",
          "Travel",
          "Internet software & services",
          "Internet software & services",
          "Internet software & services",
          "Supply chain, logistics, & delivery",
          "Internet software & services",
          "Health",
          "Hardware",
          "Fintech",
          "Health",
          "Data management & analytics",
          "Fintech",
          "Internet software & services",
          "Other",
          "Fintech",
          "Internet software & services",
          "E-commerce & direct-to-consumer",
          "Mobile & telecommunications",
          "Fintech",
          "Other",
          "Supply chain, logistics, & delivery",
          "Mobile & telecommunications",
          "E-commerce & direct-to-consumer",
          "E-commerce & direct-to-consumer",
          "Health",
          "E-commerce & direct-to-consumer",
          "Consumer & retail",
          "Fintech",
          "Edtech",
          "Consumer & retail",
          "Internet software & services",
          "Health",
          "Mobile & telecommunications",
          "Fintech",
          "Travel",
          "Edtech",
          "Data management & analytics",
          "Mobile & telecommunications",
          "Artificial intelligence",
          "Internet software & services",
          "Internet software & services",
          "Fintech",
          "Other",
          "Consumer & retail",
          "Fintech",
          "E-commerce & direct-to-consumer",
          "Travel",
          "Other",
          "Artificial intelligence",
          "Health",
          "Data management & analytics",
          "Artificial intelligence",
          "Fintech",
          "Mobile & telecommunications",
          "Internet software & services",
          "Consumer & retail",
          "Edtech",
          "Edtech",
          "Artificial intelligence",
          "Consumer & retail",
          "Internet software & services",
          "Artificial intelligence",
          "Health",
          "Other",
          "E-commerce & direct-to-consumer",
          "Consumer & retail",
          "Supply chain, logistics, & delivery",
          "Auto & transportation",
          "E-commerce & direct-to-consumer",
          "Consumer & retail",
          "E-commerce & direct-to-consumer",
          "Mobile & telecommunications",
          "Edtech",
          "Other",
          "Hardware",
          "Edtech",
          "E-commerce & direct-to-consumer",
          "E-commerce & direct-to-consumer",
          "Hardware",
          "E-commerce & direct-to-consumer",
          "Edtech",
          "Edtech",
          "E-commerce & direct-to-consumer",
          "Internet software & services",
          "E-commerce & direct-to-consumer",
          "Internet software & services",
          "Mobile & telecommunications",
          "Fintech",
          "E-commerce & direct-to-consumer",
          "E-commerce & direct-to-consumer",
          "Other",
          "Mobile & telecommunications",
          "E-commerce & direct-to-consumer",
          "E-commerce & direct-to-consumer",
          "Other",
          "Internet software & services",
          "Travel",
          "Hardware",
          "Internet software & services",
          "Mobile & telecommunications",
          "Health",
          "Auto & transportation",
          "E-commerce & direct-to-consumer",
          "Artificial intelligence",
          "E-commerce & direct-to-consumer",
          "Hardware",
          "Cybersecurity",
          "Mobile & telecommunications",
          "E-commerce & direct-to-consumer",
          "Hardware",
          "Health",
          "Cybersecurity",
          "Fintech",
          "Hardware",
          "Mobile & telecommunications",
          "E-commerce & direct-to-consumer",
          "E-commerce & direct-to-consumer",
          "Mobile & telecommunications",
          "E-commerce & direct-to-consumer",
          "Hardware",
          "Health",
          "Mobile & telecommunications",
          "E-commerce & direct-to-consumer",
          "Auto & transportation",
          "Supply chain, logistics, & delivery",
          "Fintech",
          "Cybersecurity",
          "Data management & analytics",
          "Internet software & services",
          "Artificial intelligence",
          "Consumer & retail",
          "E-commerce & direct-to-consumer",
          "Other",
          "Internet software & services",
          "Fintech",
          "E-commerce & direct-to-consumer"
         ],
         "xaxis": "x",
         "yaxis": "y"
        }
       ],
       "layout": {
        "barmode": "relative",
        "legend": {
         "tracegroupgap": 0
        },
        "margin": {
         "t": 60
        },
        "template": {
         "data": {
          "bar": [
           {
            "error_x": {
             "color": "#2a3f5f"
            },
            "error_y": {
             "color": "#2a3f5f"
            },
            "marker": {
             "line": {
              "color": "#E5ECF6",
              "width": 0.5
             }
            },
            "type": "bar"
           }
          ],
          "barpolar": [
           {
            "marker": {
             "line": {
              "color": "#E5ECF6",
              "width": 0.5
             }
            },
            "type": "barpolar"
           }
          ],
          "carpet": [
           {
            "aaxis": {
             "endlinecolor": "#2a3f5f",
             "gridcolor": "white",
             "linecolor": "white",
             "minorgridcolor": "white",
             "startlinecolor": "#2a3f5f"
            },
            "baxis": {
             "endlinecolor": "#2a3f5f",
             "gridcolor": "white",
             "linecolor": "white",
             "minorgridcolor": "white",
             "startlinecolor": "#2a3f5f"
            },
            "type": "carpet"
           }
          ],
          "choropleth": [
           {
            "colorbar": {
             "outlinewidth": 0,
             "ticks": ""
            },
            "type": "choropleth"
           }
          ],
          "contour": [
           {
            "colorbar": {
             "outlinewidth": 0,
             "ticks": ""
            },
            "colorscale": [
             [
              0,
              "#0d0887"
             ],
             [
              0.1111111111111111,
              "#46039f"
             ],
             [
              0.2222222222222222,
              "#7201a8"
             ],
             [
              0.3333333333333333,
              "#9c179e"
             ],
             [
              0.4444444444444444,
              "#bd3786"
             ],
             [
              0.5555555555555556,
              "#d8576b"
             ],
             [
              0.6666666666666666,
              "#ed7953"
             ],
             [
              0.7777777777777778,
              "#fb9f3a"
             ],
             [
              0.8888888888888888,
              "#fdca26"
             ],
             [
              1,
              "#f0f921"
             ]
            ],
            "type": "contour"
           }
          ],
          "contourcarpet": [
           {
            "colorbar": {
             "outlinewidth": 0,
             "ticks": ""
            },
            "type": "contourcarpet"
           }
          ],
          "heatmap": [
           {
            "colorbar": {
             "outlinewidth": 0,
             "ticks": ""
            },
            "colorscale": [
             [
              0,
              "#0d0887"
             ],
             [
              0.1111111111111111,
              "#46039f"
             ],
             [
              0.2222222222222222,
              "#7201a8"
             ],
             [
              0.3333333333333333,
              "#9c179e"
             ],
             [
              0.4444444444444444,
              "#bd3786"
             ],
             [
              0.5555555555555556,
              "#d8576b"
             ],
             [
              0.6666666666666666,
              "#ed7953"
             ],
             [
              0.7777777777777778,
              "#fb9f3a"
             ],
             [
              0.8888888888888888,
              "#fdca26"
             ],
             [
              1,
              "#f0f921"
             ]
            ],
            "type": "heatmap"
           }
          ],
          "heatmapgl": [
           {
            "colorbar": {
             "outlinewidth": 0,
             "ticks": ""
            },
            "colorscale": [
             [
              0,
              "#0d0887"
             ],
             [
              0.1111111111111111,
              "#46039f"
             ],
             [
              0.2222222222222222,
              "#7201a8"
             ],
             [
              0.3333333333333333,
              "#9c179e"
             ],
             [
              0.4444444444444444,
              "#bd3786"
             ],
             [
              0.5555555555555556,
              "#d8576b"
             ],
             [
              0.6666666666666666,
              "#ed7953"
             ],
             [
              0.7777777777777778,
              "#fb9f3a"
             ],
             [
              0.8888888888888888,
              "#fdca26"
             ],
             [
              1,
              "#f0f921"
             ]
            ],
            "type": "heatmapgl"
           }
          ],
          "histogram": [
           {
            "marker": {
             "colorbar": {
              "outlinewidth": 0,
              "ticks": ""
             }
            },
            "type": "histogram"
           }
          ],
          "histogram2d": [
           {
            "colorbar": {
             "outlinewidth": 0,
             "ticks": ""
            },
            "colorscale": [
             [
              0,
              "#0d0887"
             ],
             [
              0.1111111111111111,
              "#46039f"
             ],
             [
              0.2222222222222222,
              "#7201a8"
             ],
             [
              0.3333333333333333,
              "#9c179e"
             ],
             [
              0.4444444444444444,
              "#bd3786"
             ],
             [
              0.5555555555555556,
              "#d8576b"
             ],
             [
              0.6666666666666666,
              "#ed7953"
             ],
             [
              0.7777777777777778,
              "#fb9f3a"
             ],
             [
              0.8888888888888888,
              "#fdca26"
             ],
             [
              1,
              "#f0f921"
             ]
            ],
            "type": "histogram2d"
           }
          ],
          "histogram2dcontour": [
           {
            "colorbar": {
             "outlinewidth": 0,
             "ticks": ""
            },
            "colorscale": [
             [
              0,
              "#0d0887"
             ],
             [
              0.1111111111111111,
              "#46039f"
             ],
             [
              0.2222222222222222,
              "#7201a8"
             ],
             [
              0.3333333333333333,
              "#9c179e"
             ],
             [
              0.4444444444444444,
              "#bd3786"
             ],
             [
              0.5555555555555556,
              "#d8576b"
             ],
             [
              0.6666666666666666,
              "#ed7953"
             ],
             [
              0.7777777777777778,
              "#fb9f3a"
             ],
             [
              0.8888888888888888,
              "#fdca26"
             ],
             [
              1,
              "#f0f921"
             ]
            ],
            "type": "histogram2dcontour"
           }
          ],
          "mesh3d": [
           {
            "colorbar": {
             "outlinewidth": 0,
             "ticks": ""
            },
            "type": "mesh3d"
           }
          ],
          "parcoords": [
           {
            "line": {
             "colorbar": {
              "outlinewidth": 0,
              "ticks": ""
             }
            },
            "type": "parcoords"
           }
          ],
          "pie": [
           {
            "automargin": true,
            "type": "pie"
           }
          ],
          "scatter": [
           {
            "marker": {
             "colorbar": {
              "outlinewidth": 0,
              "ticks": ""
             }
            },
            "type": "scatter"
           }
          ],
          "scatter3d": [
           {
            "line": {
             "colorbar": {
              "outlinewidth": 0,
              "ticks": ""
             }
            },
            "marker": {
             "colorbar": {
              "outlinewidth": 0,
              "ticks": ""
             }
            },
            "type": "scatter3d"
           }
          ],
          "scattercarpet": [
           {
            "marker": {
             "colorbar": {
              "outlinewidth": 0,
              "ticks": ""
             }
            },
            "type": "scattercarpet"
           }
          ],
          "scattergeo": [
           {
            "marker": {
             "colorbar": {
              "outlinewidth": 0,
              "ticks": ""
             }
            },
            "type": "scattergeo"
           }
          ],
          "scattergl": [
           {
            "marker": {
             "colorbar": {
              "outlinewidth": 0,
              "ticks": ""
             }
            },
            "type": "scattergl"
           }
          ],
          "scattermapbox": [
           {
            "marker": {
             "colorbar": {
              "outlinewidth": 0,
              "ticks": ""
             }
            },
            "type": "scattermapbox"
           }
          ],
          "scatterpolar": [
           {
            "marker": {
             "colorbar": {
              "outlinewidth": 0,
              "ticks": ""
             }
            },
            "type": "scatterpolar"
           }
          ],
          "scatterpolargl": [
           {
            "marker": {
             "colorbar": {
              "outlinewidth": 0,
              "ticks": ""
             }
            },
            "type": "scatterpolargl"
           }
          ],
          "scatterternary": [
           {
            "marker": {
             "colorbar": {
              "outlinewidth": 0,
              "ticks": ""
             }
            },
            "type": "scatterternary"
           }
          ],
          "surface": [
           {
            "colorbar": {
             "outlinewidth": 0,
             "ticks": ""
            },
            "colorscale": [
             [
              0,
              "#0d0887"
             ],
             [
              0.1111111111111111,
              "#46039f"
             ],
             [
              0.2222222222222222,
              "#7201a8"
             ],
             [
              0.3333333333333333,
              "#9c179e"
             ],
             [
              0.4444444444444444,
              "#bd3786"
             ],
             [
              0.5555555555555556,
              "#d8576b"
             ],
             [
              0.6666666666666666,
              "#ed7953"
             ],
             [
              0.7777777777777778,
              "#fb9f3a"
             ],
             [
              0.8888888888888888,
              "#fdca26"
             ],
             [
              1,
              "#f0f921"
             ]
            ],
            "type": "surface"
           }
          ],
          "table": [
           {
            "cells": {
             "fill": {
              "color": "#EBF0F8"
             },
             "line": {
              "color": "white"
             }
            },
            "header": {
             "fill": {
              "color": "#C8D4E3"
             },
             "line": {
              "color": "white"
             }
            },
            "type": "table"
           }
          ]
         },
         "layout": {
          "annotationdefaults": {
           "arrowcolor": "#2a3f5f",
           "arrowhead": 0,
           "arrowwidth": 1
          },
          "coloraxis": {
           "colorbar": {
            "outlinewidth": 0,
            "ticks": ""
           }
          },
          "colorscale": {
           "diverging": [
            [
             0,
             "#8e0152"
            ],
            [
             0.1,
             "#c51b7d"
            ],
            [
             0.2,
             "#de77ae"
            ],
            [
             0.3,
             "#f1b6da"
            ],
            [
             0.4,
             "#fde0ef"
            ],
            [
             0.5,
             "#f7f7f7"
            ],
            [
             0.6,
             "#e6f5d0"
            ],
            [
             0.7,
             "#b8e186"
            ],
            [
             0.8,
             "#7fbc41"
            ],
            [
             0.9,
             "#4d9221"
            ],
            [
             1,
             "#276419"
            ]
           ],
           "sequential": [
            [
             0,
             "#0d0887"
            ],
            [
             0.1111111111111111,
             "#46039f"
            ],
            [
             0.2222222222222222,
             "#7201a8"
            ],
            [
             0.3333333333333333,
             "#9c179e"
            ],
            [
             0.4444444444444444,
             "#bd3786"
            ],
            [
             0.5555555555555556,
             "#d8576b"
            ],
            [
             0.6666666666666666,
             "#ed7953"
            ],
            [
             0.7777777777777778,
             "#fb9f3a"
            ],
            [
             0.8888888888888888,
             "#fdca26"
            ],
            [
             1,
             "#f0f921"
            ]
           ],
           "sequentialminus": [
            [
             0,
             "#0d0887"
            ],
            [
             0.1111111111111111,
             "#46039f"
            ],
            [
             0.2222222222222222,
             "#7201a8"
            ],
            [
             0.3333333333333333,
             "#9c179e"
            ],
            [
             0.4444444444444444,
             "#bd3786"
            ],
            [
             0.5555555555555556,
             "#d8576b"
            ],
            [
             0.6666666666666666,
             "#ed7953"
            ],
            [
             0.7777777777777778,
             "#fb9f3a"
            ],
            [
             0.8888888888888888,
             "#fdca26"
            ],
            [
             1,
             "#f0f921"
            ]
           ]
          },
          "colorway": [
           "#636efa",
           "#EF553B",
           "#00cc96",
           "#ab63fa",
           "#FFA15A",
           "#19d3f3",
           "#FF6692",
           "#B6E880",
           "#FF97FF",
           "#FECB52"
          ],
          "font": {
           "color": "#2a3f5f"
          },
          "geo": {
           "bgcolor": "white",
           "lakecolor": "white",
           "landcolor": "#E5ECF6",
           "showlakes": true,
           "showland": true,
           "subunitcolor": "white"
          },
          "hoverlabel": {
           "align": "left"
          },
          "hovermode": "closest",
          "mapbox": {
           "style": "light"
          },
          "paper_bgcolor": "white",
          "plot_bgcolor": "#E5ECF6",
          "polar": {
           "angularaxis": {
            "gridcolor": "white",
            "linecolor": "white",
            "ticks": ""
           },
           "bgcolor": "#E5ECF6",
           "radialaxis": {
            "gridcolor": "white",
            "linecolor": "white",
            "ticks": ""
           }
          },
          "scene": {
           "xaxis": {
            "backgroundcolor": "#E5ECF6",
            "gridcolor": "white",
            "gridwidth": 2,
            "linecolor": "white",
            "showbackground": true,
            "ticks": "",
            "zerolinecolor": "white"
           },
           "yaxis": {
            "backgroundcolor": "#E5ECF6",
            "gridcolor": "white",
            "gridwidth": 2,
            "linecolor": "white",
            "showbackground": true,
            "ticks": "",
            "zerolinecolor": "white"
           },
           "zaxis": {
            "backgroundcolor": "#E5ECF6",
            "gridcolor": "white",
            "gridwidth": 2,
            "linecolor": "white",
            "showbackground": true,
            "ticks": "",
            "zerolinecolor": "white"
           }
          },
          "shapedefaults": {
           "line": {
            "color": "#2a3f5f"
           }
          },
          "ternary": {
           "aaxis": {
            "gridcolor": "white",
            "linecolor": "white",
            "ticks": ""
           },
           "baxis": {
            "gridcolor": "white",
            "linecolor": "white",
            "ticks": ""
           },
           "bgcolor": "#E5ECF6",
           "caxis": {
            "gridcolor": "white",
            "linecolor": "white",
            "ticks": ""
           }
          },
          "title": {
           "x": 0.05
          },
          "xaxis": {
           "automargin": true,
           "gridcolor": "white",
           "linecolor": "white",
           "ticks": "",
           "title": {
            "standoff": 15
           },
           "zerolinecolor": "white",
           "zerolinewidth": 2
          },
          "yaxis": {
           "automargin": true,
           "gridcolor": "white",
           "linecolor": "white",
           "ticks": "",
           "title": {
            "standoff": 15
           },
           "zerolinecolor": "white",
           "zerolinewidth": 2
          }
         }
        },
        "xaxis": {
         "anchor": "y",
         "categoryorder": "total descending",
         "domain": [
          0,
          1
         ],
         "title": {
          "text": "industry"
         }
        },
        "yaxis": {
         "anchor": "x",
         "domain": [
          0,
          1
         ],
         "title": {
          "text": "count"
         }
        }
       }
      }
     },
     "metadata": {},
     "output_type": "display_data"
    },
    {
     "data": {
      "application/vnd.plotly.v1+json": {
       "config": {
        "plotlyServerURL": "https://plot.ly"
       },
       "data": [
        {
         "alignmentgroup": "True",
         "bingroup": "x",
         "hovertemplate": "investors=%{x}<br>count=%{y}<extra></extra>",
         "legendgroup": "",
         "marker": {
          "color": "#636efa"
         },
         "name": "",
         "nbinsx": 50,
         "offsetgroup": "",
         "orientation": "v",
         "showlegend": false,
         "type": "histogram",
         "x": [
          [
           "  Next Play Ventures ",
           " Zeal Capital Partners ",
           " SoftBank Group  "
          ],
          [
           "  Accel ",
           " 14W ",
           " GS Growth  "
          ],
          [
           "  General Catalyst ",
           " Nexus Venture Partners ",
           " Dell Technologies Capital  "
          ],
          [
           "  Lightspeed India Partners ",
           " Sequoia Capital India ",
           " Endiya Partners  "
          ],
          [
           "  AWZ Ventures ",
           " Blackstone ",
           " Insight Partners  "
          ],
          [
           "  Fifth Wall Ventures ",
           " JBV Capital ",
           " Array Ventures  "
          ],
          [
           "  Franklin Templeton ",
           " Motive Partners  Apollo Global Management  "
          ],
          [
           "  General Catalyst ",
           " Inspired Capital ",
           " Flybridge Capital Partners  "
          ],
          [
           "  Global Founders Capital ",
           " Aglae Ventures ",
           " Alven Capital  "
          ],
          [
           "  Boost VC ",
           " Draper Associates ",
           " Gaingels  "
          ],
          [
           "  Google Ventures ",
           " Accel ",
           " Data Collective  "
          ],
          [
           "  Eclipse Ventures ",
           " D1 Capital Partners ",
           " Industry Ventures  "
          ],
          [
           "  Hyde Park Venture Partners ",
           " Bain Capital Ventures ",
           " Hyde Park Angels  "
          ],
          [
           "  Gaja Capital Partners ",
           " Stakeboat Capital ",
           " WestBridge Capital  "
          ],
          [
           "  Battery Ventures ",
           " Bessemer Venture Partners ",
           " MoreVC  "
          ],
          [
           "  Bain Capital Ventures ",
           " Splunk Ventures ",
           " Cisco Investments  "
          ],
          [
           "  DFJ Growth Fund ",
           " Dell Technologies Capital ",
           " Ten Eleven Ventures  "
          ],
          [
           "  Bain Capital Ventures ",
           " Splunk Ventures ",
           " Cisco Investments  "
          ],
          [
           "  General Catalyst ",
           " Kleiner Perkins Caufield   Byers ",
           " Lightspeed Venture Partners  "
          ],
          [
           "  Homebrew ",
           " Inspired Capital ",
           " Tiger Global Management  "
          ],
          [
           "  Spark Capital  "
          ],
          [
           "  Sinar Mas Digital Ventures ",
           " JIC Venture Growth Investments ",
           " Golden Gate Ventures  "
          ],
          [
           "  AMF Pensionsforsakring  "
          ],
          [
           "  3one4 Capital Partners ",
           " Tiger Global Management ",
           " Temasek  "
          ],
          [
           "  Valar Ventures ",
           " Index Ventures ",
           " Creandum  "
          ],
          [
           "  Hedosophia ",
           " Horizons Ventures ",
           " Alumni Ventures Group  "
          ],
          [
           "  K Fund ",
           " Creandum ",
           " CRV  "
          ],
          [
           "  Battery Ventures ",
           " Adams Street Partners ",
           " Coatue Management  "
          ],
          [
           "  Creades ",
           " EQT Ventures ",
           " Verdane Capital  "
          ],
          [
           "  iSeed Ventures ",
           " Point Nine Capital ",
           " Buckley Ventures  "
          ],
          [
           "  Emergence Capital ",
           " Slack Fund ",
           " PayPal Ventures  "
          ],
          [
           "  New Enterprise Associates ",
           " Tull Investment Group ",
           " Silver Lake  "
          ],
          [
           "  Varengold Bank ",
           " Circularity Capital ",
           " Coparion  "
          ],
          [
           "  Japan Industrial Partners ",
           " Impact Investment Capital ",
           " NEC  "
          ],
          [
           "  Andreessen Horowitz ",
           " FTX Ventures ",
           " Tiger Global Management  "
          ],
          [
           "  Primary Venture Partners ",
           " Bessemer Venture Partners ",
           " Harmonic Growth Partners  "
          ],
          [
           "  L Catterton ",
           " Trellis Partners ",
           " Vista Equity Partners  "
          ],
          [
           "  Prime Movers Lab ",
           " Khosla Ventures ",
           " I Squared Capital  "
          ],
          [
           "  Green Bay Ventures ",
           " M12 ",
           " Andreessen Horowitz  "
          ],
          [
           "  Trinity Ventures ",
           " Madrona Venture Group ",
           " Shasta Ventures  "
          ],
          [
           "  Wildcat Capital Management ",
           " Insight Partners ",
           " Tola Capital  "
          ],
          [
           "  Mayfield ",
           " Accel ",
           " Norwest Venture Partners  "
          ],
          [
           "  Andreessen Horowitz ",
           " Coinbase Ventures ",
           " Tiger Global Management  "
          ],
          [
           "  Polychain Capital ",
           " Paradigm ",
           " Ribbit Capital  "
          ],
          [
           "  Craft Ventures ",
           " F-Prime Capital ",
           " Sound Ventures  "
          ],
          [
           "  Zeev Ventures ",
           " Bond ",
           " Fifth Wall Ventures  "
          ],
          [
           "  8VC ",
           " Liberty Strategic Capital ",
           " Eden Global Partners  "
          ],
          [
           "  U S  Venture Partners ",
           " dRx Capital ",
           " Andreessen Horowitz  "
          ],
          [
           "  Fasanara Capital ",
           " Tiger Global Management ",
           " Baleen Capital  "
          ],
          [
           "  New Enterprise Associates ",
           " Benchmark ",
           " Two Sigma Ventures  "
          ],
          [
           "  Nexus Venture Partners ",
           " Vertex Ventures ",
           " STRIVE  "
          ],
          [
           "  Battery Ventures ",
           " Tiger Global Management ",
           " Hanaco Ventures  "
          ],
          [
           "  Lemniscap VC ",
           " North Island Ventures ",
           " Polychain Capital  "
          ],
          [
           "  Kleiner Perkins Caufield   Byers ",
           " Sequoia Capital  "
          ],
          [
           "  Earlybird Venture Capital ",
           " Eleven Ventures ",
           " QED Investors  "
          ],
          [
           "  Atomico ",
           " NGP Capital ",
           " Google Ventures  "
          ],
          [
           "  Multicoin Capital ",
           " Coatue Management ",
           " Dragonfly Capital Partners  "
          ],
          [
           "  QED Investors ",
           " DST Global ",
           " Endeavor  "
          ],
          [
           "  Vista Equity Partners ",
           " Warburg Pincus ",
           " First Ascent Ventures  "
          ],
          [
           "  TPG Capital ",
           " Apax Partners ",
           " TA Associates  "
          ],
          [
           "  Resolute Ventures ",
           " Shima Capital ",
           " Circle Ventures  "
          ],
          [
           "  Insight Partners ",
           " Toba Capital ",
           " Spring Ventures  "
          ],
          [
           "  Railway Pension Trustee Co  Ltd   "
          ],
          [
           "  Astorg Partners ",
           " Princeville Global ",
           " Beyond Net Zero  "
          ],
          [
           "  Meson Capital Partners ",
           " Fifth Wall Ventures ",
           " OGCI Climate Investments  "
          ],
          [
           "  BlueRun Ventures ",
           " LEAP Global Partners ",
           " Cervin Ventures  "
          ],
          [
           "  Lightrock ",
           " Greyhound Capital ",
           " Endeavor  "
          ],
          [
           "  Mouro Capital ",
           " Hanaco Venture Capital ",
           " Gramercy Ventures  "
          ],
          [
           "  Lightspeed Venture Partners ",
           " Coatue Management  "
          ],
          [
           "  Placeholder Capital ",
           " Coinbase Ventures ",
           " Binance Ventures  "
          ],
          [
           "  BRV Capital Management ",
           " Bualuang Ventures  "
          ],
          [
           "  Andreessen Horowitz  "
          ],
          [
           "  Silverton Partners ",
           " Tusk Ventures ",
           " CRV  "
          ],
          [
           "  American Family Ventures ",
           " Greycroft ",
           " SignalFire  "
          ],
          [
           "  Jump Capital ",
           " Pantera Capital ",
           " Greylock Partners  "
          ],
          [
           "  AF Ventures ",
           " Siddhi Capital ",
           " SC Holdings  "
          ],
          [
           "  Blume Ventures ",
           " JSW Ventures ",
           " IvyCap Ventures  "
          ],
          [
           "  Goldman Sachs Asset Management ",
           " STORY3 Capital Partners  "
          ],
          [
           "  GSV Ventures ",
           " WestBridge Capital  "
          ],
          [
           "  Andreessen Horowitz ",
           " Founders Fund  "
          ],
          [
           "  Andreessen Horowitz ",
           " Bessemer Venture Partners ",
           " Khosla Ventures",
           "  "
          ],
          [
           "  Kleiner Perkins Caufield   Byers ",
           " s28 Capital ",
           " Insight Partners  "
          ],
          [
           "  Kaiser Permanente Ventures ",
           " Endeavour Vision ",
           " LRVHealth  "
          ],
          [
           "  Insight Partners ",
           " e ventures ",
           " General Atlantic  "
          ],
          [
           "  New Enterprise Associates ",
           " Koch Disruptive Technologies ",
           " Evolution Equity Partners  "
          ],
          [
           "  Edison Partners ",
           " Georgian Partners ",
           " VentureLink  "
          ],
          [
           "  WestBridge Capital ",
           " GSV Ventures ",
           " Elevar Equity  "
          ],
          [
           "   Monashees  ",
           " Foundation Capital ",
           " Base10 Partners  "
          ],
          [
           "   CMFG Ventures ",
           " Accomplice ",
           " Moderne Ventures  "
          ],
          [
           "  Redpoint Ventures ",
           " Prologis Ventures ",
           " Madrona Venture Group  "
          ],
          [
           "  Forestay Capital ",
           " Alumni Ventures ",
           " NTT DoCoMo Ventures  "
          ],
          [
           "  Upfront Ventures ",
           " Accel ",
           " Industry Ventures  "
          ],
          [
           "  Artiman Ventures ",
           " Pitango Venture Capital ",
           " Valo Ventures  "
          ],
          [
           "  Ant Group ",
           " Lazada ",
           " Sinar Mas Indonesia  "
          ],
          [
           "  FirstMark Capital ",
           " Anthemis ",
           " CMFG Ventures  "
          ],
          [
           "  Breakthrough Energy Ventures ",
           " Material Impact ",
           " 3x5 Special Opportunity Partners  "
          ],
          [
           "  Mendacre ",
           " BRV Capital Management ",
           " Liquid 2 Ventures  "
          ],
          [
           "  CVC Capital Partners  "
          ],
          [
           "  Vision Plus Capital ",
           "  tSource Code Capital ",
           " Lightspeed Venture Partners  "
          ],
          [
           "  Accel ",
           " Better Tomorrow Ventures ",
           " Flourish Ventures  "
          ],
          [
           "  Kleiner Perkins Caufield   Byers ",
           " CRV ",
           " Threshold Ventures  "
          ],
          [
           "  Bessemer Venture Partners ",
           " G Squared ",
           " Insight Partners  "
          ],
          [
           "  FirstMark Capital ",
           " Tiger Global Management ",
           " FTX Venture  "
          ],
          [
           "  Norwest Venture Partners ",
           " Investcorp ",
           " Blackstone  "
          ],
          [
           "  Jungle Ventures ",
           " Helion Venture Partners ",
           " INGKA Investments  "
          ],
          [
           "  Paradigm ",
           " Andreessen Horowitz ",
           " Jump Capital  "
          ],
          [
           "  Advent International ",
           " Battery Ventures ",
           " Sequoia Capital Israel  "
          ],
          [
           "  Mayfield ",
           " Madrona Venture Group ",
           " Tiger Global Management  "
          ],
          [
           "   tCRV ",
           " Tiger Global Management ",
           " Y Combinator  "
          ],
          [
           "  The Column Group ",
           " Alexandria Venture Investments ",
           " Lux Capital  "
          ],
          [
           "  Wamda Capital ",
           " Endeavor ",
           " Riverwood Capital  "
          ],
          [
           "  Accel ",
           " Founder Collective ",
           " Brainchild Holdings  "
          ],
          [
           "  General Catalyst ",
           " Unkork Capital ",
           " Tencent Holdings  "
          ],
          [
           "  G Squared ",
           " UiPath Ventures ",
           " General Catalyst  "
          ],
          [
           "  Castle Island Ventures ",
           " PayPal Ventures ",
           " Andreessen Horowitz  "
          ],
          [
           "  Sequoia Capital ",
           " Y Combinator ",
           " Accel  "
          ],
          [
           "  Madrona Venture Group ",
           " Banner Ventures ",
           " FJ Labs  "
          ],
          [
           "  Tencent Holdings ",
           " Tiger Global Management ",
           " Global Founders Capital  "
          ],
          [
           "  IDG Capital ",
           " Yuanda Venture Investment ",
           " Primitive Forest Holdings Group  "
          ],
          [
           "  Tencent Holdings ",
           " Utrust Venture Capital ",
           " GF Xinde Investment Management Co   "
          ],
          [
           "  Nordic Capital  "
          ],
          [
           "  Bessemer Venture Partners ",
           " Insight Partners ",
           " Pitango Venture Capital  "
          ],
          [
           "  General Atlantic ",
           " CVS Health ",
           " MassMutual Ventures  "
          ],
          [
           "  Caffeinated Capital ",
           " Initialized Capital ",
           " Y Combinator  "
          ],
          [
           "  Insight Partners ",
           " Sequoia Capital ",
           " Stripes Group  "
          ],
          [
           "  AirTree Ventures ",
           " Insight Partners ",
           " Index Ventures  "
          ],
          [
           "  Insight Partners ",
           " B Capital Group ",
           "  tLightspeed Venture Partners  "
          ],
          [
           "  Chromo Invest ",
           " Maersk Growth ",
           " BlackRock  "
          ],
          [
           "  Initialized Capital ",
           " General Catalyst ",
           " Kraken Ventures  "
          ],
          [
           "  Zeev Ventures ",
           " GSV Ventures  "
          ],
          [
           "  Left Lane Capital ",
           " Walden Venture Capital  "
          ],
          [
           "  LocalGlobe ",
           " Kinnevik ",
           " Felix Capital  "
          ],
          [
           "  Liberty City Ventures ",
           " Soros Fund Management ",
           " Summer Capital  "
          ],
          [
           "  Bertelsmann India Investments ",
           " March Capital Partners ",
           " Tribe Capital ",
           " Nirvana Venture Advisors  "
          ],
          [
           "  SC Holdings ",
           " Not Boring Capital ",
           " Bolt Ventures  "
          ],
          [
           "  Atinum Investment ",
           " Company K Partners ",
           " GIC  "
          ],
          [
           "  Tencent Holdings ",
           " Glory Ventures ",
           " Shenzhen Capital Group  "
          ],
          [
           "  8VC ",
           " Bedrock Capital ",
           " Broom Ventures  "
          ],
          [
           "  Contour Venture Partners ",
           " Intel Capital ",
           " Silver Lake  "
          ],
          [
           "  Propel Venture Partners ",
           " Monashees  ",
           " BBVA  "
          ],
          [
           "  Sequoia Capital ",
           " Four Rivers Group ",
           " DAG Ventures  "
          ],
          [
           "  Lightspeed Venture Partners ",
           " Access Industries ",
           " Eldridge  "
          ],
          [
           "  Y Combinator ",
           " S Capital ",
           " Tenaya Capital  "
          ],
          [
           "  Sequoia Capital India ",
           " Hummingbird Ventures ",
           " Matrix Partners India  "
          ],
          [
           "  Notion Capital ",
           " Kindred Capital ",
           " BGF Ventures  "
          ],
          [
           "  IMM Investment ",
           " Mirae Asset Capital ",
           " BOND  "
          ],
          [
           "  KKR ",
           " Aspenwood Ventures ",
           " Spark Capital  "
          ],
          [
           "  TLV Partners ",
           " Zeev Ventures ",
           " Bessemer Venture Partners  "
          ],
          [
           "  March Capital Partners ",
           " Temasek ",
           " Doha Venture Capital  "
          ],
          [
           "  Newion Partners ",
           " SmartFin Capital ",
           " OMERS Ventures  "
          ],
          [
           "  Andreessen Horowitz ",
           " Initialized Capital ",
           " TriplePoint Capital  "
          ],
          [
           "  Slow Ventures ",
           " Andreessen Horowitz ",
           " SoftBank Group  "
          ],
          [
           "  BoxGroup ",
           " Energy Impact Partners ",
           " Camber Creek  "
          ],
          [
           "  Global Emerging Markets ",
           " Sram   Mram Group ",
           " Marshland Capital  "
          ],
          [
           "  Viking Global Investors ",
           " Riverwood Capital ",
           " Lightrock  "
          ],
          [
           "  New Enterprise Associates ",
           " Matrix Partmers ",
           " Susa Ventures  "
          ],
          [
           "  Bessemer Venture Partners ",
           " Builders VC ",
           " General Catalyst  "
          ],
          [
           "  DeFi Technologies ",
           " Hypersphere Ventures ",
           " M13  "
          ],
          [
           "  Redpoint Ventures ",
           " Norwest Venture Partners ",
           " Sierra Ventures  "
          ],
          [
           "  Amplify Partners ",
           " Addition ",
           " Madrona Venture Group  "
          ],
          [
           "  Kalaari Capital ",
           " Norwest Venture Partners ",
           " Prosus Ventures  "
          ],
          [
           "  Sequoia Capital ",
           " General Catalyst ",
           "  tHuman Capital  "
          ],
          [
           "  Accel ",
           " Institutional Venture Partners ",
           " Tiger Global Management  "
          ],
          [
           "  Index Ventures ",
           " Eight Roads Ventures ",
           " General Atlantic  "
          ],
          [
           "  L Catterton ",
           " Franklin Templeton ",
           " First Light Capital Group  "
          ],
          [
           "  Samsung Ventures ",
           " SingulariTeam ",
           " BP Ventures  "
          ],
          [
           "  MPM Capital ",
           " Astellas Venture Management ",
           " F2 Ventures  "
          ],
          [
           "  Foundation Capital ",
           " Institutional Venture Partners ",
           " Founders Capital  "
          ],
          [
           "  Clocktower Technology Ventures ",
           " DILA Capital ",
           " Kaszek Ventures  "
          ],
          [
           "  IDG Capital ",
           " Puluo Capital ",
           " Midea Capital  "
          ],
          [
           "  Guiyang Venture Capital ",
           " Longfor Capital ",
           " CAOGENZHIBEN GROUP  "
          ],
          [
           "  Moderne Ventures ",
           " Oakhouse Partners ",
           " Bjarke Ingels Group  "
          ],
          [
           "  Y Combinator ",
           "  tAndreessen Horowitz ",
           " Bessemer Venture Partners  "
          ],
          [
           "  Sequoia Capital ",
           " Lightspeed Venture Partners ",
           " Paradigm  "
          ],
          [
           "  Craft Ventures ",
           " Sequoia Capital ",
           " Verissimo Ventures  "
          ],
          [
           "  General Catalyst ",
           " BaltCap ",
           " Novator Partners  "
          ],
          [
           "  Sequoia Capital ",
           " Index Ventures ",
           " S Capital  "
          ],
          [
           "  QED Investors ",
           " DST Global ",
           " Left Lane Capital  "
          ],
          [
           "  Andreessen Horowitz ",
           " Greylock Partners ",
           " Sequoia Capital  "
          ],
          [
           "  GGV Capital ",
           " Accel ",
           " Redpoint Ventures  "
          ],
          [
           "  Alpha Wave Global ",
           " Matrix Partners India ",
           " Tiger Global Management  "
          ],
          [
           "  Alta Partners ",
           " General Catalyst ",
           " Jove Equity Partners  "
          ],
          [
           "  Obvious Ventures ",
           " Andreessen Horowitz ",
           " NFX  "
          ],
          [
           "  Paradigm ",
           " Huobi Ventures ",
           " Andreessen Horowitz  "
          ],
          [
           "  SoftBank Group ",
           " Access Industries ",
           " Crossbeam Venture Partners  "
          ],
          [
           "  Index Ventures ",
           " Kleiner Perkins Caufield   Byers ",
           " Bessemer Venture Partners  "
          ],
          [
           "  Jungle Ventures ",
           " Square Peg Capital ",
           " OpenSpace Ventures  "
          ],
          [
           "  A16z Crypto ",
           " Variant Fund ",
           " Paradigm  "
          ],
          [
           "  Altitude Life Science Ventures ",
           " SoftBank Group ",
           " Alaska Permanent Fund  "
          ],
          [
           "  General Catalyst ",
           " Samsung NEXT ",
           " CVS Health Partners  "
          ],
          [
           "  Sequoia Capital ",
           " Uncork Capital ",
           " Salesforce Ventures  "
          ],
          [
           "  Lightspeed Venture Partners ",
           " Google Ventures ",
           " General Catalyst  "
          ],
          [
           "  Liberty Global Ventures ",
           " Sageview Capital ",
           " Blue Cloud Ventures  "
          ],
          [
           "  Viking Global Investors ",
           " GS Growth ",
           " BlackRock  "
          ],
          [
           "  Bain Capital Ventures ",
           " Founders Fund ",
           " Winklevoss Capital  "
          ],
          [
           "  Salesforce Ventures ",
           " ATP Investment ",
           " kt investment  "
          ],
          [
           "  btov Partners ",
           " Geely ",
           " Intel Capital  "
          ],
          [
           "  Bain Capital Ventures ",
           " SoftBank Group ",
           " Fifth Wall Ventures  "
          ],
          [
           "  Sixth Street Partners ",
           " Declaration Partners ",
           " Maverick Ventures Israel  "
          ],
          [
           "  Benchmark ",
           " Sequoia Capital ",
           " TPG Capital  "
          ],
          [
           "  Khosla Ventures ",
           " Bain Capital Ventures ",
           " Lightspeed Venture Partners  "
          ],
          [
           "  e ventures ",
           " Bain Capital Ventures ",
           " Greycroft  "
          ],
          [
           "  Black Pearl Ventures ",
           " Stonebridge Ventures ",
           " Yuanta Investment Korea  "
          ],
          [
           "  Quiet Ventures ",
           " ETFS Capital ",
           " Collab Currency  "
          ],
          [
           "  Porsche ",
           "  tInvestIndustrial ",
           " SoftBank Group  "
          ],
          [
           "  Betaworks Ventures ",
           " Addition ",
           " Lux Capital  "
          ],
          [
           "  Sequoia Capital China ",
           " IDG Capital ",
           " Qiming Venture Partners  "
          ],
          [
           "  Tiger Global Management ",
           " Lightspeed Venture Partners ",
           " Hillhouse Capital Management  "
          ],
          [
           "  Matrix Partners ",
           " North Bridge Venture Partners ",
           " Venrock  "
          ],
          [
           "  Blackstone ",
           " Bessemer Venture Partners  "
          ],
          [
           "  DCM Ventures ",
           " IDG Capital ",
           " Siam Commercial Bank  "
          ],
          [
           "  Breega Capital ",
           " Iris Capital ",
           " 360 Capital Partners  "
          ],
          [
           "  Accel ",
           " frst ",
           " Kima Ventures  "
          ],
          [
           "  Andreessen Horowitz ",
           " Coinbase Ventures ",
           " Circle Ventures  "
          ],
          [
           "  Dragonfly Capital ",
           " BAI Capital ",
           " 10T Fund  "
          ],
          [
           "  Tencent Holdings ",
           " CRV ",
           " Clocktower Technology Ventures  "
          ],
          [
           "  Accel ",
           " Passion Capital ",
           " Balderton Capital  "
          ],
          [
           "  Deer Park Road ",
           " Altamont Capital Partners ",
           " Eldridge  "
          ],
          [
           "  Bain Capital Ventures ",
           " Sixth Street Growth ",
           " Lightspeed Venture Partners  "
          ],
          [
           "  Eastern Bell Capital 32 ",
           " SDIC CMC Investment Management ",
           " Trustbridge Partners  "
          ],
          [
           "  Founders Fund ",
           " Meritech Capital Partners ",
           " GS Growth  "
          ],
          [
           "  The Rise Fund ",
           " Fidelity Investments  RedBird Capital Partners  "
          ],
          [
           "  GIC  Apis Partners ",
           " Insight Partners  "
          ],
          [
           "  Tiger Global Management ",
           " The Raine Group ",
           " Malabar Investments  "
          ],
          [
           "  Sutter Hill Ventures ",
           " Osage University Partners ",
           " Spark Capital  "
          ],
          [
           "  Stripes Group ",
           " Neuberger Berman  "
          ],
          [
           "  Fabric Ventures ",
           " AirTree Ventures ",
           " Temasek  "
          ],
          [
           "  The Blue Venture Fund ",
           " Flare Capital Partners ",
           " Longitude Capital  "
          ],
          [
           "  Chiratae Ventures ",
           " March Capital Partners ",
           " National Grid Partners  "
          ],
          [
           "  Forerunner Ventures ",
           " Lifeline Ventures ",
           " MSD Capital  "
          ],
          [
           "  Motive Partners  "
          ],
          [
           "  Forest Partners ",
           " Softbank Ventures Asia  "
          ],
          [
           "  HD Capital ",
           " Qihoo 360 Technology ",
           " China Fortune Land Development  "
          ],
          [
           "  Battery Ventures ",
           " Andreessen Horowitz ",
           " Ribbit Capital  "
          ],
          [
           "  Coatue Management ",
           " BMO Capital ",
           " Schonfeld Strategic Advisors  "
          ],
          [
           "  The Column Group ",
           " Foresite Capital ",
           " Foresite Capital  "
          ],
          [
           "  Accel ",
           " Sequoia Capital ",
           " Y Combinator  "
          ],
          [
           "  01 Advisors  Kleiner Perkins Caufield   Byers  Andreessen Horowitz  "
          ],
          [
           "  Greylock Partners ",
           " Insight Partners",
           "Menlo Ventures  "
          ],
          [
           "  Andreessen Horowitz ",
           " Thrive Capital ",
           " Sound Ventures  "
          ],
          [
           "  Vista Equity Partners ",
           " Wincove ",
           " TDR Capital  "
          ],
          [
           "  Advent International",
           "General Catalyst",
           "Insight Partners  "
          ],
          [
           "  Alven Capital ",
           " Valar Ventures ",
           " Tencent Holdings  "
          ],
          [
           "  VY Capital ",
           " 8VC ",
           " Craft Ventures  "
          ],
          [
           "  Blackstone ",
           " Technology Crossover Ventures ",
           " Summit Partners  "
          ],
          [
           "  IDG Capital ",
           " Matrix Partners China ",
           " Jump Crypto  "
          ],
          [
           "  Accel ",
           " AltaIR Capital ",
           " Technology Crossover Ventures  "
          ],
          [
           "  Crosslink Capital ",
           " Meritech Capital Partners ",
           " Lightspeed Venture Partners  "
          ],
          [
           "  Yabeo Capital ",
           " SBI Investment ",
           " Vulcan Capital  "
          ],
          [
           "  Benchmark ",
           " Accel ",
           " SoftBank Group  "
          ],
          [
           "  Temasek ",
           " Guggenheim Investments ",
           " Qatar Investment Authority  "
          ],
          [
           "  Atomico ",
           " Hanaco Venture Capital ",
           " TriplePoint Capital  "
          ],
          [
           "  Horizons Ventures ",
           " Sequoia Capital India ",
           " Alpha JWC Ventures  "
          ],
          [
           "  Qualcomm Ventures ",
           " Nine Intelligence Capital ",
           " Hillhouse Capital Management  "
          ],
          [
           "  Vostok New Ventures ",
           " The Raine Group ",
           " Balderton Capital  "
          ],
          [
           "  Alpargatas ",
           " GS Growth ",
           " Lightspeed Venture Partners  "
          ],
          [
           "  Insight Partners ",
           " Lightspeed Venture Partners ",
           " CyberStarts  "
          ],
          [
           "  Thrive Capital ",
           " General Catalyst ",
           " Coatue Management  "
          ],
          [
           "  Andreessen Horowitz ",
           " Triangle Peak Partners ",
           " Ignition Partners  "
          ],
          [
           "  Cherry Ventures ",
           " Felix Capital ",
           " 83North  "
          ],
          [
           "  NewAlpha ",
           " XAnge Private Equity ",
           " Tencent Holdings  "
          ],
          [
           "  Danone Manifesto Ventures ",
           " 1955 Capital ",
           " Breakthrough Energy Ventures  "
          ],
          [
           "  Prysm Capital ",
           " Baillie Gifford   Co  ",
           " TDM Growth Partners  "
          ],
          [
           "  KKR ",
           " FTV Capital ",
           " Ten Eleven Ventures  "
          ],
          [
           "  Advent International ",
           " Bain Capital Ventures ",
           " Silversmith Capital Partners  "
          ],
          [
           "  Andreessen Horowitz ",
           " Intel Capital ",
           " Foundation Capital  "
          ],
          [
           "  RRE Ventures  ",
           " Highland Capital Partners ",
           " The Carlyle Group  "
          ],
          [
           "  DST Global ",
           " General Catalyst ",
           " Monashees   "
          ],
          [
           "  Khosla Ventures ",
           " General Catalyst ",
           " Navitas Capital  "
          ],
          [
           "  General Atlantic ",
           " Elevation Capital ",
           " BEENEXT  "
          ],
          [
           "  Paladin Capital Group ",
           " Greycroft ",
           " Scale Venture Partners  "
          ],
          [
           "  Google Ventures ",
           " Cathay Innovation ",
           " NJF Capital  "
          ],
          [
           "  Index Ventures ",
           " Benchmark ",
           " Thrive Capital  "
          ],
          [
           "  Goldman Sachs Asset Management ",
           " 3L  "
          ],
          [
           "  Khosla Ventures",
           "General Catalyst ",
           " Victory Park Capital  "
          ],
          [
           "  Accel ",
           " Falcon Edge Capital ",
           " Norwest Venture Partners  "
          ],
          [
           "  BlueRun Ventures ",
           " Grand Flight Investment ",
           " Meituan Dianping  "
          ],
          [
           "  Equal Ventures ",
           " Uncork Capital ",
           " Andreessen Horowitz  "
          ],
          [
           "  Acero Capital ",
           " General Catalyst ",
           " M12  "
          ],
          [
           "  Insight Partners ",
           " AltaIR Capital ",
           " Norma Investments  "
          ],
          [
           "  Korea Investment Private Equity ",
           " Atinum Investment ",
           " Korea Investment Partners  "
          ],
          [
           "  Global Founders Capital ",
           " 468 Capital ",
           " Redalpine Venture Partners  "
          ],
          [
           "  Cowboy Ventures ",
           " Leaders Fund ",
           " GGV Capital  "
          ],
          [
           "  FTV Capital  "
          ],
          [
           "  Sequoia Capital China ",
           " Linear Venture ",
           " Hearst Ventures  "
          ],
          [
           "  GGV Capital ",
           " GSR Ventures ",
           " FreesFund  "
          ],
          [
           "  Lerer Hippeau ",
           " Munich Re Ventures ",
           " Eclipse Ventures  "
          ],
          [
           "  Innovation Endeavors ",
           " Aleph ",
           " Temasek  "
          ],
          [
           "  Valor Capital Group ",
           " Lightrock ",
           " Softbank Group  "
          ],
          [
           "  Vitruvian Partners ",
           " Merieux Equity Partners ",
           " Straumann  "
          ],
          [
           "  IAG Capital Partners ",
           " Augmentum Fintech ",
           " Northzone Ventures  "
          ],
          [
           "  Coatue Management ",
           " Insight Partners ",
           " Trinity Ventures  "
          ],
          [
           "  Sequoia Capital India ",
           " The Times Group ",
           " GMO VenturePartners  "
          ],
          [
           "  Index Ventures ",
           " IDInvest Partners ",
           " Daphni  "
          ],
          [
           "  Speedinvest ",
           " Valar Ventures ",
           " Uniqa Ventures  "
          ],
          [
           "  True Ventures ",
           " Altimeter Capital ",
           " Redpoint Ventures  "
          ],
          [
           "  Greylock Partners ",
           " Lux Capital ",
           " General Atlantic  "
          ],
          [
           "  Left Lane Capital ",
           " Galaxy Interactive ",
           " Tru Arrow Partners  "
          ],
          [
           "  3one4 Capital Partners ",
           " Bertelsmann India Investments ",
           " Vertex Ventures SE Asia  "
          ],
          [
           "  Softbank Ventures Asia ",
           " Alpha JWC Ventures ",
           " Insignia Ventures Partners  "
          ],
          [
           "  Sequoia Capital ",
           " Thrive Capital ",
           " Sound Ventures  "
          ],
          [
           "  Accel ",
           " Tiger Global Management ",
           " Omidyar Network  "
          ],
          [
           "  B Capital Group ",
           " Monk s Hill Ventures ",
           " Dynamic Parcel Distribution  "
          ],
          [
           "  Tencent Holdings ",
           " Hillhouse Capital Management  "
          ],
          [
           "  Yunqi Partners ",
           " SoftBank Group ",
           " iVision Ventures  "
          ],
          [
           "  Rembrandt Venture Partners ",
           " M12 ",
           " Altos Ventures  "
          ],
          [
           "  Advent International ",
           " PSG ",
           " Providence Equity Partners  "
          ],
          [
           "  Anthemis ",
           " Connect Ventures ",
           " Northzone Ventures  "
          ],
          [
           "  Accel ",
           " Y Combinator ",
           " Amasia  "
          ],
          [
           "  Accomplice ",
           " Juxtapose ",
           " FirstMark Capital  "
          ],
          [
           "  NFX ",
           " Plum Alley ",
           " Mayfield  "
          ],
          [
           "  GGV Capital ",
           " BlackRock ",
           " ACE   Company  "
          ],
          [
           "  Hillhouse Capital Management ",
           " Sequoia Capital China ",
           " Linear Venture  "
          ],
          [
           "  Ardian ",
           " Bain Capital  "
          ],
          [
           "  Andreessen Horowitz ",
           " DST Global ",
           " IDG Capital  "
          ],
          [
           "  Goldman Sachs Asset Management ",
           " SDP Investment ",
           " Alibaba Group  "
          ],
          [
           "  Sequoia Capital ",
           " DCM Ventures ",
           " Insight Partners  "
          ],
          [
           "  Andreessen Horowitz ",
           " Homebrew ",
           " Point72 Ventures  "
          ],
          [
           "  Qualcomm Ventures ",
           " Woori Investment ",
           " Hanwha Investment   Securities  "
          ],
          [
           "  Female Founders Fund ",
           " Oak HC FT Partners ",
           " Sequoia Capital  "
          ],
          [
           "  Greylock Partners ",
           " Google Ventures ",
           " BlackRock  "
          ],
          [
           "  Greylock Partners ",
           " Google Ventures ",
           " BlackRock  "
          ],
          [
           "  Accomplice ",
           " Oak Investment Partners ",
           " Georgian Partners  "
          ],
          [
           "  FirstMark Capital ",
           " Georgian Partners ",
           " Norwest Venture Partners  "
          ],
          [
           "  Wing Venture Capital ",
           " Slow Ventures ",
           " Uncork Capital  "
          ],
          [
           "  Vertex Ventures SE Asia ",
           " Global Founders Capital ",
           " Visa Ventures  "
          ],
          [
           "  Accel ",
           " Sands Capital ",
           " International Finance Corporation  "
          ],
          [
           "  Kleiner Perkins Caufield   Byers ",
           " NightDragon Security ",
           " Venrock  "
          ],
          [
           "  Y Combinator ",
           " M12 ",
           " SEEK  "
          ],
          [
           "  Bain Capital  "
          ],
          [
           "  Qiming Venture Partners ",
           " Vivo Capital ",
           " Sequoia Capital China  "
          ],
          [
           "  NetEase Capital ",
           " Northern Light Venture Capital ",
           " Microsoft  "
          ],
          [
           "  Foundry Group ",
           " Scale Venture Partners ",
           " SoftBank Group  "
          ],
          [
           "  Madrona Venture Group ",
           " Tiger Global Management ",
           " Madera Technology Partners  "
          ],
          [
           "  General Catalyst ",
           " Future Ventures ",
           " AU21  "
          ],
          [
           "  Hyde Park Venture Partners",
           " tFundersClub  Bain Capital Ventures  "
          ],
          [
           "  Foundation Capital ",
           "  tSummit Partners ",
           " Adams Street Partners  "
          ],
          [
           "  Advance Venture Partners ",
           " Susquehanna Growth Equity ",
           " Lupa Systems  "
          ],
          [
           "  Javelin Venture Partners ",
           " TTV Capital ",
           " Peterson Ventures  "
          ],
          [
           "  Day One Ventures ",
           " Coinbase Ventures ",
           " Andreessen Horowitz  "
          ],
          [
           "  Balderton Capital ",
           " Next World Capital ",
           " Draper Esprit  "
          ],
          [
           "  Genesis Partners ",
           " Aleph ",
           " Insight Partners  "
          ],
          [
           "  Bessemer Venture Partners ",
           " MoreVC ",
           " Team8  "
          ],
          [
           "  Salesforce Ventures ",
           " next47 ",
           " Pereg Ventures  "
          ],
          [
           "  GGV Capital ",
           " Hillhouse Capital Management ",
           " IDG Capital  "
          ],
          [
           "  Insight Partners ",
           " Ignition Partners ",
           " Georgian Partners  "
          ],
          [
           "  SingTel Innov8 ",
           " Alpha JWC Ventures ",
           " Golden Gate Ventures  "
          ],
          [
           "  Delian Capital ",
           " China International Capital Corporation ",
           " Sequoia Capital China  "
          ],
          [
           "  Optum Ventures ",
           " Qiming Venture Partners ",
           " Transformation Capital  "
          ],
          [
           "  Northzone Ventures ",
           " Maveron ",
           " Johnson   Johnson Innovation  "
          ],
          [
           "  Version One Ventures ",
           " Uncork Capital ",
           " Bessemer Venture Partners  "
          ],
          [
           "  Dragonfly Captial ",
           " Qiming Venture Partners ",
           " DST Global  "
          ],
          [
           "  Bregal Sagemount  "
          ],
          [
           "  Sequoia Capital ",
           " Founders Fund ",
           " Bling Capital  "
          ],
          [
           "  Invus Group ",
           " Hanaco Venture Capital ",
           " WestCap Group  "
          ],
          [
           "  Helion Venture Partners ",
           " Bain Capital Tech Opportunities ",
           " Sequoia Capital India  "
          ],
          [
           "  Iris Capital ",
           " Accel ",
           " Elaia Partners  "
          ],
          [
           "  Xingwang Investment Management ",
           " China Capital Investment Group ",
           " Matrix Partners China  "
          ],
          [
           "  Eclipse Ventures ",
           " Fidelity Investments ",
           " Moore Capital Management  "
          ],
          [
           "  Griffin Gaming Partners ",
           " Andreessen Horowitz ",
           " Battery Ventures  "
          ],
          [
           "  XBTO Ventures ",
           " Raven One Ventures ",
           " SK Ventures  "
          ],
          [
           "  Eastern Bell Capital ",
           " Danhua Capital ",
           " MSA Capital  "
          ],
          [
           "  Accel ",
           " Cobalt Capital ",
           " Andreessen Horowitz  "
          ],
          [
           "  Flagship Pioneering ",
           " Alexandria Venture Investments ",
           " Investment Corporation of Dubai  "
          ],
          [
           "  Smilegate Investment ",
           " DSC Investments ",
           " KTB Ventures  "
          ],
          [
           "  Thrive Capital ",
           " Durable Capital Partners ",
           " G Squared  "
          ],
          [
           "  Tiger Global Management ",
           " Hedosophia  "
          ],
          [
           "  Union Square Ventures ",
           " Insight Partners ",
           " Spark Capital  "
          ],
          [
           "  Pantera Capital ",
           " Cadenza Ventures ",
           " BlockTower Capital  "
          ],
          [
           "  Bertelsmann Asia Investments ",
           " Sequoia Capital China ",
           " NIO Capital  "
          ],
          [
           "  TDK Ventures ",
           " Social Capital ",
           " D1 Capital Partners  "
          ],
          [
           "  American Family Ventures ",
           " Cox Enterprises ",
           " OMERS Ventures  "
          ],
          [
           "  Silverton Partners ",
           " Accel ",
           " Ballast Point Ventures  "
          ],
          [
           "  Yinhong Equity Investment Fund ",
           " E Fund ",
           " Ideal International  "
          ],
          [
           "  Lightspeed Venture Partners ",
           " Kleiner Perkins Caufield   Byers ",
           " Origin Ventures  "
          ],
          [
           "  Matrix Partners China ",
           " Sequoia Capital China ",
           " Hundreds Capital  "
          ],
          [
           "  Global Founders Capital ",
           " Shea Ventures ",
           " Greycroft  "
          ],
          [
           "  GreatPoint Ventures ",
           " Tiger Global Management ",
           " Menlo Ventures  "
          ],
          [
           "  B Capital Group",
           " ",
           " GE Ventures ",
           " McKesson Ventures  "
          ],
          [
           "  Sequoia Capital China ",
           " Shunwei Capital Partners ",
           " Qualgro  "
          ],
          [
           "  TLV Partners ",
           " Lightspeed Venture Partners ",
           " M12  "
          ],
          [
           "  Owl Ventures ",
           " Technology Crossover Ventures ",
           " Tao Capital Partners  "
          ],
          [
           "  Andreessen Horowitz ",
           " Andreessen Horowitz ",
           " Institutional Venture Partners ",
           " Accel  "
          ],
          [
           "  Bojiang Capital ",
           " Hongdao Capital ",
           " Mobai Capital  "
          ],
          [
           "  CRV ",
           " Y Combinator ",
           " Initialized Capital  "
          ],
          [
           "  Scale Venture Partners ",
           " Bond ",
           " Tiger Global Management  "
          ],
          [
           "  C5 Capital ",
           " Hemisphere Ventures ",
           " The Venture Collective  "
          ],
          [
           "  SCB 10X ",
           " Krungsri Finnovate ",
           " eWTP Capital  "
          ],
          [
           "  Storm Ventures ",
           " DFJ DragonFund ",
           " New Enterprise Associates  "
          ],
          [
           "  Wellington Management ",
           " Eurazeo ",
           " Citi Ventures  "
          ],
          [
           "  Flybridge Capital Partners ",
           " SoftBank Group ",
           " Monashees   "
          ],
          [
           "  IDG Capital ",
           " Francisco Partners ",
           " ZhenFund  "
          ],
          [
           "  Insight Partners ",
           " Bain Capital Ventures  "
          ],
          [
           "  Shell Ventures ",
           " Blackstone ",
           " Moore Strategic Ventures  "
          ],
          [
           "  Bain Capital Tech Opportunities ",
           " Andreessen Horowitz ",
           " Sequoia Capital  "
          ],
          [
           "  Founders Fund ",
           " Upfront Ventures ",
           "  t01 Advisors  "
          ],
          [
           "  FundersClub ",
           " Y Combinator ",
           " Tiger Global Management  "
          ],
          [
           "  Fireside Ventures ",
           " Sequoia Capital India ",
           " Stellaris Venture Partners  "
          ],
          [
           "  QF Capital ",
           " QC Capital ",
           " Unicom Innovation Venture Capital  "
          ],
          [
           "  Shenzhen Capital Group ",
           " Robert Bosch Venture Capital ",
           " SeptWolves Ventures  "
          ],
          [
           "  Chiratae Ventures ",
           " SoftBank Group ",
           " Trifecta Capital  "
          ],
          [
           "  Foundation Capital ",
           "  tFrontier Ventures ",
           " AltaIR Capital  "
          ],
          [
           "  Khosla Ventures ",
           " General Catalyst ",
           " Blumberg Capital  "
          ],
          [
           "  Mangrove Capital Partners",
           "14W  ForgeLight  "
          ],
          [
           "  M13 ",
           " Lightspeed Venture Partners ",
           " Lone Pine Capital  "
          ],
          [
           "  Intact Ventures ",
           " Munich Re Ventures ",
           " General Atlantic  "
          ],
          [
           "  HV Capital ",
           " Softbank Group ",
           " BlackRock  "
          ],
          [
           "  8VC ",
           " Norwest Venture Partners ",
           " Tiger Global Management  "
          ],
          [
           "  Sequoia Capital India ",
           " Rocketship vc ",
           " Lightspeed India Partners  "
          ],
          [
           "  500 Global ",
           " Rakuten Ventures ",
           " Golden Gate Ventures  "
          ],
          [
           "  GGV Capital ",
           " Lightspeed Venture Partners ",
           " ICONIQ Capital  "
          ],
          [
           "  Glory Ventures ",
           " Maniv Mobility  "
          ],
          [
           "  Pritzker Group Venture Capital ",
           " Accel ",
           " Hyde Park Venture Partners  "
          ],
          [
           "  China Culture Industrial Investment Fund ",
           " We Capital ",
           " China Minsheng Investment Group  "
          ],
          [
           "  Zeev Ventures ",
           " Group11 ",
           " Chicago Ventures  "
          ],
          [
           "  Thrive Capital ",
           " Khosla Ventures ",
           " Tiger Global Management  "
          ],
          [
           "  LocalGlobe ",
           " Balderton Capital ",
           " Target Global  "
          ],
          [
           "  Auriga ",
           " Galeo Ventures ",
           " Highland Europe  "
          ],
          [
           "  Accelm Scania Growth Capital ",
           " Lakestar  "
          ],
          [
           "  Lightspeed Venture Partners ",
           " Khosla Ventures ",
           " Munich Re Ventures  "
          ],
          [
           "  General Catalyst ",
           " Bling Capital ",
           " Felicis Ventures  "
          ],
          [
           "  Venrock ",
           " Innovation Endeavors ",
           " Insights Partners  "
          ],
          [
           "  Pelion Venture Partners ",
           " Foundation Capital ",
           " Thoma Bravo  "
          ],
          [
           "  Goodwater Capital ",
           " Floodgate ",
           " Founders Fund  "
          ],
          [
           "  Kleiner Perkins Caufield   Byers ",
           " Afore Capital ",
           " Founders Fund  "
          ],
          [
           "  Matrix Partners ",
           " Lightspeed Venture Partners ",
           " Verizon Ventures  "
          ],
          [
           "  SoftBank Latin America Fund ",
           " Advent International ",
           " Balderton Capital  "
          ],
          [
           "  GGV Capital ",
           " Tiger Global Management ",
           " Greycroft  "
          ],
          [
           "  Sequoia Capital India ",
           " Hummingbird Ventures ",
           " Epiq Capital  "
          ],
          [
           "  Craft Ventures ",
           " Caffeinated Capital ",
           " Operator Collective  "
          ],
          [
           "  L Occitane ",
           " Trifecta Capital ",
           " Bessemer Venture Partners  "
          ],
          [
           "  Sequoia Capital India ",
           " Hillhouse Capital Management ",
           " Sunley House Capital Management  "
          ],
          [
           "  Accel ",
           " Greylock Partners ",
           " Meritech Capital Partners  "
          ],
          [
           "  Insight Partners ",
           " Salesforce Ventures ",
           " Perpetual Investors  "
          ],
          [
           "  Pantera Capital ",
           " Polychain Capital ",
           " Lightspeed Venture Partners  "
          ],
          [
           "  Kinnevik ",
           " Softbank Group ",
           " Prosus Ventures  "
          ],
          [
           "  RPM Ventures ",
           " Inspiration Ventures ",
           " Carrick Capital Partners  "
          ],
          [
           "  Qualcomm Ventures ",
           " Accel ",
           " Canaan Partners  "
          ],
          [
           "  Polaris Partners ",
           " Insight Partners ",
           " Norwest Venture Partners  "
          ],
          [
           "  Newpath Partners ",
           " Google Ventures ",
           " F-Prime Capital  "
          ],
          [
           "  Partech Partners ",
           " Index Ventures ",
           " Quadrille Capital  "
          ],
          [
           "  IDG Capital ",
           " ZhenFund ",
           " Sequoia Capital China  "
          ],
          [
           "  Costanoa Ventures ",
           " Data Collective ",
           " Salesforce Ventures  "
          ],
          [
           "  Version One Ventures ",
           " Bessemer Venture Partners ",
           " FirstMark Capital  "
          ],
          [
           "  IA Ventures ",
           " Khosla Ventures ",
           " AME Cloud Ventures  "
          ],
          [
           "  SWaN   Legend Ventures ",
           " Revolution Growth ",
           " Invus Group  "
          ],
          [
           "  Sequoia Capital China ",
           " Lenovo Capital and Incubator ",
           " Group GSR Ventures  "
          ],
          [
           "  Index Ventures ",
           " Sequoia Capital ",
           " Bezos Expeditions  "
          ],
          [
           "  Source Code Capital ",
           " XVC Venture Capital ",
           " Hillhouse Capital Management  "
          ],
          [
           "  Accel ",
           " Greycroft ",
           " Advancit Capital  "
          ],
          [
           "  Georgian Partners ",
           " Silver Lake ",
           " Presidio Ventures  "
          ],
          [
           "  Cool Japan Fund ",
           " JAFCO ",
           " The Carlyle Group  "
          ],
          [
           "  Leta Capital ",
           " Insight Partners ",
           " General Catalyst  "
          ],
          [
           "  Trane Technologies ",
           " Honeywell  "
          ],
          [
           "  Nextech Invest ",
           " Casdin Capital ",
           " Google Ventures  "
          ],
          [
           "  Qiming Venture Partners  "
          ],
          [
           "  Tencent Holdings ",
           " Delta Capital ",
           " Redpoint Ventures China  "
          ],
          [
           "  Andreessen Horowitz ",
           " Bessemer Venture Partners ",
           " Coatue Management  "
          ],
          [
           "  Dila Capital ",
           " Framework Ventures ",
           " 3L  "
          ],
          [
           "  Javelin Venture Partners ",
           " Struck Capital ",
           " Alumni Ventures Group  "
          ],
          [
           "  Andreessen Horowitz ",
           " Prosus Ventures ",
           " Thrive Capital  "
          ],
          [
           "  Passion Capital ",
           " Hedosophia ",
           " Outrun Ventures  "
          ],
          [
           "  IDG Capital ",
           " Gaocheng Capital ",
           " Chuanrong Capital  "
          ],
          [
           "  Dynamo VC ",
           " Susa Ventures ",
           " Founders Fund  "
          ],
          [
           "  UNITY VENTURES ",
           " Qiming Venture Partners ",
           " GGV Capital  "
          ],
          [
           "  Lightspeed Venture Partners ",
           " Dell Technologies Capital ",
           " Wipro Ventures  "
          ],
          [
           "  SignalFire ",
           " GLP Capital Partners ",
           " Google Ventures  "
          ],
          [
           "  Bessemer Venture Partners ",
           " Menlo Ventures ",
           " Anthermis  "
          ],
          [
           "  Kaszek Ventures ",
           " QED Investors ",
           " International Finance Corporation  "
          ],
          [
           "  Insight Partners ",
           " Silversmith Capital Partners ",
           " Spotify  "
          ],
          [
           "  N5 Capital ",
           " CR Capital Mgmt ",
           " JD Digits  "
          ],
          [
           "  Marchmont Ventures ",
           " BMW i Ventures ",
           " Index Ventures  "
          ],
          [
           "  Menlo Ventures ",
           " Resolute Ventures ",
           " IA Ventures  "
          ],
          [
           "  Green Pine Capital Partners ",
           " Ivy Capital ",
           " DCM Ventures  "
          ],
          [
           "  Innovation Endeavors ",
           " s28 Capital ",
           " Lightspeed Venture Partners  "
          ],
          [
           "  Simon Equity Partners ",
           " Wavemaker Partners ",
           " Anthem Venture Partners  "
          ],
          [
           "  BlackRock ",
           " Tengelmann Ventures ",
           " Holtzbrinck Ventures  "
          ],
          [
           "  Refactor Capital ",
           " Andreessen Horowitz ",
           " Fifty Years Fund  "
          ],
          [
           "  Signal Peak Ventures ",
           " Owl Ventures ",
           " Jump Capital  "
          ],
          [
           "  Helion Venture Partners ",
           " Tiger Global management ",
           " CRV  "
          ],
          [
           "  Sierra Ventures ",
           " AXA Venture Partners ",
           " Sigma Prime Ventures  "
          ],
          [
           "  Durable Capital Partners ",
           " Cercano Management ",
           "  tT  Rowe Price  "
          ],
          [
           "  Goodwater Capital ",
           " Entree Capital ",
           " Valar Ventures  "
          ],
          [
           "  Sequoia Capital India ",
           " Tiger Global Management ",
           " Tencent  "
          ],
          [
           "  Greylock Partners ",
           " General Catalyst ",
           " Khosla Ventures  "
          ],
          [
           "  Sequoia Capital India ",
           " Lightbox Ventures ",
           " Coatue Management  "
          ],
          [
           "  Bessemer Venture Partners ",
           " Vintage Investment Partners ",
           " Blumberg Capital  "
          ],
          [
           "  EQT Partners ",
           " Blackstone  "
          ],
          [
           "  Bonfire Ventures ",
           " Two Sigma Ventures ",
           " FJ Labs  "
          ],
          [
           "  Initialized Capital ",
           " Canaan Partners ",
           " Sound Ventures  "
          ],
          [
           "  Kickstart Fund ",
           " General Catalyst ",
           " Drive Capital  "
          ],
          [
           "  Sequoia Capital China ",
           " China Life Investment Holding Company ",
           " Qiming Venture Partners  "
          ],
          [
           "  Temasek",
           " tBUILD Capital Partners ",
           "  tNorthzone Ventures  "
          ],
          [
           "  Left Lane Capital ",
           " Clocktower Technology Ventures ",
           " Jump Capital  "
          ],
          [
           "  Marathon Venture Partners ",
           " Huagai Capital ",
           " China Creation Ventures  "
          ],
          [
           "  BMW i Ventures ",
           " Metaplanet ",
           " Maersk Growth  "
          ],
          [
           "  Sodexo Ventures ",
           " SoftBank Group  "
          ],
          [
           "  General Catalyst ",
           " Origin Ventures ",
           " Fontinalis Partners  "
          ],
          [
           "  Accel ",
           " Benchmark ",
           " SV Angel  "
          ],
          [
           "  Brighton Park Capital ",
           " Blue Cloud Ventures ",
           " Workday Ventures  "
          ],
          [
           "  Redpoint e ventures ",
           " Valor Capital Group ",
           " SoftBank Latin America Fund  "
          ],
          [
           "  Fifty Years Fund ",
           " Refactor Capital ",
           " Temasek  "
          ],
          [
           "  Chiratae Ventures ",
           " Accel ",
           " Kalaari Capital  "
          ],
          [
           "  PSG ",
           " ION Crossover Partners  "
          ],
          [
           "  Accomplice ",
           " Polychain Capital ",
           " GoldenTree Asset Management  "
          ],
          [
           "  Insight Partners ",
           " Softbank Group ",
           " Connect Ventures  "
          ],
          [
           "  Nyca Partners ",
           " Index Ventures ",
           " Technology Crossover Ventures  "
          ],
          [
           "  Spark Capital ",
           " Google Ventures ",
           " CRE Venture Capital  "
          ],
          [
           "  Ant Group ",
           " Charoen Pokphand Group ",
           " Bow Wave Capital  "
          ],
          [
           "  Coatue Management ",
           " Index Ventures ",
           " Founders Fund  "
          ],
          [
           "  Scale Venture Partners ",
           " Sapphire Ventures ",
           " Battery Ventures  "
          ],
          [
           "  VGames ",
           " Lakestar ",
           " Galaxy Interactive  "
          ],
          [
           "  Global Founders Capital ",
           " Shea Ventures ",
           " Greycroft  "
          ],
          [
           "  Insight Partners ",
           " Coinbase Ventures ",
           " PayPal Ventures  "
          ],
          [
           "  Felicis Ventures ",
           " Index Ventures ",
           " Blackbird Ventures  "
          ],
          [
           "  Kaszek Ventures ",
           " SOSV ",
           " Tiger Global Management  "
          ],
          [
           "  Mayfield Fund ",
           " Insight Partners ",
           " Rembrandt Venture Partners  "
          ],
          [
           "  Redpoint Ventures ",
           " Providence Equity Partners ",
           " Silversmith Capital Partners  "
          ],
          [
           "  Source Code Capital ",
           " Coatue Management ",
           " DCM Ventures  "
          ],
          [
           "  Amiti Ventures ",
           " Playground Global ",
           " Aleph  "
          ],
          [
           "  Digital Currency Group ",
           " Draper Esprit ",
           " Korelya Capital  "
          ],
          [
           "  Deciens Capital ",
           " Bezos Expeditions ",
           " 500 Startups  "
          ],
          [
           "  Sequoia Capital ",
           " Y Combinator ",
           " F-Prime Capital  "
          ],
          [
           "  Moonshots Capital ",
           " BoxGroup ",
           " Blu Venture Investors  "
          ],
          [
           "  Rubicon Technology Partners ",
           " Max Ventures ",
           " Inclusive Capital Partners  "
          ],
          [
           "  Max Ventures ",
           " Mangrove Capital Partners ",
           " 14W  "
          ],
          [
           "  Mundi Ventures ",
           " Doqling Capital Partners ",
           " Activant Capital  "
          ],
          [
           "  Kleiner Perkins Caufield   Byers ",
           " Sequoia Capital ",
           " General Catalyst  "
          ],
          [
           "  CE-Ventures ",
           " BECO Capital ",
           " Nordstar  "
          ],
          [
           "  Sequoia Capital China ",
           " Warburg Pincus ",
           " IDG Capital  "
          ],
          [
           "  Centurium Capital ",
           " Cedarlake Capital ",
           " Unicom Innovation Venture Capital  "
          ],
          [
           "  Bessemer Venture Partners ",
           " Eniac Ventures ",
           " Canapi Ventures  "
          ],
          [
           "  Initialized Capital ",
           " Sound Ventures ",
           " TI Platform Management  "
          ],
          [
           "  Zeev Ventures ",
           " Menlo Ventures",
           "Crosslink Capital  "
          ],
          [
           "  Andreessen Horowitz ",
           " Coatue Management ",
           " Clocktower Technology Ventures  "
          ],
          [
           "  BEENEXT ",
           " World Innovation Lab ",
           " Light Street Capital  "
          ],
          [
           "  March Capital Partners ",
           " HOF Capital ",
           " Emergence Capital Partners  "
          ],
          [
           "  Technology Crossover Ventures ",
           " Accel ",
           " Aker  "
          ],
          [
           "  Altitude Life Science Ventures  T  Rowe Price ",
           " Morningside Venture Partners  "
          ],
          [
           "  GreatPoint Ventures ",
           " Meritech Capital Partners ",
           " PayPal Ventures  "
          ],
          [
           "  Blackbird Ventures ",
           " IndexVentures ",
           " Tiger Global Management  "
          ],
          [
           "  OMERS Private Equity ",
           " T  Rowe Price ",
           " Technology Crossover Ventures  "
          ],
          [
           "  Mayfield Fund ",
           " Shasta Ventures ",
           " L Catterton  "
          ],
          [
           "  Sequoia Capital ",
           " Bain Capital Ventures ",
           " enaya Capital  "
          ],
          [
           "  Gobi Partners ",
           " 500 Startups ",
           " Ondine Capital  "
          ],
          [
           "  Greycroft ",
           " Lerer Hippeau ",
           " Geekdom Fund  "
          ],
          [
           "  Nexus Venture Partners ",
           " Transamerica Ventures ",
           " Crane Venture Partners  "
          ],
          [
           "  Crosslink Capital ",
           "  406 Ventures ",
           " Sapphire Ventures  "
          ],
          [
           "  DataTribe ",
           " Energy Impact Partners ",
           " AllegisCyber Capital  "
          ],
          [
           "  Eurazeo ",
           " IDInvest Partners ",
           " Balderton Capital  "
          ],
          [
           "  Stripe ",
           " Founders Fund ",
           " Partech Partners  "
          ],
          [
           "  Threshold Ventures ",
           " Baseline Ventures ",
           " Harrison Metal  "
          ],
          [
           "  Insight Partners ",
           " Sequoia Capital ",
           " Index Ventures  "
          ],
          [
           "  Alta Partners ",
           " Questa Capital ",
           " Echo Health Ventures  "
          ],
          [
           "  YL Ventures ",
           " Redpoint Ventures ",
           " GGV Capital  "
          ],
          [
           "  General Catalyst ",
           " Eleation Capital ",
           " Avenir Growth Capital  "
          ],
          [
           "  Blumberg Capital ",
           " American Express Ventures ",
           " BDC Venture Capital  "
          ],
          [
           "  Future Ventures ",
           " Apeiron Investment Group ",
           " Moore Capital Management  "
          ],
          [
           "  Gunosy Capital ",
           " Blume Ventures ",
           " Das Capital  "
          ],
          [
           "  SOSV ",
           " Khosla Ventures ",
           " Lerer Hippeau  "
          ],
          [
           "  Google Ventures ",
           " Kleiner Perkins Caufield   Byers ",
           " Stripes Group  "
          ],
          [
           "  Fashion Tech Lab ",
           " Fidelity Investments ",
           " Vast Ventures  "
          ],
          [
           "  The Carlyle Group ",
           " CVC Capital Partners  "
          ],
          [
           "  Tiger Global Management ",
           " Sequoia Capital India ",
           " Ribbit Capital  "
          ],
          [
           "  Venrock ",
           " CVF Capital Partners ",
           " ARCH Venture Partners  "
          ],
          [
           "  Point72 Ventures ",
           " Pelion Venture Partners ",
           " Commerce Ventures  "
          ],
          [
           "  Square Peg Capital ",
           " TDM Growth Partners ",
           " Tiger Global Management  "
          ],
          [
           "  Trustbridge Partners ",
           " Hony Capital ",
           " IDG Capital  "
          ],
          [
           "  Insight Partners ",
           " Kibo Ventures ",
           " Bessemer Venture Partners  "
          ],
          [
           "  Qualcomm Ventures ",
           " Accel ",
           " Canaan Partners  "
          ],
          [
           "  SEED Capital ",
           " Greyhound Capital ",
           " Socii Capital  "
          ],
          [
           "  Lightspeed Venture Partners ",
           " Redpoint Ventures ",
           " Norwest Venture Partners  "
          ],
          [
           "  SoftBank Group ",
           " Maverick Capital  "
          ],
          [
           "  Khosla Ventures ",
           " Green Innovations ",
           " Founders Fund  "
          ],
          [
           "  Andreessen Horowitz ",
           " Kleiner Perkins Caufield   Byers ",
           " EQT Ventures  "
          ],
          [
           "  Sequoia Capital ",
           " Paradigm ",
           " Pantera Capital  "
          ],
          [
           "  ClalTech ",
           " Vertex Ventures ",
           " Oryzn Capital  "
          ],
          [
           "  Gauss Ventures ",
           " Ventura Capital ",
           " dmg ventures  "
          ],
          [
           "  Insight Partners ",
           " Warburg Pincus ",
           " Ayala Corporation  "
          ],
          [
           "  Lightspeed Venture Partners ",
           " Almaz Capital Partners ",
           " Altimeter Capital  "
          ],
          [
           "  Northzone Ventures ",
           " White Star Capital ",
           " Novator Partners  "
          ],
          [
           "  Benchmark ",
           " Altimeter Capital ",
           " Quiet Capital  "
          ],
          [
           "  Vision Plus Capital ",
           " GSR Ventures ",
           " ZhenFund  "
          ],
          [
           "  Northern Light Venture Capital ",
           " Xiaomi ",
           " FutureX Capital  "
          ],
          [
           "  Rethink Impact ",
           " Work-Bench ",
           " RRE Ventures  "
          ],
          [
           "  Accel ",
           " D1 Capita Partners ",
           " Greenoaks Capital Management  "
          ],
          [
           "  Ignition Partners ",
           " Formation 8 ",
           " CRV  "
          ],
          [
           "  Sequoia Capital China ",
           " Source Code Capital ",
           " Redpoint Ventures China  "
          ],
          [
           "  Andreessen Horowitz ",
           " Caffeinated Capital ",
           " SciFi VC  "
          ],
          [
           "  Tencent Holdings ",
           " 5Y Capital ",
           " Sequoia Capital China  "
          ],
          [
           "  Insight Partners ",
           " Tiger Global Management ",
           " Gradient Ventures  "
          ],
          [
           "  Alta Ventures Mexico ",
           " General Atlantic ",
           " SoftBank Group  "
          ],
          [
           "  Undisclosed  "
          ],
          [
           "  CRV ",
           " Blue Cloud Ventures ",
           " Index Ventures  "
          ],
          [
           "  next47 ",
           " MaC Venture Capital ",
           " FinVC  "
          ],
          [
           "  Matrix Partners China ",
           " Sequoia Capital China ",
           " Genesis Capital  "
          ],
          [
           "  Sequoia Capital ",
           " Google Ventures ",
           " Accel  "
          ],
          [
           "  Meritech Capital Partners ",
           " Tiger Global Management ",
           " Spectrum Equity  "
          ],
          [
           "  Index Ventures ",
           " Creandum ",
           " Accel  "
          ],
          [
           "  Tomales Bay Capital ",
           " Bain   Company ",
           " General Catalyst  "
          ],
          [
           "  Highland Capital Partners ",
           " Oak HC FT Partners ",
           " Emergence Capital Partners  "
          ],
          [
           "  Tiantu Capital ",
           " CMB International Capital ",
           " Vision Knight Capital  "
          ],
          [
           "  Jerusalem Venture Partners ",
           " Israel Growth Partners ",
           " Insight Partners  "
          ],
          [
           "  Cherry Ventures ",
           " Northzone Ventures ",
           " Global Founders Capital  "
          ],
          [
           "  GSR Ventures ",
           " Sapphire Ventures ",
           " Streamlined Ventures  "
          ],
          [
           "  Lightspeed Venture Partners ",
           " Sapphire Ventures ",
           " Kleiner Perkins Caufield   Byers  "
          ],
          [
           "  ICONIQ Growth ",
           " Bain Capital Ventures ",
           " Summit Partners  "
          ],
          [
           "  VY Capital ",
           " Accel ",
           " Elevation Capital  "
          ],
          [
           "  Polychain Capital ",
           " Coinbase Ventures ",
           " Jump Capital  "
          ],
          [
           "  Plug and Play Ventures ",
           " Valor Capital Group ",
           " DST Global  "
          ],
          [
           "  Eight Roads Ventures ",
           " One Peak Partners ",
           " Creandum  "
          ],
          [
           "  8VC ",
           " D1 Capital Partners ",
           " Sway Ventures  "
          ],
          [
           "  General Atlantic ",
           " Breakthrough Energy Ventures ",
           " Viking Global Investors  "
          ],
          [
           "  Pantera Capital ",
           " QED Investors ",
           " Coinbase Ventures  "
          ],
          [
           "  Expa ",
           " QED Investors ",
           " Foundation Capital  "
          ],
          [
           "  Knox Lane ",
           " Ainge Advisory ",
           " Carlson Private Capital Partners  "
          ],
          [
           "  Accel ",
           " Alven Capital ",
           " Storm Ventures  "
          ],
          [
           "  Goodwater Capital ",
           " Warburg Pincus ",
           " GS Growth  "
          ],
          [
           "  Summit Partners ",
           " Noshaq ",
           " Sofinnova Partners  "
          ],
          [
           "  Temasek ",
           " Google Ventures ",
           " General Catalyst  "
          ],
          [
           "  Kibo Ventures ",
           " SoftBank Group ",
           " Atomico  "
          ],
          [
           "  Octopus Ventures ",
           " Munich Re Ventures ",
           " CommerzVentures  "
          ],
          [
           "  Emergence Capital Partners ",
           " 8VC ",
           " Chicago Ventures  "
          ],
          [
           "  Norwest Venture Partners ",
           " Hillsven Capital ",
           " Aleph  "
          ],
          [
           "  T  Rowe Price ",
           " Lockheed Martin Ventures ",
           " Fidelity Investment  "
          ],
          [
           "  Menlo Ventures ",
           " GGV Capital ",
           " Flybridge Capital Partners  "
          ],
          [
           "  Norwest Venture Partners ",
           " Aspect Ventures ",
           " Lightspeed Venture Partners  "
          ],
          [
           "  Liberty City Ventures ",
           " RRE Ventures ",
           " Mithril Capital Management  "
          ],
          [
           "  Shunwei Capital Partners ",
           " China Media Group ",
           " Guangzhou Huiyin Aofeng Equity Investment Fund  "
          ],
          [
           "  Sequoia Capital India ",
           " RTP Global ",
           " Go-Ventures  "
          ],
          [
           "  Soros Fund Management ",
           " Ribbit Capital ",
           " Monashees   "
          ],
          [
           "  Bessemer Venture Partners ",
           " Eight Roads Ventures ",
           " Battery Ventures  "
          ],
          [
           "  Bessemer Venture Partners ",
           " Pitango Venture Capital ",
           " D1 Capital Partners  "
          ],
          [
           "  Greycroft ",
           " Loeb NYC ",
           " DST Global  "
          ],
          [
           "  Sequoia Capital India ",
           " Kae Capital ",
           " Accel  "
          ],
          [
           "  Accel ",
           " Bain Capital Ventures ",
           " Insight Partners  "
          ],
          [
           "  CRV ",
           " Accel ",
           " Google Ventures  "
          ],
          [
           "  Warburg Pincus ",
           " General Catalyst  "
          ],
          [
           "  Warburg Pincus ",
           " The Rise Fund ",
           " HarbourVest Partners  "
          ],
          [
           "  Accel ",
           " Tiger Global Management ",
           " Nexus Venture Partners  "
          ],
          [
           "  Coatue Managemeny ",
           " Trinity Ventures ",
           " Matrix Partners  "
          ],
          [
           "  Institutional Venture Partners ",
           " CRV ",
           " Sequoia Capital  "
          ],
          [
           "  Big Bets ",
           " General Atlantic ",
           " SOFTBANK Latin America Ventures  "
          ],
          [
           "  Foundry Group ",
           " General Atlantic ",
           " BlackRock  "
          ],
          [
           "  Vertex Ventures Israel ",
           " Bessemer Venture Partners ",
           " Emerge  "
          ],
          [
           "  Jungle Ventures ",
           " Accel ",
           " Venture Highway  "
          ],
          [
           "  Insight Partners ",
           " Jackson Square Ventures ",
           " Liberty Gloval Ventures  "
          ],
          [
           "  Redpoint Ventures ",
           " Goldcrest Capital ",
           " Insight Partners  "
          ],
          [
           "  General Atlantic ",
           " Piton Capital ",
           " Partech Partners  "
          ],
          [
           "  British Patient Capital ",
           " SEB Venture Capital ",
           " IQ Capital  "
          ],
          [
           "  Goldman Sachs Asset Management  "
          ],
          [
           "  General Atlantic ",
           " Insight Partners ",
           " Vintage Investment Partners  "
          ],
          [
           "  Makers Fund ",
           " Index Ventures ",
           " Inova Ventures Participacees  "
          ],
          [
           "  Institutional Venture Partners ",
           " New Enterprise Associates ",
           " Javelin Venture Partners  "
          ],
          [
           "  Index Ventures ",
           " Temasek ",
           " Portag3 Ventures  "
          ],
          [
           "  Mubadala Capital ",
           " Bond ",
           " Prosus Ventures  "
          ],
          [
           "  Point72 Ventures ",
           " Route 66 Ventures ",
           " Accel  "
          ],
          [
           "  Insight Partners ",
           " Sequoia Capital India ",
           " BEENEXT  "
          ],
          [
           "  New Enterprise Associates ",
           " Accel ",
           " Bond  "
          ],
          [
           "  Index Ventures ",
           " Sequoia Capital ",
           " General Catalyst  "
          ],
          [
           "  Tiger Global Management ",
           " Tiger Brokers ",
           " DCM Ventures  "
          ],
          [
           "  Green Visor Capital ",
           " CRE Venture Capital ",
           " Greycroft  "
          ],
          [
           "  Khosla Ventures ",
           " Thrive Capital ",
           " Y Combinator  "
          ],
          [
           "  Andreessen Horowitz ",
           " Blockchain Capital ",
           " Lux Capital  "
          ],
          [
           "  Tiger Global Management ",
           " Sequoia Capital India ",
           " Ribbit Capital  "
          ],
          [
           "  Tiger Global Management ",
           " Insight Partners ",
           " Jump Capital  "
          ],
          [
           "  Uniion Square Ventures ",
           " Tiger Global Management ",
           " Lightspeed Venture Capital  "
          ],
          [
           "  Fabric Ventures ",
           " 500 Global ",
           " Standard Crypto  "
          ],
          [
           "  Coatue Management ",
           " Atlantic Food Labs ",
           " DST Global  "
          ],
          [
           "  Lightspeed Venture Partners ",
           " Lead Edge Capital ",
           " Coatue Management  "
          ],
          [
           "  Uncork Capital ",
           " Threshold Ventures ",
           " Bloomberg Beta  "
          ],
          [
           "  Balderton Capital ",
           " General Catalyst ",
           " Tiger Global Management  "
          ],
          [
           "  Brookfield Asset Management ",
           " Blackstone ",
           " Data Collective  "
          ],
          [
           "  Spectrum Equity ",
           " ICONIQ Capital ",
           " Grayhawk Capital  "
          ],
          [
           "  Silversmith Capital Partners ",
           " Susquehanna Growth Equity ",
           " Tiger Global Management  "
          ],
          [
           "  ConsenSys Ventures ",
           " Valar Ventures ",
           " PUC  "
          ],
          [
           "  ICONIQ Capital ",
           " OpenView Venture Partners  "
          ],
          [
           "  Kaszek Ventures ",
           " Qualcomm Ventures ",
           " Accel  "
          ],
          [
           "  Playground Global ",
           " M12 ",
           " BlackRock  "
          ],
          [
           "  Sequoia Capital  "
          ],
          [
           "  Thrive Capital ",
           " Alliance Consumer Growth ",
           " Imaginary Ventures  "
          ],
          [
           "  M12 ",
           " WestBridge Capital ",
           " Lightspeed Venture Partners  "
          ],
          [
           "  AME Cloud Ventures ",
           " Future Perfect Ventures ",
           " Blockchain Capital  "
          ],
          [
           "  Sequoia Capital India ",
           " Softbank ",
           " Bertelsmann India Investments  "
          ],
          [
           "  Thrive Capital ",
           " Founders Fund ",
           " Cocnord Health Partners  "
          ],
          [
           "  Institutional Venture Partners ",
           " Atomico ",
           " Earlybird Venture Capital  "
          ],
          [
           "  BOLDstart Ventures ",
           " Lerer Hippeau ",
           " Kenetic Capital  "
          ],
          [
           "  Sequoia Capital China ",
           " DST Global ",
           " DST Global  "
          ],
          [
           "  JTC Group ",
           " Qatar Investment Authority ",
           " Fidelity Investment  "
          ],
          [
           "  Index Ventures ",
           " Coatue Management ",
           " Andreessen Horowitz  "
          ],
          [
           "  Insight Partners ",
           " Salesforce Ventures ",
           " Vertex Ventures  "
          ],
          [
           "  Tiger Global Management ",
           " Kalaari Capital  "
          ],
          [
           "  New Enterprise Associates ",
           " Coatue Management ",
           " Tiger Global Management  "
          ],
          [
           "  Mithril Capital Management ",
           " Y Combinator ",
           " Capricorn Investment Group  "
          ],
          [
           "  Matrix Partners ",
           " Initialized Capital ",
           " Tiger Global Management  "
          ],
          [
           "  Insight Partners ",
           " Tiger Global Management ",
           " Accel  "
          ],
          [
           "  Kleiner Perkins Caufield   Byers ",
           " Lightspeed Venture Partners ",
           " True Ventures  "
          ],
          [
           "  Madrona Venture Group ",
           " Shasta Ventures ",
           " Salesforce Ventures  "
          ],
          [
           "  DN Capital ",
           " Left Lane Capital ",
           " Coatue Management  "
          ],
          [
           "  WestCap Group ",
           " Caisse de depot et placement du Quebec  "
          ],
          [
           "  General Catalyst ",
           " HCA Healthcare  "
          ],
          [
           "  First Round Capital ",
           " Sequoia Capital ",
           " Index Ventures  "
          ],
          [
           "  Dragoneer Investment Group ",
           " DST Global ",
           " Franklin Templeton  "
          ],
          [
           "  Silver Lake ",
           " ICONIQ Capital  "
          ],
          [
           "  Y Combinator ",
           " Andreessen Horowitz ",
           " Wonder Ventures  "
          ],
          [
           "  Menlo Ventures ",
           " Alkeon Capital Management ",
           " Citi Ventures  "
          ],
          [
           "  Hillhouse Capital Management ",
           " SoftBank Group ",
           " Qiming Venture Partners  "
          ],
          [
           "  Bessemer Venture Partners ",
           " Insight Partners ",
           " New Era Ventures  "
          ],
          [
           "  Breakthrough Energy Ventures ",
           " Capricorn Investment Group ",
           " Valor Equity Partners  "
          ],
          [
           "  Qualcomm Ventures ",
           " Samsung Ventures ",
           " Silver Lake  "
          ],
          [
           "  Casa Verde Capital ",
           " Gron Ventures ",
           " Thrity Five Ventures  "
          ],
          [
           "  Blackstone ",
           " ICONIQ Growth ",
           " General Atlantic  "
          ],
          [
           "  Fairfax Financial Holdings ",
           " A91 Partners ",
           " TVS Capital  "
          ],
          [
           "  Accel ",
           " Silversmith Capital Partners ",
           " capitalG  "
          ],
          [
           "  Fifth Wall Ventures ",
           " Energize Ventures ",
           "  tICONIQ Capital  "
          ],
          [
           "  SoftBank Group ",
           " Norwest Venture Partners  "
          ],
          [
           "  Accel ",
           " Aleph ",
           " American Express Ventures  "
          ],
          [
           "  Accel ",
           " Insight Partners ",
           " Bond Capital  "
          ],
          [
           "  Andreessen Horowitz ",
           " TQ Ventures  "
          ],
          [
           "  Sequoia Capital ",
           " Bessemer Venture Partners ",
           " Threshold Ventures  "
          ],
          [
           "  Dragoneer Investment Group ",
           " Hellman   Friedman ",
           " JMI Equity  "
          ],
          [
           "  Tiger Global Management ",
           " DST Global ",
           " Sequoia Capital India  "
          ],
          [
           "  Goodwater Capital ",
           " iFly ",
           " XVC Venture Capital  "
          ],
          [
           "  Speedinvest ",
           " Valar Ventures ",
           " Uniqa Ventures  "
          ],
          [
           "  Sequoia Capital  "
          ],
          [
           "  Andreessen Horowitz ",
           " Amplify Partners ",
           " Sequoia Capital  "
          ],
          [
           "  Two Sigma Ventures ",
           " Flint Capital ",
           " Commerce Ventures  "
          ],
          [
           "  Ontario Teachers  Pension Plan ",
           " Goldman Sachs  "
          ],
          [
           "  General Catalyst ",
           " Viking Global Investors ",
           " T  Rowe Price  "
          ],
          [
           "  Creandum ",
           " Founders ",
           " Kinnevik  "
          ],
          [
           "  Threshold Ventures ",
           " Lightspeed Venture Partners ",
           " Crosslink Capital  "
          ],
          [
           "  China Grand Prosperity Investment ",
           " Silk Road Huacheng ",
           " Oriza Equity Investment  "
          ],
          [
           "  Sierra Ventures ",
           " Battery Ventures ",
           " Asset Management Ventures  "
          ],
          [
           "  Oak HC FT Partners ",
           " Artis Ventures ",
           " WestCap Group  "
          ],
          [
           "  Venture Highway ",
           " Sequoia Capital India ",
           " Prosus Ventures  "
          ],
          [
           "  Two Sigma Ventures ",
           " Flint Capital ",
           " Commerce Ventures  "
          ],
          [
           "  India Quotient ",
           " Elevation Capital ",
           " Lightspeed Venture Partners  "
          ],
          [
           "  Capital One Growth Ventures ",
           " Citi Ventures ",
           " OMERS Ventures  "
          ],
          [
           "  Google Ventures ",
           " Benchmark ",
           " FirstMark Capital  "
          ],
          [
           "  Matrix Partners India ",
           " Falcon Edge Capital ",
           " SoftBank Group  "
          ],
          [
           "  Accel ",
           " Technology Crossover Ventures ",
           " LeapFrog Investments  "
          ],
          [
           "  Walden International ",
           " Google Ventures ",
           " Intel Capital  "
          ],
          [
           "  Runa Capital ",
           " Acton Capital Partners ",
           " Point Nine Capital  "
          ],
          [
           "  Founders Fund  Accel ",
           " Creandum  "
          ],
          [
           "  Highland Europe ",
           " Eurazeo ",
           " Canaan Partners  "
          ],
          [
           "  Aglae Ventures ",
           " Eurazeo ",
           " Daphni  "
          ],
          [
           "  Battery Ventures ",
           " Storm Ventures ",
           " Redpoint Ventures  "
          ],
          [
           "  Venrock ",
           " Battery Ventures ",
           " Insight Partners  "
          ],
          [
           "  BlackRock ",
           " Blackstone ",
           " UBS  "
          ],
          [
           "  Insight Partners ",
           " Sequoia Capital ",
           " Index Ventures  "
          ],
          [
           "  Thrive Capital ",
           " Benchmark ",
           " MenloVentures  "
          ],
          [
           "  Barter Ventures  "
          ],
          [
           "  Atomico ",
           " Insight Partners ",
           " Coatue Management  "
          ],
          [
           "  Slack Fund ",
           " Accel ",
           " Skip Capital  "
          ],
          [
           "  Third Point ",
           " Electric Capital ",
           " Coinbase Ventures  "
          ],
          [
           "  Morgan Creek Digital ",
           " Marcy Venture Partners ",
           " 10T Fund  "
          ],
          [
           "  Union Square Ventures ",
           " Venrock ",
           " Andreessen Horowitz  "
          ],
          [
           "  Sixth Street Partners ",
           " OrbiMed Advisors ",
           " Highland Capital Management  "
          ],
          [
           "  Tiger Global Management ",
           " American Express Ventures ",
           " B Capital Group  "
          ],
          [
           "  Tenaya Capital ",
           " Coatue Management ",
           " Stripes Group  "
          ],
          [
           "  D1 Capital Partners ",
           " Stripe ",
           " Coatue Management  "
          ],
          [
           "  Sutter Hill Ventures ",
           " Liberty Global Ventures ",
           " Coatue Management  "
          ],
          [
           "  Global Founders Capital ",
           " Nortzone Ventures ",
           " Picus Capital  "
          ],
          [
           "  Ribbit Capital ",
           " capitalG ",
           " Softbank Group  "
          ],
          [
           "  Tencent Holdings ",
           " Hillhouse Capital Management ",
           " Yunfeng Capital  "
          ],
          [
           "  DFJ Growth Fund ",
           " Coatue Management ",
           " Addition  "
          ],
          [
           "  Activant Capital ",
           " Tribe Capital ",
           " General Atlantic  "
          ],
          [
           "  LTW Capital ",
           " Legend Capital ",
           " Qualcomm Ventures  "
          ],
          [
           "  Tiger Global Management ",
           " Sequoia Capital ",
           " Revo Capital  "
          ],
          [
           "  Andreessen Horowitz ",
           " Spark Capital ",
           " Y Combinator  "
          ],
          [
           "  New Enterprise Associates ",
           " BDT Capital Partners ",
           " Davidson Kempner Capital Management  "
          ],
          [
           "  Andreessen Horowitz ",
           " Thirty Five Ventures ",
           " Sound Ventures  "
          ],
          [
           "  Lightspeed Venture Partners ",
           " Google Ventures ",
           " Lakestar  "
          ],
          [
           "  Hillhouse Capital Management ",
           " Boyu Capital ",
           " Sequoia Capital China  "
          ],
          [
           "  Sequoia Capital ",
           " Thoma Bravo ",
           " Softbank  "
          ],
          [
           "  WRVI Capital ",
           " Caffeinated Capital ",
           " Y Combinator  "
          ],
          [
           "  MMC Ventures ",
           " BGF Ventures ",
           " Unilever Ventures  "
          ],
          [
           "  Sozo Ventures ",
           " Caffeinated Capital ",
           " Sequoia Capital  "
          ],
          [
           "  Novator Partners ",
           " True ",
           " Causeway Media Partners  "
          ],
          [
           "  One Equity Partners  "
          ],
          [
           "  Lightspeed Venture Partners ",
           " Data Collective ",
           " 8VC  "
          ],
          [
           "  Union Square Ventures ",
           " Altos Ventures ",
           " Costanoa Ventures  "
          ],
          [
           "  OLX Group ",
           " KCK Group ",
           " EXOR Seeds  "
          ],
          [
           "  Technology Crossover Ventures ",
           " Alkeon Capital Management ",
           " General Atlantic  "
          ],
          [
           "  Jackson Square Ventures ",
           " Greenoaks Capital Management ",
           " Softbank Group  "
          ],
          [
           "  The Carlyle Group  "
          ],
          [
           "  Opus Capital ",
           " Genesis Partners ",
           " Battery Ventures  "
          ],
          [
           "  Pelion Venture Partners ",
           " Foundation Capital ",
           " Thoma Bravo  "
          ],
          [
           "  Madrona Venture Group ",
           " Kleiner Perkins Caufield   Byers ",
           " Highland Capital Partners  "
          ],
          [
           "  ICG  "
          ],
          [
           "  BOLDstart Ventures ",
           " SAP iO Fund ",
           " Scale Venture Partners  "
          ],
          [
           "  Coatue Management ",
           " H Capital ",
           " Capital Today  "
          ],
          [
           "  Highland Capital Partners ",
           " Next Coast Ventures ",
           " SoGal Ventures  "
          ],
          [
           "  York Capital Management ",
           " GE Healthcare ",
           " Koch Disruptive Technologies  "
          ],
          [
           "  ARCH Venture Partners ",
           " Ally Bridge Group  "
          ],
          [
           "  New Enterprise Associates ",
           " CRV ",
           " Index Ventures  "
          ],
          [
           "  Index Ventures ",
           " Thrive Capital ",
           " Bain Capital Ventures  "
          ],
          [
           "  General Atlantic  "
          ],
          [
           "  Norwest Venture Partners ",
           " Accel ",
           " Tiger Global Management  "
          ],
          [
           "  Jackson Square Ventures ",
           " Madrone Capital Partners ",
           " Sequoia Capital  "
          ],
          [
           "  Shunwei Capital Partners ",
           " 5Y Capital ",
           " Legend Capital  "
          ],
          [
           "  K9 Ventures ",
           " Menlo Ventures ",
           " Andreessen Horowitz  "
          ],
          [
           "  Upfront Ventures ",
           " Tao Capital Partners ",
           " Andreessen Horowitz  "
          ],
          [
           "  Blackstone  "
          ],
          [
           "  Caffeinated Capital ",
           " Obvious Ventures ",
           " Venrock  "
          ],
          [
           "  Blackrock ",
           " capitalG ",
           " World Lab Innovation  "
          ],
          [
           "  Matrix Partners China ",
           " Eastern Bell Capital ",
           " Hongtai Capital Holdings  "
          ],
          [
           "  Viola Ventures ",
           " Dell Technologies Capital ",
           " Bain Capital Ventures  "
          ],
          [
           "  Bertelsmann Asia Investments ",
           " GGV Capital ",
           " Morningside Venture Capital  "
          ],
          [
           "  Magma Venture Partners ",
           " Pitango Venture Capital ",
           " Qumra Capital  "
          ],
          [
           "  Foundation Capital ",
           " Institutional Venture Partners ",
           " General Catalyst  "
          ],
          [
           "  SoftBank Group ",
           " SAIF Partners India ",
           " Valiant Capital Partners  "
          ],
          [
           "  8VC ",
           " Menlo Ventures ",
           " Tiger Global Management  "
          ],
          [
           "  Lightspeed China Partners ",
           " Baidu Ventures ",
           " Qiming Venture Partners  "
          ],
          [
           "  Andreessen Horowitz ",
           " Google Ventures ",
           " Section 32  "
          ],
          [
           "  Relay Ventures ",
           " TTV Capital ",
           " Canapi Ventures  "
          ],
          [
           "  Tencent Holdings ",
           " Goldman Sachs  "
          ],
          [
           "  V FUND ",
           " IDG Capital ",
           " Green Pine Capital Partners  "
          ],
          [
           "  Andreessen Horowitz ",
           " Data Collective ",
           " Roche Venture Fund  "
          ],
          [
           "  T  Rowe Price ",
           " Dragoneer Investment Group ",
           " BlackRock  "
          ],
          [
           "  Romulus Capital ",
           " Insight Partners ",
           " RedBird Capital Partners  "
          ],
          [
           "  Aspect Ventures ",
           " SingTel Innov8 ",
           " Greylock Partners  "
          ],
          [
           "  KKR  "
          ],
          [
           "  Monashees  ",
           " Andreessen Horowitz ",
           " QED Investors  "
          ],
          [
           "  83North ",
           " RiverPark Ventures ",
           " Pitango Venture Capital  "
          ],
          [
           "  Accel ",
           " Summit Partners ",
           " Google Ventures  "
          ],
          [
           "  Sequoia Capital Israel ",
           " Scale Venture Partners ",
           " Commerce Ventures  "
          ],
          [
           "  Artiman Ventures ",
           " Plug and Play Ventures ",
           " Anthos Capital  "
          ],
          [
           "  Susquehanna Growth Equity ",
           " Citi Ventures ",
           " ICONIQ Capital  "
          ],
          [
           "  next47 ",
           " First Round Capital ",
           " Sequoia Capital  "
          ],
          [
           "  Moore Strategic Ventures ",
           " DST Global ",
           " Sequoia Capital India  "
          ],
          [
           "  Andreessen Horowitz ",
           " IA Ventures ",
           " Felicis Ventures  "
          ],
          [
           "  Geely ",
           " SIG Asia Investments ",
           " China State Capital Venture Capital Fund  "
          ],
          [
           "  Blume Ventures ",
           " Nexus Venture Partners ",
           " Sequoia Capital India  "
          ],
          [
           "  Airbus Ventures ",
           " Index Ventures ",
           " Advent International  "
          ],
          [
           "  Elaia Partners ",
           " 83North ",
           " Felix Capital  "
          ],
          [
           "  Kuang-Chi  "
          ],
          [
           "  NewView Capital ",
           " Maveron ",
           " Ridge Ventures  "
          ],
          [
           "  Andreessen Horowitz ",
           " Lux Capital ",
           " General Catalyst  "
          ],
          [
           "  NextView Ventures ",
           " Promus Ventures ",
           " Two Sigma Ventures  "
          ],
          [
           "  Upfront Ventures ",
           " Webb Investment Network ",
           " D1 Capital Partners  "
          ],
          [
           "  Norwest Venture Partners ",
           " Goldman Sachs ",
           " Dell Technologies Capital  "
          ],
          [
           "  Y Combinator ",
           " Atomico ",
           " Accel  "
          ],
          [
           "  Blackrock ",
           " Kleiner Perkins Caulfield   Byers ",
           " Google Ventures  "
          ],
          [
           "  Georgian Partners ",
           " Craft Ventures  "
          ],
          [
           "  Drive Capital ",
           " General Catalyst ",
           " Ascension Ventures  "
          ],
          [
           "  Index Ventures ",
           " Thrive Capital ",
           " CRV  "
          ],
          [
           "  RedBird Capital Partners ",
           " CJ ENM ",
           " Tencent Holdings  "
          ],
          [
           "  Playground Global ",
           " Bond ",
           " Tribe Capital  "
          ],
          [
           "  Lightspeed Venture Partners ",
           " Redpoint Ventures ",
           " Viking Global Investors  "
          ],
          [
           "  Atop Capital ",
           " IDInvest Partners ",
           " Qiming Venture Partners  "
          ],
          [
           "  Greylock Partners ",
           " Venrock ",
           " Providence Ventures  "
          ],
          [
           "  Kaszek Ventures ",
           " Amadeus Capital Partners ",
           " Quona Capital  "
          ],
          [
           "  Falcon Edge Capital ",
           " Omidyar Network ",
           " Sequoia Capital India  "
          ],
          [
           "  Sequoia Capital India ",
           " Temasek ",
           " PayPal Ventures  "
          ],
          [
           "  Insight Partners ",
           " Andalusian Capital Partners  "
          ],
          [
           "  General Atlantic ",
           " 3i Group ",
           " Huagai Capital  "
          ],
          [
           "  Credit Suisse  "
          ],
          [
           "  Matrix Partners ",
           " Andreessen Horowitz ",
           " General Catalyst  "
          ],
          [
           "  Nexus Venture Partners ",
           " CRV ",
           " Insight Partners  "
          ],
          [
           "  Thrive Capital ",
           " Maverick Ventures ",
           " Redpoint Ventures  "
          ],
          [
           "  NextView Ventures ",
           " Eniac Ventures ",
           " Sequoia Capital  "
          ],
          [
           "  Pine Brook ",
           " American Express Ventures ",
           " Kleiner Perkins Caufield   Byers  "
          ],
          [
           "  Technology Crossover Ventures  "
          ],
          [
           "  TA Associates ",
           " SoftBank Group ",
           " GS Growth  "
          ],
          [
           "  IDG Capital ",
           " Bank Of China Group Investment",
           " ",
           " SDIC CMC Investment Management  "
          ],
          [
           "  Initialized Capital ",
           " General Catalyst ",
           " SignalFire  "
          ],
          [
           "  Norwest Venture Partners ",
           " Next World Capital ",
           " Wing Venture Capital  "
          ],
          [
           "  Sequoia Capital India ",
           " Tiger Global Management ",
           " Matrix Partners India  "
          ],
          [
           "  Accel ",
           " Northzone Ventures ",
           " Institutional Venture Partners  "
          ],
          [
           "  01 Advisors ",
           " Zeev Ventures ",
           " Group 11  "
          ],
          [
           "  Addition ",
           " Benhcmark ",
           " Accel  "
          ],
          [
           "  BOLDstart Ventures ",
           " Google Ventures ",
           " Accel  "
          ],
          [
           "  DST Global ",
           " SoftBank Group ",
           " Mountain Nazca  "
          ],
          [
           "  Summit Partners ",
           " Accel ",
           " Astral Capital  "
          ],
          [
           "  Upper90 ",
           " RiverPark Ventures ",
           " Advent International  "
          ],
          [
           "  Index Ventures ",
           " Draft Ventures ",
           " Felicis Ventures  "
          ],
          [
           "  Initialized Capital ",
           " Y Combinator ",
           " Kleiner Perkins Caufield   Byers  "
          ],
          [
           "  KKR ",
           " Tencent Holdings ",
           " Sequoia Capital China  "
          ],
          [
           "  Sequoia Capital China ",
           " Longfor Capitalm ",
           " Gaorong Capital  "
          ],
          [
           "  Accel ",
           " Softbank Group ",
           " Anthos Capital  "
          ],
          [
           "  Matrix Partners China ",
           " Bright Venture Capita ",
           " Shenzhen Capital Group  "
          ],
          [
           "  FTV Capital ",
           " Endeavor  "
          ],
          [
           "  Investment Corporation of Dubai ",
           " Centralway  "
          ],
          [
           "  Union Square Ventures ",
           " Summerhill Venture Partners ",
           " Mithril Capital Management  "
          ],
          [
           "  Koch Disruptive Technologies ",
           " Teamworthy Ventures ",
           " GGV Capital  "
          ],
          [
           "  Aglae Ventures ",
           " Global Founders Capital ",
           " Alven Capital  "
          ],
          [
           "  SBI Investment Korea ",
           " Partners Investment ",
           " GIC  "
          ],
          [
           "  TAL Education Group ",
           " Legend Star ",
           " Alibaba Group  "
          ],
          [
           "  China Prosperity Capital  "
          ],
          [
           "  Trinity Ventures ",
           " Fifth Wall Ventures ",
           " OpenView Venture Partners  "
          ],
          [
           "  DST Global ",
           " Sequoia Capital China ",
           " Gaorong Capital  "
          ],
          [
           "  BOC International ",
           " TopoScend Capital ",
           " Hongxiu VC  "
          ],
          [
           "  Astanor Ventures ",
           " Upfront Ventures ",
           " IDInvest Partners  "
          ],
          [
           "  SoftBank Group  "
          ],
          [
           "  Lindeman Asia Investment ",
           " Nichi-Iko Pharmaceutical  "
          ],
          [
           "  New Enterprise Associates ",
           " Greylock Partners ",
           " Andreessen Horowitz  "
          ],
          [
           "  SAIF Partners India ",
           " Warburg Pincus ",
           " Trifecta Capital Advisors  "
          ],
          [
           "  Ardian ",
           " Tiger Global Management ",
           " KKR  "
          ],
          [
           "  Spark Capital ",
           " Highland Europe ",
           " Sunstone Capital  "
          ],
          [
           "  China Reform Fund ",
           " Gaopeng Capital ",
           " Jinhui Xingye  "
          ],
          [
           "  Source Code Capital ",
           " Global Logistic Properties ",
           " K2VC  "
          ],
          [
           "  Russia-China Investment Fund ",
           " Tencent Holdings ",
           " Sequoia Capital China  "
          ],
          [
           "  Forerunner Ventures ",
           " Institutional Venture Partners ",
           " Thrive Capital  "
          ],
          [
           "  Mitsubishi Corporation ",
           " Mayfair Equity Partners  "
          ],
          [
           "  Undisclosed  "
          ],
          [
           "  Advantech Capital ",
           " Temasek Holdings Ltd  ",
           " Tiantu Capital Co   "
          ],
          [
           "  Global Founders Capital ",
           " Comcast Ventures ",
           " Forerunner Ventures  "
          ],
          [
           "  Taigang Venture Capital  "
          ],
          [
           "  China Grand Prosperity Investment ",
           " CSC Group  "
          ],
          [
           "  Eastern Bell Capital ",
           " Capital Today ",
           " Longzhu Capital  "
          ],
          [
           "  New Enterprise Associates ",
           " Founders Fund ",
           " Google Ventures  "
          ],
          [
           "  Alibaba Group",
           "Co-Stone Venture Capital ",
           " Buhuo Venture Capital  "
          ],
          [
           "  Guozhong Venture Capital Management ",
           " Shenzhen Capital Group ",
           " Oriental Fortune Capital  "
          ],
          [
           "  Insight Venture Partners ",
           " ICONIQ Capital ",
           " Launchpad Venture Group  "
          ],
          [
           "  Viola Ventures ",
           " Insight Partners ",
           " ClalTech ",
           " Goldman Sachs  "
          ],
          [
           "  Automobile Industry Guidance Fund  "
          ],
          [
           "  K2VC ",
           " Lightspeed China Partners ",
           " Sky9 Capital  "
          ],
          [
           "  Hopu Investment Management ",
           " Boyu Capital ",
           " DC Thomson Ventures  "
          ],
          [
           "  Japan Post Capital ",
           " Globis Capital Partners ",
           " Atomico  "
          ],
          [
           "  A NN ",
           " Rusnano  "
          ],
          [
           "  Qualcomm Ventures ",
           " SoftBank Group  Monashees   "
          ],
          [
           "  GGV Capital ",
           " IDG Capital ",
           " Linear Venture  "
          ],
          [
           "  Nexus Venture Partners ",
           " Tenaya Capital ",
           " Sequoia Capital  "
          ],
          [
           "  Qiming Venture Partners ",
           " Capital Today ",
           " General Atlantic  "
          ],
          [
           "  Insight Partners ",
           " TPG Alternative   Renewable Technologies ",
           " Ireland Strategic Investment Fund  "
          ],
          [
           "  Insight Venture Partners ",
           " TPG Growth ",
           " Sound Ventures  "
          ],
          [
           "  Zhangjiang Haocheng Venture Capital ",
           " Walden International ",
           " Intel Capital  "
          ],
          [
           "  General Atlantic ",
           " SoftBank Group ",
           " Atomico  "
          ],
          [
           "  Sequoia Capital  "
          ],
          [
           "  Google Ventures ",
           " Index Ventures ",
           " Scale Venture Partners  "
          ],
          [
           "  Info Edge ",
           " Softbank Capital  "
          ],
          [
           "  SoftBank Group ",
           " CRV ",
           " Spark Capital  "
          ],
          [
           "  Contour Venture Partners ",
           " Battery Ventures ",
           " Core Capital Partners  "
          ],
          [
           "  Sequoia Capital ",
           " Baillie Gifford   Co  ",
           " Google Ventures  "
          ],
          [
           "  Founders Fund ",
           " Quantum Energy Partners ",
           " Bedrock Capital  "
          ],
          [
           "  Khosla Ventures  "
          ],
          [
           "  Bnk To The Future ",
           " Trammell Ventures ",
           " SBI Investment  "
          ],
          [
           "  Cambridge Innovation Capital ",
           " LGT Capital Partners ",
           " Escala Capital  "
          ],
          [
           "  Benchmark ",
           " Bessemer Venture Partners  "
          ],
          [
           "  Holtzbrinck Ventures ",
           " Unternehmertum Venture Capital ",
           " General Atlantic  "
          ],
          [
           "  Greycroft ",
           " Sands Capital ",
           " Revolution Growth  "
          ],
          [
           "  Bessemer Venture Partners ",
           " Sutter Hill Ventures ",
           " Matrix Partners  "
          ],
          [
           "  Goldman Sachs ",
           " VebVentures ",
           " Insight Partners  "
          ],
          [
           "  Google Ventures ",
           " Battery Ventures ",
           " DST Global  "
          ],
          [
           "  Zeev Ventures ",
           " Ribbit Capital ",
           " TLV Partners  "
          ],
          [
           "  Khosla Ventures ",
           " Horizons Ventures ",
           " Temasek Holdings  "
          ],
          [
           "  Sequoia Capital China ",
           " Qiming Venture Partners ",
           " Tencent Holdings  "
          ],
          [
           "  General Atlantic ",
           " Blackstone ",
           " ICONIQ Growth  "
          ],
          [
           "  Mayfield Fund ",
           " M12 ",
           " Trinity Ventures  "
          ],
          [
           "  Chiratae Ventures ",
           " PremjiInvest ",
           " Softbank  "
          ],
          [
           "  Salesforce Ventures ",
           " Seedcamp ",
           " OMERS Ventures  "
          ],
          [
           "  Accel ",
           " Insight Partners ",
           " Burda Principal Investments  "
          ],
          [
           "  Y Combinator ",
           " Accel ",
           " T  Rowe Price  "
          ],
          [
           "  Alven Capital ",
           " FirstMark Capital ",
           " capitalG  "
          ],
          [
           "  Andreessen Horowitz ",
           " Founders Fund ",
           " Revolution Ventures  "
          ],
          [
           "  Eight Roads Ventures ",
           " Greycroft ",
           " Ignition Partners  "
          ],
          [
           "  SoftBank Group ",
           " Tiger Global Management ",
           " Matrix Partners India  "
          ],
          [
           "  Baidu Capital ",
           " Linear Venture ",
           " Tencent  "
          ],
          [
           "  Hillhouse Capital Management ",
           " Linear Venture ",
           " Morningside Venture Capital  "
          ],
          [
           "  DST Global ",
           " Sequoia Capital China ",
           " Tencent Holdings  "
          ],
          [
           "  Kaszek Ventures ",
           " General Atlantic ",
           " SoftBank Group  "
          ],
          [
           "  Insight Partners  "
          ],
          [
           "  Index Ventures ",
           " Battery Ventures ",
           " ICONIQ Capital  "
          ],
          [
           "  New Enterprise Associates ",
           " Accomplice ",
           " IA Ventures  "
          ],
          [
           "  BPI France ",
           " Kerala Ventures ",
           " Accel  "
          ],
          [
           "  Volkswagen Group ",
           " Ford Autonomous Vehicles  "
          ],
          [
           "  Accel ",
           " Y Combinator ",
           " Index Ventures  "
          ],
          [
           "  Menlo Ventures ",
           " Spark Capital ",
           " Union Square Ventures  "
          ],
          [
           "  Kaalari Capital ",
           " Tencent Holdings ",
           " Steadview Capital  "
          ],
          [
           "  American Express Ventures ",
           " Goldman Sachs ",
           " Bain Capital Credit  "
          ],
          [
           "  SoftBank Group ",
           " Greylock Partners ",
           " Gaorong Capital  "
          ],
          [
           "  Target Global ",
           " General Catalyst ",
           " Durable Capital Partners  "
          ],
          [
           "  Vattenfall ",
           " Volkswagen Group ",
           " Goldman Sachs  "
          ],
          [
           "  Redalpine Venture Partners ",
           " Earlybird Venture Capital ",
           " Valar Ventures  "
          ],
          [
           "  Sequoia Capital China ",
           " Tencent Investment ",
           " BA Capital  "
          ],
          [
           "  MindWorks Ventures ",
           " Shunwei Capital Partners ",
           " Xiang He Capital  "
          ],
          [
           "  Khosla Ventures ",
           " Forerunner Ventures ",
           " Sequoia Capital  "
          ],
          [
           "  General Catalyst ",
           " Institutional Venture Partners ",
           " Breyer Capital  "
          ],
          [
           "  IDG Capital ",
           " Venture51 ",
           " Lightspeed Venture Partners  "
          ],
          [
           "  Forerunner Ventures ",
           " Crosslink Capital ",
           " Homebrew  "
          ],
          [
           "  Andreessen Horowitz ",
           " New Enterprise Associates ",
           " Battery Ventures  "
          ],
          [
           "  Tiger Global Management ",
           " Insight Partners ",
           " DST Global  "
          ],
          [
           "  Target Global ",
           " UBS Asset Management ",
           " Mubadala Capital  "
          ],
          [
           "  Georgian Co-Investment Fund ",
           " iTech Capital ",
           " Galaxy Digital  "
          ],
          [
           "  China Everbright Limited ",
           " IDG Capital ",
           " iFLYTEK  "
          ],
          [
           "  Lakestar ",
           " Battery Ventures ",
           " New Enterprise Associates  "
          ],
          [
           "  U S -China Green Fund ",
           " Founder H Fund ",
           " Richland Equities  "
          ],
          [
           "  Sinovation Ventures ",
           " Tencent Holdings ",
           " Sequoia Capital China  "
          ],
          [
           "  GCP Capital Partners  "
          ],
          [
           "  Yunfeng Capital ",
           " SDIC Innovation Investment Management ",
           " Shang Qi Capital  "
          ],
          [
           "  Prometheus Capital ",
           " Matrix Partners China ",
           " JD Capital Management  "
          ],
          [
           "  Qiming Venture Partners ",
           " China Broadband Capital ",
           " CDH Investments  "
          ],
          [
           "  One Luxury Group ",
           " Eurazeo  "
          ],
          [
           "  Innova Capital - FIP ",
           " 3G Capital Management ",
           " Prosus Ventures  "
          ],
          [
           "  Silicon Valley Bank ",
           " QED Investors ",
           " European Founders Fund  "
          ],
          [
           "  China Investment Corporation ",
           " New Enterprise Associates  "
          ],
          [
           "  V Star Capital ",
           " GF Xinde Investment Management Co  ",
           " Haitong Leading Capital Management  "
          ],
          [
           "  Fosun RZ Capital ",
           " Oceanwide Holdings ",
           " Shenzhen Qianhe Capital Management Co   "
          ],
          [
           "  Ginko Ventures  "
          ],
          [
           "  Tencent Holdings ",
           " DCM Ventures  "
          ],
          [
           "  Sequoia Capital China ",
           " Gopher Asset Management ",
           " Shanghai Electric Group  "
          ],
          [
           "  Intel Capital ",
           " Aviv Venture Capital  "
          ],
          [
           "  Beijing Juneng Hesheng Industry Investment Fund ",
           " Beijing Shuju Xinrong Fund  "
          ],
          [
           "  Qiming Venture Partners ",
           " Yaxia Automobile ",
           " Far East Horizon  "
          ],
          [
           "  CreditEase Fintech Investment Fund ",
           " BMW i Ventures ",
           " SoftBank Group  "
          ],
          [
           "  Dark Horse Technology Group ",
           " Hopu Investment Management ",
           " Kefa Capital  "
          ],
          [
           "  FirstMark Capital ",
           " Tiger Global Management  "
          ],
          [
           "  Qiming Venture Partners ",
           " China Internet Investment Fund ",
           " Qualcomm Ventures  "
          ],
          [
           "  Goldman Sachs  "
          ],
          [
           "  Sequoia Capital China ",
           " Goldman Sachs ",
           " Matrix Partners China  "
          ],
          [
           "  DESUN Capital ",
           " Yunfeng Capital ",
           " Meridian Capital  "
          ],
          [
           "  Eastern Bell Capital ",
           " SF Holding Co ",
           " STO Express  "
          ],
          [
           "  Seaya Ventures ",
           " Otter Rock Capital ",
           " Rakuten  "
          ],
          [
           "  Ding Xiang Capital ",
           " New Hope Fund ",
           " Sino-Ocean Capital  "
          ],
          [
           "  Baidu ",
           " Tencent Holdings  "
          ],
          [
           "  SoftBank Group  "
          ],
          [
           "  Source Code Capital ",
           " Meituan Dianping ",
           " Tencent Holdings  "
          ],
          [
           "  Legend Capital ",
           " CDH Investments ",
           " Sequoia Capital China  "
          ],
          [
           "  People Electrical Appliance Group China ",
           " Zhongrong International Trust  "
          ],
          [
           "  Boxin Capital ",
           " DT Capital Partners ",
           " IDG Capital  "
          ],
          [
           "  Tao Capital Partners ",
           " Global Asset Capital ",
           " Tiger Global Management  "
          ],
          [
           "  Thrive Capital ",
           " Tiger Global Management ",
           " Temasek  "
          ],
          [
           "  Jiangsu Sha Steel Group ",
           " Shanghai Puyin Industry ",
           " Funa Yuanchuang Technology  "
          ],
          [
           "  Volcanics Ventures ",
           " Vertex Ventures China ",
           " Warburg Pincus  "
          ],
          [
           "  Sequoia Capital China ",
           " China Construction Bank ",
           " Bank of China  "
          ],
          [
           "  Pitango Venture Capital ",
           " DFJ Growth Fund ",
           " Foundry Group  "
          ],
          [
           "  Toyota Motor Corporation ",
           " Mizuho Financial Group ",
           " FANUC  "
          ],
          [
           "  Sequoia Capital China ",
           " Banyan Capital  "
          ],
          [
           "  General Atlantic  "
          ],
          [
           "  Softbank Group ",
           " AME Cloud Ventures ",
           " SignalFire  "
          ],
          [
           "  FAW Group ",
           " Tencent Holdings ",
           " Tus Holdings  "
          ],
          [
           "  JD com ",
           " Baidu ",
           " Vision Plus Capital  "
          ],
          [
           "  Notion Capital ",
           " Scentan Ventures ",
           " Kite Ventures  "
          ],
          [
           "  Dell Technologies Capital ",
           " Pitango Venture Capital ",
           " Amadeus Capital Partners  "
          ],
          [
           "  Jackson Square Ventures ",
           " General Atlantic ",
           " Lightspeed Venture Partners  "
          ],
          [
           "  Sequoia Capital China ",
           " Xiang He Capital ",
           " GGV Capital  "
          ],
          [
           "  General Catalyst ",
           " Digital Currency Group ",
           " Accel  "
          ],
          [
           "  DST Global ",
           " Lightspeed Venture Partners ",
           " Microsoft ScaleUp  "
          ],
          [
           "  China Environmental Protection Industry ",
           " China Fortune Ocean  "
          ],
          [
           "  SoftBank Group ",
           " Sequoia Capital ",
           " Wing Venture Capital  "
          ],
          [
           "  Greylock Partners ",
           " capitalG ",
           " Y Combinator  "
          ],
          [
           "  China Health Industry Investment Fund ",
           " China Renaissance ",
           " and Sequoia Capital China  "
          ],
          [
           "  New Enterprise Associates ",
           " Pear ",
           " Cowboy Ventures  "
          ],
          [
           "  Benchmark ",
           " Foundation Capital ",
           " Sequoia Capital  "
          ],
          [
           "  New Enterprise Associates ",
           " Starr Investment Holdings  "
          ],
          [
           "  SoftBank Group ",
           " General Atlantic  "
          ],
          [
           "  Venrock ",
           " Institutional Venture Partners ",
           " Goldman Sachs  "
          ],
          [
           "  Lightspeed Venture Partners ",
           " Khosla Ventures ",
           " Geodesic Capital  "
          ],
          [
           "  Passion Capital ",
           " Thrive Capital ",
           " Orange Digital Ventures  "
          ],
          [
           "  Bessemer Venture Partners ",
           " Qualcomm Ventures ",
           " Kleiner Perkins Caufield   Byers  "
          ],
          [
           "  Ant Financial Services Group ",
           " GGV Capital  "
          ],
          [
           "  DST Global ",
           " Andreessen Horowitz ",
           " Sequoia Capital ",
           " Redpoint e ventures  "
          ],
          [
           "  Alibaba Group ",
           " Boyu Capital ",
           " Borui Capital  "
          ],
          [
           "  Union Square Ventures ",
           " Ribbit Capital ",
           " VY Capital  "
          ],
          [
           "  Sequoia Capital China ",
           " Warburg Pincus ",
           " General Catalyst  "
          ],
          [
           "  General Atlantic ",
           " Goldman Sachs ",
           " New Enterprise Associates  "
          ],
          [
           "  Lightspeed Venture Partners ",
           " Social Capital ",
           " Accel  "
          ],
          [
           "  Bloomberg Beta ",
           " Founders Fund ",
           " First Round Capital  "
          ],
          [
           "  New Enterprise Associates ",
           " T  Rowe Associates ",
           " Lightbank  "
          ],
          [
           "  Didi Chuxing ",
           " Diamler ",
           " TMT Investments  "
          ],
          [
           "  Sequoia Capital China ",
           " IDG Capital ",
           " DCM Ventures  "
          ],
          [
           "  SoftBank Group ",
           " Sequoia Capital India",
           "Lightspeed India Partners  "
          ],
          [
           "  Andreessen Horowitz ",
           " Lightspeed Venture Partners ",
           " Zeev Ventures  "
          ],
          [
           "  Bessemer Venture Partners ",
           " ICONIQ Capital ",
           " Battery Ventures  "
          ],
          [
           "  KKR ",
           " ES Ventures ",
           " North Bridge Growth Equity  "
          ],
          [
           "  DJF ",
           " Salesforce Ventures ",
           " Storm Ventures  "
          ],
          [
           "  Accel India ",
           " SAIF Partners ",
           " Norwest Venture Partners  "
          ],
          [
           "  Caffeinated Capital ",
           " CRV ",
           " Founder Collective  "
          ],
          [
           "  Vickers Venture Partners ",
           " IKEA GreenTech  "
          ],
          [
           "  Coatue Management ",
           " Sequoia Capital China ",
           " IDG Capital  "
          ],
          [
           "  DST Global ",
           " Ribbit Capital ",
           " Greenoaks Capital Management  "
          ],
          [
           "  Andreessen Horowitz ",
           " F-Prime Capital ",
           " Venrock  "
          ],
          [
           "  Accel ",
           " 83North  "
          ],
          [
           "  New Enterprise Associates ",
           " Spar Capital ",
           " Index Ventures  "
          ],
          [
           "  Benchmark ",
           " Greylock Partners ",
           " Tencent Holdings  "
          ],
          [
           "  Tencent Holdings ",
           " KKR ",
           " Smash Ventures  "
          ],
          [
           "  index Ventures ",
           " DST Global ",
           " Ribbit Capital  "
          ],
          [
           "  Sequoia Capital China ",
           " Blackbird Ventures ",
           " Matrix Partners  "
          ],
          [
           "  Tiger Global Management ",
           " Sequoia Capital China ",
           " Shunwei Capital Partners  "
          ],
          [
           "  Morningside Venture Capital ",
           " IDG Capital ",
           " DCM Ventures  "
          ],
          [
           "  Sequoia Capital China ",
           " ING ",
           " Alibaba Entrepreneurs Fund  "
          ],
          [
           "  K2 Global ",
           " 500 Startups  "
          ],
          [
           "  Co-Energy Finance ",
           " Grandland  "
          ],
          [
           "  Blue Label Telecoms ",
           " Net1 UEPS Technologies  "
          ],
          [
           "  Standard Chartered ",
           " FinSight Ventures ",
           " Affirma Capital  "
          ],
          [
           "  K2 Ventures ",
           " Matrix Partners China ",
           " IDG Capital  "
          ],
          [
           "  Warburg Pincus ",
           " Summit Partners ",
           " Sands Capital  "
          ],
          [
           "  58 com ",
           " Tencent Holdings  "
          ],
          [
           "  Sequoia Capital China ",
           " SIG Asia Investments ",
           " ZhenFund  "
          ],
          [
           "  Inflexion Private Equity  "
          ],
          [
           "  Sequoia Capital China ",
           " Qiming Venture Partners ",
           " Tencent Holdings  "
          ],
          [
           "  TSG Consumer Partners ",
           " Crowdcube  "
          ],
          [
           "  Sequoia Capital China ",
           " CMC Capital Partners ",
           " Tencent Holdings  "
          ],
          [
           "  BlueCross BlueShield Venture Partners ",
           " US Venture Partners  "
          ],
          [
           "  Phoenix New Media ",
           " Tianjin Haihe Industry Fund  "
          ],
          [
           "  BNP Paribas ",
           " Goldman Sachs ",
           " Google  "
          ],
          [
           "  Morningside Ventures ",
           " Capital Today ",
           " JOY Capital  "
          ],
          [
           "  Trustbridge Partners ",
           " IDG Capital ",
           " Sequoia Capital China  "
          ],
          [
           "  Alibaba Group ",
           " China Everbright Investment Management ",
           " Yinxinggu Capital  "
          ],
          [
           "  China Creation Ventures ",
           " Sierra Ventures ",
           " Xingwang Investment Management  "
          ],
          [
           "  GAM Holding  "
          ],
          [
           "  FirstMark Capital ",
           " Tiger Global Management ",
           " ICONIQ Capital  "
          ],
          [
           "  Y Combinator ",
           " Matrix Partners ",
           " Benchmark  "
          ],
          [
           "  Shunwei Capital Partners ",
           " China Media Group ",
           " Guangzhou Huiyin Aofeng Equity Investment Fund  "
          ],
          [
           "  Rhone Capital  "
          ],
          [
           "  Khosla Ventures ",
           " Horizons Ventures ",
           " Founders Fund  "
          ],
          [
           "  CPP Investment Board  "
          ],
          [
           "  Morningside Ventures ",
           " Warburg Pincus ",
           " CreditEase Fintech Investment Fund  "
          ],
          [
           "  Global Founders Capital ",
           " East Ventures ",
           " Expedia Inc   "
          ],
          [
           "  Andreessen Horowitz ",
           " SoftBank Group ",
           " Temasek Holdings  "
          ],
          [
           "  Activant Capital Group ",
           " Alaska Permanent Fund ",
           " Baillie Gifford   Co   "
          ],
          [
           "  EQT Partners  "
          ],
          [
           "  Greylock Partners ",
           " Lightspeed Venture Partners ",
           " Khosla Ventures  "
          ],
          [
           "  Ant Financial Services Group ",
           " Russia-China Investment Fund ",
           " Foxconn Technology Company  "
          ],
          [
           "  Clermont Group ",
           " Coltrane Asset Management ",
           " Toscafund Asset Management  "
          ],
          [
           "  Nintendo ",
           " Google ",
           " Pokemon Company International ",
           " Spark Capital  "
          ],
          [
           "  Y Combinator ",
           " Sequoia Capital ",
           " Coatue Management  "
          ],
          [
           "  Tiger Global Management  "
          ],
          [
           "  Tencent Holdings ",
           " Warbug Pincus ",
           " IDG Capital  "
          ],
          [
           "  Tencent Holdings ",
           " Lightspeed India Partners ",
           " Sequoia Capital India  "
          ],
          [
           "  Sequoia Capital China ",
           " SIG Asia Investments ",
           " Sina Weibo ",
           " Softbank Group  "
          ],
          [
           "  Berkshire Partners ",
           " Norwest Venture Partners  "
          ],
          [
           "  Goldman Sachs ",
           " Insights Venture Partners ",
           " Pritzker Group Venture Capital  "
          ],
          [
           "  Tencent ",
           " Vcanbio  "
          ],
          [
           "  Hinduja Group  "
          ],
          [
           "  KKR ",
           " TowerBrook Capital Partners  "
          ],
          [
           "  Tiantu Capital ",
           " SAIF Partners China ",
           " Newsion Venture Capital  "
          ],
          [
           "  CDIB Capital  "
          ],
          [
           "  Alibaba Group ",
           " KKR ",
           " Goldman Sachs  "
          ],
          [
           "  Volkswagen ",
           " Access Industries ",
           " Vostok New Ventures  "
          ],
          [
           "  Warburg Pincus ",
           " Aviation Industry Corporation of China  "
          ],
          [
           "  IFC ",
           " Ajinomoto  "
          ],
          [
           "  Zheshang Venture Capital ",
           " GP Capital ",
           " Western Capital Management  "
          ],
          [
           "  Tiger Global Management ",
           " Blue Lake Capital ",
           " ZhenFund  "
          ],
          [
           "  Iconiq Capital  "
          ],
          [
           "  Alibaba Pictures Group  "
          ],
          [
           "  CDH Investments ",
           " Goldstone Investments ",
           " Qiming Venture Partners  "
          ],
          [
           "  Sequoia Capital China ",
           " Tencent Holdings ",
           " Sinovation Ventures  "
          ],
          [
           "  Tencent ",
           " Baidu ",
           " Huasheng Capital  "
          ],
          [
           "  Sequoia Capital China ",
           " GX Capital  "
          ],
          [
           "  Aviation Industry Corporation of China ",
           " Essence Financial ",
           " Jiangsu Sha Steel Group  "
          ],
          [
           "  GGV Capital ",
           " ZhenFund ",
           " Tencent  "
          ],
          [
           "  QiMing Venture Partners ",
           " Temasek Holdings ",
           " Silverlink Capital  "
          ],
          [
           "  China Minsheng Investment ",
           " Baidu ",
           " Wanxin Media  "
          ],
          [
           "  SAIF Partners China ",
           " Baidu ",
           " IDG Capital  "
          ],
          [
           "  KKR ",
           " Alibaba Group ",
           " Ping An Insurance  "
          ],
          [
           "  Sequoia Capital China ",
           " ZhenFund ",
           " K2 Ventures  "
          ],
          [
           "  Accel Partners ",
           " Comcast Ventures ",
           " General Atlantic  "
          ],
          [
           "  IDG Capital ",
           " Northern Light Venture Capital ",
           " DCM Ventures  "
          ],
          [
           "  Matrix Partners China ",
           " Ventech China ",
           " Shunwei Capital Partners  "
          ],
          [
           "  5Y Capital ",
           " Matrix Partners China ",
           " K2VC  "
          ],
          [
           "  Banyan Capital ",
           " New Horizon Capital ",
           " IDG Capital Partners  "
          ],
          [
           "  Silver Lake Partners ",
           " General Atlantic  "
          ],
          [
           "  N A  "
          ],
          [
           "  Sequoia Capital China ",
           " Rich Land Capital ",
           " Merrysunny Wealth  "
          ],
          [
           "  Mithril ",
           " iNovia Capital ",
           " Foundry Group  "
          ],
          [
           "  Advent International  "
          ],
          [
           "  Kleiner Perkins Caufield   Byers ",
           " Comcast Ventures ",
           " Insight Partners  "
          ],
          [
           "  GGV Capital ",
           " QiMing Venture Partnersl  "
          ],
          [
           "  TPG Growth ",
           " Goldman Sachs  "
          ],
          [
           "  Cybernaut Growth Fund ",
           " IDG Capital  "
          ],
          [
           "  Redpoint Ventures ",
           " QiMing Venture Partners ",
           " Chengwei Capital  "
          ],
          [
           "  Founders Fund ",
           " Khosla Ventures ",
           " Goldman Sachs  "
          ],
          [
           "  Accel Partners ",
           " Index Ventures ",
           " Insight Venture Partners  "
          ],
          [
           "  Sequoia Capital China ",
           " Matrix Partners China ",
           " 58 com  "
          ],
          [
           "  Revolution ",
           " New Enterprise Associates ",
           " Caterpillar  "
          ],
          [
           "  IMM Investment ",
           " NXC  "
          ],
          [
           "  Google Ventures ",
           " Sequoia Capital ",
           " Wakefield Group  "
          ],
          [
           "  Data Collective ",
           " Formation 8 ",
           " General Catalyst Partners  "
          ],
          [
           "  Sequoia Capital China ",
           " Sina Weibo ",
           " Kleiner Perkins Caufield   Byers ",
           " Redpoint Ventures  "
          ],
          [
           "  Tiger Global ",
           " Sequoia Capital ",
           " Google Capital  "
          ],
          [
           "  Warmsun Holding ",
           " IDG Capital Partners  "
          ],
          [
           "  Tencent ",
           " Morningside Group  "
          ],
          [
           "  Andreessen Horowitz ",
           " Nor-Cal Invest ",
           " TPG Growth  "
          ],
          [
           "  General Catalyst Partners ",
           " Google Ventures ",
           " Kleiner Perkins Caufield   Byers  "
          ],
          [
           "  Accel Partners ",
           " Sequoia Capital  "
          ],
          [
           "  Kleiner Perkins Caufield   Byers ",
           " Softbank Corp  ",
           " Sherpalo Ventures  "
          ],
          [
           "  Matrix Partners ",
           " Passport Capital ",
           " Rho Ventures  "
          ],
          [
           "  SoftBankGroup ",
           " Blackrock ",
           " Alibaba Group  "
          ],
          [
           "  Draper Fisher Jurtson ",
           " Qualcomm Ventures ",
           " Alibaba Group  "
          ],
          [
           "  New Enterprise Associates ",
           " Tiger Global management ",
           " Tencent  "
          ],
          [
           "  Obvious Ventures ",
           " Qualcomm Ventures ",
           " Andreessen Horowitz  "
          ],
          [
           "  New Enterprise Associates ",
           " New Leaf Venture Partners ",
           " Charter Venture Capital  "
          ],
          [
           "  Formation 8  "
          ],
          [
           "  New Enterprise Associates ",
           " Sequoia Capital ",
           " Comcast Ventures  "
          ],
          [
           "  Accel Partners ",
           " SoftBank Group ",
           " Sequoia Capital  "
          ],
          [
           "  Khosla Ventures ",
           " Kleiner Perkins Caufield   Byers ",
           " Collaborative Fund  "
          ],
          [
           "  Khosla Ventures ",
           " LowercaseCapital ",
           " capitalG  "
          ],
          [
           "  Accel Partners ",
           " Greylock Partners ",
           " Lowercase Capital  "
          ],
          [
           "  Sequoia Capital ",
           " General Atlantic  "
          ],
          [
           "  Insight Venture Partners ",
           " Lowercase Capital ",
           " Polaris Partners  "
          ],
          [
           "  RRE Ventures ",
           " Tiger Global ",
           " August Capital  "
          ],
          [
           "  L Capital Partners  "
          ],
          [
           "  SoftBank Group ",
           " Andreessen Horowitz ",
           " Temasek Holdings  "
          ],
          [
           "  Founders Fund ",
           " Draper Fisher Jurvetson ",
           " Rothenberg Ventures  "
          ],
          [
           "  Technology Crossover Ventures ",
           " A E Television Networks  "
          ],
          [
           "  Institutional Venture Partners ",
           " Sequoia Capital ",
           " General Atlantic  "
          ],
          [
           "  Summit Partners ",
           " Qatar Holding  "
          ]
         ],
         "xaxis": "x",
         "yaxis": "y"
        }
       ],
       "layout": {
        "barmode": "relative",
        "legend": {
         "tracegroupgap": 0
        },
        "margin": {
         "t": 60
        },
        "template": {
         "data": {
          "bar": [
           {
            "error_x": {
             "color": "#2a3f5f"
            },
            "error_y": {
             "color": "#2a3f5f"
            },
            "marker": {
             "line": {
              "color": "#E5ECF6",
              "width": 0.5
             }
            },
            "type": "bar"
           }
          ],
          "barpolar": [
           {
            "marker": {
             "line": {
              "color": "#E5ECF6",
              "width": 0.5
             }
            },
            "type": "barpolar"
           }
          ],
          "carpet": [
           {
            "aaxis": {
             "endlinecolor": "#2a3f5f",
             "gridcolor": "white",
             "linecolor": "white",
             "minorgridcolor": "white",
             "startlinecolor": "#2a3f5f"
            },
            "baxis": {
             "endlinecolor": "#2a3f5f",
             "gridcolor": "white",
             "linecolor": "white",
             "minorgridcolor": "white",
             "startlinecolor": "#2a3f5f"
            },
            "type": "carpet"
           }
          ],
          "choropleth": [
           {
            "colorbar": {
             "outlinewidth": 0,
             "ticks": ""
            },
            "type": "choropleth"
           }
          ],
          "contour": [
           {
            "colorbar": {
             "outlinewidth": 0,
             "ticks": ""
            },
            "colorscale": [
             [
              0,
              "#0d0887"
             ],
             [
              0.1111111111111111,
              "#46039f"
             ],
             [
              0.2222222222222222,
              "#7201a8"
             ],
             [
              0.3333333333333333,
              "#9c179e"
             ],
             [
              0.4444444444444444,
              "#bd3786"
             ],
             [
              0.5555555555555556,
              "#d8576b"
             ],
             [
              0.6666666666666666,
              "#ed7953"
             ],
             [
              0.7777777777777778,
              "#fb9f3a"
             ],
             [
              0.8888888888888888,
              "#fdca26"
             ],
             [
              1,
              "#f0f921"
             ]
            ],
            "type": "contour"
           }
          ],
          "contourcarpet": [
           {
            "colorbar": {
             "outlinewidth": 0,
             "ticks": ""
            },
            "type": "contourcarpet"
           }
          ],
          "heatmap": [
           {
            "colorbar": {
             "outlinewidth": 0,
             "ticks": ""
            },
            "colorscale": [
             [
              0,
              "#0d0887"
             ],
             [
              0.1111111111111111,
              "#46039f"
             ],
             [
              0.2222222222222222,
              "#7201a8"
             ],
             [
              0.3333333333333333,
              "#9c179e"
             ],
             [
              0.4444444444444444,
              "#bd3786"
             ],
             [
              0.5555555555555556,
              "#d8576b"
             ],
             [
              0.6666666666666666,
              "#ed7953"
             ],
             [
              0.7777777777777778,
              "#fb9f3a"
             ],
             [
              0.8888888888888888,
              "#fdca26"
             ],
             [
              1,
              "#f0f921"
             ]
            ],
            "type": "heatmap"
           }
          ],
          "heatmapgl": [
           {
            "colorbar": {
             "outlinewidth": 0,
             "ticks": ""
            },
            "colorscale": [
             [
              0,
              "#0d0887"
             ],
             [
              0.1111111111111111,
              "#46039f"
             ],
             [
              0.2222222222222222,
              "#7201a8"
             ],
             [
              0.3333333333333333,
              "#9c179e"
             ],
             [
              0.4444444444444444,
              "#bd3786"
             ],
             [
              0.5555555555555556,
              "#d8576b"
             ],
             [
              0.6666666666666666,
              "#ed7953"
             ],
             [
              0.7777777777777778,
              "#fb9f3a"
             ],
             [
              0.8888888888888888,
              "#fdca26"
             ],
             [
              1,
              "#f0f921"
             ]
            ],
            "type": "heatmapgl"
           }
          ],
          "histogram": [
           {
            "marker": {
             "colorbar": {
              "outlinewidth": 0,
              "ticks": ""
             }
            },
            "type": "histogram"
           }
          ],
          "histogram2d": [
           {
            "colorbar": {
             "outlinewidth": 0,
             "ticks": ""
            },
            "colorscale": [
             [
              0,
              "#0d0887"
             ],
             [
              0.1111111111111111,
              "#46039f"
             ],
             [
              0.2222222222222222,
              "#7201a8"
             ],
             [
              0.3333333333333333,
              "#9c179e"
             ],
             [
              0.4444444444444444,
              "#bd3786"
             ],
             [
              0.5555555555555556,
              "#d8576b"
             ],
             [
              0.6666666666666666,
              "#ed7953"
             ],
             [
              0.7777777777777778,
              "#fb9f3a"
             ],
             [
              0.8888888888888888,
              "#fdca26"
             ],
             [
              1,
              "#f0f921"
             ]
            ],
            "type": "histogram2d"
           }
          ],
          "histogram2dcontour": [
           {
            "colorbar": {
             "outlinewidth": 0,
             "ticks": ""
            },
            "colorscale": [
             [
              0,
              "#0d0887"
             ],
             [
              0.1111111111111111,
              "#46039f"
             ],
             [
              0.2222222222222222,
              "#7201a8"
             ],
             [
              0.3333333333333333,
              "#9c179e"
             ],
             [
              0.4444444444444444,
              "#bd3786"
             ],
             [
              0.5555555555555556,
              "#d8576b"
             ],
             [
              0.6666666666666666,
              "#ed7953"
             ],
             [
              0.7777777777777778,
              "#fb9f3a"
             ],
             [
              0.8888888888888888,
              "#fdca26"
             ],
             [
              1,
              "#f0f921"
             ]
            ],
            "type": "histogram2dcontour"
           }
          ],
          "mesh3d": [
           {
            "colorbar": {
             "outlinewidth": 0,
             "ticks": ""
            },
            "type": "mesh3d"
           }
          ],
          "parcoords": [
           {
            "line": {
             "colorbar": {
              "outlinewidth": 0,
              "ticks": ""
             }
            },
            "type": "parcoords"
           }
          ],
          "pie": [
           {
            "automargin": true,
            "type": "pie"
           }
          ],
          "scatter": [
           {
            "marker": {
             "colorbar": {
              "outlinewidth": 0,
              "ticks": ""
             }
            },
            "type": "scatter"
           }
          ],
          "scatter3d": [
           {
            "line": {
             "colorbar": {
              "outlinewidth": 0,
              "ticks": ""
             }
            },
            "marker": {
             "colorbar": {
              "outlinewidth": 0,
              "ticks": ""
             }
            },
            "type": "scatter3d"
           }
          ],
          "scattercarpet": [
           {
            "marker": {
             "colorbar": {
              "outlinewidth": 0,
              "ticks": ""
             }
            },
            "type": "scattercarpet"
           }
          ],
          "scattergeo": [
           {
            "marker": {
             "colorbar": {
              "outlinewidth": 0,
              "ticks": ""
             }
            },
            "type": "scattergeo"
           }
          ],
          "scattergl": [
           {
            "marker": {
             "colorbar": {
              "outlinewidth": 0,
              "ticks": ""
             }
            },
            "type": "scattergl"
           }
          ],
          "scattermapbox": [
           {
            "marker": {
             "colorbar": {
              "outlinewidth": 0,
              "ticks": ""
             }
            },
            "type": "scattermapbox"
           }
          ],
          "scatterpolar": [
           {
            "marker": {
             "colorbar": {
              "outlinewidth": 0,
              "ticks": ""
             }
            },
            "type": "scatterpolar"
           }
          ],
          "scatterpolargl": [
           {
            "marker": {
             "colorbar": {
              "outlinewidth": 0,
              "ticks": ""
             }
            },
            "type": "scatterpolargl"
           }
          ],
          "scatterternary": [
           {
            "marker": {
             "colorbar": {
              "outlinewidth": 0,
              "ticks": ""
             }
            },
            "type": "scatterternary"
           }
          ],
          "surface": [
           {
            "colorbar": {
             "outlinewidth": 0,
             "ticks": ""
            },
            "colorscale": [
             [
              0,
              "#0d0887"
             ],
             [
              0.1111111111111111,
              "#46039f"
             ],
             [
              0.2222222222222222,
              "#7201a8"
             ],
             [
              0.3333333333333333,
              "#9c179e"
             ],
             [
              0.4444444444444444,
              "#bd3786"
             ],
             [
              0.5555555555555556,
              "#d8576b"
             ],
             [
              0.6666666666666666,
              "#ed7953"
             ],
             [
              0.7777777777777778,
              "#fb9f3a"
             ],
             [
              0.8888888888888888,
              "#fdca26"
             ],
             [
              1,
              "#f0f921"
             ]
            ],
            "type": "surface"
           }
          ],
          "table": [
           {
            "cells": {
             "fill": {
              "color": "#EBF0F8"
             },
             "line": {
              "color": "white"
             }
            },
            "header": {
             "fill": {
              "color": "#C8D4E3"
             },
             "line": {
              "color": "white"
             }
            },
            "type": "table"
           }
          ]
         },
         "layout": {
          "annotationdefaults": {
           "arrowcolor": "#2a3f5f",
           "arrowhead": 0,
           "arrowwidth": 1
          },
          "coloraxis": {
           "colorbar": {
            "outlinewidth": 0,
            "ticks": ""
           }
          },
          "colorscale": {
           "diverging": [
            [
             0,
             "#8e0152"
            ],
            [
             0.1,
             "#c51b7d"
            ],
            [
             0.2,
             "#de77ae"
            ],
            [
             0.3,
             "#f1b6da"
            ],
            [
             0.4,
             "#fde0ef"
            ],
            [
             0.5,
             "#f7f7f7"
            ],
            [
             0.6,
             "#e6f5d0"
            ],
            [
             0.7,
             "#b8e186"
            ],
            [
             0.8,
             "#7fbc41"
            ],
            [
             0.9,
             "#4d9221"
            ],
            [
             1,
             "#276419"
            ]
           ],
           "sequential": [
            [
             0,
             "#0d0887"
            ],
            [
             0.1111111111111111,
             "#46039f"
            ],
            [
             0.2222222222222222,
             "#7201a8"
            ],
            [
             0.3333333333333333,
             "#9c179e"
            ],
            [
             0.4444444444444444,
             "#bd3786"
            ],
            [
             0.5555555555555556,
             "#d8576b"
            ],
            [
             0.6666666666666666,
             "#ed7953"
            ],
            [
             0.7777777777777778,
             "#fb9f3a"
            ],
            [
             0.8888888888888888,
             "#fdca26"
            ],
            [
             1,
             "#f0f921"
            ]
           ],
           "sequentialminus": [
            [
             0,
             "#0d0887"
            ],
            [
             0.1111111111111111,
             "#46039f"
            ],
            [
             0.2222222222222222,
             "#7201a8"
            ],
            [
             0.3333333333333333,
             "#9c179e"
            ],
            [
             0.4444444444444444,
             "#bd3786"
            ],
            [
             0.5555555555555556,
             "#d8576b"
            ],
            [
             0.6666666666666666,
             "#ed7953"
            ],
            [
             0.7777777777777778,
             "#fb9f3a"
            ],
            [
             0.8888888888888888,
             "#fdca26"
            ],
            [
             1,
             "#f0f921"
            ]
           ]
          },
          "colorway": [
           "#636efa",
           "#EF553B",
           "#00cc96",
           "#ab63fa",
           "#FFA15A",
           "#19d3f3",
           "#FF6692",
           "#B6E880",
           "#FF97FF",
           "#FECB52"
          ],
          "font": {
           "color": "#2a3f5f"
          },
          "geo": {
           "bgcolor": "white",
           "lakecolor": "white",
           "landcolor": "#E5ECF6",
           "showlakes": true,
           "showland": true,
           "subunitcolor": "white"
          },
          "hoverlabel": {
           "align": "left"
          },
          "hovermode": "closest",
          "mapbox": {
           "style": "light"
          },
          "paper_bgcolor": "white",
          "plot_bgcolor": "#E5ECF6",
          "polar": {
           "angularaxis": {
            "gridcolor": "white",
            "linecolor": "white",
            "ticks": ""
           },
           "bgcolor": "#E5ECF6",
           "radialaxis": {
            "gridcolor": "white",
            "linecolor": "white",
            "ticks": ""
           }
          },
          "scene": {
           "xaxis": {
            "backgroundcolor": "#E5ECF6",
            "gridcolor": "white",
            "gridwidth": 2,
            "linecolor": "white",
            "showbackground": true,
            "ticks": "",
            "zerolinecolor": "white"
           },
           "yaxis": {
            "backgroundcolor": "#E5ECF6",
            "gridcolor": "white",
            "gridwidth": 2,
            "linecolor": "white",
            "showbackground": true,
            "ticks": "",
            "zerolinecolor": "white"
           },
           "zaxis": {
            "backgroundcolor": "#E5ECF6",
            "gridcolor": "white",
            "gridwidth": 2,
            "linecolor": "white",
            "showbackground": true,
            "ticks": "",
            "zerolinecolor": "white"
           }
          },
          "shapedefaults": {
           "line": {
            "color": "#2a3f5f"
           }
          },
          "ternary": {
           "aaxis": {
            "gridcolor": "white",
            "linecolor": "white",
            "ticks": ""
           },
           "baxis": {
            "gridcolor": "white",
            "linecolor": "white",
            "ticks": ""
           },
           "bgcolor": "#E5ECF6",
           "caxis": {
            "gridcolor": "white",
            "linecolor": "white",
            "ticks": ""
           }
          },
          "title": {
           "x": 0.05
          },
          "xaxis": {
           "automargin": true,
           "gridcolor": "white",
           "linecolor": "white",
           "ticks": "",
           "title": {
            "standoff": 15
           },
           "zerolinecolor": "white",
           "zerolinewidth": 2
          },
          "yaxis": {
           "automargin": true,
           "gridcolor": "white",
           "linecolor": "white",
           "ticks": "",
           "title": {
            "standoff": 15
           },
           "zerolinecolor": "white",
           "zerolinewidth": 2
          }
         }
        },
        "xaxis": {
         "anchor": "y",
         "categoryorder": "total descending",
         "domain": [
          0,
          1
         ],
         "title": {
          "text": "investors"
         }
        },
        "yaxis": {
         "anchor": "x",
         "domain": [
          0,
          1
         ],
         "title": {
          "text": "count"
         }
        }
       }
      }
     },
     "metadata": {},
     "output_type": "display_data"
    }
   ],
   "source": [
    "for col in df_start:\n",
    "    fig = px.histogram(df_start, x=col, nbins= 50)\n",
    "    fig.update_layout(xaxis={'categoryorder': 'total descending'})\n",
    "    fig.show()"
   ]
  },
  {
   "cell_type": "code",
   "execution_count": null,
   "metadata": {},
   "outputs": [],
   "source": [
    "\n"
   ]
  },
  {
   "cell_type": "code",
   "execution_count": 107,
   "metadata": {},
   "outputs": [
    {
     "data": {
      "text/plain": [
       "<AxesSubplot:xlabel='last_val', ylabel='Density'>"
      ]
     },
     "execution_count": 107,
     "metadata": {},
     "output_type": "execute_result"
    },
    {
     "data": {
      "image/png": "[encoded data removed]",
      "text/plain": [
       "<Figure size 842.4x595.44 with 1 Axes>"
      ]
     },
     "metadata": {},
     "output_type": "display_data"
    }
   ],
   "source": [
    "sns.kdeplot(df_start['last_val'])"
   ]
  },
  {
   "cell_type": "code",
   "execution_count": null,
   "metadata": {},
   "outputs": [],
   "source": []
  }
 ],
 "metadata": {
  "kernelspec": {
   "display_name": "Python 3.8.13 ('plotly_bokeh')",
   "language": "python",
   "name": "python3"
  },
  "language_info": {
   "codemirror_mode": {
    "name": "ipython",
    "version": 3
   },
   "file_extension": ".py",
   "mimetype": "text/x-python",
   "name": "python",
   "nbconvert_exporter": "python",
   "pygments_lexer": "ipython3",
   "version": "3.8.13"
  },
  "orig_nbformat": 4,
  "vscode": {
   "interpreter": {
    "hash": "b2552d6eb3daaebc59a7ce400d4e256405ba48cf0a857688d9d9b21f3c117d11"
   }
  }
 },
 "nbformat": 4,
 "nbformat_minor": 2
}
